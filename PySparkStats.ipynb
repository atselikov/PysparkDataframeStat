<!DOCTYPE html>
<html class="" lang="en">
<head prefix="og: http://ogp.me/ns#">
<meta charset="utf-8">
<meta content="IE=edge" http-equiv="X-UA-Compatible">
<meta content="object" property="og:type">
<meta content="GitLab" property="og:site_name">
<meta content="pipeline_DPF/pipeline_DPF.ipynb · stageDPF2 · scoring / pipeline" property="og:title">
<meta content="BDRIT-473" property="og:description">
<meta content="https://vc-bds002.vimpelcom.global/assets/gitlab_logo-7ae504fe4f68fdebb3c2034e36621930cd36ea87924c11ff65dbcb8ed50dca58.png" property="og:image">
<meta content="https://vc-bds002.vimpelcom.global/scoring/pipeline/blob/stageDPF2/pipeline_DPF/pipeline_DPF.ipynb" property="og:url">
<meta content="summary" property="twitter:card">
<meta content="pipeline_DPF/pipeline_DPF.ipynb · stageDPF2 · scoring / pipeline" property="twitter:title">
<meta content="BDRIT-473" property="twitter:description">
<meta content="https://vc-bds002.vimpelcom.global/assets/gitlab_logo-7ae504fe4f68fdebb3c2034e36621930cd36ea87924c11ff65dbcb8ed50dca58.png" property="twitter:image">

<title>pipeline_DPF/pipeline_DPF.ipynb · stageDPF2 · scoring / pipeline · GitLab</title>
<meta content="BDRIT-473" name="description">
<link rel="shortcut icon" type="image/x-icon" href="/assets/favicon-075eba76312e8421991a0c1f89a89ee81678bcde72319dd3e8047e2a47cd3a42.ico" />
<link rel="stylesheet" media="all" href="/assets/application-d165f12070137b3b436a61f947940b2ced66ac0acb1c4b61ee70daf598ef42ae.css" />
<link rel="stylesheet" media="print" href="/assets/print-68eed6d8135d858318821e790e25da27b2b4b9b8dbb1993fa6765d8e2e3e16ee.css" />
<script src="/assets/application-025f6d7648c857a731cbfd24fefde37e42f1613525a8d15b3b2a591e7df17620.js"></script>
<meta name="csrf-param" content="authenticity_token" />
<meta name="csrf-token" content="MX2/WwMSWNhtyUboB4Mc4sgw/5eGisPnc0kvr3lyAogiIEDetq9ZMDb6So9b+y5lU0i2zJAHDmuBhtpAoRifug==" />
<meta content="origin-when-cross-origin" name="referrer">
<meta content="width=device-width, initial-scale=1, maximum-scale=1" name="viewport">
<meta content="#474D57" name="theme-color">
<link rel="apple-touch-icon" type="image/x-icon" href="/assets/touch-icon-iphone-5a9cee0e8a51212e70b90c87c12f382c428870c0ff67d1eb034d884b78d2dae7.png" />
<link rel="apple-touch-icon" type="image/x-icon" href="/assets/touch-icon-ipad-a6eec6aeb9da138e507593b464fdac213047e49d3093fc30e90d9a995df83ba3.png" sizes="76x76" />
<link rel="apple-touch-icon" type="image/x-icon" href="/assets/touch-icon-iphone-retina-72e2aadf86513a56e050e7f0f2355deaa19cc17ed97bbe5147847f2748e5a3e3.png" sizes="120x120" />
<link rel="apple-touch-icon" type="image/x-icon" href="/assets/touch-icon-ipad-retina-8ebe416f5313483d9c1bc772b5bbe03ecad52a54eba443e5215a22caed2a16a2.png" sizes="152x152" />
<link color="rgb(226, 67, 41)" href="/assets/logo-d36b5212042cebc89b96df4bf6ac24e43db316143e89926c0db839ff694d2de4.svg" rel="mask-icon">
<meta content="/assets/msapplication-tile-1196ec67452f618d39cdd85e2e3a542f76574c071051ae7effbfde01710eb17d.png" name="msapplication-TileImage">
<meta content="#30353E" name="msapplication-TileColor">




<style>
  [data-user-is] {
    display: none !important;
  }
  
  [data-user-is="34"] {
    display: block !important;
  }
  
  [data-user-is="34"][data-display="inline"] {
    display: inline !important;
  }
  
  [data-user-is-not] {
    display: block !important;
  }
  
  [data-user-is-not][data-display="inline"] {
    display: inline !important;
  }
  
  [data-user-is-not="34"] {
    display: none !important;
  }
</style>

</head>

<body class="ui_charcoal" data-group="" data-page="projects:blob:show" data-project="pipeline">
<script>
//<![CDATA[
window.gon={};gon.api_version="v3";gon.default_avatar_url="https:\/\/vc-bds002.vimpelcom.global\/assets\/no_avatar-849f9c04a3a0d0cea2424ae97b27447dc64a7dbfae83c036c45b403392f0e8ba.png";gon.max_file_size=10;gon.relative_url_root="";gon.shortcuts_path="\/help\/shortcuts";gon.user_color_scheme="monokai";gon.award_menu_url="\/emojis";gon.current_user_id=34;
//]]>
</script>
<script>
  window.project_uploads_path = "/scoring/pipeline/uploads";
  window.preview_markdown_path = "/scoring/pipeline/preview_markdown";
</script>

<header class="navbar navbar-fixed-top navbar-gitlab with-horizontal-nav">
<div class="container-fluid">
<div class="header-content">
<button aria-label="Toggle global navigation" class="side-nav-toggle" type="button">
<span class="sr-only">Toggle navigation</span>
<i class="fa fa-bars"></i>
</button>
<button class="navbar-toggle" type="button">
<span class="sr-only">Toggle navigation</span>
<i class="fa fa-ellipsis-v"></i>
</button>
<div class="navbar-collapse collapse">
<ul class="nav navbar-nav">
<li class="hidden-sm hidden-xs">
<div class="has-location-badge search search-form">
<form class="navbar-form" action="/search" accept-charset="UTF-8" method="get"><input name="utf8" type="hidden" value="&#x2713;" /><div class="search-input-container">
<div class="location-badge">This project</div>
<div class="search-input-wrap">
<div class="dropdown" data-url="/search/autocomplete">
<input type="search" name="search" id="search" placeholder="Search" class="search-input dropdown-menu-toggle js-search-dashboard-options" spellcheck="false" tabindex="1" autocomplete="off" data-toggle="dropdown" data-issues-path="https://vc-bds002.vimpelcom.global/dashboard/issues" data-mr-path="https://vc-bds002.vimpelcom.global/dashboard/merge_requests" />
<div class="dropdown-menu dropdown-select">
<div class="dropdown-content"><ul>
<li>
<a class="is-focused dropdown-menu-empty-link">
Loading...
</a>
</li>
</ul>
</div><div class="dropdown-loading"><i class="fa fa-spinner fa-spin"></i></div>
</div>
<i class="search-icon"></i>
<i class="clear-icon js-clear-input"></i>
</div>
</div>
</div>
<input type="hidden" name="group_id" id="group_id" class="js-search-group-options" />
<input type="hidden" name="project_id" id="search_project_id" value="263" class="js-search-project-options" data-project-path="pipeline" data-name="pipeline" data-issues-path="/scoring/pipeline/issues" data-mr-path="/scoring/pipeline/merge_requests" />
<input type="hidden" name="search_code" id="search_code" value="true" />
<input type="hidden" name="repository_ref" id="repository_ref" value="stageDPF2" />

<div class="search-autocomplete-opts hide" data-autocomplete-path="/search/autocomplete" data-autocomplete-project-id="263" data-autocomplete-project-ref="stageDPF2"></div>
</form></div>

</li>
<li class="visible-sm visible-xs">
<a title="Search" aria-label="Search" data-toggle="tooltip" data-placement="bottom" data-container="body" href="/search"><i class="fa fa-search"></i>
</a></li>
<li>
<a title="Todos" aria-label="Todos" data-toggle="tooltip" data-placement="bottom" data-container="body" href="/dashboard/todos"><i class="fa fa-bell fa-fw"></i>
<span class="badge hidden todos-pending-count">
0
</span>
</a></li>
<li>
<a title="New project" aria-label="New project" data-toggle="tooltip" data-placement="bottom" data-container="body" href="/projects/new"><i class="fa fa-plus fa-fw"></i>
</a></li>
<li class="header-user dropdown">
<a class="header-user-dropdown-toggle" data-toggle="dropdown" href="/ATselikov"><img width="26" height="26" class="header-user-avatar" src="https://vc-bds002.vimpelcom.global/uploads/user/avatar/34/avatar.png" alt="Avatar" />
<i class="fa fa-caret-down"></i>
</a><div class="dropdown-menu-nav dropdown-menu-align-right">
<ul>
<li>
<a class="profile-link" aria-label="Profile" data-user="ATselikov" href="/ATselikov">Profile</a>
</li>
<li>
<a aria-label="Profile Settings" href="/profile">Profile Settings</a>
</li>
<li class="divider"></li>
<li>
<a class="sign-out-link" aria-label="Sign out" rel="nofollow" data-method="delete" href="/users/sign_out">Sign out</a>
</li>
</ul>
</div>
</li>
</ul>
</div>
<h1 class="title"><a href="/scoring">scoring</a> / <a class="project-item-select-holder" href="/scoring/pipeline">pipeline</a><button name="button" type="button" class="dropdown-toggle-caret js-projects-dropdown-toggle" aria-label="Toggle switch project dropdown" data-target=".js-dropdown-menu-projects" data-toggle="dropdown"><i class="fa fa-chevron-down"></i></button></h1>
<div class="header-logo">
<a class="home" title="Dashboard" id="logo" href="/"><svg width="36" height="36" class="tanuki-logo">
  <path class="tanuki-shape tanuki-left-ear" fill="#e24329" d="M2 14l9.38 9v-9l-4-12.28c-.205-.632-1.176-.632-1.38 0z"/>
  <path class="tanuki-shape tanuki-right-ear" fill="#e24329" d="M34 14l-9.38 9v-9l4-12.28c.205-.632 1.176-.632 1.38 0z"/>
  <path class="tanuki-shape tanuki-nose" fill="#e24329" d="M18,34.38 3,14 33,14 Z"/>
  <path class="tanuki-shape tanuki-left-eye" fill="#fc6d26" d="M18,34.38 11.38,14 2,14 6,25Z"/>
  <path class="tanuki-shape tanuki-right-eye" fill="#fc6d26" d="M18,34.38 24.62,14 34,14 30,25Z"/>
  <path class="tanuki-shape tanuki-left-cheek" fill="#fca326" d="M2 14L.1 20.16c-.18.565 0 1.2.5 1.56l17.42 12.66z"/>
  <path class="tanuki-shape tanuki-right-cheek" fill="#fca326" d="M34 14l1.9 6.16c.18.565 0 1.2-.5 1.56L18 34.38z"/>
</svg>

</a></div>
<div class="js-dropdown-menu-projects">
<div class="dropdown-menu dropdown-select dropdown-menu-projects">
<div class="dropdown-title"><span>Go to a project</span><button class="dropdown-title-button dropdown-menu-close" aria-label="Close" type="button"><i class="fa fa-times dropdown-menu-close-icon"></i></button></div>
<div class="dropdown-input"><input type="search" id="" class="dropdown-input-field" placeholder="Search your projects" autocomplete="off" /><i class="fa fa-search dropdown-input-search"></i><i role="button" class="fa fa-times dropdown-input-clear js-dropdown-input-clear"></i></div>
<div class="dropdown-content"></div>
<div class="dropdown-loading"><i class="fa fa-spinner fa-spin"></i></div>
</div>
</div>

</div>
</div>
</header>

<script>
  var findFileURL = "/scoring/pipeline/find_file/stageDPF2";
</script>

<div class="page-with-sidebar">
<div class="sidebar-wrapper nicescroll">
<div class="sidebar-action-buttons">
<div class="nav-header-btn toggle-nav-collapse" title="Open/Close">
<span class="sr-only">Toggle navigation</span>
<i class="fa fa-bars"></i>
</div>
<div class="nav-header-btn pin-nav-btn has-tooltip  js-nav-pin" data-container="body" data-placement="right" title="Pin Navigation">
<span class="sr-only">Toggle navigation pinning</span>
<i class="fa fa-fw fa-thumb-tack"></i>
</div>
</div>
<ul class="nav nav-sidebar">
<li class="active home"><a title="Projects" class="dashboard-shortcuts-projects" href="/dashboard/projects"><span>
Projects
</span>
</a></li><li class=""><a title="Todos" href="/dashboard/todos"><span>
Todos
<span class="count">0</span>
</span>
</a></li><li class=""><a class="dashboard-shortcuts-activity" title="Activity" href="/dashboard/activity"><span>
Activity
</span>
</a></li><li class=""><a title="Groups" href="/dashboard/groups"><span>
Groups
</span>
</a></li><li class=""><a title="Milestones" href="/dashboard/milestones"><span>
Milestones
</span>
</a></li><li class=""><a title="Issues" class="dashboard-shortcuts-issues" href="/dashboard/issues?assignee_id=34"><span>
Issues
<span class="count">0</span>
</span>
</a></li><li class=""><a title="Merge Requests" class="dashboard-shortcuts-merge_requests" href="/dashboard/merge_requests?assignee_id=34"><span>
Merge Requests
<span class="count">0</span>
</span>
</a></li><li class=""><a title="Snippets" href="/dashboard/snippets"><span>
Snippets
</span>
</a></li><li class=""><a title="Help" href="/help"><span>
Help
</span>
</a></li><li class=""><a title="Profile Settings" data-placement="bottom" href="/profile"><span>
Profile Settings
</span>
</a></li></ul>

</div>
<div class="layout-nav">
<div class="container-fluid">
<div class="controls">
<div class="dropdown project-settings-dropdown">
<a class="dropdown-new btn btn-default" data-toggle="dropdown" href="#" id="project-settings-button">
<i class="fa fa-cog"></i>
<i class="fa fa-caret-down"></i>
</a>
<ul class="dropdown-menu dropdown-menu-align-right">
<li class=""><a title="Members" class="team-tab tab" href="/scoring/pipeline/project_members"><span>
Members
</span>
</a></li>
</ul>
</div>
</div>
<div class="nav-control scrolling-tabs-container">
<div class="fade-left">
<i class="fa fa-angle-left"></i>
</div>
<div class="fade-right">
<i class="fa fa-angle-right"></i>
</div>
<ul class="nav-links scrolling-tabs">
<li class="home"><a title="Project" class="shortcuts-project" href="/scoring/pipeline"><span>
Project
</span>
</a></li><li class=""><a title="Activity" class="shortcuts-project-activity" href="/scoring/pipeline/activity"><span>
Activity
</span>
</a></li><li class="active"><a title="Repository" class="shortcuts-tree" href="/scoring/pipeline/tree/stageDPF2"><span>
Repository
</span>
</a></li><li class=""><a title="Pipelines" class="shortcuts-pipelines" href="/scoring/pipeline/pipelines"><span>
Pipelines
</span>
</a></li><li class=""><a title="Graphs" class="shortcuts-graphs" href="/scoring/pipeline/graphs/stageDPF2"><span>
Graphs
</span>
</a></li><li class=""><a title="Issues" class="shortcuts-issues" href="/scoring/pipeline/issues"><span>
Issues
<span class="badge count issue_counter">0</span>
</span>
</a></li><li class=""><a title="Merge Requests" class="shortcuts-merge_requests" href="/scoring/pipeline/merge_requests"><span>
Merge Requests
<span class="badge count merge_counter">0</span>
</span>
</a></li><li class=""><a title="Wiki" class="shortcuts-wiki" href="/scoring/pipeline/wikis/home"><span>
Wiki
</span>
</a></li><li class=""><a title="Snippets" class="shortcuts-snippets" href="/scoring/pipeline/snippets"><span>
Snippets
</span>
</a></li><li class="hidden">
<a title="Network" class="shortcuts-network" href="/scoring/pipeline/network/stageDPF2">Network
</a></li>
<li class="hidden">
<a class="shortcuts-new-issue" href="/scoring/pipeline/issues/new">Create a new issue
</a></li>
<li class="hidden">
<a title="Commits" class="shortcuts-commits" href="/scoring/pipeline/commits/stageDPF2">Commits
</a></li>
<li class="hidden">
<a title="Issue Boards" class="shortcuts-issue-boards" href="/scoring/pipeline/boards">Issue Boards</a>
</li>
</ul>
</div>

</div>
</div>
<div class="content-wrapper page-with-layout-nav">
<div class="scrolling-tabs-container sub-nav-scroll">
<div class="fade-left">
<i class="fa fa-angle-left"></i>
</div>
<div class="fade-right">
<i class="fa fa-angle-right"></i>
</div>

<div class="nav-links sub-nav scrolling-tabs">
<ul class="container-fluid container-limited">
<li class="active"><a href="/scoring/pipeline/tree/stageDPF2">Files
</a></li><li class=""><a href="/scoring/pipeline/commits/stageDPF2">Commits
</a></li><li class=""><a href="/scoring/pipeline/network/stageDPF2">Network
</a></li><li class=""><a href="/scoring/pipeline/compare?from=master&amp;to=stageDPF2">Compare
</a></li><li class=""><a href="/scoring/pipeline/branches">Branches
</a></li><li class=""><a href="/scoring/pipeline/tags">Tags
</a></li></ul>
</div>
</div>



<div class="flash-container flash-container-page">
</div>


<div class=" ">
<div class="content">

<div class="container-fluid container-limited">

<div class="tree-holder" id="tree-holder">
<div class="nav-block">
<div class="tree-ref-holder">
<form class="project-refs-form" action="/scoring/pipeline/refs/switch" accept-charset="UTF-8" method="get"><input name="utf8" type="hidden" value="&#x2713;" /><input type="hidden" name="destination" id="destination" value="blob" />
<input type="hidden" name="path" id="path" value="pipeline_DPF/pipeline_DPF.ipynb" />
<div class="dropdown">
<button class="dropdown-menu-toggle js-project-refs-dropdown" type="button" data-toggle="dropdown" data-selected="stageDPF2" data-ref="stageDPF2" data-refs-url="/scoring/pipeline/refs" data-field-name="ref" data-submit-form-on-click="true"><span class="dropdown-toggle-text ">stageDPF2</span><i class="fa fa-chevron-down"></i></button>
<div class="dropdown-menu dropdown-menu-selectable">
<div class="dropdown-title"><span>Switch branch/tag</span><button class="dropdown-title-button dropdown-menu-close" aria-label="Close" type="button"><i class="fa fa-times dropdown-menu-close-icon"></i></button></div>
<div class="dropdown-input"><input type="search" id="" class="dropdown-input-field" placeholder="Search branches and tags" autocomplete="off" /><i class="fa fa-search dropdown-input-search"></i><i role="button" class="fa fa-times dropdown-input-clear js-dropdown-input-clear"></i></div>
<div class="dropdown-content"></div>
<div class="dropdown-loading"><i class="fa fa-spinner fa-spin"></i></div>
</div>
</div>
</form>
</div>
<ul class="breadcrumb repo-breadcrumb">
<li>
<a href="/scoring/pipeline/tree/stageDPF2">pipeline
</a></li>
<li>
<a href="/scoring/pipeline/tree/stageDPF2/pipeline_DPF">pipeline_DPF</a>
</li>
<li>
<a href="/scoring/pipeline/blob/stageDPF2/pipeline_DPF/pipeline_DPF.ipynb"><strong>
pipeline_DPF.ipynb
</strong>
</a></li>
</ul>
</div>
<ul class="blob-commit-info hidden-xs">
<li class="commit js-toggle-container" id="commit-1f922bd8">
<a href="/ATselikov"><img class="avatar has-tooltip s36 hidden-xs" alt="ATselikov&#39;s avatar" title="ATselikov" data-container="body" src="https://vc-bds002.vimpelcom.global/uploads/user/avatar/34/avatar.png" /></a>
<div class="commit-info-block">
<div class="commit-row-title">
<span class="item-title">
<a class="commit-row-message" href="/scoring/pipeline/commit/1f922bd8c5f172006563ba0ff0e5e044af77f989">corrected2</a>
<span class="commit-row-message visible-xs-inline">
&middot;
1f922bd8
</span>
</span>
<div class="commit-actions hidden-xs">
<button class="btn btn-clipboard btn-transparent" data-toggle="tooltip" data-placement="bottom" data-container="body" data-clipboard-text="1f922bd8c5f172006563ba0ff0e5e044af77f989" type="button" title="Copy to Clipboard"><i class="fa fa-clipboard"></i></button>
<a class="commit-short-id btn btn-transparent" href="/scoring/pipeline/commit/1f922bd8c5f172006563ba0ff0e5e044af77f989">1f922bd8</a>
<a class="btn btn-default" href="/scoring/pipeline/tree/1f922bd8c5f172006563ba0ff0e5e044af77f989">Browse Files</a>
</div>
</div>
<div class="commit-row-info">
<a class="commit-author-link has-tooltip" title="atselikov@beeline.ru" href="/ATselikov">ATselikov</a>
authored
<time class="js-timeago js-timeago-pending" datetime="2017-07-27T08:41:12Z" title="Jul 27, 2017 8:41am" data-toggle="tooltip" data-placement="top" data-container="body">2017-07-27 11:41:12 +0300</time><script>
//<![CDATA[
$('.js-timeago-pending').removeClass('js-timeago-pending').timeago()
//]]>
</script>
</div>
</div>
</li>

</ul>
<div class="blob-content-holder" id="blob-content-holder">
<article class="file-holder">
<div class="file-title">
<i class="fa fa-file-text-o fa-fw"></i>
<strong>
pipeline_DPF.ipynb
</strong>
<small>
80.1 KB
</small>
<div class="file-actions hidden-xs">
<div class="btn-group tree-btn-group">
<a class="btn btn-sm" target="_blank" href="/scoring/pipeline/raw/stageDPF2/pipeline_DPF/pipeline_DPF.ipynb">Raw</a>
<a class="btn btn-sm" href="/scoring/pipeline/blame/stageDPF2/pipeline_DPF/pipeline_DPF.ipynb">Blame</a>
<a class="btn btn-sm" href="/scoring/pipeline/commits/stageDPF2/pipeline_DPF/pipeline_DPF.ipynb">History</a>
<a class="btn btn-sm" href="/scoring/pipeline/blob/1f922bd8c5f172006563ba0ff0e5e044af77f989/pipeline_DPF/pipeline_DPF.ipynb">Permalink</a>
</div>
<div class="btn-group" role="group">
<a class="btn btn-sm" href="/scoring/pipeline/edit/stageDPF2/pipeline_DPF/pipeline_DPF.ipynb">Edit</a>
<button name="button" type="submit" class="btn btn-default" data-target="#modal-upload-blob" data-toggle="modal">Replace</button>
<button name="button" type="submit" class="btn btn-remove" data-target="#modal-remove-blob" data-toggle="modal">Delete</button>
</div>

</div>
</div>
<div class="file-content code js-syntax-highlight">
<div class="line-numbers">
<a class="diff-line-num" data-line-number="1" href="#L1" id="L1">
<i class="fa fa-link"></i>
1
</a>
<a class="diff-line-num" data-line-number="2" href="#L2" id="L2">
<i class="fa fa-link"></i>
2
</a>
<a class="diff-line-num" data-line-number="3" href="#L3" id="L3">
<i class="fa fa-link"></i>
3
</a>
<a class="diff-line-num" data-line-number="4" href="#L4" id="L4">
<i class="fa fa-link"></i>
4
</a>
<a class="diff-line-num" data-line-number="5" href="#L5" id="L5">
<i class="fa fa-link"></i>
5
</a>
<a class="diff-line-num" data-line-number="6" href="#L6" id="L6">
<i class="fa fa-link"></i>
6
</a>
<a class="diff-line-num" data-line-number="7" href="#L7" id="L7">
<i class="fa fa-link"></i>
7
</a>
<a class="diff-line-num" data-line-number="8" href="#L8" id="L8">
<i class="fa fa-link"></i>
8
</a>
<a class="diff-line-num" data-line-number="9" href="#L9" id="L9">
<i class="fa fa-link"></i>
9
</a>
<a class="diff-line-num" data-line-number="10" href="#L10" id="L10">
<i class="fa fa-link"></i>
10
</a>
<a class="diff-line-num" data-line-number="11" href="#L11" id="L11">
<i class="fa fa-link"></i>
11
</a>
<a class="diff-line-num" data-line-number="12" href="#L12" id="L12">
<i class="fa fa-link"></i>
12
</a>
<a class="diff-line-num" data-line-number="13" href="#L13" id="L13">
<i class="fa fa-link"></i>
13
</a>
<a class="diff-line-num" data-line-number="14" href="#L14" id="L14">
<i class="fa fa-link"></i>
14
</a>
<a class="diff-line-num" data-line-number="15" href="#L15" id="L15">
<i class="fa fa-link"></i>
15
</a>
<a class="diff-line-num" data-line-number="16" href="#L16" id="L16">
<i class="fa fa-link"></i>
16
</a>
<a class="diff-line-num" data-line-number="17" href="#L17" id="L17">
<i class="fa fa-link"></i>
17
</a>
<a class="diff-line-num" data-line-number="18" href="#L18" id="L18">
<i class="fa fa-link"></i>
18
</a>
<a class="diff-line-num" data-line-number="19" href="#L19" id="L19">
<i class="fa fa-link"></i>
19
</a>
<a class="diff-line-num" data-line-number="20" href="#L20" id="L20">
<i class="fa fa-link"></i>
20
</a>
<a class="diff-line-num" data-line-number="21" href="#L21" id="L21">
<i class="fa fa-link"></i>
21
</a>
<a class="diff-line-num" data-line-number="22" href="#L22" id="L22">
<i class="fa fa-link"></i>
22
</a>
<a class="diff-line-num" data-line-number="23" href="#L23" id="L23">
<i class="fa fa-link"></i>
23
</a>
<a class="diff-line-num" data-line-number="24" href="#L24" id="L24">
<i class="fa fa-link"></i>
24
</a>
<a class="diff-line-num" data-line-number="25" href="#L25" id="L25">
<i class="fa fa-link"></i>
25
</a>
<a class="diff-line-num" data-line-number="26" href="#L26" id="L26">
<i class="fa fa-link"></i>
26
</a>
<a class="diff-line-num" data-line-number="27" href="#L27" id="L27">
<i class="fa fa-link"></i>
27
</a>
<a class="diff-line-num" data-line-number="28" href="#L28" id="L28">
<i class="fa fa-link"></i>
28
</a>
<a class="diff-line-num" data-line-number="29" href="#L29" id="L29">
<i class="fa fa-link"></i>
29
</a>
<a class="diff-line-num" data-line-number="30" href="#L30" id="L30">
<i class="fa fa-link"></i>
30
</a>
<a class="diff-line-num" data-line-number="31" href="#L31" id="L31">
<i class="fa fa-link"></i>
31
</a>
<a class="diff-line-num" data-line-number="32" href="#L32" id="L32">
<i class="fa fa-link"></i>
32
</a>
<a class="diff-line-num" data-line-number="33" href="#L33" id="L33">
<i class="fa fa-link"></i>
33
</a>
<a class="diff-line-num" data-line-number="34" href="#L34" id="L34">
<i class="fa fa-link"></i>
34
</a>
<a class="diff-line-num" data-line-number="35" href="#L35" id="L35">
<i class="fa fa-link"></i>
35
</a>
<a class="diff-line-num" data-line-number="36" href="#L36" id="L36">
<i class="fa fa-link"></i>
36
</a>
<a class="diff-line-num" data-line-number="37" href="#L37" id="L37">
<i class="fa fa-link"></i>
37
</a>
<a class="diff-line-num" data-line-number="38" href="#L38" id="L38">
<i class="fa fa-link"></i>
38
</a>
<a class="diff-line-num" data-line-number="39" href="#L39" id="L39">
<i class="fa fa-link"></i>
39
</a>
<a class="diff-line-num" data-line-number="40" href="#L40" id="L40">
<i class="fa fa-link"></i>
40
</a>
<a class="diff-line-num" data-line-number="41" href="#L41" id="L41">
<i class="fa fa-link"></i>
41
</a>
<a class="diff-line-num" data-line-number="42" href="#L42" id="L42">
<i class="fa fa-link"></i>
42
</a>
<a class="diff-line-num" data-line-number="43" href="#L43" id="L43">
<i class="fa fa-link"></i>
43
</a>
<a class="diff-line-num" data-line-number="44" href="#L44" id="L44">
<i class="fa fa-link"></i>
44
</a>
<a class="diff-line-num" data-line-number="45" href="#L45" id="L45">
<i class="fa fa-link"></i>
45
</a>
<a class="diff-line-num" data-line-number="46" href="#L46" id="L46">
<i class="fa fa-link"></i>
46
</a>
<a class="diff-line-num" data-line-number="47" href="#L47" id="L47">
<i class="fa fa-link"></i>
47
</a>
<a class="diff-line-num" data-line-number="48" href="#L48" id="L48">
<i class="fa fa-link"></i>
48
</a>
<a class="diff-line-num" data-line-number="49" href="#L49" id="L49">
<i class="fa fa-link"></i>
49
</a>
<a class="diff-line-num" data-line-number="50" href="#L50" id="L50">
<i class="fa fa-link"></i>
50
</a>
<a class="diff-line-num" data-line-number="51" href="#L51" id="L51">
<i class="fa fa-link"></i>
51
</a>
<a class="diff-line-num" data-line-number="52" href="#L52" id="L52">
<i class="fa fa-link"></i>
52
</a>
<a class="diff-line-num" data-line-number="53" href="#L53" id="L53">
<i class="fa fa-link"></i>
53
</a>
<a class="diff-line-num" data-line-number="54" href="#L54" id="L54">
<i class="fa fa-link"></i>
54
</a>
<a class="diff-line-num" data-line-number="55" href="#L55" id="L55">
<i class="fa fa-link"></i>
55
</a>
<a class="diff-line-num" data-line-number="56" href="#L56" id="L56">
<i class="fa fa-link"></i>
56
</a>
<a class="diff-line-num" data-line-number="57" href="#L57" id="L57">
<i class="fa fa-link"></i>
57
</a>
<a class="diff-line-num" data-line-number="58" href="#L58" id="L58">
<i class="fa fa-link"></i>
58
</a>
<a class="diff-line-num" data-line-number="59" href="#L59" id="L59">
<i class="fa fa-link"></i>
59
</a>
<a class="diff-line-num" data-line-number="60" href="#L60" id="L60">
<i class="fa fa-link"></i>
60
</a>
<a class="diff-line-num" data-line-number="61" href="#L61" id="L61">
<i class="fa fa-link"></i>
61
</a>
<a class="diff-line-num" data-line-number="62" href="#L62" id="L62">
<i class="fa fa-link"></i>
62
</a>
<a class="diff-line-num" data-line-number="63" href="#L63" id="L63">
<i class="fa fa-link"></i>
63
</a>
<a class="diff-line-num" data-line-number="64" href="#L64" id="L64">
<i class="fa fa-link"></i>
64
</a>
<a class="diff-line-num" data-line-number="65" href="#L65" id="L65">
<i class="fa fa-link"></i>
65
</a>
<a class="diff-line-num" data-line-number="66" href="#L66" id="L66">
<i class="fa fa-link"></i>
66
</a>
<a class="diff-line-num" data-line-number="67" href="#L67" id="L67">
<i class="fa fa-link"></i>
67
</a>
<a class="diff-line-num" data-line-number="68" href="#L68" id="L68">
<i class="fa fa-link"></i>
68
</a>
<a class="diff-line-num" data-line-number="69" href="#L69" id="L69">
<i class="fa fa-link"></i>
69
</a>
<a class="diff-line-num" data-line-number="70" href="#L70" id="L70">
<i class="fa fa-link"></i>
70
</a>
<a class="diff-line-num" data-line-number="71" href="#L71" id="L71">
<i class="fa fa-link"></i>
71
</a>
<a class="diff-line-num" data-line-number="72" href="#L72" id="L72">
<i class="fa fa-link"></i>
72
</a>
<a class="diff-line-num" data-line-number="73" href="#L73" id="L73">
<i class="fa fa-link"></i>
73
</a>
<a class="diff-line-num" data-line-number="74" href="#L74" id="L74">
<i class="fa fa-link"></i>
74
</a>
<a class="diff-line-num" data-line-number="75" href="#L75" id="L75">
<i class="fa fa-link"></i>
75
</a>
<a class="diff-line-num" data-line-number="76" href="#L76" id="L76">
<i class="fa fa-link"></i>
76
</a>
<a class="diff-line-num" data-line-number="77" href="#L77" id="L77">
<i class="fa fa-link"></i>
77
</a>
<a class="diff-line-num" data-line-number="78" href="#L78" id="L78">
<i class="fa fa-link"></i>
78
</a>
<a class="diff-line-num" data-line-number="79" href="#L79" id="L79">
<i class="fa fa-link"></i>
79
</a>
<a class="diff-line-num" data-line-number="80" href="#L80" id="L80">
<i class="fa fa-link"></i>
80
</a>
<a class="diff-line-num" data-line-number="81" href="#L81" id="L81">
<i class="fa fa-link"></i>
81
</a>
<a class="diff-line-num" data-line-number="82" href="#L82" id="L82">
<i class="fa fa-link"></i>
82
</a>
<a class="diff-line-num" data-line-number="83" href="#L83" id="L83">
<i class="fa fa-link"></i>
83
</a>
<a class="diff-line-num" data-line-number="84" href="#L84" id="L84">
<i class="fa fa-link"></i>
84
</a>
<a class="diff-line-num" data-line-number="85" href="#L85" id="L85">
<i class="fa fa-link"></i>
85
</a>
<a class="diff-line-num" data-line-number="86" href="#L86" id="L86">
<i class="fa fa-link"></i>
86
</a>
<a class="diff-line-num" data-line-number="87" href="#L87" id="L87">
<i class="fa fa-link"></i>
87
</a>
<a class="diff-line-num" data-line-number="88" href="#L88" id="L88">
<i class="fa fa-link"></i>
88
</a>
<a class="diff-line-num" data-line-number="89" href="#L89" id="L89">
<i class="fa fa-link"></i>
89
</a>
<a class="diff-line-num" data-line-number="90" href="#L90" id="L90">
<i class="fa fa-link"></i>
90
</a>
<a class="diff-line-num" data-line-number="91" href="#L91" id="L91">
<i class="fa fa-link"></i>
91
</a>
<a class="diff-line-num" data-line-number="92" href="#L92" id="L92">
<i class="fa fa-link"></i>
92
</a>
<a class="diff-line-num" data-line-number="93" href="#L93" id="L93">
<i class="fa fa-link"></i>
93
</a>
<a class="diff-line-num" data-line-number="94" href="#L94" id="L94">
<i class="fa fa-link"></i>
94
</a>
<a class="diff-line-num" data-line-number="95" href="#L95" id="L95">
<i class="fa fa-link"></i>
95
</a>
<a class="diff-line-num" data-line-number="96" href="#L96" id="L96">
<i class="fa fa-link"></i>
96
</a>
<a class="diff-line-num" data-line-number="97" href="#L97" id="L97">
<i class="fa fa-link"></i>
97
</a>
<a class="diff-line-num" data-line-number="98" href="#L98" id="L98">
<i class="fa fa-link"></i>
98
</a>
<a class="diff-line-num" data-line-number="99" href="#L99" id="L99">
<i class="fa fa-link"></i>
99
</a>
<a class="diff-line-num" data-line-number="100" href="#L100" id="L100">
<i class="fa fa-link"></i>
100
</a>
<a class="diff-line-num" data-line-number="101" href="#L101" id="L101">
<i class="fa fa-link"></i>
101
</a>
<a class="diff-line-num" data-line-number="102" href="#L102" id="L102">
<i class="fa fa-link"></i>
102
</a>
<a class="diff-line-num" data-line-number="103" href="#L103" id="L103">
<i class="fa fa-link"></i>
103
</a>
<a class="diff-line-num" data-line-number="104" href="#L104" id="L104">
<i class="fa fa-link"></i>
104
</a>
<a class="diff-line-num" data-line-number="105" href="#L105" id="L105">
<i class="fa fa-link"></i>
105
</a>
<a class="diff-line-num" data-line-number="106" href="#L106" id="L106">
<i class="fa fa-link"></i>
106
</a>
<a class="diff-line-num" data-line-number="107" href="#L107" id="L107">
<i class="fa fa-link"></i>
107
</a>
<a class="diff-line-num" data-line-number="108" href="#L108" id="L108">
<i class="fa fa-link"></i>
108
</a>
<a class="diff-line-num" data-line-number="109" href="#L109" id="L109">
<i class="fa fa-link"></i>
109
</a>
<a class="diff-line-num" data-line-number="110" href="#L110" id="L110">
<i class="fa fa-link"></i>
110
</a>
<a class="diff-line-num" data-line-number="111" href="#L111" id="L111">
<i class="fa fa-link"></i>
111
</a>
<a class="diff-line-num" data-line-number="112" href="#L112" id="L112">
<i class="fa fa-link"></i>
112
</a>
<a class="diff-line-num" data-line-number="113" href="#L113" id="L113">
<i class="fa fa-link"></i>
113
</a>
<a class="diff-line-num" data-line-number="114" href="#L114" id="L114">
<i class="fa fa-link"></i>
114
</a>
<a class="diff-line-num" data-line-number="115" href="#L115" id="L115">
<i class="fa fa-link"></i>
115
</a>
<a class="diff-line-num" data-line-number="116" href="#L116" id="L116">
<i class="fa fa-link"></i>
116
</a>
<a class="diff-line-num" data-line-number="117" href="#L117" id="L117">
<i class="fa fa-link"></i>
117
</a>
<a class="diff-line-num" data-line-number="118" href="#L118" id="L118">
<i class="fa fa-link"></i>
118
</a>
<a class="diff-line-num" data-line-number="119" href="#L119" id="L119">
<i class="fa fa-link"></i>
119
</a>
<a class="diff-line-num" data-line-number="120" href="#L120" id="L120">
<i class="fa fa-link"></i>
120
</a>
<a class="diff-line-num" data-line-number="121" href="#L121" id="L121">
<i class="fa fa-link"></i>
121
</a>
<a class="diff-line-num" data-line-number="122" href="#L122" id="L122">
<i class="fa fa-link"></i>
122
</a>
<a class="diff-line-num" data-line-number="123" href="#L123" id="L123">
<i class="fa fa-link"></i>
123
</a>
<a class="diff-line-num" data-line-number="124" href="#L124" id="L124">
<i class="fa fa-link"></i>
124
</a>
<a class="diff-line-num" data-line-number="125" href="#L125" id="L125">
<i class="fa fa-link"></i>
125
</a>
<a class="diff-line-num" data-line-number="126" href="#L126" id="L126">
<i class="fa fa-link"></i>
126
</a>
<a class="diff-line-num" data-line-number="127" href="#L127" id="L127">
<i class="fa fa-link"></i>
127
</a>
<a class="diff-line-num" data-line-number="128" href="#L128" id="L128">
<i class="fa fa-link"></i>
128
</a>
<a class="diff-line-num" data-line-number="129" href="#L129" id="L129">
<i class="fa fa-link"></i>
129
</a>
<a class="diff-line-num" data-line-number="130" href="#L130" id="L130">
<i class="fa fa-link"></i>
130
</a>
<a class="diff-line-num" data-line-number="131" href="#L131" id="L131">
<i class="fa fa-link"></i>
131
</a>
<a class="diff-line-num" data-line-number="132" href="#L132" id="L132">
<i class="fa fa-link"></i>
132
</a>
<a class="diff-line-num" data-line-number="133" href="#L133" id="L133">
<i class="fa fa-link"></i>
133
</a>
<a class="diff-line-num" data-line-number="134" href="#L134" id="L134">
<i class="fa fa-link"></i>
134
</a>
<a class="diff-line-num" data-line-number="135" href="#L135" id="L135">
<i class="fa fa-link"></i>
135
</a>
<a class="diff-line-num" data-line-number="136" href="#L136" id="L136">
<i class="fa fa-link"></i>
136
</a>
<a class="diff-line-num" data-line-number="137" href="#L137" id="L137">
<i class="fa fa-link"></i>
137
</a>
<a class="diff-line-num" data-line-number="138" href="#L138" id="L138">
<i class="fa fa-link"></i>
138
</a>
<a class="diff-line-num" data-line-number="139" href="#L139" id="L139">
<i class="fa fa-link"></i>
139
</a>
<a class="diff-line-num" data-line-number="140" href="#L140" id="L140">
<i class="fa fa-link"></i>
140
</a>
<a class="diff-line-num" data-line-number="141" href="#L141" id="L141">
<i class="fa fa-link"></i>
141
</a>
<a class="diff-line-num" data-line-number="142" href="#L142" id="L142">
<i class="fa fa-link"></i>
142
</a>
<a class="diff-line-num" data-line-number="143" href="#L143" id="L143">
<i class="fa fa-link"></i>
143
</a>
<a class="diff-line-num" data-line-number="144" href="#L144" id="L144">
<i class="fa fa-link"></i>
144
</a>
<a class="diff-line-num" data-line-number="145" href="#L145" id="L145">
<i class="fa fa-link"></i>
145
</a>
<a class="diff-line-num" data-line-number="146" href="#L146" id="L146">
<i class="fa fa-link"></i>
146
</a>
<a class="diff-line-num" data-line-number="147" href="#L147" id="L147">
<i class="fa fa-link"></i>
147
</a>
<a class="diff-line-num" data-line-number="148" href="#L148" id="L148">
<i class="fa fa-link"></i>
148
</a>
<a class="diff-line-num" data-line-number="149" href="#L149" id="L149">
<i class="fa fa-link"></i>
149
</a>
<a class="diff-line-num" data-line-number="150" href="#L150" id="L150">
<i class="fa fa-link"></i>
150
</a>
<a class="diff-line-num" data-line-number="151" href="#L151" id="L151">
<i class="fa fa-link"></i>
151
</a>
<a class="diff-line-num" data-line-number="152" href="#L152" id="L152">
<i class="fa fa-link"></i>
152
</a>
<a class="diff-line-num" data-line-number="153" href="#L153" id="L153">
<i class="fa fa-link"></i>
153
</a>
<a class="diff-line-num" data-line-number="154" href="#L154" id="L154">
<i class="fa fa-link"></i>
154
</a>
<a class="diff-line-num" data-line-number="155" href="#L155" id="L155">
<i class="fa fa-link"></i>
155
</a>
<a class="diff-line-num" data-line-number="156" href="#L156" id="L156">
<i class="fa fa-link"></i>
156
</a>
<a class="diff-line-num" data-line-number="157" href="#L157" id="L157">
<i class="fa fa-link"></i>
157
</a>
<a class="diff-line-num" data-line-number="158" href="#L158" id="L158">
<i class="fa fa-link"></i>
158
</a>
<a class="diff-line-num" data-line-number="159" href="#L159" id="L159">
<i class="fa fa-link"></i>
159
</a>
<a class="diff-line-num" data-line-number="160" href="#L160" id="L160">
<i class="fa fa-link"></i>
160
</a>
<a class="diff-line-num" data-line-number="161" href="#L161" id="L161">
<i class="fa fa-link"></i>
161
</a>
<a class="diff-line-num" data-line-number="162" href="#L162" id="L162">
<i class="fa fa-link"></i>
162
</a>
<a class="diff-line-num" data-line-number="163" href="#L163" id="L163">
<i class="fa fa-link"></i>
163
</a>
<a class="diff-line-num" data-line-number="164" href="#L164" id="L164">
<i class="fa fa-link"></i>
164
</a>
<a class="diff-line-num" data-line-number="165" href="#L165" id="L165">
<i class="fa fa-link"></i>
165
</a>
<a class="diff-line-num" data-line-number="166" href="#L166" id="L166">
<i class="fa fa-link"></i>
166
</a>
<a class="diff-line-num" data-line-number="167" href="#L167" id="L167">
<i class="fa fa-link"></i>
167
</a>
<a class="diff-line-num" data-line-number="168" href="#L168" id="L168">
<i class="fa fa-link"></i>
168
</a>
<a class="diff-line-num" data-line-number="169" href="#L169" id="L169">
<i class="fa fa-link"></i>
169
</a>
<a class="diff-line-num" data-line-number="170" href="#L170" id="L170">
<i class="fa fa-link"></i>
170
</a>
<a class="diff-line-num" data-line-number="171" href="#L171" id="L171">
<i class="fa fa-link"></i>
171
</a>
<a class="diff-line-num" data-line-number="172" href="#L172" id="L172">
<i class="fa fa-link"></i>
172
</a>
<a class="diff-line-num" data-line-number="173" href="#L173" id="L173">
<i class="fa fa-link"></i>
173
</a>
<a class="diff-line-num" data-line-number="174" href="#L174" id="L174">
<i class="fa fa-link"></i>
174
</a>
<a class="diff-line-num" data-line-number="175" href="#L175" id="L175">
<i class="fa fa-link"></i>
175
</a>
<a class="diff-line-num" data-line-number="176" href="#L176" id="L176">
<i class="fa fa-link"></i>
176
</a>
<a class="diff-line-num" data-line-number="177" href="#L177" id="L177">
<i class="fa fa-link"></i>
177
</a>
<a class="diff-line-num" data-line-number="178" href="#L178" id="L178">
<i class="fa fa-link"></i>
178
</a>
<a class="diff-line-num" data-line-number="179" href="#L179" id="L179">
<i class="fa fa-link"></i>
179
</a>
<a class="diff-line-num" data-line-number="180" href="#L180" id="L180">
<i class="fa fa-link"></i>
180
</a>
<a class="diff-line-num" data-line-number="181" href="#L181" id="L181">
<i class="fa fa-link"></i>
181
</a>
<a class="diff-line-num" data-line-number="182" href="#L182" id="L182">
<i class="fa fa-link"></i>
182
</a>
<a class="diff-line-num" data-line-number="183" href="#L183" id="L183">
<i class="fa fa-link"></i>
183
</a>
<a class="diff-line-num" data-line-number="184" href="#L184" id="L184">
<i class="fa fa-link"></i>
184
</a>
<a class="diff-line-num" data-line-number="185" href="#L185" id="L185">
<i class="fa fa-link"></i>
185
</a>
<a class="diff-line-num" data-line-number="186" href="#L186" id="L186">
<i class="fa fa-link"></i>
186
</a>
<a class="diff-line-num" data-line-number="187" href="#L187" id="L187">
<i class="fa fa-link"></i>
187
</a>
<a class="diff-line-num" data-line-number="188" href="#L188" id="L188">
<i class="fa fa-link"></i>
188
</a>
<a class="diff-line-num" data-line-number="189" href="#L189" id="L189">
<i class="fa fa-link"></i>
189
</a>
<a class="diff-line-num" data-line-number="190" href="#L190" id="L190">
<i class="fa fa-link"></i>
190
</a>
<a class="diff-line-num" data-line-number="191" href="#L191" id="L191">
<i class="fa fa-link"></i>
191
</a>
<a class="diff-line-num" data-line-number="192" href="#L192" id="L192">
<i class="fa fa-link"></i>
192
</a>
<a class="diff-line-num" data-line-number="193" href="#L193" id="L193">
<i class="fa fa-link"></i>
193
</a>
<a class="diff-line-num" data-line-number="194" href="#L194" id="L194">
<i class="fa fa-link"></i>
194
</a>
<a class="diff-line-num" data-line-number="195" href="#L195" id="L195">
<i class="fa fa-link"></i>
195
</a>
<a class="diff-line-num" data-line-number="196" href="#L196" id="L196">
<i class="fa fa-link"></i>
196
</a>
<a class="diff-line-num" data-line-number="197" href="#L197" id="L197">
<i class="fa fa-link"></i>
197
</a>
<a class="diff-line-num" data-line-number="198" href="#L198" id="L198">
<i class="fa fa-link"></i>
198
</a>
<a class="diff-line-num" data-line-number="199" href="#L199" id="L199">
<i class="fa fa-link"></i>
199
</a>
<a class="diff-line-num" data-line-number="200" href="#L200" id="L200">
<i class="fa fa-link"></i>
200
</a>
<a class="diff-line-num" data-line-number="201" href="#L201" id="L201">
<i class="fa fa-link"></i>
201
</a>
<a class="diff-line-num" data-line-number="202" href="#L202" id="L202">
<i class="fa fa-link"></i>
202
</a>
<a class="diff-line-num" data-line-number="203" href="#L203" id="L203">
<i class="fa fa-link"></i>
203
</a>
<a class="diff-line-num" data-line-number="204" href="#L204" id="L204">
<i class="fa fa-link"></i>
204
</a>
<a class="diff-line-num" data-line-number="205" href="#L205" id="L205">
<i class="fa fa-link"></i>
205
</a>
<a class="diff-line-num" data-line-number="206" href="#L206" id="L206">
<i class="fa fa-link"></i>
206
</a>
<a class="diff-line-num" data-line-number="207" href="#L207" id="L207">
<i class="fa fa-link"></i>
207
</a>
<a class="diff-line-num" data-line-number="208" href="#L208" id="L208">
<i class="fa fa-link"></i>
208
</a>
<a class="diff-line-num" data-line-number="209" href="#L209" id="L209">
<i class="fa fa-link"></i>
209
</a>
<a class="diff-line-num" data-line-number="210" href="#L210" id="L210">
<i class="fa fa-link"></i>
210
</a>
<a class="diff-line-num" data-line-number="211" href="#L211" id="L211">
<i class="fa fa-link"></i>
211
</a>
<a class="diff-line-num" data-line-number="212" href="#L212" id="L212">
<i class="fa fa-link"></i>
212
</a>
<a class="diff-line-num" data-line-number="213" href="#L213" id="L213">
<i class="fa fa-link"></i>
213
</a>
<a class="diff-line-num" data-line-number="214" href="#L214" id="L214">
<i class="fa fa-link"></i>
214
</a>
<a class="diff-line-num" data-line-number="215" href="#L215" id="L215">
<i class="fa fa-link"></i>
215
</a>
<a class="diff-line-num" data-line-number="216" href="#L216" id="L216">
<i class="fa fa-link"></i>
216
</a>
<a class="diff-line-num" data-line-number="217" href="#L217" id="L217">
<i class="fa fa-link"></i>
217
</a>
<a class="diff-line-num" data-line-number="218" href="#L218" id="L218">
<i class="fa fa-link"></i>
218
</a>
<a class="diff-line-num" data-line-number="219" href="#L219" id="L219">
<i class="fa fa-link"></i>
219
</a>
<a class="diff-line-num" data-line-number="220" href="#L220" id="L220">
<i class="fa fa-link"></i>
220
</a>
<a class="diff-line-num" data-line-number="221" href="#L221" id="L221">
<i class="fa fa-link"></i>
221
</a>
<a class="diff-line-num" data-line-number="222" href="#L222" id="L222">
<i class="fa fa-link"></i>
222
</a>
<a class="diff-line-num" data-line-number="223" href="#L223" id="L223">
<i class="fa fa-link"></i>
223
</a>
<a class="diff-line-num" data-line-number="224" href="#L224" id="L224">
<i class="fa fa-link"></i>
224
</a>
<a class="diff-line-num" data-line-number="225" href="#L225" id="L225">
<i class="fa fa-link"></i>
225
</a>
<a class="diff-line-num" data-line-number="226" href="#L226" id="L226">
<i class="fa fa-link"></i>
226
</a>
<a class="diff-line-num" data-line-number="227" href="#L227" id="L227">
<i class="fa fa-link"></i>
227
</a>
<a class="diff-line-num" data-line-number="228" href="#L228" id="L228">
<i class="fa fa-link"></i>
228
</a>
<a class="diff-line-num" data-line-number="229" href="#L229" id="L229">
<i class="fa fa-link"></i>
229
</a>
<a class="diff-line-num" data-line-number="230" href="#L230" id="L230">
<i class="fa fa-link"></i>
230
</a>
<a class="diff-line-num" data-line-number="231" href="#L231" id="L231">
<i class="fa fa-link"></i>
231
</a>
<a class="diff-line-num" data-line-number="232" href="#L232" id="L232">
<i class="fa fa-link"></i>
232
</a>
<a class="diff-line-num" data-line-number="233" href="#L233" id="L233">
<i class="fa fa-link"></i>
233
</a>
<a class="diff-line-num" data-line-number="234" href="#L234" id="L234">
<i class="fa fa-link"></i>
234
</a>
<a class="diff-line-num" data-line-number="235" href="#L235" id="L235">
<i class="fa fa-link"></i>
235
</a>
<a class="diff-line-num" data-line-number="236" href="#L236" id="L236">
<i class="fa fa-link"></i>
236
</a>
<a class="diff-line-num" data-line-number="237" href="#L237" id="L237">
<i class="fa fa-link"></i>
237
</a>
<a class="diff-line-num" data-line-number="238" href="#L238" id="L238">
<i class="fa fa-link"></i>
238
</a>
<a class="diff-line-num" data-line-number="239" href="#L239" id="L239">
<i class="fa fa-link"></i>
239
</a>
<a class="diff-line-num" data-line-number="240" href="#L240" id="L240">
<i class="fa fa-link"></i>
240
</a>
<a class="diff-line-num" data-line-number="241" href="#L241" id="L241">
<i class="fa fa-link"></i>
241
</a>
<a class="diff-line-num" data-line-number="242" href="#L242" id="L242">
<i class="fa fa-link"></i>
242
</a>
<a class="diff-line-num" data-line-number="243" href="#L243" id="L243">
<i class="fa fa-link"></i>
243
</a>
<a class="diff-line-num" data-line-number="244" href="#L244" id="L244">
<i class="fa fa-link"></i>
244
</a>
<a class="diff-line-num" data-line-number="245" href="#L245" id="L245">
<i class="fa fa-link"></i>
245
</a>
<a class="diff-line-num" data-line-number="246" href="#L246" id="L246">
<i class="fa fa-link"></i>
246
</a>
<a class="diff-line-num" data-line-number="247" href="#L247" id="L247">
<i class="fa fa-link"></i>
247
</a>
<a class="diff-line-num" data-line-number="248" href="#L248" id="L248">
<i class="fa fa-link"></i>
248
</a>
<a class="diff-line-num" data-line-number="249" href="#L249" id="L249">
<i class="fa fa-link"></i>
249
</a>
<a class="diff-line-num" data-line-number="250" href="#L250" id="L250">
<i class="fa fa-link"></i>
250
</a>
<a class="diff-line-num" data-line-number="251" href="#L251" id="L251">
<i class="fa fa-link"></i>
251
</a>
<a class="diff-line-num" data-line-number="252" href="#L252" id="L252">
<i class="fa fa-link"></i>
252
</a>
<a class="diff-line-num" data-line-number="253" href="#L253" id="L253">
<i class="fa fa-link"></i>
253
</a>
<a class="diff-line-num" data-line-number="254" href="#L254" id="L254">
<i class="fa fa-link"></i>
254
</a>
<a class="diff-line-num" data-line-number="255" href="#L255" id="L255">
<i class="fa fa-link"></i>
255
</a>
<a class="diff-line-num" data-line-number="256" href="#L256" id="L256">
<i class="fa fa-link"></i>
256
</a>
<a class="diff-line-num" data-line-number="257" href="#L257" id="L257">
<i class="fa fa-link"></i>
257
</a>
<a class="diff-line-num" data-line-number="258" href="#L258" id="L258">
<i class="fa fa-link"></i>
258
</a>
<a class="diff-line-num" data-line-number="259" href="#L259" id="L259">
<i class="fa fa-link"></i>
259
</a>
<a class="diff-line-num" data-line-number="260" href="#L260" id="L260">
<i class="fa fa-link"></i>
260
</a>
<a class="diff-line-num" data-line-number="261" href="#L261" id="L261">
<i class="fa fa-link"></i>
261
</a>
<a class="diff-line-num" data-line-number="262" href="#L262" id="L262">
<i class="fa fa-link"></i>
262
</a>
<a class="diff-line-num" data-line-number="263" href="#L263" id="L263">
<i class="fa fa-link"></i>
263
</a>
<a class="diff-line-num" data-line-number="264" href="#L264" id="L264">
<i class="fa fa-link"></i>
264
</a>
<a class="diff-line-num" data-line-number="265" href="#L265" id="L265">
<i class="fa fa-link"></i>
265
</a>
<a class="diff-line-num" data-line-number="266" href="#L266" id="L266">
<i class="fa fa-link"></i>
266
</a>
<a class="diff-line-num" data-line-number="267" href="#L267" id="L267">
<i class="fa fa-link"></i>
267
</a>
<a class="diff-line-num" data-line-number="268" href="#L268" id="L268">
<i class="fa fa-link"></i>
268
</a>
<a class="diff-line-num" data-line-number="269" href="#L269" id="L269">
<i class="fa fa-link"></i>
269
</a>
<a class="diff-line-num" data-line-number="270" href="#L270" id="L270">
<i class="fa fa-link"></i>
270
</a>
<a class="diff-line-num" data-line-number="271" href="#L271" id="L271">
<i class="fa fa-link"></i>
271
</a>
<a class="diff-line-num" data-line-number="272" href="#L272" id="L272">
<i class="fa fa-link"></i>
272
</a>
<a class="diff-line-num" data-line-number="273" href="#L273" id="L273">
<i class="fa fa-link"></i>
273
</a>
<a class="diff-line-num" data-line-number="274" href="#L274" id="L274">
<i class="fa fa-link"></i>
274
</a>
<a class="diff-line-num" data-line-number="275" href="#L275" id="L275">
<i class="fa fa-link"></i>
275
</a>
<a class="diff-line-num" data-line-number="276" href="#L276" id="L276">
<i class="fa fa-link"></i>
276
</a>
<a class="diff-line-num" data-line-number="277" href="#L277" id="L277">
<i class="fa fa-link"></i>
277
</a>
<a class="diff-line-num" data-line-number="278" href="#L278" id="L278">
<i class="fa fa-link"></i>
278
</a>
<a class="diff-line-num" data-line-number="279" href="#L279" id="L279">
<i class="fa fa-link"></i>
279
</a>
<a class="diff-line-num" data-line-number="280" href="#L280" id="L280">
<i class="fa fa-link"></i>
280
</a>
<a class="diff-line-num" data-line-number="281" href="#L281" id="L281">
<i class="fa fa-link"></i>
281
</a>
<a class="diff-line-num" data-line-number="282" href="#L282" id="L282">
<i class="fa fa-link"></i>
282
</a>
<a class="diff-line-num" data-line-number="283" href="#L283" id="L283">
<i class="fa fa-link"></i>
283
</a>
<a class="diff-line-num" data-line-number="284" href="#L284" id="L284">
<i class="fa fa-link"></i>
284
</a>
<a class="diff-line-num" data-line-number="285" href="#L285" id="L285">
<i class="fa fa-link"></i>
285
</a>
<a class="diff-line-num" data-line-number="286" href="#L286" id="L286">
<i class="fa fa-link"></i>
286
</a>
<a class="diff-line-num" data-line-number="287" href="#L287" id="L287">
<i class="fa fa-link"></i>
287
</a>
<a class="diff-line-num" data-line-number="288" href="#L288" id="L288">
<i class="fa fa-link"></i>
288
</a>
<a class="diff-line-num" data-line-number="289" href="#L289" id="L289">
<i class="fa fa-link"></i>
289
</a>
<a class="diff-line-num" data-line-number="290" href="#L290" id="L290">
<i class="fa fa-link"></i>
290
</a>
<a class="diff-line-num" data-line-number="291" href="#L291" id="L291">
<i class="fa fa-link"></i>
291
</a>
<a class="diff-line-num" data-line-number="292" href="#L292" id="L292">
<i class="fa fa-link"></i>
292
</a>
<a class="diff-line-num" data-line-number="293" href="#L293" id="L293">
<i class="fa fa-link"></i>
293
</a>
<a class="diff-line-num" data-line-number="294" href="#L294" id="L294">
<i class="fa fa-link"></i>
294
</a>
<a class="diff-line-num" data-line-number="295" href="#L295" id="L295">
<i class="fa fa-link"></i>
295
</a>
<a class="diff-line-num" data-line-number="296" href="#L296" id="L296">
<i class="fa fa-link"></i>
296
</a>
<a class="diff-line-num" data-line-number="297" href="#L297" id="L297">
<i class="fa fa-link"></i>
297
</a>
<a class="diff-line-num" data-line-number="298" href="#L298" id="L298">
<i class="fa fa-link"></i>
298
</a>
<a class="diff-line-num" data-line-number="299" href="#L299" id="L299">
<i class="fa fa-link"></i>
299
</a>
<a class="diff-line-num" data-line-number="300" href="#L300" id="L300">
<i class="fa fa-link"></i>
300
</a>
<a class="diff-line-num" data-line-number="301" href="#L301" id="L301">
<i class="fa fa-link"></i>
301
</a>
<a class="diff-line-num" data-line-number="302" href="#L302" id="L302">
<i class="fa fa-link"></i>
302
</a>
<a class="diff-line-num" data-line-number="303" href="#L303" id="L303">
<i class="fa fa-link"></i>
303
</a>
<a class="diff-line-num" data-line-number="304" href="#L304" id="L304">
<i class="fa fa-link"></i>
304
</a>
<a class="diff-line-num" data-line-number="305" href="#L305" id="L305">
<i class="fa fa-link"></i>
305
</a>
<a class="diff-line-num" data-line-number="306" href="#L306" id="L306">
<i class="fa fa-link"></i>
306
</a>
<a class="diff-line-num" data-line-number="307" href="#L307" id="L307">
<i class="fa fa-link"></i>
307
</a>
<a class="diff-line-num" data-line-number="308" href="#L308" id="L308">
<i class="fa fa-link"></i>
308
</a>
<a class="diff-line-num" data-line-number="309" href="#L309" id="L309">
<i class="fa fa-link"></i>
309
</a>
<a class="diff-line-num" data-line-number="310" href="#L310" id="L310">
<i class="fa fa-link"></i>
310
</a>
<a class="diff-line-num" data-line-number="311" href="#L311" id="L311">
<i class="fa fa-link"></i>
311
</a>
<a class="diff-line-num" data-line-number="312" href="#L312" id="L312">
<i class="fa fa-link"></i>
312
</a>
<a class="diff-line-num" data-line-number="313" href="#L313" id="L313">
<i class="fa fa-link"></i>
313
</a>
<a class="diff-line-num" data-line-number="314" href="#L314" id="L314">
<i class="fa fa-link"></i>
314
</a>
<a class="diff-line-num" data-line-number="315" href="#L315" id="L315">
<i class="fa fa-link"></i>
315
</a>
<a class="diff-line-num" data-line-number="316" href="#L316" id="L316">
<i class="fa fa-link"></i>
316
</a>
<a class="diff-line-num" data-line-number="317" href="#L317" id="L317">
<i class="fa fa-link"></i>
317
</a>
<a class="diff-line-num" data-line-number="318" href="#L318" id="L318">
<i class="fa fa-link"></i>
318
</a>
<a class="diff-line-num" data-line-number="319" href="#L319" id="L319">
<i class="fa fa-link"></i>
319
</a>
<a class="diff-line-num" data-line-number="320" href="#L320" id="L320">
<i class="fa fa-link"></i>
320
</a>
<a class="diff-line-num" data-line-number="321" href="#L321" id="L321">
<i class="fa fa-link"></i>
321
</a>
<a class="diff-line-num" data-line-number="322" href="#L322" id="L322">
<i class="fa fa-link"></i>
322
</a>
<a class="diff-line-num" data-line-number="323" href="#L323" id="L323">
<i class="fa fa-link"></i>
323
</a>
<a class="diff-line-num" data-line-number="324" href="#L324" id="L324">
<i class="fa fa-link"></i>
324
</a>
<a class="diff-line-num" data-line-number="325" href="#L325" id="L325">
<i class="fa fa-link"></i>
325
</a>
<a class="diff-line-num" data-line-number="326" href="#L326" id="L326">
<i class="fa fa-link"></i>
326
</a>
<a class="diff-line-num" data-line-number="327" href="#L327" id="L327">
<i class="fa fa-link"></i>
327
</a>
<a class="diff-line-num" data-line-number="328" href="#L328" id="L328">
<i class="fa fa-link"></i>
328
</a>
<a class="diff-line-num" data-line-number="329" href="#L329" id="L329">
<i class="fa fa-link"></i>
329
</a>
<a class="diff-line-num" data-line-number="330" href="#L330" id="L330">
<i class="fa fa-link"></i>
330
</a>
<a class="diff-line-num" data-line-number="331" href="#L331" id="L331">
<i class="fa fa-link"></i>
331
</a>
<a class="diff-line-num" data-line-number="332" href="#L332" id="L332">
<i class="fa fa-link"></i>
332
</a>
<a class="diff-line-num" data-line-number="333" href="#L333" id="L333">
<i class="fa fa-link"></i>
333
</a>
<a class="diff-line-num" data-line-number="334" href="#L334" id="L334">
<i class="fa fa-link"></i>
334
</a>
<a class="diff-line-num" data-line-number="335" href="#L335" id="L335">
<i class="fa fa-link"></i>
335
</a>
<a class="diff-line-num" data-line-number="336" href="#L336" id="L336">
<i class="fa fa-link"></i>
336
</a>
<a class="diff-line-num" data-line-number="337" href="#L337" id="L337">
<i class="fa fa-link"></i>
337
</a>
<a class="diff-line-num" data-line-number="338" href="#L338" id="L338">
<i class="fa fa-link"></i>
338
</a>
<a class="diff-line-num" data-line-number="339" href="#L339" id="L339">
<i class="fa fa-link"></i>
339
</a>
<a class="diff-line-num" data-line-number="340" href="#L340" id="L340">
<i class="fa fa-link"></i>
340
</a>
<a class="diff-line-num" data-line-number="341" href="#L341" id="L341">
<i class="fa fa-link"></i>
341
</a>
<a class="diff-line-num" data-line-number="342" href="#L342" id="L342">
<i class="fa fa-link"></i>
342
</a>
<a class="diff-line-num" data-line-number="343" href="#L343" id="L343">
<i class="fa fa-link"></i>
343
</a>
<a class="diff-line-num" data-line-number="344" href="#L344" id="L344">
<i class="fa fa-link"></i>
344
</a>
<a class="diff-line-num" data-line-number="345" href="#L345" id="L345">
<i class="fa fa-link"></i>
345
</a>
<a class="diff-line-num" data-line-number="346" href="#L346" id="L346">
<i class="fa fa-link"></i>
346
</a>
<a class="diff-line-num" data-line-number="347" href="#L347" id="L347">
<i class="fa fa-link"></i>
347
</a>
<a class="diff-line-num" data-line-number="348" href="#L348" id="L348">
<i class="fa fa-link"></i>
348
</a>
<a class="diff-line-num" data-line-number="349" href="#L349" id="L349">
<i class="fa fa-link"></i>
349
</a>
<a class="diff-line-num" data-line-number="350" href="#L350" id="L350">
<i class="fa fa-link"></i>
350
</a>
<a class="diff-line-num" data-line-number="351" href="#L351" id="L351">
<i class="fa fa-link"></i>
351
</a>
<a class="diff-line-num" data-line-number="352" href="#L352" id="L352">
<i class="fa fa-link"></i>
352
</a>
<a class="diff-line-num" data-line-number="353" href="#L353" id="L353">
<i class="fa fa-link"></i>
353
</a>
<a class="diff-line-num" data-line-number="354" href="#L354" id="L354">
<i class="fa fa-link"></i>
354
</a>
<a class="diff-line-num" data-line-number="355" href="#L355" id="L355">
<i class="fa fa-link"></i>
355
</a>
<a class="diff-line-num" data-line-number="356" href="#L356" id="L356">
<i class="fa fa-link"></i>
356
</a>
<a class="diff-line-num" data-line-number="357" href="#L357" id="L357">
<i class="fa fa-link"></i>
357
</a>
<a class="diff-line-num" data-line-number="358" href="#L358" id="L358">
<i class="fa fa-link"></i>
358
</a>
<a class="diff-line-num" data-line-number="359" href="#L359" id="L359">
<i class="fa fa-link"></i>
359
</a>
<a class="diff-line-num" data-line-number="360" href="#L360" id="L360">
<i class="fa fa-link"></i>
360
</a>
<a class="diff-line-num" data-line-number="361" href="#L361" id="L361">
<i class="fa fa-link"></i>
361
</a>
<a class="diff-line-num" data-line-number="362" href="#L362" id="L362">
<i class="fa fa-link"></i>
362
</a>
<a class="diff-line-num" data-line-number="363" href="#L363" id="L363">
<i class="fa fa-link"></i>
363
</a>
<a class="diff-line-num" data-line-number="364" href="#L364" id="L364">
<i class="fa fa-link"></i>
364
</a>
<a class="diff-line-num" data-line-number="365" href="#L365" id="L365">
<i class="fa fa-link"></i>
365
</a>
<a class="diff-line-num" data-line-number="366" href="#L366" id="L366">
<i class="fa fa-link"></i>
366
</a>
<a class="diff-line-num" data-line-number="367" href="#L367" id="L367">
<i class="fa fa-link"></i>
367
</a>
<a class="diff-line-num" data-line-number="368" href="#L368" id="L368">
<i class="fa fa-link"></i>
368
</a>
<a class="diff-line-num" data-line-number="369" href="#L369" id="L369">
<i class="fa fa-link"></i>
369
</a>
<a class="diff-line-num" data-line-number="370" href="#L370" id="L370">
<i class="fa fa-link"></i>
370
</a>
<a class="diff-line-num" data-line-number="371" href="#L371" id="L371">
<i class="fa fa-link"></i>
371
</a>
<a class="diff-line-num" data-line-number="372" href="#L372" id="L372">
<i class="fa fa-link"></i>
372
</a>
<a class="diff-line-num" data-line-number="373" href="#L373" id="L373">
<i class="fa fa-link"></i>
373
</a>
<a class="diff-line-num" data-line-number="374" href="#L374" id="L374">
<i class="fa fa-link"></i>
374
</a>
<a class="diff-line-num" data-line-number="375" href="#L375" id="L375">
<i class="fa fa-link"></i>
375
</a>
<a class="diff-line-num" data-line-number="376" href="#L376" id="L376">
<i class="fa fa-link"></i>
376
</a>
<a class="diff-line-num" data-line-number="377" href="#L377" id="L377">
<i class="fa fa-link"></i>
377
</a>
<a class="diff-line-num" data-line-number="378" href="#L378" id="L378">
<i class="fa fa-link"></i>
378
</a>
<a class="diff-line-num" data-line-number="379" href="#L379" id="L379">
<i class="fa fa-link"></i>
379
</a>
<a class="diff-line-num" data-line-number="380" href="#L380" id="L380">
<i class="fa fa-link"></i>
380
</a>
<a class="diff-line-num" data-line-number="381" href="#L381" id="L381">
<i class="fa fa-link"></i>
381
</a>
<a class="diff-line-num" data-line-number="382" href="#L382" id="L382">
<i class="fa fa-link"></i>
382
</a>
<a class="diff-line-num" data-line-number="383" href="#L383" id="L383">
<i class="fa fa-link"></i>
383
</a>
<a class="diff-line-num" data-line-number="384" href="#L384" id="L384">
<i class="fa fa-link"></i>
384
</a>
<a class="diff-line-num" data-line-number="385" href="#L385" id="L385">
<i class="fa fa-link"></i>
385
</a>
<a class="diff-line-num" data-line-number="386" href="#L386" id="L386">
<i class="fa fa-link"></i>
386
</a>
<a class="diff-line-num" data-line-number="387" href="#L387" id="L387">
<i class="fa fa-link"></i>
387
</a>
<a class="diff-line-num" data-line-number="388" href="#L388" id="L388">
<i class="fa fa-link"></i>
388
</a>
<a class="diff-line-num" data-line-number="389" href="#L389" id="L389">
<i class="fa fa-link"></i>
389
</a>
<a class="diff-line-num" data-line-number="390" href="#L390" id="L390">
<i class="fa fa-link"></i>
390
</a>
<a class="diff-line-num" data-line-number="391" href="#L391" id="L391">
<i class="fa fa-link"></i>
391
</a>
<a class="diff-line-num" data-line-number="392" href="#L392" id="L392">
<i class="fa fa-link"></i>
392
</a>
<a class="diff-line-num" data-line-number="393" href="#L393" id="L393">
<i class="fa fa-link"></i>
393
</a>
<a class="diff-line-num" data-line-number="394" href="#L394" id="L394">
<i class="fa fa-link"></i>
394
</a>
<a class="diff-line-num" data-line-number="395" href="#L395" id="L395">
<i class="fa fa-link"></i>
395
</a>
<a class="diff-line-num" data-line-number="396" href="#L396" id="L396">
<i class="fa fa-link"></i>
396
</a>
<a class="diff-line-num" data-line-number="397" href="#L397" id="L397">
<i class="fa fa-link"></i>
397
</a>
<a class="diff-line-num" data-line-number="398" href="#L398" id="L398">
<i class="fa fa-link"></i>
398
</a>
<a class="diff-line-num" data-line-number="399" href="#L399" id="L399">
<i class="fa fa-link"></i>
399
</a>
<a class="diff-line-num" data-line-number="400" href="#L400" id="L400">
<i class="fa fa-link"></i>
400
</a>
<a class="diff-line-num" data-line-number="401" href="#L401" id="L401">
<i class="fa fa-link"></i>
401
</a>
<a class="diff-line-num" data-line-number="402" href="#L402" id="L402">
<i class="fa fa-link"></i>
402
</a>
<a class="diff-line-num" data-line-number="403" href="#L403" id="L403">
<i class="fa fa-link"></i>
403
</a>
<a class="diff-line-num" data-line-number="404" href="#L404" id="L404">
<i class="fa fa-link"></i>
404
</a>
<a class="diff-line-num" data-line-number="405" href="#L405" id="L405">
<i class="fa fa-link"></i>
405
</a>
<a class="diff-line-num" data-line-number="406" href="#L406" id="L406">
<i class="fa fa-link"></i>
406
</a>
<a class="diff-line-num" data-line-number="407" href="#L407" id="L407">
<i class="fa fa-link"></i>
407
</a>
<a class="diff-line-num" data-line-number="408" href="#L408" id="L408">
<i class="fa fa-link"></i>
408
</a>
<a class="diff-line-num" data-line-number="409" href="#L409" id="L409">
<i class="fa fa-link"></i>
409
</a>
<a class="diff-line-num" data-line-number="410" href="#L410" id="L410">
<i class="fa fa-link"></i>
410
</a>
<a class="diff-line-num" data-line-number="411" href="#L411" id="L411">
<i class="fa fa-link"></i>
411
</a>
<a class="diff-line-num" data-line-number="412" href="#L412" id="L412">
<i class="fa fa-link"></i>
412
</a>
<a class="diff-line-num" data-line-number="413" href="#L413" id="L413">
<i class="fa fa-link"></i>
413
</a>
<a class="diff-line-num" data-line-number="414" href="#L414" id="L414">
<i class="fa fa-link"></i>
414
</a>
<a class="diff-line-num" data-line-number="415" href="#L415" id="L415">
<i class="fa fa-link"></i>
415
</a>
<a class="diff-line-num" data-line-number="416" href="#L416" id="L416">
<i class="fa fa-link"></i>
416
</a>
<a class="diff-line-num" data-line-number="417" href="#L417" id="L417">
<i class="fa fa-link"></i>
417
</a>
<a class="diff-line-num" data-line-number="418" href="#L418" id="L418">
<i class="fa fa-link"></i>
418
</a>
<a class="diff-line-num" data-line-number="419" href="#L419" id="L419">
<i class="fa fa-link"></i>
419
</a>
<a class="diff-line-num" data-line-number="420" href="#L420" id="L420">
<i class="fa fa-link"></i>
420
</a>
<a class="diff-line-num" data-line-number="421" href="#L421" id="L421">
<i class="fa fa-link"></i>
421
</a>
<a class="diff-line-num" data-line-number="422" href="#L422" id="L422">
<i class="fa fa-link"></i>
422
</a>
<a class="diff-line-num" data-line-number="423" href="#L423" id="L423">
<i class="fa fa-link"></i>
423
</a>
<a class="diff-line-num" data-line-number="424" href="#L424" id="L424">
<i class="fa fa-link"></i>
424
</a>
<a class="diff-line-num" data-line-number="425" href="#L425" id="L425">
<i class="fa fa-link"></i>
425
</a>
<a class="diff-line-num" data-line-number="426" href="#L426" id="L426">
<i class="fa fa-link"></i>
426
</a>
<a class="diff-line-num" data-line-number="427" href="#L427" id="L427">
<i class="fa fa-link"></i>
427
</a>
<a class="diff-line-num" data-line-number="428" href="#L428" id="L428">
<i class="fa fa-link"></i>
428
</a>
<a class="diff-line-num" data-line-number="429" href="#L429" id="L429">
<i class="fa fa-link"></i>
429
</a>
<a class="diff-line-num" data-line-number="430" href="#L430" id="L430">
<i class="fa fa-link"></i>
430
</a>
<a class="diff-line-num" data-line-number="431" href="#L431" id="L431">
<i class="fa fa-link"></i>
431
</a>
<a class="diff-line-num" data-line-number="432" href="#L432" id="L432">
<i class="fa fa-link"></i>
432
</a>
<a class="diff-line-num" data-line-number="433" href="#L433" id="L433">
<i class="fa fa-link"></i>
433
</a>
<a class="diff-line-num" data-line-number="434" href="#L434" id="L434">
<i class="fa fa-link"></i>
434
</a>
<a class="diff-line-num" data-line-number="435" href="#L435" id="L435">
<i class="fa fa-link"></i>
435
</a>
<a class="diff-line-num" data-line-number="436" href="#L436" id="L436">
<i class="fa fa-link"></i>
436
</a>
<a class="diff-line-num" data-line-number="437" href="#L437" id="L437">
<i class="fa fa-link"></i>
437
</a>
<a class="diff-line-num" data-line-number="438" href="#L438" id="L438">
<i class="fa fa-link"></i>
438
</a>
<a class="diff-line-num" data-line-number="439" href="#L439" id="L439">
<i class="fa fa-link"></i>
439
</a>
<a class="diff-line-num" data-line-number="440" href="#L440" id="L440">
<i class="fa fa-link"></i>
440
</a>
<a class="diff-line-num" data-line-number="441" href="#L441" id="L441">
<i class="fa fa-link"></i>
441
</a>
<a class="diff-line-num" data-line-number="442" href="#L442" id="L442">
<i class="fa fa-link"></i>
442
</a>
<a class="diff-line-num" data-line-number="443" href="#L443" id="L443">
<i class="fa fa-link"></i>
443
</a>
<a class="diff-line-num" data-line-number="444" href="#L444" id="L444">
<i class="fa fa-link"></i>
444
</a>
<a class="diff-line-num" data-line-number="445" href="#L445" id="L445">
<i class="fa fa-link"></i>
445
</a>
<a class="diff-line-num" data-line-number="446" href="#L446" id="L446">
<i class="fa fa-link"></i>
446
</a>
<a class="diff-line-num" data-line-number="447" href="#L447" id="L447">
<i class="fa fa-link"></i>
447
</a>
<a class="diff-line-num" data-line-number="448" href="#L448" id="L448">
<i class="fa fa-link"></i>
448
</a>
<a class="diff-line-num" data-line-number="449" href="#L449" id="L449">
<i class="fa fa-link"></i>
449
</a>
<a class="diff-line-num" data-line-number="450" href="#L450" id="L450">
<i class="fa fa-link"></i>
450
</a>
<a class="diff-line-num" data-line-number="451" href="#L451" id="L451">
<i class="fa fa-link"></i>
451
</a>
<a class="diff-line-num" data-line-number="452" href="#L452" id="L452">
<i class="fa fa-link"></i>
452
</a>
<a class="diff-line-num" data-line-number="453" href="#L453" id="L453">
<i class="fa fa-link"></i>
453
</a>
<a class="diff-line-num" data-line-number="454" href="#L454" id="L454">
<i class="fa fa-link"></i>
454
</a>
<a class="diff-line-num" data-line-number="455" href="#L455" id="L455">
<i class="fa fa-link"></i>
455
</a>
<a class="diff-line-num" data-line-number="456" href="#L456" id="L456">
<i class="fa fa-link"></i>
456
</a>
<a class="diff-line-num" data-line-number="457" href="#L457" id="L457">
<i class="fa fa-link"></i>
457
</a>
<a class="diff-line-num" data-line-number="458" href="#L458" id="L458">
<i class="fa fa-link"></i>
458
</a>
<a class="diff-line-num" data-line-number="459" href="#L459" id="L459">
<i class="fa fa-link"></i>
459
</a>
<a class="diff-line-num" data-line-number="460" href="#L460" id="L460">
<i class="fa fa-link"></i>
460
</a>
<a class="diff-line-num" data-line-number="461" href="#L461" id="L461">
<i class="fa fa-link"></i>
461
</a>
<a class="diff-line-num" data-line-number="462" href="#L462" id="L462">
<i class="fa fa-link"></i>
462
</a>
<a class="diff-line-num" data-line-number="463" href="#L463" id="L463">
<i class="fa fa-link"></i>
463
</a>
<a class="diff-line-num" data-line-number="464" href="#L464" id="L464">
<i class="fa fa-link"></i>
464
</a>
<a class="diff-line-num" data-line-number="465" href="#L465" id="L465">
<i class="fa fa-link"></i>
465
</a>
<a class="diff-line-num" data-line-number="466" href="#L466" id="L466">
<i class="fa fa-link"></i>
466
</a>
<a class="diff-line-num" data-line-number="467" href="#L467" id="L467">
<i class="fa fa-link"></i>
467
</a>
<a class="diff-line-num" data-line-number="468" href="#L468" id="L468">
<i class="fa fa-link"></i>
468
</a>
<a class="diff-line-num" data-line-number="469" href="#L469" id="L469">
<i class="fa fa-link"></i>
469
</a>
<a class="diff-line-num" data-line-number="470" href="#L470" id="L470">
<i class="fa fa-link"></i>
470
</a>
<a class="diff-line-num" data-line-number="471" href="#L471" id="L471">
<i class="fa fa-link"></i>
471
</a>
<a class="diff-line-num" data-line-number="472" href="#L472" id="L472">
<i class="fa fa-link"></i>
472
</a>
<a class="diff-line-num" data-line-number="473" href="#L473" id="L473">
<i class="fa fa-link"></i>
473
</a>
<a class="diff-line-num" data-line-number="474" href="#L474" id="L474">
<i class="fa fa-link"></i>
474
</a>
<a class="diff-line-num" data-line-number="475" href="#L475" id="L475">
<i class="fa fa-link"></i>
475
</a>
<a class="diff-line-num" data-line-number="476" href="#L476" id="L476">
<i class="fa fa-link"></i>
476
</a>
<a class="diff-line-num" data-line-number="477" href="#L477" id="L477">
<i class="fa fa-link"></i>
477
</a>
<a class="diff-line-num" data-line-number="478" href="#L478" id="L478">
<i class="fa fa-link"></i>
478
</a>
<a class="diff-line-num" data-line-number="479" href="#L479" id="L479">
<i class="fa fa-link"></i>
479
</a>
<a class="diff-line-num" data-line-number="480" href="#L480" id="L480">
<i class="fa fa-link"></i>
480
</a>
<a class="diff-line-num" data-line-number="481" href="#L481" id="L481">
<i class="fa fa-link"></i>
481
</a>
<a class="diff-line-num" data-line-number="482" href="#L482" id="L482">
<i class="fa fa-link"></i>
482
</a>
<a class="diff-line-num" data-line-number="483" href="#L483" id="L483">
<i class="fa fa-link"></i>
483
</a>
<a class="diff-line-num" data-line-number="484" href="#L484" id="L484">
<i class="fa fa-link"></i>
484
</a>
<a class="diff-line-num" data-line-number="485" href="#L485" id="L485">
<i class="fa fa-link"></i>
485
</a>
<a class="diff-line-num" data-line-number="486" href="#L486" id="L486">
<i class="fa fa-link"></i>
486
</a>
<a class="diff-line-num" data-line-number="487" href="#L487" id="L487">
<i class="fa fa-link"></i>
487
</a>
<a class="diff-line-num" data-line-number="488" href="#L488" id="L488">
<i class="fa fa-link"></i>
488
</a>
<a class="diff-line-num" data-line-number="489" href="#L489" id="L489">
<i class="fa fa-link"></i>
489
</a>
<a class="diff-line-num" data-line-number="490" href="#L490" id="L490">
<i class="fa fa-link"></i>
490
</a>
<a class="diff-line-num" data-line-number="491" href="#L491" id="L491">
<i class="fa fa-link"></i>
491
</a>
<a class="diff-line-num" data-line-number="492" href="#L492" id="L492">
<i class="fa fa-link"></i>
492
</a>
<a class="diff-line-num" data-line-number="493" href="#L493" id="L493">
<i class="fa fa-link"></i>
493
</a>
<a class="diff-line-num" data-line-number="494" href="#L494" id="L494">
<i class="fa fa-link"></i>
494
</a>
<a class="diff-line-num" data-line-number="495" href="#L495" id="L495">
<i class="fa fa-link"></i>
495
</a>
<a class="diff-line-num" data-line-number="496" href="#L496" id="L496">
<i class="fa fa-link"></i>
496
</a>
<a class="diff-line-num" data-line-number="497" href="#L497" id="L497">
<i class="fa fa-link"></i>
497
</a>
<a class="diff-line-num" data-line-number="498" href="#L498" id="L498">
<i class="fa fa-link"></i>
498
</a>
<a class="diff-line-num" data-line-number="499" href="#L499" id="L499">
<i class="fa fa-link"></i>
499
</a>
<a class="diff-line-num" data-line-number="500" href="#L500" id="L500">
<i class="fa fa-link"></i>
500
</a>
<a class="diff-line-num" data-line-number="501" href="#L501" id="L501">
<i class="fa fa-link"></i>
501
</a>
<a class="diff-line-num" data-line-number="502" href="#L502" id="L502">
<i class="fa fa-link"></i>
502
</a>
<a class="diff-line-num" data-line-number="503" href="#L503" id="L503">
<i class="fa fa-link"></i>
503
</a>
<a class="diff-line-num" data-line-number="504" href="#L504" id="L504">
<i class="fa fa-link"></i>
504
</a>
<a class="diff-line-num" data-line-number="505" href="#L505" id="L505">
<i class="fa fa-link"></i>
505
</a>
<a class="diff-line-num" data-line-number="506" href="#L506" id="L506">
<i class="fa fa-link"></i>
506
</a>
<a class="diff-line-num" data-line-number="507" href="#L507" id="L507">
<i class="fa fa-link"></i>
507
</a>
<a class="diff-line-num" data-line-number="508" href="#L508" id="L508">
<i class="fa fa-link"></i>
508
</a>
<a class="diff-line-num" data-line-number="509" href="#L509" id="L509">
<i class="fa fa-link"></i>
509
</a>
<a class="diff-line-num" data-line-number="510" href="#L510" id="L510">
<i class="fa fa-link"></i>
510
</a>
<a class="diff-line-num" data-line-number="511" href="#L511" id="L511">
<i class="fa fa-link"></i>
511
</a>
<a class="diff-line-num" data-line-number="512" href="#L512" id="L512">
<i class="fa fa-link"></i>
512
</a>
<a class="diff-line-num" data-line-number="513" href="#L513" id="L513">
<i class="fa fa-link"></i>
513
</a>
<a class="diff-line-num" data-line-number="514" href="#L514" id="L514">
<i class="fa fa-link"></i>
514
</a>
<a class="diff-line-num" data-line-number="515" href="#L515" id="L515">
<i class="fa fa-link"></i>
515
</a>
<a class="diff-line-num" data-line-number="516" href="#L516" id="L516">
<i class="fa fa-link"></i>
516
</a>
<a class="diff-line-num" data-line-number="517" href="#L517" id="L517">
<i class="fa fa-link"></i>
517
</a>
<a class="diff-line-num" data-line-number="518" href="#L518" id="L518">
<i class="fa fa-link"></i>
518
</a>
<a class="diff-line-num" data-line-number="519" href="#L519" id="L519">
<i class="fa fa-link"></i>
519
</a>
<a class="diff-line-num" data-line-number="520" href="#L520" id="L520">
<i class="fa fa-link"></i>
520
</a>
<a class="diff-line-num" data-line-number="521" href="#L521" id="L521">
<i class="fa fa-link"></i>
521
</a>
<a class="diff-line-num" data-line-number="522" href="#L522" id="L522">
<i class="fa fa-link"></i>
522
</a>
<a class="diff-line-num" data-line-number="523" href="#L523" id="L523">
<i class="fa fa-link"></i>
523
</a>
<a class="diff-line-num" data-line-number="524" href="#L524" id="L524">
<i class="fa fa-link"></i>
524
</a>
<a class="diff-line-num" data-line-number="525" href="#L525" id="L525">
<i class="fa fa-link"></i>
525
</a>
<a class="diff-line-num" data-line-number="526" href="#L526" id="L526">
<i class="fa fa-link"></i>
526
</a>
<a class="diff-line-num" data-line-number="527" href="#L527" id="L527">
<i class="fa fa-link"></i>
527
</a>
<a class="diff-line-num" data-line-number="528" href="#L528" id="L528">
<i class="fa fa-link"></i>
528
</a>
<a class="diff-line-num" data-line-number="529" href="#L529" id="L529">
<i class="fa fa-link"></i>
529
</a>
<a class="diff-line-num" data-line-number="530" href="#L530" id="L530">
<i class="fa fa-link"></i>
530
</a>
<a class="diff-line-num" data-line-number="531" href="#L531" id="L531">
<i class="fa fa-link"></i>
531
</a>
<a class="diff-line-num" data-line-number="532" href="#L532" id="L532">
<i class="fa fa-link"></i>
532
</a>
<a class="diff-line-num" data-line-number="533" href="#L533" id="L533">
<i class="fa fa-link"></i>
533
</a>
<a class="diff-line-num" data-line-number="534" href="#L534" id="L534">
<i class="fa fa-link"></i>
534
</a>
<a class="diff-line-num" data-line-number="535" href="#L535" id="L535">
<i class="fa fa-link"></i>
535
</a>
<a class="diff-line-num" data-line-number="536" href="#L536" id="L536">
<i class="fa fa-link"></i>
536
</a>
<a class="diff-line-num" data-line-number="537" href="#L537" id="L537">
<i class="fa fa-link"></i>
537
</a>
<a class="diff-line-num" data-line-number="538" href="#L538" id="L538">
<i class="fa fa-link"></i>
538
</a>
<a class="diff-line-num" data-line-number="539" href="#L539" id="L539">
<i class="fa fa-link"></i>
539
</a>
<a class="diff-line-num" data-line-number="540" href="#L540" id="L540">
<i class="fa fa-link"></i>
540
</a>
<a class="diff-line-num" data-line-number="541" href="#L541" id="L541">
<i class="fa fa-link"></i>
541
</a>
<a class="diff-line-num" data-line-number="542" href="#L542" id="L542">
<i class="fa fa-link"></i>
542
</a>
<a class="diff-line-num" data-line-number="543" href="#L543" id="L543">
<i class="fa fa-link"></i>
543
</a>
<a class="diff-line-num" data-line-number="544" href="#L544" id="L544">
<i class="fa fa-link"></i>
544
</a>
<a class="diff-line-num" data-line-number="545" href="#L545" id="L545">
<i class="fa fa-link"></i>
545
</a>
<a class="diff-line-num" data-line-number="546" href="#L546" id="L546">
<i class="fa fa-link"></i>
546
</a>
<a class="diff-line-num" data-line-number="547" href="#L547" id="L547">
<i class="fa fa-link"></i>
547
</a>
<a class="diff-line-num" data-line-number="548" href="#L548" id="L548">
<i class="fa fa-link"></i>
548
</a>
<a class="diff-line-num" data-line-number="549" href="#L549" id="L549">
<i class="fa fa-link"></i>
549
</a>
<a class="diff-line-num" data-line-number="550" href="#L550" id="L550">
<i class="fa fa-link"></i>
550
</a>
<a class="diff-line-num" data-line-number="551" href="#L551" id="L551">
<i class="fa fa-link"></i>
551
</a>
<a class="diff-line-num" data-line-number="552" href="#L552" id="L552">
<i class="fa fa-link"></i>
552
</a>
<a class="diff-line-num" data-line-number="553" href="#L553" id="L553">
<i class="fa fa-link"></i>
553
</a>
<a class="diff-line-num" data-line-number="554" href="#L554" id="L554">
<i class="fa fa-link"></i>
554
</a>
<a class="diff-line-num" data-line-number="555" href="#L555" id="L555">
<i class="fa fa-link"></i>
555
</a>
<a class="diff-line-num" data-line-number="556" href="#L556" id="L556">
<i class="fa fa-link"></i>
556
</a>
<a class="diff-line-num" data-line-number="557" href="#L557" id="L557">
<i class="fa fa-link"></i>
557
</a>
<a class="diff-line-num" data-line-number="558" href="#L558" id="L558">
<i class="fa fa-link"></i>
558
</a>
<a class="diff-line-num" data-line-number="559" href="#L559" id="L559">
<i class="fa fa-link"></i>
559
</a>
<a class="diff-line-num" data-line-number="560" href="#L560" id="L560">
<i class="fa fa-link"></i>
560
</a>
<a class="diff-line-num" data-line-number="561" href="#L561" id="L561">
<i class="fa fa-link"></i>
561
</a>
<a class="diff-line-num" data-line-number="562" href="#L562" id="L562">
<i class="fa fa-link"></i>
562
</a>
<a class="diff-line-num" data-line-number="563" href="#L563" id="L563">
<i class="fa fa-link"></i>
563
</a>
<a class="diff-line-num" data-line-number="564" href="#L564" id="L564">
<i class="fa fa-link"></i>
564
</a>
<a class="diff-line-num" data-line-number="565" href="#L565" id="L565">
<i class="fa fa-link"></i>
565
</a>
<a class="diff-line-num" data-line-number="566" href="#L566" id="L566">
<i class="fa fa-link"></i>
566
</a>
<a class="diff-line-num" data-line-number="567" href="#L567" id="L567">
<i class="fa fa-link"></i>
567
</a>
<a class="diff-line-num" data-line-number="568" href="#L568" id="L568">
<i class="fa fa-link"></i>
568
</a>
<a class="diff-line-num" data-line-number="569" href="#L569" id="L569">
<i class="fa fa-link"></i>
569
</a>
<a class="diff-line-num" data-line-number="570" href="#L570" id="L570">
<i class="fa fa-link"></i>
570
</a>
<a class="diff-line-num" data-line-number="571" href="#L571" id="L571">
<i class="fa fa-link"></i>
571
</a>
<a class="diff-line-num" data-line-number="572" href="#L572" id="L572">
<i class="fa fa-link"></i>
572
</a>
<a class="diff-line-num" data-line-number="573" href="#L573" id="L573">
<i class="fa fa-link"></i>
573
</a>
<a class="diff-line-num" data-line-number="574" href="#L574" id="L574">
<i class="fa fa-link"></i>
574
</a>
<a class="diff-line-num" data-line-number="575" href="#L575" id="L575">
<i class="fa fa-link"></i>
575
</a>
<a class="diff-line-num" data-line-number="576" href="#L576" id="L576">
<i class="fa fa-link"></i>
576
</a>
<a class="diff-line-num" data-line-number="577" href="#L577" id="L577">
<i class="fa fa-link"></i>
577
</a>
<a class="diff-line-num" data-line-number="578" href="#L578" id="L578">
<i class="fa fa-link"></i>
578
</a>
<a class="diff-line-num" data-line-number="579" href="#L579" id="L579">
<i class="fa fa-link"></i>
579
</a>
<a class="diff-line-num" data-line-number="580" href="#L580" id="L580">
<i class="fa fa-link"></i>
580
</a>
<a class="diff-line-num" data-line-number="581" href="#L581" id="L581">
<i class="fa fa-link"></i>
581
</a>
<a class="diff-line-num" data-line-number="582" href="#L582" id="L582">
<i class="fa fa-link"></i>
582
</a>
<a class="diff-line-num" data-line-number="583" href="#L583" id="L583">
<i class="fa fa-link"></i>
583
</a>
<a class="diff-line-num" data-line-number="584" href="#L584" id="L584">
<i class="fa fa-link"></i>
584
</a>
<a class="diff-line-num" data-line-number="585" href="#L585" id="L585">
<i class="fa fa-link"></i>
585
</a>
<a class="diff-line-num" data-line-number="586" href="#L586" id="L586">
<i class="fa fa-link"></i>
586
</a>
<a class="diff-line-num" data-line-number="587" href="#L587" id="L587">
<i class="fa fa-link"></i>
587
</a>
<a class="diff-line-num" data-line-number="588" href="#L588" id="L588">
<i class="fa fa-link"></i>
588
</a>
<a class="diff-line-num" data-line-number="589" href="#L589" id="L589">
<i class="fa fa-link"></i>
589
</a>
<a class="diff-line-num" data-line-number="590" href="#L590" id="L590">
<i class="fa fa-link"></i>
590
</a>
<a class="diff-line-num" data-line-number="591" href="#L591" id="L591">
<i class="fa fa-link"></i>
591
</a>
<a class="diff-line-num" data-line-number="592" href="#L592" id="L592">
<i class="fa fa-link"></i>
592
</a>
<a class="diff-line-num" data-line-number="593" href="#L593" id="L593">
<i class="fa fa-link"></i>
593
</a>
<a class="diff-line-num" data-line-number="594" href="#L594" id="L594">
<i class="fa fa-link"></i>
594
</a>
<a class="diff-line-num" data-line-number="595" href="#L595" id="L595">
<i class="fa fa-link"></i>
595
</a>
<a class="diff-line-num" data-line-number="596" href="#L596" id="L596">
<i class="fa fa-link"></i>
596
</a>
<a class="diff-line-num" data-line-number="597" href="#L597" id="L597">
<i class="fa fa-link"></i>
597
</a>
<a class="diff-line-num" data-line-number="598" href="#L598" id="L598">
<i class="fa fa-link"></i>
598
</a>
<a class="diff-line-num" data-line-number="599" href="#L599" id="L599">
<i class="fa fa-link"></i>
599
</a>
<a class="diff-line-num" data-line-number="600" href="#L600" id="L600">
<i class="fa fa-link"></i>
600
</a>
<a class="diff-line-num" data-line-number="601" href="#L601" id="L601">
<i class="fa fa-link"></i>
601
</a>
<a class="diff-line-num" data-line-number="602" href="#L602" id="L602">
<i class="fa fa-link"></i>
602
</a>
<a class="diff-line-num" data-line-number="603" href="#L603" id="L603">
<i class="fa fa-link"></i>
603
</a>
<a class="diff-line-num" data-line-number="604" href="#L604" id="L604">
<i class="fa fa-link"></i>
604
</a>
<a class="diff-line-num" data-line-number="605" href="#L605" id="L605">
<i class="fa fa-link"></i>
605
</a>
<a class="diff-line-num" data-line-number="606" href="#L606" id="L606">
<i class="fa fa-link"></i>
606
</a>
<a class="diff-line-num" data-line-number="607" href="#L607" id="L607">
<i class="fa fa-link"></i>
607
</a>
<a class="diff-line-num" data-line-number="608" href="#L608" id="L608">
<i class="fa fa-link"></i>
608
</a>
<a class="diff-line-num" data-line-number="609" href="#L609" id="L609">
<i class="fa fa-link"></i>
609
</a>
<a class="diff-line-num" data-line-number="610" href="#L610" id="L610">
<i class="fa fa-link"></i>
610
</a>
<a class="diff-line-num" data-line-number="611" href="#L611" id="L611">
<i class="fa fa-link"></i>
611
</a>
<a class="diff-line-num" data-line-number="612" href="#L612" id="L612">
<i class="fa fa-link"></i>
612
</a>
<a class="diff-line-num" data-line-number="613" href="#L613" id="L613">
<i class="fa fa-link"></i>
613
</a>
<a class="diff-line-num" data-line-number="614" href="#L614" id="L614">
<i class="fa fa-link"></i>
614
</a>
<a class="diff-line-num" data-line-number="615" href="#L615" id="L615">
<i class="fa fa-link"></i>
615
</a>
<a class="diff-line-num" data-line-number="616" href="#L616" id="L616">
<i class="fa fa-link"></i>
616
</a>
<a class="diff-line-num" data-line-number="617" href="#L617" id="L617">
<i class="fa fa-link"></i>
617
</a>
<a class="diff-line-num" data-line-number="618" href="#L618" id="L618">
<i class="fa fa-link"></i>
618
</a>
<a class="diff-line-num" data-line-number="619" href="#L619" id="L619">
<i class="fa fa-link"></i>
619
</a>
<a class="diff-line-num" data-line-number="620" href="#L620" id="L620">
<i class="fa fa-link"></i>
620
</a>
<a class="diff-line-num" data-line-number="621" href="#L621" id="L621">
<i class="fa fa-link"></i>
621
</a>
<a class="diff-line-num" data-line-number="622" href="#L622" id="L622">
<i class="fa fa-link"></i>
622
</a>
<a class="diff-line-num" data-line-number="623" href="#L623" id="L623">
<i class="fa fa-link"></i>
623
</a>
<a class="diff-line-num" data-line-number="624" href="#L624" id="L624">
<i class="fa fa-link"></i>
624
</a>
<a class="diff-line-num" data-line-number="625" href="#L625" id="L625">
<i class="fa fa-link"></i>
625
</a>
<a class="diff-line-num" data-line-number="626" href="#L626" id="L626">
<i class="fa fa-link"></i>
626
</a>
<a class="diff-line-num" data-line-number="627" href="#L627" id="L627">
<i class="fa fa-link"></i>
627
</a>
<a class="diff-line-num" data-line-number="628" href="#L628" id="L628">
<i class="fa fa-link"></i>
628
</a>
<a class="diff-line-num" data-line-number="629" href="#L629" id="L629">
<i class="fa fa-link"></i>
629
</a>
<a class="diff-line-num" data-line-number="630" href="#L630" id="L630">
<i class="fa fa-link"></i>
630
</a>
<a class="diff-line-num" data-line-number="631" href="#L631" id="L631">
<i class="fa fa-link"></i>
631
</a>
<a class="diff-line-num" data-line-number="632" href="#L632" id="L632">
<i class="fa fa-link"></i>
632
</a>
<a class="diff-line-num" data-line-number="633" href="#L633" id="L633">
<i class="fa fa-link"></i>
633
</a>
<a class="diff-line-num" data-line-number="634" href="#L634" id="L634">
<i class="fa fa-link"></i>
634
</a>
<a class="diff-line-num" data-line-number="635" href="#L635" id="L635">
<i class="fa fa-link"></i>
635
</a>
<a class="diff-line-num" data-line-number="636" href="#L636" id="L636">
<i class="fa fa-link"></i>
636
</a>
<a class="diff-line-num" data-line-number="637" href="#L637" id="L637">
<i class="fa fa-link"></i>
637
</a>
<a class="diff-line-num" data-line-number="638" href="#L638" id="L638">
<i class="fa fa-link"></i>
638
</a>
<a class="diff-line-num" data-line-number="639" href="#L639" id="L639">
<i class="fa fa-link"></i>
639
</a>
<a class="diff-line-num" data-line-number="640" href="#L640" id="L640">
<i class="fa fa-link"></i>
640
</a>
<a class="diff-line-num" data-line-number="641" href="#L641" id="L641">
<i class="fa fa-link"></i>
641
</a>
<a class="diff-line-num" data-line-number="642" href="#L642" id="L642">
<i class="fa fa-link"></i>
642
</a>
<a class="diff-line-num" data-line-number="643" href="#L643" id="L643">
<i class="fa fa-link"></i>
643
</a>
<a class="diff-line-num" data-line-number="644" href="#L644" id="L644">
<i class="fa fa-link"></i>
644
</a>
<a class="diff-line-num" data-line-number="645" href="#L645" id="L645">
<i class="fa fa-link"></i>
645
</a>
<a class="diff-line-num" data-line-number="646" href="#L646" id="L646">
<i class="fa fa-link"></i>
646
</a>
<a class="diff-line-num" data-line-number="647" href="#L647" id="L647">
<i class="fa fa-link"></i>
647
</a>
<a class="diff-line-num" data-line-number="648" href="#L648" id="L648">
<i class="fa fa-link"></i>
648
</a>
<a class="diff-line-num" data-line-number="649" href="#L649" id="L649">
<i class="fa fa-link"></i>
649
</a>
<a class="diff-line-num" data-line-number="650" href="#L650" id="L650">
<i class="fa fa-link"></i>
650
</a>
<a class="diff-line-num" data-line-number="651" href="#L651" id="L651">
<i class="fa fa-link"></i>
651
</a>
<a class="diff-line-num" data-line-number="652" href="#L652" id="L652">
<i class="fa fa-link"></i>
652
</a>
<a class="diff-line-num" data-line-number="653" href="#L653" id="L653">
<i class="fa fa-link"></i>
653
</a>
<a class="diff-line-num" data-line-number="654" href="#L654" id="L654">
<i class="fa fa-link"></i>
654
</a>
<a class="diff-line-num" data-line-number="655" href="#L655" id="L655">
<i class="fa fa-link"></i>
655
</a>
<a class="diff-line-num" data-line-number="656" href="#L656" id="L656">
<i class="fa fa-link"></i>
656
</a>
<a class="diff-line-num" data-line-number="657" href="#L657" id="L657">
<i class="fa fa-link"></i>
657
</a>
<a class="diff-line-num" data-line-number="658" href="#L658" id="L658">
<i class="fa fa-link"></i>
658
</a>
<a class="diff-line-num" data-line-number="659" href="#L659" id="L659">
<i class="fa fa-link"></i>
659
</a>
<a class="diff-line-num" data-line-number="660" href="#L660" id="L660">
<i class="fa fa-link"></i>
660
</a>
<a class="diff-line-num" data-line-number="661" href="#L661" id="L661">
<i class="fa fa-link"></i>
661
</a>
<a class="diff-line-num" data-line-number="662" href="#L662" id="L662">
<i class="fa fa-link"></i>
662
</a>
<a class="diff-line-num" data-line-number="663" href="#L663" id="L663">
<i class="fa fa-link"></i>
663
</a>
<a class="diff-line-num" data-line-number="664" href="#L664" id="L664">
<i class="fa fa-link"></i>
664
</a>
<a class="diff-line-num" data-line-number="665" href="#L665" id="L665">
<i class="fa fa-link"></i>
665
</a>
<a class="diff-line-num" data-line-number="666" href="#L666" id="L666">
<i class="fa fa-link"></i>
666
</a>
<a class="diff-line-num" data-line-number="667" href="#L667" id="L667">
<i class="fa fa-link"></i>
667
</a>
<a class="diff-line-num" data-line-number="668" href="#L668" id="L668">
<i class="fa fa-link"></i>
668
</a>
<a class="diff-line-num" data-line-number="669" href="#L669" id="L669">
<i class="fa fa-link"></i>
669
</a>
<a class="diff-line-num" data-line-number="670" href="#L670" id="L670">
<i class="fa fa-link"></i>
670
</a>
<a class="diff-line-num" data-line-number="671" href="#L671" id="L671">
<i class="fa fa-link"></i>
671
</a>
<a class="diff-line-num" data-line-number="672" href="#L672" id="L672">
<i class="fa fa-link"></i>
672
</a>
<a class="diff-line-num" data-line-number="673" href="#L673" id="L673">
<i class="fa fa-link"></i>
673
</a>
<a class="diff-line-num" data-line-number="674" href="#L674" id="L674">
<i class="fa fa-link"></i>
674
</a>
<a class="diff-line-num" data-line-number="675" href="#L675" id="L675">
<i class="fa fa-link"></i>
675
</a>
<a class="diff-line-num" data-line-number="676" href="#L676" id="L676">
<i class="fa fa-link"></i>
676
</a>
<a class="diff-line-num" data-line-number="677" href="#L677" id="L677">
<i class="fa fa-link"></i>
677
</a>
<a class="diff-line-num" data-line-number="678" href="#L678" id="L678">
<i class="fa fa-link"></i>
678
</a>
<a class="diff-line-num" data-line-number="679" href="#L679" id="L679">
<i class="fa fa-link"></i>
679
</a>
<a class="diff-line-num" data-line-number="680" href="#L680" id="L680">
<i class="fa fa-link"></i>
680
</a>
<a class="diff-line-num" data-line-number="681" href="#L681" id="L681">
<i class="fa fa-link"></i>
681
</a>
<a class="diff-line-num" data-line-number="682" href="#L682" id="L682">
<i class="fa fa-link"></i>
682
</a>
<a class="diff-line-num" data-line-number="683" href="#L683" id="L683">
<i class="fa fa-link"></i>
683
</a>
<a class="diff-line-num" data-line-number="684" href="#L684" id="L684">
<i class="fa fa-link"></i>
684
</a>
<a class="diff-line-num" data-line-number="685" href="#L685" id="L685">
<i class="fa fa-link"></i>
685
</a>
<a class="diff-line-num" data-line-number="686" href="#L686" id="L686">
<i class="fa fa-link"></i>
686
</a>
<a class="diff-line-num" data-line-number="687" href="#L687" id="L687">
<i class="fa fa-link"></i>
687
</a>
<a class="diff-line-num" data-line-number="688" href="#L688" id="L688">
<i class="fa fa-link"></i>
688
</a>
<a class="diff-line-num" data-line-number="689" href="#L689" id="L689">
<i class="fa fa-link"></i>
689
</a>
<a class="diff-line-num" data-line-number="690" href="#L690" id="L690">
<i class="fa fa-link"></i>
690
</a>
<a class="diff-line-num" data-line-number="691" href="#L691" id="L691">
<i class="fa fa-link"></i>
691
</a>
<a class="diff-line-num" data-line-number="692" href="#L692" id="L692">
<i class="fa fa-link"></i>
692
</a>
<a class="diff-line-num" data-line-number="693" href="#L693" id="L693">
<i class="fa fa-link"></i>
693
</a>
<a class="diff-line-num" data-line-number="694" href="#L694" id="L694">
<i class="fa fa-link"></i>
694
</a>
<a class="diff-line-num" data-line-number="695" href="#L695" id="L695">
<i class="fa fa-link"></i>
695
</a>
<a class="diff-line-num" data-line-number="696" href="#L696" id="L696">
<i class="fa fa-link"></i>
696
</a>
<a class="diff-line-num" data-line-number="697" href="#L697" id="L697">
<i class="fa fa-link"></i>
697
</a>
<a class="diff-line-num" data-line-number="698" href="#L698" id="L698">
<i class="fa fa-link"></i>
698
</a>
<a class="diff-line-num" data-line-number="699" href="#L699" id="L699">
<i class="fa fa-link"></i>
699
</a>
<a class="diff-line-num" data-line-number="700" href="#L700" id="L700">
<i class="fa fa-link"></i>
700
</a>
<a class="diff-line-num" data-line-number="701" href="#L701" id="L701">
<i class="fa fa-link"></i>
701
</a>
<a class="diff-line-num" data-line-number="702" href="#L702" id="L702">
<i class="fa fa-link"></i>
702
</a>
<a class="diff-line-num" data-line-number="703" href="#L703" id="L703">
<i class="fa fa-link"></i>
703
</a>
<a class="diff-line-num" data-line-number="704" href="#L704" id="L704">
<i class="fa fa-link"></i>
704
</a>
<a class="diff-line-num" data-line-number="705" href="#L705" id="L705">
<i class="fa fa-link"></i>
705
</a>
<a class="diff-line-num" data-line-number="706" href="#L706" id="L706">
<i class="fa fa-link"></i>
706
</a>
<a class="diff-line-num" data-line-number="707" href="#L707" id="L707">
<i class="fa fa-link"></i>
707
</a>
<a class="diff-line-num" data-line-number="708" href="#L708" id="L708">
<i class="fa fa-link"></i>
708
</a>
<a class="diff-line-num" data-line-number="709" href="#L709" id="L709">
<i class="fa fa-link"></i>
709
</a>
<a class="diff-line-num" data-line-number="710" href="#L710" id="L710">
<i class="fa fa-link"></i>
710
</a>
<a class="diff-line-num" data-line-number="711" href="#L711" id="L711">
<i class="fa fa-link"></i>
711
</a>
<a class="diff-line-num" data-line-number="712" href="#L712" id="L712">
<i class="fa fa-link"></i>
712
</a>
<a class="diff-line-num" data-line-number="713" href="#L713" id="L713">
<i class="fa fa-link"></i>
713
</a>
<a class="diff-line-num" data-line-number="714" href="#L714" id="L714">
<i class="fa fa-link"></i>
714
</a>
<a class="diff-line-num" data-line-number="715" href="#L715" id="L715">
<i class="fa fa-link"></i>
715
</a>
<a class="diff-line-num" data-line-number="716" href="#L716" id="L716">
<i class="fa fa-link"></i>
716
</a>
<a class="diff-line-num" data-line-number="717" href="#L717" id="L717">
<i class="fa fa-link"></i>
717
</a>
<a class="diff-line-num" data-line-number="718" href="#L718" id="L718">
<i class="fa fa-link"></i>
718
</a>
<a class="diff-line-num" data-line-number="719" href="#L719" id="L719">
<i class="fa fa-link"></i>
719
</a>
<a class="diff-line-num" data-line-number="720" href="#L720" id="L720">
<i class="fa fa-link"></i>
720
</a>
<a class="diff-line-num" data-line-number="721" href="#L721" id="L721">
<i class="fa fa-link"></i>
721
</a>
<a class="diff-line-num" data-line-number="722" href="#L722" id="L722">
<i class="fa fa-link"></i>
722
</a>
<a class="diff-line-num" data-line-number="723" href="#L723" id="L723">
<i class="fa fa-link"></i>
723
</a>
<a class="diff-line-num" data-line-number="724" href="#L724" id="L724">
<i class="fa fa-link"></i>
724
</a>
<a class="diff-line-num" data-line-number="725" href="#L725" id="L725">
<i class="fa fa-link"></i>
725
</a>
<a class="diff-line-num" data-line-number="726" href="#L726" id="L726">
<i class="fa fa-link"></i>
726
</a>
<a class="diff-line-num" data-line-number="727" href="#L727" id="L727">
<i class="fa fa-link"></i>
727
</a>
<a class="diff-line-num" data-line-number="728" href="#L728" id="L728">
<i class="fa fa-link"></i>
728
</a>
<a class="diff-line-num" data-line-number="729" href="#L729" id="L729">
<i class="fa fa-link"></i>
729
</a>
<a class="diff-line-num" data-line-number="730" href="#L730" id="L730">
<i class="fa fa-link"></i>
730
</a>
<a class="diff-line-num" data-line-number="731" href="#L731" id="L731">
<i class="fa fa-link"></i>
731
</a>
<a class="diff-line-num" data-line-number="732" href="#L732" id="L732">
<i class="fa fa-link"></i>
732
</a>
<a class="diff-line-num" data-line-number="733" href="#L733" id="L733">
<i class="fa fa-link"></i>
733
</a>
<a class="diff-line-num" data-line-number="734" href="#L734" id="L734">
<i class="fa fa-link"></i>
734
</a>
<a class="diff-line-num" data-line-number="735" href="#L735" id="L735">
<i class="fa fa-link"></i>
735
</a>
<a class="diff-line-num" data-line-number="736" href="#L736" id="L736">
<i class="fa fa-link"></i>
736
</a>
<a class="diff-line-num" data-line-number="737" href="#L737" id="L737">
<i class="fa fa-link"></i>
737
</a>
<a class="diff-line-num" data-line-number="738" href="#L738" id="L738">
<i class="fa fa-link"></i>
738
</a>
<a class="diff-line-num" data-line-number="739" href="#L739" id="L739">
<i class="fa fa-link"></i>
739
</a>
<a class="diff-line-num" data-line-number="740" href="#L740" id="L740">
<i class="fa fa-link"></i>
740
</a>
<a class="diff-line-num" data-line-number="741" href="#L741" id="L741">
<i class="fa fa-link"></i>
741
</a>
<a class="diff-line-num" data-line-number="742" href="#L742" id="L742">
<i class="fa fa-link"></i>
742
</a>
<a class="diff-line-num" data-line-number="743" href="#L743" id="L743">
<i class="fa fa-link"></i>
743
</a>
<a class="diff-line-num" data-line-number="744" href="#L744" id="L744">
<i class="fa fa-link"></i>
744
</a>
<a class="diff-line-num" data-line-number="745" href="#L745" id="L745">
<i class="fa fa-link"></i>
745
</a>
<a class="diff-line-num" data-line-number="746" href="#L746" id="L746">
<i class="fa fa-link"></i>
746
</a>
<a class="diff-line-num" data-line-number="747" href="#L747" id="L747">
<i class="fa fa-link"></i>
747
</a>
<a class="diff-line-num" data-line-number="748" href="#L748" id="L748">
<i class="fa fa-link"></i>
748
</a>
<a class="diff-line-num" data-line-number="749" href="#L749" id="L749">
<i class="fa fa-link"></i>
749
</a>
<a class="diff-line-num" data-line-number="750" href="#L750" id="L750">
<i class="fa fa-link"></i>
750
</a>
<a class="diff-line-num" data-line-number="751" href="#L751" id="L751">
<i class="fa fa-link"></i>
751
</a>
<a class="diff-line-num" data-line-number="752" href="#L752" id="L752">
<i class="fa fa-link"></i>
752
</a>
<a class="diff-line-num" data-line-number="753" href="#L753" id="L753">
<i class="fa fa-link"></i>
753
</a>
<a class="diff-line-num" data-line-number="754" href="#L754" id="L754">
<i class="fa fa-link"></i>
754
</a>
<a class="diff-line-num" data-line-number="755" href="#L755" id="L755">
<i class="fa fa-link"></i>
755
</a>
<a class="diff-line-num" data-line-number="756" href="#L756" id="L756">
<i class="fa fa-link"></i>
756
</a>
<a class="diff-line-num" data-line-number="757" href="#L757" id="L757">
<i class="fa fa-link"></i>
757
</a>
<a class="diff-line-num" data-line-number="758" href="#L758" id="L758">
<i class="fa fa-link"></i>
758
</a>
<a class="diff-line-num" data-line-number="759" href="#L759" id="L759">
<i class="fa fa-link"></i>
759
</a>
<a class="diff-line-num" data-line-number="760" href="#L760" id="L760">
<i class="fa fa-link"></i>
760
</a>
<a class="diff-line-num" data-line-number="761" href="#L761" id="L761">
<i class="fa fa-link"></i>
761
</a>
<a class="diff-line-num" data-line-number="762" href="#L762" id="L762">
<i class="fa fa-link"></i>
762
</a>
<a class="diff-line-num" data-line-number="763" href="#L763" id="L763">
<i class="fa fa-link"></i>
763
</a>
<a class="diff-line-num" data-line-number="764" href="#L764" id="L764">
<i class="fa fa-link"></i>
764
</a>
<a class="diff-line-num" data-line-number="765" href="#L765" id="L765">
<i class="fa fa-link"></i>
765
</a>
<a class="diff-line-num" data-line-number="766" href="#L766" id="L766">
<i class="fa fa-link"></i>
766
</a>
<a class="diff-line-num" data-line-number="767" href="#L767" id="L767">
<i class="fa fa-link"></i>
767
</a>
<a class="diff-line-num" data-line-number="768" href="#L768" id="L768">
<i class="fa fa-link"></i>
768
</a>
<a class="diff-line-num" data-line-number="769" href="#L769" id="L769">
<i class="fa fa-link"></i>
769
</a>
<a class="diff-line-num" data-line-number="770" href="#L770" id="L770">
<i class="fa fa-link"></i>
770
</a>
<a class="diff-line-num" data-line-number="771" href="#L771" id="L771">
<i class="fa fa-link"></i>
771
</a>
<a class="diff-line-num" data-line-number="772" href="#L772" id="L772">
<i class="fa fa-link"></i>
772
</a>
<a class="diff-line-num" data-line-number="773" href="#L773" id="L773">
<i class="fa fa-link"></i>
773
</a>
<a class="diff-line-num" data-line-number="774" href="#L774" id="L774">
<i class="fa fa-link"></i>
774
</a>
<a class="diff-line-num" data-line-number="775" href="#L775" id="L775">
<i class="fa fa-link"></i>
775
</a>
<a class="diff-line-num" data-line-number="776" href="#L776" id="L776">
<i class="fa fa-link"></i>
776
</a>
<a class="diff-line-num" data-line-number="777" href="#L777" id="L777">
<i class="fa fa-link"></i>
777
</a>
<a class="diff-line-num" data-line-number="778" href="#L778" id="L778">
<i class="fa fa-link"></i>
778
</a>
<a class="diff-line-num" data-line-number="779" href="#L779" id="L779">
<i class="fa fa-link"></i>
779
</a>
<a class="diff-line-num" data-line-number="780" href="#L780" id="L780">
<i class="fa fa-link"></i>
780
</a>
<a class="diff-line-num" data-line-number="781" href="#L781" id="L781">
<i class="fa fa-link"></i>
781
</a>
<a class="diff-line-num" data-line-number="782" href="#L782" id="L782">
<i class="fa fa-link"></i>
782
</a>
<a class="diff-line-num" data-line-number="783" href="#L783" id="L783">
<i class="fa fa-link"></i>
783
</a>
<a class="diff-line-num" data-line-number="784" href="#L784" id="L784">
<i class="fa fa-link"></i>
784
</a>
<a class="diff-line-num" data-line-number="785" href="#L785" id="L785">
<i class="fa fa-link"></i>
785
</a>
<a class="diff-line-num" data-line-number="786" href="#L786" id="L786">
<i class="fa fa-link"></i>
786
</a>
<a class="diff-line-num" data-line-number="787" href="#L787" id="L787">
<i class="fa fa-link"></i>
787
</a>
<a class="diff-line-num" data-line-number="788" href="#L788" id="L788">
<i class="fa fa-link"></i>
788
</a>
<a class="diff-line-num" data-line-number="789" href="#L789" id="L789">
<i class="fa fa-link"></i>
789
</a>
<a class="diff-line-num" data-line-number="790" href="#L790" id="L790">
<i class="fa fa-link"></i>
790
</a>
<a class="diff-line-num" data-line-number="791" href="#L791" id="L791">
<i class="fa fa-link"></i>
791
</a>
<a class="diff-line-num" data-line-number="792" href="#L792" id="L792">
<i class="fa fa-link"></i>
792
</a>
<a class="diff-line-num" data-line-number="793" href="#L793" id="L793">
<i class="fa fa-link"></i>
793
</a>
<a class="diff-line-num" data-line-number="794" href="#L794" id="L794">
<i class="fa fa-link"></i>
794
</a>
<a class="diff-line-num" data-line-number="795" href="#L795" id="L795">
<i class="fa fa-link"></i>
795
</a>
<a class="diff-line-num" data-line-number="796" href="#L796" id="L796">
<i class="fa fa-link"></i>
796
</a>
<a class="diff-line-num" data-line-number="797" href="#L797" id="L797">
<i class="fa fa-link"></i>
797
</a>
<a class="diff-line-num" data-line-number="798" href="#L798" id="L798">
<i class="fa fa-link"></i>
798
</a>
<a class="diff-line-num" data-line-number="799" href="#L799" id="L799">
<i class="fa fa-link"></i>
799
</a>
<a class="diff-line-num" data-line-number="800" href="#L800" id="L800">
<i class="fa fa-link"></i>
800
</a>
<a class="diff-line-num" data-line-number="801" href="#L801" id="L801">
<i class="fa fa-link"></i>
801
</a>
<a class="diff-line-num" data-line-number="802" href="#L802" id="L802">
<i class="fa fa-link"></i>
802
</a>
<a class="diff-line-num" data-line-number="803" href="#L803" id="L803">
<i class="fa fa-link"></i>
803
</a>
<a class="diff-line-num" data-line-number="804" href="#L804" id="L804">
<i class="fa fa-link"></i>
804
</a>
<a class="diff-line-num" data-line-number="805" href="#L805" id="L805">
<i class="fa fa-link"></i>
805
</a>
<a class="diff-line-num" data-line-number="806" href="#L806" id="L806">
<i class="fa fa-link"></i>
806
</a>
<a class="diff-line-num" data-line-number="807" href="#L807" id="L807">
<i class="fa fa-link"></i>
807
</a>
<a class="diff-line-num" data-line-number="808" href="#L808" id="L808">
<i class="fa fa-link"></i>
808
</a>
<a class="diff-line-num" data-line-number="809" href="#L809" id="L809">
<i class="fa fa-link"></i>
809
</a>
<a class="diff-line-num" data-line-number="810" href="#L810" id="L810">
<i class="fa fa-link"></i>
810
</a>
<a class="diff-line-num" data-line-number="811" href="#L811" id="L811">
<i class="fa fa-link"></i>
811
</a>
<a class="diff-line-num" data-line-number="812" href="#L812" id="L812">
<i class="fa fa-link"></i>
812
</a>
<a class="diff-line-num" data-line-number="813" href="#L813" id="L813">
<i class="fa fa-link"></i>
813
</a>
<a class="diff-line-num" data-line-number="814" href="#L814" id="L814">
<i class="fa fa-link"></i>
814
</a>
<a class="diff-line-num" data-line-number="815" href="#L815" id="L815">
<i class="fa fa-link"></i>
815
</a>
<a class="diff-line-num" data-line-number="816" href="#L816" id="L816">
<i class="fa fa-link"></i>
816
</a>
<a class="diff-line-num" data-line-number="817" href="#L817" id="L817">
<i class="fa fa-link"></i>
817
</a>
<a class="diff-line-num" data-line-number="818" href="#L818" id="L818">
<i class="fa fa-link"></i>
818
</a>
<a class="diff-line-num" data-line-number="819" href="#L819" id="L819">
<i class="fa fa-link"></i>
819
</a>
<a class="diff-line-num" data-line-number="820" href="#L820" id="L820">
<i class="fa fa-link"></i>
820
</a>
<a class="diff-line-num" data-line-number="821" href="#L821" id="L821">
<i class="fa fa-link"></i>
821
</a>
<a class="diff-line-num" data-line-number="822" href="#L822" id="L822">
<i class="fa fa-link"></i>
822
</a>
<a class="diff-line-num" data-line-number="823" href="#L823" id="L823">
<i class="fa fa-link"></i>
823
</a>
<a class="diff-line-num" data-line-number="824" href="#L824" id="L824">
<i class="fa fa-link"></i>
824
</a>
<a class="diff-line-num" data-line-number="825" href="#L825" id="L825">
<i class="fa fa-link"></i>
825
</a>
<a class="diff-line-num" data-line-number="826" href="#L826" id="L826">
<i class="fa fa-link"></i>
826
</a>
<a class="diff-line-num" data-line-number="827" href="#L827" id="L827">
<i class="fa fa-link"></i>
827
</a>
<a class="diff-line-num" data-line-number="828" href="#L828" id="L828">
<i class="fa fa-link"></i>
828
</a>
<a class="diff-line-num" data-line-number="829" href="#L829" id="L829">
<i class="fa fa-link"></i>
829
</a>
<a class="diff-line-num" data-line-number="830" href="#L830" id="L830">
<i class="fa fa-link"></i>
830
</a>
<a class="diff-line-num" data-line-number="831" href="#L831" id="L831">
<i class="fa fa-link"></i>
831
</a>
<a class="diff-line-num" data-line-number="832" href="#L832" id="L832">
<i class="fa fa-link"></i>
832
</a>
<a class="diff-line-num" data-line-number="833" href="#L833" id="L833">
<i class="fa fa-link"></i>
833
</a>
<a class="diff-line-num" data-line-number="834" href="#L834" id="L834">
<i class="fa fa-link"></i>
834
</a>
<a class="diff-line-num" data-line-number="835" href="#L835" id="L835">
<i class="fa fa-link"></i>
835
</a>
<a class="diff-line-num" data-line-number="836" href="#L836" id="L836">
<i class="fa fa-link"></i>
836
</a>
<a class="diff-line-num" data-line-number="837" href="#L837" id="L837">
<i class="fa fa-link"></i>
837
</a>
<a class="diff-line-num" data-line-number="838" href="#L838" id="L838">
<i class="fa fa-link"></i>
838
</a>
<a class="diff-line-num" data-line-number="839" href="#L839" id="L839">
<i class="fa fa-link"></i>
839
</a>
<a class="diff-line-num" data-line-number="840" href="#L840" id="L840">
<i class="fa fa-link"></i>
840
</a>
<a class="diff-line-num" data-line-number="841" href="#L841" id="L841">
<i class="fa fa-link"></i>
841
</a>
<a class="diff-line-num" data-line-number="842" href="#L842" id="L842">
<i class="fa fa-link"></i>
842
</a>
<a class="diff-line-num" data-line-number="843" href="#L843" id="L843">
<i class="fa fa-link"></i>
843
</a>
<a class="diff-line-num" data-line-number="844" href="#L844" id="L844">
<i class="fa fa-link"></i>
844
</a>
<a class="diff-line-num" data-line-number="845" href="#L845" id="L845">
<i class="fa fa-link"></i>
845
</a>
<a class="diff-line-num" data-line-number="846" href="#L846" id="L846">
<i class="fa fa-link"></i>
846
</a>
<a class="diff-line-num" data-line-number="847" href="#L847" id="L847">
<i class="fa fa-link"></i>
847
</a>
<a class="diff-line-num" data-line-number="848" href="#L848" id="L848">
<i class="fa fa-link"></i>
848
</a>
<a class="diff-line-num" data-line-number="849" href="#L849" id="L849">
<i class="fa fa-link"></i>
849
</a>
<a class="diff-line-num" data-line-number="850" href="#L850" id="L850">
<i class="fa fa-link"></i>
850
</a>
<a class="diff-line-num" data-line-number="851" href="#L851" id="L851">
<i class="fa fa-link"></i>
851
</a>
<a class="diff-line-num" data-line-number="852" href="#L852" id="L852">
<i class="fa fa-link"></i>
852
</a>
<a class="diff-line-num" data-line-number="853" href="#L853" id="L853">
<i class="fa fa-link"></i>
853
</a>
<a class="diff-line-num" data-line-number="854" href="#L854" id="L854">
<i class="fa fa-link"></i>
854
</a>
<a class="diff-line-num" data-line-number="855" href="#L855" id="L855">
<i class="fa fa-link"></i>
855
</a>
<a class="diff-line-num" data-line-number="856" href="#L856" id="L856">
<i class="fa fa-link"></i>
856
</a>
<a class="diff-line-num" data-line-number="857" href="#L857" id="L857">
<i class="fa fa-link"></i>
857
</a>
<a class="diff-line-num" data-line-number="858" href="#L858" id="L858">
<i class="fa fa-link"></i>
858
</a>
<a class="diff-line-num" data-line-number="859" href="#L859" id="L859">
<i class="fa fa-link"></i>
859
</a>
<a class="diff-line-num" data-line-number="860" href="#L860" id="L860">
<i class="fa fa-link"></i>
860
</a>
<a class="diff-line-num" data-line-number="861" href="#L861" id="L861">
<i class="fa fa-link"></i>
861
</a>
<a class="diff-line-num" data-line-number="862" href="#L862" id="L862">
<i class="fa fa-link"></i>
862
</a>
<a class="diff-line-num" data-line-number="863" href="#L863" id="L863">
<i class="fa fa-link"></i>
863
</a>
<a class="diff-line-num" data-line-number="864" href="#L864" id="L864">
<i class="fa fa-link"></i>
864
</a>
<a class="diff-line-num" data-line-number="865" href="#L865" id="L865">
<i class="fa fa-link"></i>
865
</a>
<a class="diff-line-num" data-line-number="866" href="#L866" id="L866">
<i class="fa fa-link"></i>
866
</a>
<a class="diff-line-num" data-line-number="867" href="#L867" id="L867">
<i class="fa fa-link"></i>
867
</a>
<a class="diff-line-num" data-line-number="868" href="#L868" id="L868">
<i class="fa fa-link"></i>
868
</a>
<a class="diff-line-num" data-line-number="869" href="#L869" id="L869">
<i class="fa fa-link"></i>
869
</a>
<a class="diff-line-num" data-line-number="870" href="#L870" id="L870">
<i class="fa fa-link"></i>
870
</a>
<a class="diff-line-num" data-line-number="871" href="#L871" id="L871">
<i class="fa fa-link"></i>
871
</a>
<a class="diff-line-num" data-line-number="872" href="#L872" id="L872">
<i class="fa fa-link"></i>
872
</a>
<a class="diff-line-num" data-line-number="873" href="#L873" id="L873">
<i class="fa fa-link"></i>
873
</a>
<a class="diff-line-num" data-line-number="874" href="#L874" id="L874">
<i class="fa fa-link"></i>
874
</a>
<a class="diff-line-num" data-line-number="875" href="#L875" id="L875">
<i class="fa fa-link"></i>
875
</a>
<a class="diff-line-num" data-line-number="876" href="#L876" id="L876">
<i class="fa fa-link"></i>
876
</a>
<a class="diff-line-num" data-line-number="877" href="#L877" id="L877">
<i class="fa fa-link"></i>
877
</a>
<a class="diff-line-num" data-line-number="878" href="#L878" id="L878">
<i class="fa fa-link"></i>
878
</a>
<a class="diff-line-num" data-line-number="879" href="#L879" id="L879">
<i class="fa fa-link"></i>
879
</a>
<a class="diff-line-num" data-line-number="880" href="#L880" id="L880">
<i class="fa fa-link"></i>
880
</a>
<a class="diff-line-num" data-line-number="881" href="#L881" id="L881">
<i class="fa fa-link"></i>
881
</a>
<a class="diff-line-num" data-line-number="882" href="#L882" id="L882">
<i class="fa fa-link"></i>
882
</a>
<a class="diff-line-num" data-line-number="883" href="#L883" id="L883">
<i class="fa fa-link"></i>
883
</a>
<a class="diff-line-num" data-line-number="884" href="#L884" id="L884">
<i class="fa fa-link"></i>
884
</a>
<a class="diff-line-num" data-line-number="885" href="#L885" id="L885">
<i class="fa fa-link"></i>
885
</a>
<a class="diff-line-num" data-line-number="886" href="#L886" id="L886">
<i class="fa fa-link"></i>
886
</a>
<a class="diff-line-num" data-line-number="887" href="#L887" id="L887">
<i class="fa fa-link"></i>
887
</a>
<a class="diff-line-num" data-line-number="888" href="#L888" id="L888">
<i class="fa fa-link"></i>
888
</a>
<a class="diff-line-num" data-line-number="889" href="#L889" id="L889">
<i class="fa fa-link"></i>
889
</a>
<a class="diff-line-num" data-line-number="890" href="#L890" id="L890">
<i class="fa fa-link"></i>
890
</a>
<a class="diff-line-num" data-line-number="891" href="#L891" id="L891">
<i class="fa fa-link"></i>
891
</a>
<a class="diff-line-num" data-line-number="892" href="#L892" id="L892">
<i class="fa fa-link"></i>
892
</a>
<a class="diff-line-num" data-line-number="893" href="#L893" id="L893">
<i class="fa fa-link"></i>
893
</a>
<a class="diff-line-num" data-line-number="894" href="#L894" id="L894">
<i class="fa fa-link"></i>
894
</a>
<a class="diff-line-num" data-line-number="895" href="#L895" id="L895">
<i class="fa fa-link"></i>
895
</a>
<a class="diff-line-num" data-line-number="896" href="#L896" id="L896">
<i class="fa fa-link"></i>
896
</a>
<a class="diff-line-num" data-line-number="897" href="#L897" id="L897">
<i class="fa fa-link"></i>
897
</a>
<a class="diff-line-num" data-line-number="898" href="#L898" id="L898">
<i class="fa fa-link"></i>
898
</a>
<a class="diff-line-num" data-line-number="899" href="#L899" id="L899">
<i class="fa fa-link"></i>
899
</a>
<a class="diff-line-num" data-line-number="900" href="#L900" id="L900">
<i class="fa fa-link"></i>
900
</a>
<a class="diff-line-num" data-line-number="901" href="#L901" id="L901">
<i class="fa fa-link"></i>
901
</a>
<a class="diff-line-num" data-line-number="902" href="#L902" id="L902">
<i class="fa fa-link"></i>
902
</a>
<a class="diff-line-num" data-line-number="903" href="#L903" id="L903">
<i class="fa fa-link"></i>
903
</a>
<a class="diff-line-num" data-line-number="904" href="#L904" id="L904">
<i class="fa fa-link"></i>
904
</a>
<a class="diff-line-num" data-line-number="905" href="#L905" id="L905">
<i class="fa fa-link"></i>
905
</a>
<a class="diff-line-num" data-line-number="906" href="#L906" id="L906">
<i class="fa fa-link"></i>
906
</a>
<a class="diff-line-num" data-line-number="907" href="#L907" id="L907">
<i class="fa fa-link"></i>
907
</a>
<a class="diff-line-num" data-line-number="908" href="#L908" id="L908">
<i class="fa fa-link"></i>
908
</a>
<a class="diff-line-num" data-line-number="909" href="#L909" id="L909">
<i class="fa fa-link"></i>
909
</a>
<a class="diff-line-num" data-line-number="910" href="#L910" id="L910">
<i class="fa fa-link"></i>
910
</a>
<a class="diff-line-num" data-line-number="911" href="#L911" id="L911">
<i class="fa fa-link"></i>
911
</a>
<a class="diff-line-num" data-line-number="912" href="#L912" id="L912">
<i class="fa fa-link"></i>
912
</a>
<a class="diff-line-num" data-line-number="913" href="#L913" id="L913">
<i class="fa fa-link"></i>
913
</a>
<a class="diff-line-num" data-line-number="914" href="#L914" id="L914">
<i class="fa fa-link"></i>
914
</a>
<a class="diff-line-num" data-line-number="915" href="#L915" id="L915">
<i class="fa fa-link"></i>
915
</a>
<a class="diff-line-num" data-line-number="916" href="#L916" id="L916">
<i class="fa fa-link"></i>
916
</a>
<a class="diff-line-num" data-line-number="917" href="#L917" id="L917">
<i class="fa fa-link"></i>
917
</a>
<a class="diff-line-num" data-line-number="918" href="#L918" id="L918">
<i class="fa fa-link"></i>
918
</a>
<a class="diff-line-num" data-line-number="919" href="#L919" id="L919">
<i class="fa fa-link"></i>
919
</a>
<a class="diff-line-num" data-line-number="920" href="#L920" id="L920">
<i class="fa fa-link"></i>
920
</a>
<a class="diff-line-num" data-line-number="921" href="#L921" id="L921">
<i class="fa fa-link"></i>
921
</a>
<a class="diff-line-num" data-line-number="922" href="#L922" id="L922">
<i class="fa fa-link"></i>
922
</a>
<a class="diff-line-num" data-line-number="923" href="#L923" id="L923">
<i class="fa fa-link"></i>
923
</a>
<a class="diff-line-num" data-line-number="924" href="#L924" id="L924">
<i class="fa fa-link"></i>
924
</a>
<a class="diff-line-num" data-line-number="925" href="#L925" id="L925">
<i class="fa fa-link"></i>
925
</a>
<a class="diff-line-num" data-line-number="926" href="#L926" id="L926">
<i class="fa fa-link"></i>
926
</a>
<a class="diff-line-num" data-line-number="927" href="#L927" id="L927">
<i class="fa fa-link"></i>
927
</a>
<a class="diff-line-num" data-line-number="928" href="#L928" id="L928">
<i class="fa fa-link"></i>
928
</a>
<a class="diff-line-num" data-line-number="929" href="#L929" id="L929">
<i class="fa fa-link"></i>
929
</a>
<a class="diff-line-num" data-line-number="930" href="#L930" id="L930">
<i class="fa fa-link"></i>
930
</a>
<a class="diff-line-num" data-line-number="931" href="#L931" id="L931">
<i class="fa fa-link"></i>
931
</a>
<a class="diff-line-num" data-line-number="932" href="#L932" id="L932">
<i class="fa fa-link"></i>
932
</a>
<a class="diff-line-num" data-line-number="933" href="#L933" id="L933">
<i class="fa fa-link"></i>
933
</a>
<a class="diff-line-num" data-line-number="934" href="#L934" id="L934">
<i class="fa fa-link"></i>
934
</a>
<a class="diff-line-num" data-line-number="935" href="#L935" id="L935">
<i class="fa fa-link"></i>
935
</a>
<a class="diff-line-num" data-line-number="936" href="#L936" id="L936">
<i class="fa fa-link"></i>
936
</a>
<a class="diff-line-num" data-line-number="937" href="#L937" id="L937">
<i class="fa fa-link"></i>
937
</a>
<a class="diff-line-num" data-line-number="938" href="#L938" id="L938">
<i class="fa fa-link"></i>
938
</a>
<a class="diff-line-num" data-line-number="939" href="#L939" id="L939">
<i class="fa fa-link"></i>
939
</a>
<a class="diff-line-num" data-line-number="940" href="#L940" id="L940">
<i class="fa fa-link"></i>
940
</a>
<a class="diff-line-num" data-line-number="941" href="#L941" id="L941">
<i class="fa fa-link"></i>
941
</a>
<a class="diff-line-num" data-line-number="942" href="#L942" id="L942">
<i class="fa fa-link"></i>
942
</a>
<a class="diff-line-num" data-line-number="943" href="#L943" id="L943">
<i class="fa fa-link"></i>
943
</a>
<a class="diff-line-num" data-line-number="944" href="#L944" id="L944">
<i class="fa fa-link"></i>
944
</a>
<a class="diff-line-num" data-line-number="945" href="#L945" id="L945">
<i class="fa fa-link"></i>
945
</a>
<a class="diff-line-num" data-line-number="946" href="#L946" id="L946">
<i class="fa fa-link"></i>
946
</a>
<a class="diff-line-num" data-line-number="947" href="#L947" id="L947">
<i class="fa fa-link"></i>
947
</a>
<a class="diff-line-num" data-line-number="948" href="#L948" id="L948">
<i class="fa fa-link"></i>
948
</a>
<a class="diff-line-num" data-line-number="949" href="#L949" id="L949">
<i class="fa fa-link"></i>
949
</a>
<a class="diff-line-num" data-line-number="950" href="#L950" id="L950">
<i class="fa fa-link"></i>
950
</a>
<a class="diff-line-num" data-line-number="951" href="#L951" id="L951">
<i class="fa fa-link"></i>
951
</a>
<a class="diff-line-num" data-line-number="952" href="#L952" id="L952">
<i class="fa fa-link"></i>
952
</a>
<a class="diff-line-num" data-line-number="953" href="#L953" id="L953">
<i class="fa fa-link"></i>
953
</a>
<a class="diff-line-num" data-line-number="954" href="#L954" id="L954">
<i class="fa fa-link"></i>
954
</a>
<a class="diff-line-num" data-line-number="955" href="#L955" id="L955">
<i class="fa fa-link"></i>
955
</a>
<a class="diff-line-num" data-line-number="956" href="#L956" id="L956">
<i class="fa fa-link"></i>
956
</a>
<a class="diff-line-num" data-line-number="957" href="#L957" id="L957">
<i class="fa fa-link"></i>
957
</a>
<a class="diff-line-num" data-line-number="958" href="#L958" id="L958">
<i class="fa fa-link"></i>
958
</a>
<a class="diff-line-num" data-line-number="959" href="#L959" id="L959">
<i class="fa fa-link"></i>
959
</a>
<a class="diff-line-num" data-line-number="960" href="#L960" id="L960">
<i class="fa fa-link"></i>
960
</a>
<a class="diff-line-num" data-line-number="961" href="#L961" id="L961">
<i class="fa fa-link"></i>
961
</a>
<a class="diff-line-num" data-line-number="962" href="#L962" id="L962">
<i class="fa fa-link"></i>
962
</a>
<a class="diff-line-num" data-line-number="963" href="#L963" id="L963">
<i class="fa fa-link"></i>
963
</a>
<a class="diff-line-num" data-line-number="964" href="#L964" id="L964">
<i class="fa fa-link"></i>
964
</a>
<a class="diff-line-num" data-line-number="965" href="#L965" id="L965">
<i class="fa fa-link"></i>
965
</a>
<a class="diff-line-num" data-line-number="966" href="#L966" id="L966">
<i class="fa fa-link"></i>
966
</a>
<a class="diff-line-num" data-line-number="967" href="#L967" id="L967">
<i class="fa fa-link"></i>
967
</a>
<a class="diff-line-num" data-line-number="968" href="#L968" id="L968">
<i class="fa fa-link"></i>
968
</a>
<a class="diff-line-num" data-line-number="969" href="#L969" id="L969">
<i class="fa fa-link"></i>
969
</a>
<a class="diff-line-num" data-line-number="970" href="#L970" id="L970">
<i class="fa fa-link"></i>
970
</a>
<a class="diff-line-num" data-line-number="971" href="#L971" id="L971">
<i class="fa fa-link"></i>
971
</a>
<a class="diff-line-num" data-line-number="972" href="#L972" id="L972">
<i class="fa fa-link"></i>
972
</a>
<a class="diff-line-num" data-line-number="973" href="#L973" id="L973">
<i class="fa fa-link"></i>
973
</a>
<a class="diff-line-num" data-line-number="974" href="#L974" id="L974">
<i class="fa fa-link"></i>
974
</a>
<a class="diff-line-num" data-line-number="975" href="#L975" id="L975">
<i class="fa fa-link"></i>
975
</a>
<a class="diff-line-num" data-line-number="976" href="#L976" id="L976">
<i class="fa fa-link"></i>
976
</a>
<a class="diff-line-num" data-line-number="977" href="#L977" id="L977">
<i class="fa fa-link"></i>
977
</a>
<a class="diff-line-num" data-line-number="978" href="#L978" id="L978">
<i class="fa fa-link"></i>
978
</a>
<a class="diff-line-num" data-line-number="979" href="#L979" id="L979">
<i class="fa fa-link"></i>
979
</a>
<a class="diff-line-num" data-line-number="980" href="#L980" id="L980">
<i class="fa fa-link"></i>
980
</a>
<a class="diff-line-num" data-line-number="981" href="#L981" id="L981">
<i class="fa fa-link"></i>
981
</a>
<a class="diff-line-num" data-line-number="982" href="#L982" id="L982">
<i class="fa fa-link"></i>
982
</a>
<a class="diff-line-num" data-line-number="983" href="#L983" id="L983">
<i class="fa fa-link"></i>
983
</a>
<a class="diff-line-num" data-line-number="984" href="#L984" id="L984">
<i class="fa fa-link"></i>
984
</a>
<a class="diff-line-num" data-line-number="985" href="#L985" id="L985">
<i class="fa fa-link"></i>
985
</a>
<a class="diff-line-num" data-line-number="986" href="#L986" id="L986">
<i class="fa fa-link"></i>
986
</a>
<a class="diff-line-num" data-line-number="987" href="#L987" id="L987">
<i class="fa fa-link"></i>
987
</a>
<a class="diff-line-num" data-line-number="988" href="#L988" id="L988">
<i class="fa fa-link"></i>
988
</a>
<a class="diff-line-num" data-line-number="989" href="#L989" id="L989">
<i class="fa fa-link"></i>
989
</a>
<a class="diff-line-num" data-line-number="990" href="#L990" id="L990">
<i class="fa fa-link"></i>
990
</a>
<a class="diff-line-num" data-line-number="991" href="#L991" id="L991">
<i class="fa fa-link"></i>
991
</a>
<a class="diff-line-num" data-line-number="992" href="#L992" id="L992">
<i class="fa fa-link"></i>
992
</a>
<a class="diff-line-num" data-line-number="993" href="#L993" id="L993">
<i class="fa fa-link"></i>
993
</a>
<a class="diff-line-num" data-line-number="994" href="#L994" id="L994">
<i class="fa fa-link"></i>
994
</a>
<a class="diff-line-num" data-line-number="995" href="#L995" id="L995">
<i class="fa fa-link"></i>
995
</a>
<a class="diff-line-num" data-line-number="996" href="#L996" id="L996">
<i class="fa fa-link"></i>
996
</a>
<a class="diff-line-num" data-line-number="997" href="#L997" id="L997">
<i class="fa fa-link"></i>
997
</a>
<a class="diff-line-num" data-line-number="998" href="#L998" id="L998">
<i class="fa fa-link"></i>
998
</a>
<a class="diff-line-num" data-line-number="999" href="#L999" id="L999">
<i class="fa fa-link"></i>
999
</a>
<a class="diff-line-num" data-line-number="1000" href="#L1000" id="L1000">
<i class="fa fa-link"></i>
1000
</a>
<a class="diff-line-num" data-line-number="1001" href="#L1001" id="L1001">
<i class="fa fa-link"></i>
1001
</a>
<a class="diff-line-num" data-line-number="1002" href="#L1002" id="L1002">
<i class="fa fa-link"></i>
1002
</a>
<a class="diff-line-num" data-line-number="1003" href="#L1003" id="L1003">
<i class="fa fa-link"></i>
1003
</a>
<a class="diff-line-num" data-line-number="1004" href="#L1004" id="L1004">
<i class="fa fa-link"></i>
1004
</a>
<a class="diff-line-num" data-line-number="1005" href="#L1005" id="L1005">
<i class="fa fa-link"></i>
1005
</a>
<a class="diff-line-num" data-line-number="1006" href="#L1006" id="L1006">
<i class="fa fa-link"></i>
1006
</a>
<a class="diff-line-num" data-line-number="1007" href="#L1007" id="L1007">
<i class="fa fa-link"></i>
1007
</a>
<a class="diff-line-num" data-line-number="1008" href="#L1008" id="L1008">
<i class="fa fa-link"></i>
1008
</a>
<a class="diff-line-num" data-line-number="1009" href="#L1009" id="L1009">
<i class="fa fa-link"></i>
1009
</a>
<a class="diff-line-num" data-line-number="1010" href="#L1010" id="L1010">
<i class="fa fa-link"></i>
1010
</a>
<a class="diff-line-num" data-line-number="1011" href="#L1011" id="L1011">
<i class="fa fa-link"></i>
1011
</a>
<a class="diff-line-num" data-line-number="1012" href="#L1012" id="L1012">
<i class="fa fa-link"></i>
1012
</a>
<a class="diff-line-num" data-line-number="1013" href="#L1013" id="L1013">
<i class="fa fa-link"></i>
1013
</a>
<a class="diff-line-num" data-line-number="1014" href="#L1014" id="L1014">
<i class="fa fa-link"></i>
1014
</a>
<a class="diff-line-num" data-line-number="1015" href="#L1015" id="L1015">
<i class="fa fa-link"></i>
1015
</a>
<a class="diff-line-num" data-line-number="1016" href="#L1016" id="L1016">
<i class="fa fa-link"></i>
1016
</a>
<a class="diff-line-num" data-line-number="1017" href="#L1017" id="L1017">
<i class="fa fa-link"></i>
1017
</a>
<a class="diff-line-num" data-line-number="1018" href="#L1018" id="L1018">
<i class="fa fa-link"></i>
1018
</a>
<a class="diff-line-num" data-line-number="1019" href="#L1019" id="L1019">
<i class="fa fa-link"></i>
1019
</a>
<a class="diff-line-num" data-line-number="1020" href="#L1020" id="L1020">
<i class="fa fa-link"></i>
1020
</a>
<a class="diff-line-num" data-line-number="1021" href="#L1021" id="L1021">
<i class="fa fa-link"></i>
1021
</a>
<a class="diff-line-num" data-line-number="1022" href="#L1022" id="L1022">
<i class="fa fa-link"></i>
1022
</a>
<a class="diff-line-num" data-line-number="1023" href="#L1023" id="L1023">
<i class="fa fa-link"></i>
1023
</a>
<a class="diff-line-num" data-line-number="1024" href="#L1024" id="L1024">
<i class="fa fa-link"></i>
1024
</a>
<a class="diff-line-num" data-line-number="1025" href="#L1025" id="L1025">
<i class="fa fa-link"></i>
1025
</a>
<a class="diff-line-num" data-line-number="1026" href="#L1026" id="L1026">
<i class="fa fa-link"></i>
1026
</a>
<a class="diff-line-num" data-line-number="1027" href="#L1027" id="L1027">
<i class="fa fa-link"></i>
1027
</a>
<a class="diff-line-num" data-line-number="1028" href="#L1028" id="L1028">
<i class="fa fa-link"></i>
1028
</a>
<a class="diff-line-num" data-line-number="1029" href="#L1029" id="L1029">
<i class="fa fa-link"></i>
1029
</a>
<a class="diff-line-num" data-line-number="1030" href="#L1030" id="L1030">
<i class="fa fa-link"></i>
1030
</a>
<a class="diff-line-num" data-line-number="1031" href="#L1031" id="L1031">
<i class="fa fa-link"></i>
1031
</a>
<a class="diff-line-num" data-line-number="1032" href="#L1032" id="L1032">
<i class="fa fa-link"></i>
1032
</a>
<a class="diff-line-num" data-line-number="1033" href="#L1033" id="L1033">
<i class="fa fa-link"></i>
1033
</a>
<a class="diff-line-num" data-line-number="1034" href="#L1034" id="L1034">
<i class="fa fa-link"></i>
1034
</a>
<a class="diff-line-num" data-line-number="1035" href="#L1035" id="L1035">
<i class="fa fa-link"></i>
1035
</a>
<a class="diff-line-num" data-line-number="1036" href="#L1036" id="L1036">
<i class="fa fa-link"></i>
1036
</a>
<a class="diff-line-num" data-line-number="1037" href="#L1037" id="L1037">
<i class="fa fa-link"></i>
1037
</a>
<a class="diff-line-num" data-line-number="1038" href="#L1038" id="L1038">
<i class="fa fa-link"></i>
1038
</a>
<a class="diff-line-num" data-line-number="1039" href="#L1039" id="L1039">
<i class="fa fa-link"></i>
1039
</a>
<a class="diff-line-num" data-line-number="1040" href="#L1040" id="L1040">
<i class="fa fa-link"></i>
1040
</a>
<a class="diff-line-num" data-line-number="1041" href="#L1041" id="L1041">
<i class="fa fa-link"></i>
1041
</a>
<a class="diff-line-num" data-line-number="1042" href="#L1042" id="L1042">
<i class="fa fa-link"></i>
1042
</a>
<a class="diff-line-num" data-line-number="1043" href="#L1043" id="L1043">
<i class="fa fa-link"></i>
1043
</a>
<a class="diff-line-num" data-line-number="1044" href="#L1044" id="L1044">
<i class="fa fa-link"></i>
1044
</a>
<a class="diff-line-num" data-line-number="1045" href="#L1045" id="L1045">
<i class="fa fa-link"></i>
1045
</a>
<a class="diff-line-num" data-line-number="1046" href="#L1046" id="L1046">
<i class="fa fa-link"></i>
1046
</a>
<a class="diff-line-num" data-line-number="1047" href="#L1047" id="L1047">
<i class="fa fa-link"></i>
1047
</a>
<a class="diff-line-num" data-line-number="1048" href="#L1048" id="L1048">
<i class="fa fa-link"></i>
1048
</a>
<a class="diff-line-num" data-line-number="1049" href="#L1049" id="L1049">
<i class="fa fa-link"></i>
1049
</a>
<a class="diff-line-num" data-line-number="1050" href="#L1050" id="L1050">
<i class="fa fa-link"></i>
1050
</a>
<a class="diff-line-num" data-line-number="1051" href="#L1051" id="L1051">
<i class="fa fa-link"></i>
1051
</a>
<a class="diff-line-num" data-line-number="1052" href="#L1052" id="L1052">
<i class="fa fa-link"></i>
1052
</a>
<a class="diff-line-num" data-line-number="1053" href="#L1053" id="L1053">
<i class="fa fa-link"></i>
1053
</a>
<a class="diff-line-num" data-line-number="1054" href="#L1054" id="L1054">
<i class="fa fa-link"></i>
1054
</a>
<a class="diff-line-num" data-line-number="1055" href="#L1055" id="L1055">
<i class="fa fa-link"></i>
1055
</a>
<a class="diff-line-num" data-line-number="1056" href="#L1056" id="L1056">
<i class="fa fa-link"></i>
1056
</a>
<a class="diff-line-num" data-line-number="1057" href="#L1057" id="L1057">
<i class="fa fa-link"></i>
1057
</a>
<a class="diff-line-num" data-line-number="1058" href="#L1058" id="L1058">
<i class="fa fa-link"></i>
1058
</a>
<a class="diff-line-num" data-line-number="1059" href="#L1059" id="L1059">
<i class="fa fa-link"></i>
1059
</a>
<a class="diff-line-num" data-line-number="1060" href="#L1060" id="L1060">
<i class="fa fa-link"></i>
1060
</a>
<a class="diff-line-num" data-line-number="1061" href="#L1061" id="L1061">
<i class="fa fa-link"></i>
1061
</a>
<a class="diff-line-num" data-line-number="1062" href="#L1062" id="L1062">
<i class="fa fa-link"></i>
1062
</a>
<a class="diff-line-num" data-line-number="1063" href="#L1063" id="L1063">
<i class="fa fa-link"></i>
1063
</a>
<a class="diff-line-num" data-line-number="1064" href="#L1064" id="L1064">
<i class="fa fa-link"></i>
1064
</a>
<a class="diff-line-num" data-line-number="1065" href="#L1065" id="L1065">
<i class="fa fa-link"></i>
1065
</a>
<a class="diff-line-num" data-line-number="1066" href="#L1066" id="L1066">
<i class="fa fa-link"></i>
1066
</a>
<a class="diff-line-num" data-line-number="1067" href="#L1067" id="L1067">
<i class="fa fa-link"></i>
1067
</a>
<a class="diff-line-num" data-line-number="1068" href="#L1068" id="L1068">
<i class="fa fa-link"></i>
1068
</a>
<a class="diff-line-num" data-line-number="1069" href="#L1069" id="L1069">
<i class="fa fa-link"></i>
1069
</a>
<a class="diff-line-num" data-line-number="1070" href="#L1070" id="L1070">
<i class="fa fa-link"></i>
1070
</a>
<a class="diff-line-num" data-line-number="1071" href="#L1071" id="L1071">
<i class="fa fa-link"></i>
1071
</a>
<a class="diff-line-num" data-line-number="1072" href="#L1072" id="L1072">
<i class="fa fa-link"></i>
1072
</a>
<a class="diff-line-num" data-line-number="1073" href="#L1073" id="L1073">
<i class="fa fa-link"></i>
1073
</a>
<a class="diff-line-num" data-line-number="1074" href="#L1074" id="L1074">
<i class="fa fa-link"></i>
1074
</a>
<a class="diff-line-num" data-line-number="1075" href="#L1075" id="L1075">
<i class="fa fa-link"></i>
1075
</a>
<a class="diff-line-num" data-line-number="1076" href="#L1076" id="L1076">
<i class="fa fa-link"></i>
1076
</a>
<a class="diff-line-num" data-line-number="1077" href="#L1077" id="L1077">
<i class="fa fa-link"></i>
1077
</a>
<a class="diff-line-num" data-line-number="1078" href="#L1078" id="L1078">
<i class="fa fa-link"></i>
1078
</a>
<a class="diff-line-num" data-line-number="1079" href="#L1079" id="L1079">
<i class="fa fa-link"></i>
1079
</a>
<a class="diff-line-num" data-line-number="1080" href="#L1080" id="L1080">
<i class="fa fa-link"></i>
1080
</a>
<a class="diff-line-num" data-line-number="1081" href="#L1081" id="L1081">
<i class="fa fa-link"></i>
1081
</a>
<a class="diff-line-num" data-line-number="1082" href="#L1082" id="L1082">
<i class="fa fa-link"></i>
1082
</a>
<a class="diff-line-num" data-line-number="1083" href="#L1083" id="L1083">
<i class="fa fa-link"></i>
1083
</a>
<a class="diff-line-num" data-line-number="1084" href="#L1084" id="L1084">
<i class="fa fa-link"></i>
1084
</a>
<a class="diff-line-num" data-line-number="1085" href="#L1085" id="L1085">
<i class="fa fa-link"></i>
1085
</a>
<a class="diff-line-num" data-line-number="1086" href="#L1086" id="L1086">
<i class="fa fa-link"></i>
1086
</a>
<a class="diff-line-num" data-line-number="1087" href="#L1087" id="L1087">
<i class="fa fa-link"></i>
1087
</a>
<a class="diff-line-num" data-line-number="1088" href="#L1088" id="L1088">
<i class="fa fa-link"></i>
1088
</a>
<a class="diff-line-num" data-line-number="1089" href="#L1089" id="L1089">
<i class="fa fa-link"></i>
1089
</a>
<a class="diff-line-num" data-line-number="1090" href="#L1090" id="L1090">
<i class="fa fa-link"></i>
1090
</a>
<a class="diff-line-num" data-line-number="1091" href="#L1091" id="L1091">
<i class="fa fa-link"></i>
1091
</a>
<a class="diff-line-num" data-line-number="1092" href="#L1092" id="L1092">
<i class="fa fa-link"></i>
1092
</a>
<a class="diff-line-num" data-line-number="1093" href="#L1093" id="L1093">
<i class="fa fa-link"></i>
1093
</a>
<a class="diff-line-num" data-line-number="1094" href="#L1094" id="L1094">
<i class="fa fa-link"></i>
1094
</a>
<a class="diff-line-num" data-line-number="1095" href="#L1095" id="L1095">
<i class="fa fa-link"></i>
1095
</a>
<a class="diff-line-num" data-line-number="1096" href="#L1096" id="L1096">
<i class="fa fa-link"></i>
1096
</a>
<a class="diff-line-num" data-line-number="1097" href="#L1097" id="L1097">
<i class="fa fa-link"></i>
1097
</a>
<a class="diff-line-num" data-line-number="1098" href="#L1098" id="L1098">
<i class="fa fa-link"></i>
1098
</a>
<a class="diff-line-num" data-line-number="1099" href="#L1099" id="L1099">
<i class="fa fa-link"></i>
1099
</a>
<a class="diff-line-num" data-line-number="1100" href="#L1100" id="L1100">
<i class="fa fa-link"></i>
1100
</a>
<a class="diff-line-num" data-line-number="1101" href="#L1101" id="L1101">
<i class="fa fa-link"></i>
1101
</a>
<a class="diff-line-num" data-line-number="1102" href="#L1102" id="L1102">
<i class="fa fa-link"></i>
1102
</a>
<a class="diff-line-num" data-line-number="1103" href="#L1103" id="L1103">
<i class="fa fa-link"></i>
1103
</a>
<a class="diff-line-num" data-line-number="1104" href="#L1104" id="L1104">
<i class="fa fa-link"></i>
1104
</a>
<a class="diff-line-num" data-line-number="1105" href="#L1105" id="L1105">
<i class="fa fa-link"></i>
1105
</a>
<a class="diff-line-num" data-line-number="1106" href="#L1106" id="L1106">
<i class="fa fa-link"></i>
1106
</a>
<a class="diff-line-num" data-line-number="1107" href="#L1107" id="L1107">
<i class="fa fa-link"></i>
1107
</a>
<a class="diff-line-num" data-line-number="1108" href="#L1108" id="L1108">
<i class="fa fa-link"></i>
1108
</a>
<a class="diff-line-num" data-line-number="1109" href="#L1109" id="L1109">
<i class="fa fa-link"></i>
1109
</a>
<a class="diff-line-num" data-line-number="1110" href="#L1110" id="L1110">
<i class="fa fa-link"></i>
1110
</a>
<a class="diff-line-num" data-line-number="1111" href="#L1111" id="L1111">
<i class="fa fa-link"></i>
1111
</a>
<a class="diff-line-num" data-line-number="1112" href="#L1112" id="L1112">
<i class="fa fa-link"></i>
1112
</a>
<a class="diff-line-num" data-line-number="1113" href="#L1113" id="L1113">
<i class="fa fa-link"></i>
1113
</a>
<a class="diff-line-num" data-line-number="1114" href="#L1114" id="L1114">
<i class="fa fa-link"></i>
1114
</a>
<a class="diff-line-num" data-line-number="1115" href="#L1115" id="L1115">
<i class="fa fa-link"></i>
1115
</a>
<a class="diff-line-num" data-line-number="1116" href="#L1116" id="L1116">
<i class="fa fa-link"></i>
1116
</a>
<a class="diff-line-num" data-line-number="1117" href="#L1117" id="L1117">
<i class="fa fa-link"></i>
1117
</a>
<a class="diff-line-num" data-line-number="1118" href="#L1118" id="L1118">
<i class="fa fa-link"></i>
1118
</a>
<a class="diff-line-num" data-line-number="1119" href="#L1119" id="L1119">
<i class="fa fa-link"></i>
1119
</a>
<a class="diff-line-num" data-line-number="1120" href="#L1120" id="L1120">
<i class="fa fa-link"></i>
1120
</a>
<a class="diff-line-num" data-line-number="1121" href="#L1121" id="L1121">
<i class="fa fa-link"></i>
1121
</a>
<a class="diff-line-num" data-line-number="1122" href="#L1122" id="L1122">
<i class="fa fa-link"></i>
1122
</a>
<a class="diff-line-num" data-line-number="1123" href="#L1123" id="L1123">
<i class="fa fa-link"></i>
1123
</a>
<a class="diff-line-num" data-line-number="1124" href="#L1124" id="L1124">
<i class="fa fa-link"></i>
1124
</a>
<a class="diff-line-num" data-line-number="1125" href="#L1125" id="L1125">
<i class="fa fa-link"></i>
1125
</a>
<a class="diff-line-num" data-line-number="1126" href="#L1126" id="L1126">
<i class="fa fa-link"></i>
1126
</a>
<a class="diff-line-num" data-line-number="1127" href="#L1127" id="L1127">
<i class="fa fa-link"></i>
1127
</a>
<a class="diff-line-num" data-line-number="1128" href="#L1128" id="L1128">
<i class="fa fa-link"></i>
1128
</a>
<a class="diff-line-num" data-line-number="1129" href="#L1129" id="L1129">
<i class="fa fa-link"></i>
1129
</a>
<a class="diff-line-num" data-line-number="1130" href="#L1130" id="L1130">
<i class="fa fa-link"></i>
1130
</a>
<a class="diff-line-num" data-line-number="1131" href="#L1131" id="L1131">
<i class="fa fa-link"></i>
1131
</a>
<a class="diff-line-num" data-line-number="1132" href="#L1132" id="L1132">
<i class="fa fa-link"></i>
1132
</a>
<a class="diff-line-num" data-line-number="1133" href="#L1133" id="L1133">
<i class="fa fa-link"></i>
1133
</a>
<a class="diff-line-num" data-line-number="1134" href="#L1134" id="L1134">
<i class="fa fa-link"></i>
1134
</a>
<a class="diff-line-num" data-line-number="1135" href="#L1135" id="L1135">
<i class="fa fa-link"></i>
1135
</a>
<a class="diff-line-num" data-line-number="1136" href="#L1136" id="L1136">
<i class="fa fa-link"></i>
1136
</a>
<a class="diff-line-num" data-line-number="1137" href="#L1137" id="L1137">
<i class="fa fa-link"></i>
1137
</a>
<a class="diff-line-num" data-line-number="1138" href="#L1138" id="L1138">
<i class="fa fa-link"></i>
1138
</a>
<a class="diff-line-num" data-line-number="1139" href="#L1139" id="L1139">
<i class="fa fa-link"></i>
1139
</a>
<a class="diff-line-num" data-line-number="1140" href="#L1140" id="L1140">
<i class="fa fa-link"></i>
1140
</a>
<a class="diff-line-num" data-line-number="1141" href="#L1141" id="L1141">
<i class="fa fa-link"></i>
1141
</a>
<a class="diff-line-num" data-line-number="1142" href="#L1142" id="L1142">
<i class="fa fa-link"></i>
1142
</a>
<a class="diff-line-num" data-line-number="1143" href="#L1143" id="L1143">
<i class="fa fa-link"></i>
1143
</a>
<a class="diff-line-num" data-line-number="1144" href="#L1144" id="L1144">
<i class="fa fa-link"></i>
1144
</a>
<a class="diff-line-num" data-line-number="1145" href="#L1145" id="L1145">
<i class="fa fa-link"></i>
1145
</a>
<a class="diff-line-num" data-line-number="1146" href="#L1146" id="L1146">
<i class="fa fa-link"></i>
1146
</a>
<a class="diff-line-num" data-line-number="1147" href="#L1147" id="L1147">
<i class="fa fa-link"></i>
1147
</a>
<a class="diff-line-num" data-line-number="1148" href="#L1148" id="L1148">
<i class="fa fa-link"></i>
1148
</a>
<a class="diff-line-num" data-line-number="1149" href="#L1149" id="L1149">
<i class="fa fa-link"></i>
1149
</a>
<a class="diff-line-num" data-line-number="1150" href="#L1150" id="L1150">
<i class="fa fa-link"></i>
1150
</a>
<a class="diff-line-num" data-line-number="1151" href="#L1151" id="L1151">
<i class="fa fa-link"></i>
1151
</a>
<a class="diff-line-num" data-line-number="1152" href="#L1152" id="L1152">
<i class="fa fa-link"></i>
1152
</a>
<a class="diff-line-num" data-line-number="1153" href="#L1153" id="L1153">
<i class="fa fa-link"></i>
1153
</a>
<a class="diff-line-num" data-line-number="1154" href="#L1154" id="L1154">
<i class="fa fa-link"></i>
1154
</a>
<a class="diff-line-num" data-line-number="1155" href="#L1155" id="L1155">
<i class="fa fa-link"></i>
1155
</a>
<a class="diff-line-num" data-line-number="1156" href="#L1156" id="L1156">
<i class="fa fa-link"></i>
1156
</a>
<a class="diff-line-num" data-line-number="1157" href="#L1157" id="L1157">
<i class="fa fa-link"></i>
1157
</a>
<a class="diff-line-num" data-line-number="1158" href="#L1158" id="L1158">
<i class="fa fa-link"></i>
1158
</a>
<a class="diff-line-num" data-line-number="1159" href="#L1159" id="L1159">
<i class="fa fa-link"></i>
1159
</a>
<a class="diff-line-num" data-line-number="1160" href="#L1160" id="L1160">
<i class="fa fa-link"></i>
1160
</a>
<a class="diff-line-num" data-line-number="1161" href="#L1161" id="L1161">
<i class="fa fa-link"></i>
1161
</a>
<a class="diff-line-num" data-line-number="1162" href="#L1162" id="L1162">
<i class="fa fa-link"></i>
1162
</a>
<a class="diff-line-num" data-line-number="1163" href="#L1163" id="L1163">
<i class="fa fa-link"></i>
1163
</a>
<a class="diff-line-num" data-line-number="1164" href="#L1164" id="L1164">
<i class="fa fa-link"></i>
1164
</a>
<a class="diff-line-num" data-line-number="1165" href="#L1165" id="L1165">
<i class="fa fa-link"></i>
1165
</a>
<a class="diff-line-num" data-line-number="1166" href="#L1166" id="L1166">
<i class="fa fa-link"></i>
1166
</a>
<a class="diff-line-num" data-line-number="1167" href="#L1167" id="L1167">
<i class="fa fa-link"></i>
1167
</a>
<a class="diff-line-num" data-line-number="1168" href="#L1168" id="L1168">
<i class="fa fa-link"></i>
1168
</a>
<a class="diff-line-num" data-line-number="1169" href="#L1169" id="L1169">
<i class="fa fa-link"></i>
1169
</a>
<a class="diff-line-num" data-line-number="1170" href="#L1170" id="L1170">
<i class="fa fa-link"></i>
1170
</a>
<a class="diff-line-num" data-line-number="1171" href="#L1171" id="L1171">
<i class="fa fa-link"></i>
1171
</a>
<a class="diff-line-num" data-line-number="1172" href="#L1172" id="L1172">
<i class="fa fa-link"></i>
1172
</a>
<a class="diff-line-num" data-line-number="1173" href="#L1173" id="L1173">
<i class="fa fa-link"></i>
1173
</a>
<a class="diff-line-num" data-line-number="1174" href="#L1174" id="L1174">
<i class="fa fa-link"></i>
1174
</a>
<a class="diff-line-num" data-line-number="1175" href="#L1175" id="L1175">
<i class="fa fa-link"></i>
1175
</a>
<a class="diff-line-num" data-line-number="1176" href="#L1176" id="L1176">
<i class="fa fa-link"></i>
1176
</a>
<a class="diff-line-num" data-line-number="1177" href="#L1177" id="L1177">
<i class="fa fa-link"></i>
1177
</a>
<a class="diff-line-num" data-line-number="1178" href="#L1178" id="L1178">
<i class="fa fa-link"></i>
1178
</a>
<a class="diff-line-num" data-line-number="1179" href="#L1179" id="L1179">
<i class="fa fa-link"></i>
1179
</a>
<a class="diff-line-num" data-line-number="1180" href="#L1180" id="L1180">
<i class="fa fa-link"></i>
1180
</a>
<a class="diff-line-num" data-line-number="1181" href="#L1181" id="L1181">
<i class="fa fa-link"></i>
1181
</a>
<a class="diff-line-num" data-line-number="1182" href="#L1182" id="L1182">
<i class="fa fa-link"></i>
1182
</a>
<a class="diff-line-num" data-line-number="1183" href="#L1183" id="L1183">
<i class="fa fa-link"></i>
1183
</a>
<a class="diff-line-num" data-line-number="1184" href="#L1184" id="L1184">
<i class="fa fa-link"></i>
1184
</a>
<a class="diff-line-num" data-line-number="1185" href="#L1185" id="L1185">
<i class="fa fa-link"></i>
1185
</a>
<a class="diff-line-num" data-line-number="1186" href="#L1186" id="L1186">
<i class="fa fa-link"></i>
1186
</a>
<a class="diff-line-num" data-line-number="1187" href="#L1187" id="L1187">
<i class="fa fa-link"></i>
1187
</a>
<a class="diff-line-num" data-line-number="1188" href="#L1188" id="L1188">
<i class="fa fa-link"></i>
1188
</a>
<a class="diff-line-num" data-line-number="1189" href="#L1189" id="L1189">
<i class="fa fa-link"></i>
1189
</a>
<a class="diff-line-num" data-line-number="1190" href="#L1190" id="L1190">
<i class="fa fa-link"></i>
1190
</a>
<a class="diff-line-num" data-line-number="1191" href="#L1191" id="L1191">
<i class="fa fa-link"></i>
1191
</a>
<a class="diff-line-num" data-line-number="1192" href="#L1192" id="L1192">
<i class="fa fa-link"></i>
1192
</a>
<a class="diff-line-num" data-line-number="1193" href="#L1193" id="L1193">
<i class="fa fa-link"></i>
1193
</a>
<a class="diff-line-num" data-line-number="1194" href="#L1194" id="L1194">
<i class="fa fa-link"></i>
1194
</a>
<a class="diff-line-num" data-line-number="1195" href="#L1195" id="L1195">
<i class="fa fa-link"></i>
1195
</a>
<a class="diff-line-num" data-line-number="1196" href="#L1196" id="L1196">
<i class="fa fa-link"></i>
1196
</a>
<a class="diff-line-num" data-line-number="1197" href="#L1197" id="L1197">
<i class="fa fa-link"></i>
1197
</a>
<a class="diff-line-num" data-line-number="1198" href="#L1198" id="L1198">
<i class="fa fa-link"></i>
1198
</a>
<a class="diff-line-num" data-line-number="1199" href="#L1199" id="L1199">
<i class="fa fa-link"></i>
1199
</a>
<a class="diff-line-num" data-line-number="1200" href="#L1200" id="L1200">
<i class="fa fa-link"></i>
1200
</a>
<a class="diff-line-num" data-line-number="1201" href="#L1201" id="L1201">
<i class="fa fa-link"></i>
1201
</a>
<a class="diff-line-num" data-line-number="1202" href="#L1202" id="L1202">
<i class="fa fa-link"></i>
1202
</a>
<a class="diff-line-num" data-line-number="1203" href="#L1203" id="L1203">
<i class="fa fa-link"></i>
1203
</a>
<a class="diff-line-num" data-line-number="1204" href="#L1204" id="L1204">
<i class="fa fa-link"></i>
1204
</a>
<a class="diff-line-num" data-line-number="1205" href="#L1205" id="L1205">
<i class="fa fa-link"></i>
1205
</a>
<a class="diff-line-num" data-line-number="1206" href="#L1206" id="L1206">
<i class="fa fa-link"></i>
1206
</a>
<a class="diff-line-num" data-line-number="1207" href="#L1207" id="L1207">
<i class="fa fa-link"></i>
1207
</a>
<a class="diff-line-num" data-line-number="1208" href="#L1208" id="L1208">
<i class="fa fa-link"></i>
1208
</a>
<a class="diff-line-num" data-line-number="1209" href="#L1209" id="L1209">
<i class="fa fa-link"></i>
1209
</a>
<a class="diff-line-num" data-line-number="1210" href="#L1210" id="L1210">
<i class="fa fa-link"></i>
1210
</a>
<a class="diff-line-num" data-line-number="1211" href="#L1211" id="L1211">
<i class="fa fa-link"></i>
1211
</a>
<a class="diff-line-num" data-line-number="1212" href="#L1212" id="L1212">
<i class="fa fa-link"></i>
1212
</a>
<a class="diff-line-num" data-line-number="1213" href="#L1213" id="L1213">
<i class="fa fa-link"></i>
1213
</a>
<a class="diff-line-num" data-line-number="1214" href="#L1214" id="L1214">
<i class="fa fa-link"></i>
1214
</a>
<a class="diff-line-num" data-line-number="1215" href="#L1215" id="L1215">
<i class="fa fa-link"></i>
1215
</a>
<a class="diff-line-num" data-line-number="1216" href="#L1216" id="L1216">
<i class="fa fa-link"></i>
1216
</a>
<a class="diff-line-num" data-line-number="1217" href="#L1217" id="L1217">
<i class="fa fa-link"></i>
1217
</a>
<a class="diff-line-num" data-line-number="1218" href="#L1218" id="L1218">
<i class="fa fa-link"></i>
1218
</a>
<a class="diff-line-num" data-line-number="1219" href="#L1219" id="L1219">
<i class="fa fa-link"></i>
1219
</a>
<a class="diff-line-num" data-line-number="1220" href="#L1220" id="L1220">
<i class="fa fa-link"></i>
1220
</a>
<a class="diff-line-num" data-line-number="1221" href="#L1221" id="L1221">
<i class="fa fa-link"></i>
1221
</a>
<a class="diff-line-num" data-line-number="1222" href="#L1222" id="L1222">
<i class="fa fa-link"></i>
1222
</a>
<a class="diff-line-num" data-line-number="1223" href="#L1223" id="L1223">
<i class="fa fa-link"></i>
1223
</a>
<a class="diff-line-num" data-line-number="1224" href="#L1224" id="L1224">
<i class="fa fa-link"></i>
1224
</a>
<a class="diff-line-num" data-line-number="1225" href="#L1225" id="L1225">
<i class="fa fa-link"></i>
1225
</a>
<a class="diff-line-num" data-line-number="1226" href="#L1226" id="L1226">
<i class="fa fa-link"></i>
1226
</a>
<a class="diff-line-num" data-line-number="1227" href="#L1227" id="L1227">
<i class="fa fa-link"></i>
1227
</a>
<a class="diff-line-num" data-line-number="1228" href="#L1228" id="L1228">
<i class="fa fa-link"></i>
1228
</a>
<a class="diff-line-num" data-line-number="1229" href="#L1229" id="L1229">
<i class="fa fa-link"></i>
1229
</a>
<a class="diff-line-num" data-line-number="1230" href="#L1230" id="L1230">
<i class="fa fa-link"></i>
1230
</a>
<a class="diff-line-num" data-line-number="1231" href="#L1231" id="L1231">
<i class="fa fa-link"></i>
1231
</a>
<a class="diff-line-num" data-line-number="1232" href="#L1232" id="L1232">
<i class="fa fa-link"></i>
1232
</a>
<a class="diff-line-num" data-line-number="1233" href="#L1233" id="L1233">
<i class="fa fa-link"></i>
1233
</a>
<a class="diff-line-num" data-line-number="1234" href="#L1234" id="L1234">
<i class="fa fa-link"></i>
1234
</a>
<a class="diff-line-num" data-line-number="1235" href="#L1235" id="L1235">
<i class="fa fa-link"></i>
1235
</a>
<a class="diff-line-num" data-line-number="1236" href="#L1236" id="L1236">
<i class="fa fa-link"></i>
1236
</a>
<a class="diff-line-num" data-line-number="1237" href="#L1237" id="L1237">
<i class="fa fa-link"></i>
1237
</a>
<a class="diff-line-num" data-line-number="1238" href="#L1238" id="L1238">
<i class="fa fa-link"></i>
1238
</a>
<a class="diff-line-num" data-line-number="1239" href="#L1239" id="L1239">
<i class="fa fa-link"></i>
1239
</a>
<a class="diff-line-num" data-line-number="1240" href="#L1240" id="L1240">
<i class="fa fa-link"></i>
1240
</a>
<a class="diff-line-num" data-line-number="1241" href="#L1241" id="L1241">
<i class="fa fa-link"></i>
1241
</a>
<a class="diff-line-num" data-line-number="1242" href="#L1242" id="L1242">
<i class="fa fa-link"></i>
1242
</a>
<a class="diff-line-num" data-line-number="1243" href="#L1243" id="L1243">
<i class="fa fa-link"></i>
1243
</a>
<a class="diff-line-num" data-line-number="1244" href="#L1244" id="L1244">
<i class="fa fa-link"></i>
1244
</a>
<a class="diff-line-num" data-line-number="1245" href="#L1245" id="L1245">
<i class="fa fa-link"></i>
1245
</a>
<a class="diff-line-num" data-line-number="1246" href="#L1246" id="L1246">
<i class="fa fa-link"></i>
1246
</a>
<a class="diff-line-num" data-line-number="1247" href="#L1247" id="L1247">
<i class="fa fa-link"></i>
1247
</a>
<a class="diff-line-num" data-line-number="1248" href="#L1248" id="L1248">
<i class="fa fa-link"></i>
1248
</a>
<a class="diff-line-num" data-line-number="1249" href="#L1249" id="L1249">
<i class="fa fa-link"></i>
1249
</a>
<a class="diff-line-num" data-line-number="1250" href="#L1250" id="L1250">
<i class="fa fa-link"></i>
1250
</a>
<a class="diff-line-num" data-line-number="1251" href="#L1251" id="L1251">
<i class="fa fa-link"></i>
1251
</a>
<a class="diff-line-num" data-line-number="1252" href="#L1252" id="L1252">
<i class="fa fa-link"></i>
1252
</a>
<a class="diff-line-num" data-line-number="1253" href="#L1253" id="L1253">
<i class="fa fa-link"></i>
1253
</a>
<a class="diff-line-num" data-line-number="1254" href="#L1254" id="L1254">
<i class="fa fa-link"></i>
1254
</a>
<a class="diff-line-num" data-line-number="1255" href="#L1255" id="L1255">
<i class="fa fa-link"></i>
1255
</a>
<a class="diff-line-num" data-line-number="1256" href="#L1256" id="L1256">
<i class="fa fa-link"></i>
1256
</a>
<a class="diff-line-num" data-line-number="1257" href="#L1257" id="L1257">
<i class="fa fa-link"></i>
1257
</a>
<a class="diff-line-num" data-line-number="1258" href="#L1258" id="L1258">
<i class="fa fa-link"></i>
1258
</a>
<a class="diff-line-num" data-line-number="1259" href="#L1259" id="L1259">
<i class="fa fa-link"></i>
1259
</a>
<a class="diff-line-num" data-line-number="1260" href="#L1260" id="L1260">
<i class="fa fa-link"></i>
1260
</a>
<a class="diff-line-num" data-line-number="1261" href="#L1261" id="L1261">
<i class="fa fa-link"></i>
1261
</a>
<a class="diff-line-num" data-line-number="1262" href="#L1262" id="L1262">
<i class="fa fa-link"></i>
1262
</a>
<a class="diff-line-num" data-line-number="1263" href="#L1263" id="L1263">
<i class="fa fa-link"></i>
1263
</a>
<a class="diff-line-num" data-line-number="1264" href="#L1264" id="L1264">
<i class="fa fa-link"></i>
1264
</a>
<a class="diff-line-num" data-line-number="1265" href="#L1265" id="L1265">
<i class="fa fa-link"></i>
1265
</a>
<a class="diff-line-num" data-line-number="1266" href="#L1266" id="L1266">
<i class="fa fa-link"></i>
1266
</a>
<a class="diff-line-num" data-line-number="1267" href="#L1267" id="L1267">
<i class="fa fa-link"></i>
1267
</a>
<a class="diff-line-num" data-line-number="1268" href="#L1268" id="L1268">
<i class="fa fa-link"></i>
1268
</a>
<a class="diff-line-num" data-line-number="1269" href="#L1269" id="L1269">
<i class="fa fa-link"></i>
1269
</a>
<a class="diff-line-num" data-line-number="1270" href="#L1270" id="L1270">
<i class="fa fa-link"></i>
1270
</a>
<a class="diff-line-num" data-line-number="1271" href="#L1271" id="L1271">
<i class="fa fa-link"></i>
1271
</a>
<a class="diff-line-num" data-line-number="1272" href="#L1272" id="L1272">
<i class="fa fa-link"></i>
1272
</a>
<a class="diff-line-num" data-line-number="1273" href="#L1273" id="L1273">
<i class="fa fa-link"></i>
1273
</a>
<a class="diff-line-num" data-line-number="1274" href="#L1274" id="L1274">
<i class="fa fa-link"></i>
1274
</a>
<a class="diff-line-num" data-line-number="1275" href="#L1275" id="L1275">
<i class="fa fa-link"></i>
1275
</a>
<a class="diff-line-num" data-line-number="1276" href="#L1276" id="L1276">
<i class="fa fa-link"></i>
1276
</a>
<a class="diff-line-num" data-line-number="1277" href="#L1277" id="L1277">
<i class="fa fa-link"></i>
1277
</a>
<a class="diff-line-num" data-line-number="1278" href="#L1278" id="L1278">
<i class="fa fa-link"></i>
1278
</a>
<a class="diff-line-num" data-line-number="1279" href="#L1279" id="L1279">
<i class="fa fa-link"></i>
1279
</a>
<a class="diff-line-num" data-line-number="1280" href="#L1280" id="L1280">
<i class="fa fa-link"></i>
1280
</a>
<a class="diff-line-num" data-line-number="1281" href="#L1281" id="L1281">
<i class="fa fa-link"></i>
1281
</a>
<a class="diff-line-num" data-line-number="1282" href="#L1282" id="L1282">
<i class="fa fa-link"></i>
1282
</a>
<a class="diff-line-num" data-line-number="1283" href="#L1283" id="L1283">
<i class="fa fa-link"></i>
1283
</a>
<a class="diff-line-num" data-line-number="1284" href="#L1284" id="L1284">
<i class="fa fa-link"></i>
1284
</a>
<a class="diff-line-num" data-line-number="1285" href="#L1285" id="L1285">
<i class="fa fa-link"></i>
1285
</a>
<a class="diff-line-num" data-line-number="1286" href="#L1286" id="L1286">
<i class="fa fa-link"></i>
1286
</a>
<a class="diff-line-num" data-line-number="1287" href="#L1287" id="L1287">
<i class="fa fa-link"></i>
1287
</a>
<a class="diff-line-num" data-line-number="1288" href="#L1288" id="L1288">
<i class="fa fa-link"></i>
1288
</a>
<a class="diff-line-num" data-line-number="1289" href="#L1289" id="L1289">
<i class="fa fa-link"></i>
1289
</a>
<a class="diff-line-num" data-line-number="1290" href="#L1290" id="L1290">
<i class="fa fa-link"></i>
1290
</a>
<a class="diff-line-num" data-line-number="1291" href="#L1291" id="L1291">
<i class="fa fa-link"></i>
1291
</a>
<a class="diff-line-num" data-line-number="1292" href="#L1292" id="L1292">
<i class="fa fa-link"></i>
1292
</a>
<a class="diff-line-num" data-line-number="1293" href="#L1293" id="L1293">
<i class="fa fa-link"></i>
1293
</a>
<a class="diff-line-num" data-line-number="1294" href="#L1294" id="L1294">
<i class="fa fa-link"></i>
1294
</a>
<a class="diff-line-num" data-line-number="1295" href="#L1295" id="L1295">
<i class="fa fa-link"></i>
1295
</a>
<a class="diff-line-num" data-line-number="1296" href="#L1296" id="L1296">
<i class="fa fa-link"></i>
1296
</a>
<a class="diff-line-num" data-line-number="1297" href="#L1297" id="L1297">
<i class="fa fa-link"></i>
1297
</a>
<a class="diff-line-num" data-line-number="1298" href="#L1298" id="L1298">
<i class="fa fa-link"></i>
1298
</a>
<a class="diff-line-num" data-line-number="1299" href="#L1299" id="L1299">
<i class="fa fa-link"></i>
1299
</a>
<a class="diff-line-num" data-line-number="1300" href="#L1300" id="L1300">
<i class="fa fa-link"></i>
1300
</a>
<a class="diff-line-num" data-line-number="1301" href="#L1301" id="L1301">
<i class="fa fa-link"></i>
1301
</a>
<a class="diff-line-num" data-line-number="1302" href="#L1302" id="L1302">
<i class="fa fa-link"></i>
1302
</a>
<a class="diff-line-num" data-line-number="1303" href="#L1303" id="L1303">
<i class="fa fa-link"></i>
1303
</a>
<a class="diff-line-num" data-line-number="1304" href="#L1304" id="L1304">
<i class="fa fa-link"></i>
1304
</a>
<a class="diff-line-num" data-line-number="1305" href="#L1305" id="L1305">
<i class="fa fa-link"></i>
1305
</a>
<a class="diff-line-num" data-line-number="1306" href="#L1306" id="L1306">
<i class="fa fa-link"></i>
1306
</a>
<a class="diff-line-num" data-line-number="1307" href="#L1307" id="L1307">
<i class="fa fa-link"></i>
1307
</a>
<a class="diff-line-num" data-line-number="1308" href="#L1308" id="L1308">
<i class="fa fa-link"></i>
1308
</a>
<a class="diff-line-num" data-line-number="1309" href="#L1309" id="L1309">
<i class="fa fa-link"></i>
1309
</a>
<a class="diff-line-num" data-line-number="1310" href="#L1310" id="L1310">
<i class="fa fa-link"></i>
1310
</a>
<a class="diff-line-num" data-line-number="1311" href="#L1311" id="L1311">
<i class="fa fa-link"></i>
1311
</a>
<a class="diff-line-num" data-line-number="1312" href="#L1312" id="L1312">
<i class="fa fa-link"></i>
1312
</a>
<a class="diff-line-num" data-line-number="1313" href="#L1313" id="L1313">
<i class="fa fa-link"></i>
1313
</a>
<a class="diff-line-num" data-line-number="1314" href="#L1314" id="L1314">
<i class="fa fa-link"></i>
1314
</a>
<a class="diff-line-num" data-line-number="1315" href="#L1315" id="L1315">
<i class="fa fa-link"></i>
1315
</a>
<a class="diff-line-num" data-line-number="1316" href="#L1316" id="L1316">
<i class="fa fa-link"></i>
1316
</a>
<a class="diff-line-num" data-line-number="1317" href="#L1317" id="L1317">
<i class="fa fa-link"></i>
1317
</a>
<a class="diff-line-num" data-line-number="1318" href="#L1318" id="L1318">
<i class="fa fa-link"></i>
1318
</a>
<a class="diff-line-num" data-line-number="1319" href="#L1319" id="L1319">
<i class="fa fa-link"></i>
1319
</a>
<a class="diff-line-num" data-line-number="1320" href="#L1320" id="L1320">
<i class="fa fa-link"></i>
1320
</a>
<a class="diff-line-num" data-line-number="1321" href="#L1321" id="L1321">
<i class="fa fa-link"></i>
1321
</a>
<a class="diff-line-num" data-line-number="1322" href="#L1322" id="L1322">
<i class="fa fa-link"></i>
1322
</a>
<a class="diff-line-num" data-line-number="1323" href="#L1323" id="L1323">
<i class="fa fa-link"></i>
1323
</a>
<a class="diff-line-num" data-line-number="1324" href="#L1324" id="L1324">
<i class="fa fa-link"></i>
1324
</a>
<a class="diff-line-num" data-line-number="1325" href="#L1325" id="L1325">
<i class="fa fa-link"></i>
1325
</a>
<a class="diff-line-num" data-line-number="1326" href="#L1326" id="L1326">
<i class="fa fa-link"></i>
1326
</a>
<a class="diff-line-num" data-line-number="1327" href="#L1327" id="L1327">
<i class="fa fa-link"></i>
1327
</a>
<a class="diff-line-num" data-line-number="1328" href="#L1328" id="L1328">
<i class="fa fa-link"></i>
1328
</a>
<a class="diff-line-num" data-line-number="1329" href="#L1329" id="L1329">
<i class="fa fa-link"></i>
1329
</a>
<a class="diff-line-num" data-line-number="1330" href="#L1330" id="L1330">
<i class="fa fa-link"></i>
1330
</a>
<a class="diff-line-num" data-line-number="1331" href="#L1331" id="L1331">
<i class="fa fa-link"></i>
1331
</a>
<a class="diff-line-num" data-line-number="1332" href="#L1332" id="L1332">
<i class="fa fa-link"></i>
1332
</a>
<a class="diff-line-num" data-line-number="1333" href="#L1333" id="L1333">
<i class="fa fa-link"></i>
1333
</a>
<a class="diff-line-num" data-line-number="1334" href="#L1334" id="L1334">
<i class="fa fa-link"></i>
1334
</a>
<a class="diff-line-num" data-line-number="1335" href="#L1335" id="L1335">
<i class="fa fa-link"></i>
1335
</a>
<a class="diff-line-num" data-line-number="1336" href="#L1336" id="L1336">
<i class="fa fa-link"></i>
1336
</a>
<a class="diff-line-num" data-line-number="1337" href="#L1337" id="L1337">
<i class="fa fa-link"></i>
1337
</a>
<a class="diff-line-num" data-line-number="1338" href="#L1338" id="L1338">
<i class="fa fa-link"></i>
1338
</a>
<a class="diff-line-num" data-line-number="1339" href="#L1339" id="L1339">
<i class="fa fa-link"></i>
1339
</a>
<a class="diff-line-num" data-line-number="1340" href="#L1340" id="L1340">
<i class="fa fa-link"></i>
1340
</a>
<a class="diff-line-num" data-line-number="1341" href="#L1341" id="L1341">
<i class="fa fa-link"></i>
1341
</a>
<a class="diff-line-num" data-line-number="1342" href="#L1342" id="L1342">
<i class="fa fa-link"></i>
1342
</a>
<a class="diff-line-num" data-line-number="1343" href="#L1343" id="L1343">
<i class="fa fa-link"></i>
1343
</a>
<a class="diff-line-num" data-line-number="1344" href="#L1344" id="L1344">
<i class="fa fa-link"></i>
1344
</a>
<a class="diff-line-num" data-line-number="1345" href="#L1345" id="L1345">
<i class="fa fa-link"></i>
1345
</a>
<a class="diff-line-num" data-line-number="1346" href="#L1346" id="L1346">
<i class="fa fa-link"></i>
1346
</a>
<a class="diff-line-num" data-line-number="1347" href="#L1347" id="L1347">
<i class="fa fa-link"></i>
1347
</a>
<a class="diff-line-num" data-line-number="1348" href="#L1348" id="L1348">
<i class="fa fa-link"></i>
1348
</a>
<a class="diff-line-num" data-line-number="1349" href="#L1349" id="L1349">
<i class="fa fa-link"></i>
1349
</a>
<a class="diff-line-num" data-line-number="1350" href="#L1350" id="L1350">
<i class="fa fa-link"></i>
1350
</a>
<a class="diff-line-num" data-line-number="1351" href="#L1351" id="L1351">
<i class="fa fa-link"></i>
1351
</a>
<a class="diff-line-num" data-line-number="1352" href="#L1352" id="L1352">
<i class="fa fa-link"></i>
1352
</a>
<a class="diff-line-num" data-line-number="1353" href="#L1353" id="L1353">
<i class="fa fa-link"></i>
1353
</a>
<a class="diff-line-num" data-line-number="1354" href="#L1354" id="L1354">
<i class="fa fa-link"></i>
1354
</a>
<a class="diff-line-num" data-line-number="1355" href="#L1355" id="L1355">
<i class="fa fa-link"></i>
1355
</a>
<a class="diff-line-num" data-line-number="1356" href="#L1356" id="L1356">
<i class="fa fa-link"></i>
1356
</a>
<a class="diff-line-num" data-line-number="1357" href="#L1357" id="L1357">
<i class="fa fa-link"></i>
1357
</a>
<a class="diff-line-num" data-line-number="1358" href="#L1358" id="L1358">
<i class="fa fa-link"></i>
1358
</a>
<a class="diff-line-num" data-line-number="1359" href="#L1359" id="L1359">
<i class="fa fa-link"></i>
1359
</a>
<a class="diff-line-num" data-line-number="1360" href="#L1360" id="L1360">
<i class="fa fa-link"></i>
1360
</a>
<a class="diff-line-num" data-line-number="1361" href="#L1361" id="L1361">
<i class="fa fa-link"></i>
1361
</a>
<a class="diff-line-num" data-line-number="1362" href="#L1362" id="L1362">
<i class="fa fa-link"></i>
1362
</a>
<a class="diff-line-num" data-line-number="1363" href="#L1363" id="L1363">
<i class="fa fa-link"></i>
1363
</a>
<a class="diff-line-num" data-line-number="1364" href="#L1364" id="L1364">
<i class="fa fa-link"></i>
1364
</a>
<a class="diff-line-num" data-line-number="1365" href="#L1365" id="L1365">
<i class="fa fa-link"></i>
1365
</a>
<a class="diff-line-num" data-line-number="1366" href="#L1366" id="L1366">
<i class="fa fa-link"></i>
1366
</a>
<a class="diff-line-num" data-line-number="1367" href="#L1367" id="L1367">
<i class="fa fa-link"></i>
1367
</a>
<a class="diff-line-num" data-line-number="1368" href="#L1368" id="L1368">
<i class="fa fa-link"></i>
1368
</a>
<a class="diff-line-num" data-line-number="1369" href="#L1369" id="L1369">
<i class="fa fa-link"></i>
1369
</a>
<a class="diff-line-num" data-line-number="1370" href="#L1370" id="L1370">
<i class="fa fa-link"></i>
1370
</a>
<a class="diff-line-num" data-line-number="1371" href="#L1371" id="L1371">
<i class="fa fa-link"></i>
1371
</a>
<a class="diff-line-num" data-line-number="1372" href="#L1372" id="L1372">
<i class="fa fa-link"></i>
1372
</a>
<a class="diff-line-num" data-line-number="1373" href="#L1373" id="L1373">
<i class="fa fa-link"></i>
1373
</a>
<a class="diff-line-num" data-line-number="1374" href="#L1374" id="L1374">
<i class="fa fa-link"></i>
1374
</a>
<a class="diff-line-num" data-line-number="1375" href="#L1375" id="L1375">
<i class="fa fa-link"></i>
1375
</a>
<a class="diff-line-num" data-line-number="1376" href="#L1376" id="L1376">
<i class="fa fa-link"></i>
1376
</a>
<a class="diff-line-num" data-line-number="1377" href="#L1377" id="L1377">
<i class="fa fa-link"></i>
1377
</a>
<a class="diff-line-num" data-line-number="1378" href="#L1378" id="L1378">
<i class="fa fa-link"></i>
1378
</a>
<a class="diff-line-num" data-line-number="1379" href="#L1379" id="L1379">
<i class="fa fa-link"></i>
1379
</a>
<a class="diff-line-num" data-line-number="1380" href="#L1380" id="L1380">
<i class="fa fa-link"></i>
1380
</a>
<a class="diff-line-num" data-line-number="1381" href="#L1381" id="L1381">
<i class="fa fa-link"></i>
1381
</a>
<a class="diff-line-num" data-line-number="1382" href="#L1382" id="L1382">
<i class="fa fa-link"></i>
1382
</a>
<a class="diff-line-num" data-line-number="1383" href="#L1383" id="L1383">
<i class="fa fa-link"></i>
1383
</a>
<a class="diff-line-num" data-line-number="1384" href="#L1384" id="L1384">
<i class="fa fa-link"></i>
1384
</a>
<a class="diff-line-num" data-line-number="1385" href="#L1385" id="L1385">
<i class="fa fa-link"></i>
1385
</a>
<a class="diff-line-num" data-line-number="1386" href="#L1386" id="L1386">
<i class="fa fa-link"></i>
1386
</a>
<a class="diff-line-num" data-line-number="1387" href="#L1387" id="L1387">
<i class="fa fa-link"></i>
1387
</a>
<a class="diff-line-num" data-line-number="1388" href="#L1388" id="L1388">
<i class="fa fa-link"></i>
1388
</a>
<a class="diff-line-num" data-line-number="1389" href="#L1389" id="L1389">
<i class="fa fa-link"></i>
1389
</a>
<a class="diff-line-num" data-line-number="1390" href="#L1390" id="L1390">
<i class="fa fa-link"></i>
1390
</a>
<a class="diff-line-num" data-line-number="1391" href="#L1391" id="L1391">
<i class="fa fa-link"></i>
1391
</a>
<a class="diff-line-num" data-line-number="1392" href="#L1392" id="L1392">
<i class="fa fa-link"></i>
1392
</a>
<a class="diff-line-num" data-line-number="1393" href="#L1393" id="L1393">
<i class="fa fa-link"></i>
1393
</a>
<a class="diff-line-num" data-line-number="1394" href="#L1394" id="L1394">
<i class="fa fa-link"></i>
1394
</a>
<a class="diff-line-num" data-line-number="1395" href="#L1395" id="L1395">
<i class="fa fa-link"></i>
1395
</a>
<a class="diff-line-num" data-line-number="1396" href="#L1396" id="L1396">
<i class="fa fa-link"></i>
1396
</a>
<a class="diff-line-num" data-line-number="1397" href="#L1397" id="L1397">
<i class="fa fa-link"></i>
1397
</a>
<a class="diff-line-num" data-line-number="1398" href="#L1398" id="L1398">
<i class="fa fa-link"></i>
1398
</a>
<a class="diff-line-num" data-line-number="1399" href="#L1399" id="L1399">
<i class="fa fa-link"></i>
1399
</a>
<a class="diff-line-num" data-line-number="1400" href="#L1400" id="L1400">
<i class="fa fa-link"></i>
1400
</a>
<a class="diff-line-num" data-line-number="1401" href="#L1401" id="L1401">
<i class="fa fa-link"></i>
1401
</a>
<a class="diff-line-num" data-line-number="1402" href="#L1402" id="L1402">
<i class="fa fa-link"></i>
1402
</a>
<a class="diff-line-num" data-line-number="1403" href="#L1403" id="L1403">
<i class="fa fa-link"></i>
1403
</a>
<a class="diff-line-num" data-line-number="1404" href="#L1404" id="L1404">
<i class="fa fa-link"></i>
1404
</a>
<a class="diff-line-num" data-line-number="1405" href="#L1405" id="L1405">
<i class="fa fa-link"></i>
1405
</a>
<a class="diff-line-num" data-line-number="1406" href="#L1406" id="L1406">
<i class="fa fa-link"></i>
1406
</a>
<a class="diff-line-num" data-line-number="1407" href="#L1407" id="L1407">
<i class="fa fa-link"></i>
1407
</a>
<a class="diff-line-num" data-line-number="1408" href="#L1408" id="L1408">
<i class="fa fa-link"></i>
1408
</a>
<a class="diff-line-num" data-line-number="1409" href="#L1409" id="L1409">
<i class="fa fa-link"></i>
1409
</a>
<a class="diff-line-num" data-line-number="1410" href="#L1410" id="L1410">
<i class="fa fa-link"></i>
1410
</a>
<a class="diff-line-num" data-line-number="1411" href="#L1411" id="L1411">
<i class="fa fa-link"></i>
1411
</a>
<a class="diff-line-num" data-line-number="1412" href="#L1412" id="L1412">
<i class="fa fa-link"></i>
1412
</a>
<a class="diff-line-num" data-line-number="1413" href="#L1413" id="L1413">
<i class="fa fa-link"></i>
1413
</a>
<a class="diff-line-num" data-line-number="1414" href="#L1414" id="L1414">
<i class="fa fa-link"></i>
1414
</a>
<a class="diff-line-num" data-line-number="1415" href="#L1415" id="L1415">
<i class="fa fa-link"></i>
1415
</a>
<a class="diff-line-num" data-line-number="1416" href="#L1416" id="L1416">
<i class="fa fa-link"></i>
1416
</a>
<a class="diff-line-num" data-line-number="1417" href="#L1417" id="L1417">
<i class="fa fa-link"></i>
1417
</a>
<a class="diff-line-num" data-line-number="1418" href="#L1418" id="L1418">
<i class="fa fa-link"></i>
1418
</a>
<a class="diff-line-num" data-line-number="1419" href="#L1419" id="L1419">
<i class="fa fa-link"></i>
1419
</a>
<a class="diff-line-num" data-line-number="1420" href="#L1420" id="L1420">
<i class="fa fa-link"></i>
1420
</a>
<a class="diff-line-num" data-line-number="1421" href="#L1421" id="L1421">
<i class="fa fa-link"></i>
1421
</a>
<a class="diff-line-num" data-line-number="1422" href="#L1422" id="L1422">
<i class="fa fa-link"></i>
1422
</a>
<a class="diff-line-num" data-line-number="1423" href="#L1423" id="L1423">
<i class="fa fa-link"></i>
1423
</a>
<a class="diff-line-num" data-line-number="1424" href="#L1424" id="L1424">
<i class="fa fa-link"></i>
1424
</a>
<a class="diff-line-num" data-line-number="1425" href="#L1425" id="L1425">
<i class="fa fa-link"></i>
1425
</a>
<a class="diff-line-num" data-line-number="1426" href="#L1426" id="L1426">
<i class="fa fa-link"></i>
1426
</a>
<a class="diff-line-num" data-line-number="1427" href="#L1427" id="L1427">
<i class="fa fa-link"></i>
1427
</a>
<a class="diff-line-num" data-line-number="1428" href="#L1428" id="L1428">
<i class="fa fa-link"></i>
1428
</a>
<a class="diff-line-num" data-line-number="1429" href="#L1429" id="L1429">
<i class="fa fa-link"></i>
1429
</a>
<a class="diff-line-num" data-line-number="1430" href="#L1430" id="L1430">
<i class="fa fa-link"></i>
1430
</a>
<a class="diff-line-num" data-line-number="1431" href="#L1431" id="L1431">
<i class="fa fa-link"></i>
1431
</a>
<a class="diff-line-num" data-line-number="1432" href="#L1432" id="L1432">
<i class="fa fa-link"></i>
1432
</a>
<a class="diff-line-num" data-line-number="1433" href="#L1433" id="L1433">
<i class="fa fa-link"></i>
1433
</a>
<a class="diff-line-num" data-line-number="1434" href="#L1434" id="L1434">
<i class="fa fa-link"></i>
1434
</a>
<a class="diff-line-num" data-line-number="1435" href="#L1435" id="L1435">
<i class="fa fa-link"></i>
1435
</a>
<a class="diff-line-num" data-line-number="1436" href="#L1436" id="L1436">
<i class="fa fa-link"></i>
1436
</a>
<a class="diff-line-num" data-line-number="1437" href="#L1437" id="L1437">
<i class="fa fa-link"></i>
1437
</a>
<a class="diff-line-num" data-line-number="1438" href="#L1438" id="L1438">
<i class="fa fa-link"></i>
1438
</a>
<a class="diff-line-num" data-line-number="1439" href="#L1439" id="L1439">
<i class="fa fa-link"></i>
1439
</a>
<a class="diff-line-num" data-line-number="1440" href="#L1440" id="L1440">
<i class="fa fa-link"></i>
1440
</a>
<a class="diff-line-num" data-line-number="1441" href="#L1441" id="L1441">
<i class="fa fa-link"></i>
1441
</a>
<a class="diff-line-num" data-line-number="1442" href="#L1442" id="L1442">
<i class="fa fa-link"></i>
1442
</a>
<a class="diff-line-num" data-line-number="1443" href="#L1443" id="L1443">
<i class="fa fa-link"></i>
1443
</a>
<a class="diff-line-num" data-line-number="1444" href="#L1444" id="L1444">
<i class="fa fa-link"></i>
1444
</a>
<a class="diff-line-num" data-line-number="1445" href="#L1445" id="L1445">
<i class="fa fa-link"></i>
1445
</a>
<a class="diff-line-num" data-line-number="1446" href="#L1446" id="L1446">
<i class="fa fa-link"></i>
1446
</a>
<a class="diff-line-num" data-line-number="1447" href="#L1447" id="L1447">
<i class="fa fa-link"></i>
1447
</a>
<a class="diff-line-num" data-line-number="1448" href="#L1448" id="L1448">
<i class="fa fa-link"></i>
1448
</a>
<a class="diff-line-num" data-line-number="1449" href="#L1449" id="L1449">
<i class="fa fa-link"></i>
1449
</a>
<a class="diff-line-num" data-line-number="1450" href="#L1450" id="L1450">
<i class="fa fa-link"></i>
1450
</a>
<a class="diff-line-num" data-line-number="1451" href="#L1451" id="L1451">
<i class="fa fa-link"></i>
1451
</a>
<a class="diff-line-num" data-line-number="1452" href="#L1452" id="L1452">
<i class="fa fa-link"></i>
1452
</a>
<a class="diff-line-num" data-line-number="1453" href="#L1453" id="L1453">
<i class="fa fa-link"></i>
1453
</a>
<a class="diff-line-num" data-line-number="1454" href="#L1454" id="L1454">
<i class="fa fa-link"></i>
1454
</a>
<a class="diff-line-num" data-line-number="1455" href="#L1455" id="L1455">
<i class="fa fa-link"></i>
1455
</a>
<a class="diff-line-num" data-line-number="1456" href="#L1456" id="L1456">
<i class="fa fa-link"></i>
1456
</a>
<a class="diff-line-num" data-line-number="1457" href="#L1457" id="L1457">
<i class="fa fa-link"></i>
1457
</a>
<a class="diff-line-num" data-line-number="1458" href="#L1458" id="L1458">
<i class="fa fa-link"></i>
1458
</a>
<a class="diff-line-num" data-line-number="1459" href="#L1459" id="L1459">
<i class="fa fa-link"></i>
1459
</a>
<a class="diff-line-num" data-line-number="1460" href="#L1460" id="L1460">
<i class="fa fa-link"></i>
1460
</a>
<a class="diff-line-num" data-line-number="1461" href="#L1461" id="L1461">
<i class="fa fa-link"></i>
1461
</a>
<a class="diff-line-num" data-line-number="1462" href="#L1462" id="L1462">
<i class="fa fa-link"></i>
1462
</a>
<a class="diff-line-num" data-line-number="1463" href="#L1463" id="L1463">
<i class="fa fa-link"></i>
1463
</a>
<a class="diff-line-num" data-line-number="1464" href="#L1464" id="L1464">
<i class="fa fa-link"></i>
1464
</a>
<a class="diff-line-num" data-line-number="1465" href="#L1465" id="L1465">
<i class="fa fa-link"></i>
1465
</a>
<a class="diff-line-num" data-line-number="1466" href="#L1466" id="L1466">
<i class="fa fa-link"></i>
1466
</a>
<a class="diff-line-num" data-line-number="1467" href="#L1467" id="L1467">
<i class="fa fa-link"></i>
1467
</a>
<a class="diff-line-num" data-line-number="1468" href="#L1468" id="L1468">
<i class="fa fa-link"></i>
1468
</a>
<a class="diff-line-num" data-line-number="1469" href="#L1469" id="L1469">
<i class="fa fa-link"></i>
1469
</a>
<a class="diff-line-num" data-line-number="1470" href="#L1470" id="L1470">
<i class="fa fa-link"></i>
1470
</a>
<a class="diff-line-num" data-line-number="1471" href="#L1471" id="L1471">
<i class="fa fa-link"></i>
1471
</a>
<a class="diff-line-num" data-line-number="1472" href="#L1472" id="L1472">
<i class="fa fa-link"></i>
1472
</a>
<a class="diff-line-num" data-line-number="1473" href="#L1473" id="L1473">
<i class="fa fa-link"></i>
1473
</a>
<a class="diff-line-num" data-line-number="1474" href="#L1474" id="L1474">
<i class="fa fa-link"></i>
1474
</a>
<a class="diff-line-num" data-line-number="1475" href="#L1475" id="L1475">
<i class="fa fa-link"></i>
1475
</a>
<a class="diff-line-num" data-line-number="1476" href="#L1476" id="L1476">
<i class="fa fa-link"></i>
1476
</a>
<a class="diff-line-num" data-line-number="1477" href="#L1477" id="L1477">
<i class="fa fa-link"></i>
1477
</a>
<a class="diff-line-num" data-line-number="1478" href="#L1478" id="L1478">
<i class="fa fa-link"></i>
1478
</a>
<a class="diff-line-num" data-line-number="1479" href="#L1479" id="L1479">
<i class="fa fa-link"></i>
1479
</a>
<a class="diff-line-num" data-line-number="1480" href="#L1480" id="L1480">
<i class="fa fa-link"></i>
1480
</a>
<a class="diff-line-num" data-line-number="1481" href="#L1481" id="L1481">
<i class="fa fa-link"></i>
1481
</a>
<a class="diff-line-num" data-line-number="1482" href="#L1482" id="L1482">
<i class="fa fa-link"></i>
1482
</a>
<a class="diff-line-num" data-line-number="1483" href="#L1483" id="L1483">
<i class="fa fa-link"></i>
1483
</a>
<a class="diff-line-num" data-line-number="1484" href="#L1484" id="L1484">
<i class="fa fa-link"></i>
1484
</a>
<a class="diff-line-num" data-line-number="1485" href="#L1485" id="L1485">
<i class="fa fa-link"></i>
1485
</a>
<a class="diff-line-num" data-line-number="1486" href="#L1486" id="L1486">
<i class="fa fa-link"></i>
1486
</a>
<a class="diff-line-num" data-line-number="1487" href="#L1487" id="L1487">
<i class="fa fa-link"></i>
1487
</a>
<a class="diff-line-num" data-line-number="1488" href="#L1488" id="L1488">
<i class="fa fa-link"></i>
1488
</a>
<a class="diff-line-num" data-line-number="1489" href="#L1489" id="L1489">
<i class="fa fa-link"></i>
1489
</a>
<a class="diff-line-num" data-line-number="1490" href="#L1490" id="L1490">
<i class="fa fa-link"></i>
1490
</a>
<a class="diff-line-num" data-line-number="1491" href="#L1491" id="L1491">
<i class="fa fa-link"></i>
1491
</a>
<a class="diff-line-num" data-line-number="1492" href="#L1492" id="L1492">
<i class="fa fa-link"></i>
1492
</a>
<a class="diff-line-num" data-line-number="1493" href="#L1493" id="L1493">
<i class="fa fa-link"></i>
1493
</a>
<a class="diff-line-num" data-line-number="1494" href="#L1494" id="L1494">
<i class="fa fa-link"></i>
1494
</a>
<a class="diff-line-num" data-line-number="1495" href="#L1495" id="L1495">
<i class="fa fa-link"></i>
1495
</a>
<a class="diff-line-num" data-line-number="1496" href="#L1496" id="L1496">
<i class="fa fa-link"></i>
1496
</a>
<a class="diff-line-num" data-line-number="1497" href="#L1497" id="L1497">
<i class="fa fa-link"></i>
1497
</a>
<a class="diff-line-num" data-line-number="1498" href="#L1498" id="L1498">
<i class="fa fa-link"></i>
1498
</a>
<a class="diff-line-num" data-line-number="1499" href="#L1499" id="L1499">
<i class="fa fa-link"></i>
1499
</a>
<a class="diff-line-num" data-line-number="1500" href="#L1500" id="L1500">
<i class="fa fa-link"></i>
1500
</a>
<a class="diff-line-num" data-line-number="1501" href="#L1501" id="L1501">
<i class="fa fa-link"></i>
1501
</a>
<a class="diff-line-num" data-line-number="1502" href="#L1502" id="L1502">
<i class="fa fa-link"></i>
1502
</a>
<a class="diff-line-num" data-line-number="1503" href="#L1503" id="L1503">
<i class="fa fa-link"></i>
1503
</a>
<a class="diff-line-num" data-line-number="1504" href="#L1504" id="L1504">
<i class="fa fa-link"></i>
1504
</a>
<a class="diff-line-num" data-line-number="1505" href="#L1505" id="L1505">
<i class="fa fa-link"></i>
1505
</a>
<a class="diff-line-num" data-line-number="1506" href="#L1506" id="L1506">
<i class="fa fa-link"></i>
1506
</a>
<a class="diff-line-num" data-line-number="1507" href="#L1507" id="L1507">
<i class="fa fa-link"></i>
1507
</a>
<a class="diff-line-num" data-line-number="1508" href="#L1508" id="L1508">
<i class="fa fa-link"></i>
1508
</a>
<a class="diff-line-num" data-line-number="1509" href="#L1509" id="L1509">
<i class="fa fa-link"></i>
1509
</a>
<a class="diff-line-num" data-line-number="1510" href="#L1510" id="L1510">
<i class="fa fa-link"></i>
1510
</a>
<a class="diff-line-num" data-line-number="1511" href="#L1511" id="L1511">
<i class="fa fa-link"></i>
1511
</a>
<a class="diff-line-num" data-line-number="1512" href="#L1512" id="L1512">
<i class="fa fa-link"></i>
1512
</a>
<a class="diff-line-num" data-line-number="1513" href="#L1513" id="L1513">
<i class="fa fa-link"></i>
1513
</a>
<a class="diff-line-num" data-line-number="1514" href="#L1514" id="L1514">
<i class="fa fa-link"></i>
1514
</a>
<a class="diff-line-num" data-line-number="1515" href="#L1515" id="L1515">
<i class="fa fa-link"></i>
1515
</a>
<a class="diff-line-num" data-line-number="1516" href="#L1516" id="L1516">
<i class="fa fa-link"></i>
1516
</a>
<a class="diff-line-num" data-line-number="1517" href="#L1517" id="L1517">
<i class="fa fa-link"></i>
1517
</a>
<a class="diff-line-num" data-line-number="1518" href="#L1518" id="L1518">
<i class="fa fa-link"></i>
1518
</a>
<a class="diff-line-num" data-line-number="1519" href="#L1519" id="L1519">
<i class="fa fa-link"></i>
1519
</a>
<a class="diff-line-num" data-line-number="1520" href="#L1520" id="L1520">
<i class="fa fa-link"></i>
1520
</a>
<a class="diff-line-num" data-line-number="1521" href="#L1521" id="L1521">
<i class="fa fa-link"></i>
1521
</a>
<a class="diff-line-num" data-line-number="1522" href="#L1522" id="L1522">
<i class="fa fa-link"></i>
1522
</a>
<a class="diff-line-num" data-line-number="1523" href="#L1523" id="L1523">
<i class="fa fa-link"></i>
1523
</a>
<a class="diff-line-num" data-line-number="1524" href="#L1524" id="L1524">
<i class="fa fa-link"></i>
1524
</a>
<a class="diff-line-num" data-line-number="1525" href="#L1525" id="L1525">
<i class="fa fa-link"></i>
1525
</a>
<a class="diff-line-num" data-line-number="1526" href="#L1526" id="L1526">
<i class="fa fa-link"></i>
1526
</a>
<a class="diff-line-num" data-line-number="1527" href="#L1527" id="L1527">
<i class="fa fa-link"></i>
1527
</a>
<a class="diff-line-num" data-line-number="1528" href="#L1528" id="L1528">
<i class="fa fa-link"></i>
1528
</a>
<a class="diff-line-num" data-line-number="1529" href="#L1529" id="L1529">
<i class="fa fa-link"></i>
1529
</a>
<a class="diff-line-num" data-line-number="1530" href="#L1530" id="L1530">
<i class="fa fa-link"></i>
1530
</a>
<a class="diff-line-num" data-line-number="1531" href="#L1531" id="L1531">
<i class="fa fa-link"></i>
1531
</a>
<a class="diff-line-num" data-line-number="1532" href="#L1532" id="L1532">
<i class="fa fa-link"></i>
1532
</a>
<a class="diff-line-num" data-line-number="1533" href="#L1533" id="L1533">
<i class="fa fa-link"></i>
1533
</a>
<a class="diff-line-num" data-line-number="1534" href="#L1534" id="L1534">
<i class="fa fa-link"></i>
1534
</a>
<a class="diff-line-num" data-line-number="1535" href="#L1535" id="L1535">
<i class="fa fa-link"></i>
1535
</a>
<a class="diff-line-num" data-line-number="1536" href="#L1536" id="L1536">
<i class="fa fa-link"></i>
1536
</a>
<a class="diff-line-num" data-line-number="1537" href="#L1537" id="L1537">
<i class="fa fa-link"></i>
1537
</a>
<a class="diff-line-num" data-line-number="1538" href="#L1538" id="L1538">
<i class="fa fa-link"></i>
1538
</a>
<a class="diff-line-num" data-line-number="1539" href="#L1539" id="L1539">
<i class="fa fa-link"></i>
1539
</a>
<a class="diff-line-num" data-line-number="1540" href="#L1540" id="L1540">
<i class="fa fa-link"></i>
1540
</a>
<a class="diff-line-num" data-line-number="1541" href="#L1541" id="L1541">
<i class="fa fa-link"></i>
1541
</a>
<a class="diff-line-num" data-line-number="1542" href="#L1542" id="L1542">
<i class="fa fa-link"></i>
1542
</a>
<a class="diff-line-num" data-line-number="1543" href="#L1543" id="L1543">
<i class="fa fa-link"></i>
1543
</a>
<a class="diff-line-num" data-line-number="1544" href="#L1544" id="L1544">
<i class="fa fa-link"></i>
1544
</a>
<a class="diff-line-num" data-line-number="1545" href="#L1545" id="L1545">
<i class="fa fa-link"></i>
1545
</a>
<a class="diff-line-num" data-line-number="1546" href="#L1546" id="L1546">
<i class="fa fa-link"></i>
1546
</a>
<a class="diff-line-num" data-line-number="1547" href="#L1547" id="L1547">
<i class="fa fa-link"></i>
1547
</a>
<a class="diff-line-num" data-line-number="1548" href="#L1548" id="L1548">
<i class="fa fa-link"></i>
1548
</a>
<a class="diff-line-num" data-line-number="1549" href="#L1549" id="L1549">
<i class="fa fa-link"></i>
1549
</a>
<a class="diff-line-num" data-line-number="1550" href="#L1550" id="L1550">
<i class="fa fa-link"></i>
1550
</a>
<a class="diff-line-num" data-line-number="1551" href="#L1551" id="L1551">
<i class="fa fa-link"></i>
1551
</a>
<a class="diff-line-num" data-line-number="1552" href="#L1552" id="L1552">
<i class="fa fa-link"></i>
1552
</a>
<a class="diff-line-num" data-line-number="1553" href="#L1553" id="L1553">
<i class="fa fa-link"></i>
1553
</a>
<a class="diff-line-num" data-line-number="1554" href="#L1554" id="L1554">
<i class="fa fa-link"></i>
1554
</a>
<a class="diff-line-num" data-line-number="1555" href="#L1555" id="L1555">
<i class="fa fa-link"></i>
1555
</a>
<a class="diff-line-num" data-line-number="1556" href="#L1556" id="L1556">
<i class="fa fa-link"></i>
1556
</a>
<a class="diff-line-num" data-line-number="1557" href="#L1557" id="L1557">
<i class="fa fa-link"></i>
1557
</a>
<a class="diff-line-num" data-line-number="1558" href="#L1558" id="L1558">
<i class="fa fa-link"></i>
1558
</a>
<a class="diff-line-num" data-line-number="1559" href="#L1559" id="L1559">
<i class="fa fa-link"></i>
1559
</a>
<a class="diff-line-num" data-line-number="1560" href="#L1560" id="L1560">
<i class="fa fa-link"></i>
1560
</a>
<a class="diff-line-num" data-line-number="1561" href="#L1561" id="L1561">
<i class="fa fa-link"></i>
1561
</a>
<a class="diff-line-num" data-line-number="1562" href="#L1562" id="L1562">
<i class="fa fa-link"></i>
1562
</a>
<a class="diff-line-num" data-line-number="1563" href="#L1563" id="L1563">
<i class="fa fa-link"></i>
1563
</a>
<a class="diff-line-num" data-line-number="1564" href="#L1564" id="L1564">
<i class="fa fa-link"></i>
1564
</a>
<a class="diff-line-num" data-line-number="1565" href="#L1565" id="L1565">
<i class="fa fa-link"></i>
1565
</a>
<a class="diff-line-num" data-line-number="1566" href="#L1566" id="L1566">
<i class="fa fa-link"></i>
1566
</a>
<a class="diff-line-num" data-line-number="1567" href="#L1567" id="L1567">
<i class="fa fa-link"></i>
1567
</a>
<a class="diff-line-num" data-line-number="1568" href="#L1568" id="L1568">
<i class="fa fa-link"></i>
1568
</a>
<a class="diff-line-num" data-line-number="1569" href="#L1569" id="L1569">
<i class="fa fa-link"></i>
1569
</a>
<a class="diff-line-num" data-line-number="1570" href="#L1570" id="L1570">
<i class="fa fa-link"></i>
1570
</a>
<a class="diff-line-num" data-line-number="1571" href="#L1571" id="L1571">
<i class="fa fa-link"></i>
1571
</a>
<a class="diff-line-num" data-line-number="1572" href="#L1572" id="L1572">
<i class="fa fa-link"></i>
1572
</a>
<a class="diff-line-num" data-line-number="1573" href="#L1573" id="L1573">
<i class="fa fa-link"></i>
1573
</a>
<a class="diff-line-num" data-line-number="1574" href="#L1574" id="L1574">
<i class="fa fa-link"></i>
1574
</a>
<a class="diff-line-num" data-line-number="1575" href="#L1575" id="L1575">
<i class="fa fa-link"></i>
1575
</a>
<a class="diff-line-num" data-line-number="1576" href="#L1576" id="L1576">
<i class="fa fa-link"></i>
1576
</a>
<a class="diff-line-num" data-line-number="1577" href="#L1577" id="L1577">
<i class="fa fa-link"></i>
1577
</a>
<a class="diff-line-num" data-line-number="1578" href="#L1578" id="L1578">
<i class="fa fa-link"></i>
1578
</a>
<a class="diff-line-num" data-line-number="1579" href="#L1579" id="L1579">
<i class="fa fa-link"></i>
1579
</a>
<a class="diff-line-num" data-line-number="1580" href="#L1580" id="L1580">
<i class="fa fa-link"></i>
1580
</a>
<a class="diff-line-num" data-line-number="1581" href="#L1581" id="L1581">
<i class="fa fa-link"></i>
1581
</a>
<a class="diff-line-num" data-line-number="1582" href="#L1582" id="L1582">
<i class="fa fa-link"></i>
1582
</a>
<a class="diff-line-num" data-line-number="1583" href="#L1583" id="L1583">
<i class="fa fa-link"></i>
1583
</a>
<a class="diff-line-num" data-line-number="1584" href="#L1584" id="L1584">
<i class="fa fa-link"></i>
1584
</a>
<a class="diff-line-num" data-line-number="1585" href="#L1585" id="L1585">
<i class="fa fa-link"></i>
1585
</a>
<a class="diff-line-num" data-line-number="1586" href="#L1586" id="L1586">
<i class="fa fa-link"></i>
1586
</a>
<a class="diff-line-num" data-line-number="1587" href="#L1587" id="L1587">
<i class="fa fa-link"></i>
1587
</a>
<a class="diff-line-num" data-line-number="1588" href="#L1588" id="L1588">
<i class="fa fa-link"></i>
1588
</a>
<a class="diff-line-num" data-line-number="1589" href="#L1589" id="L1589">
<i class="fa fa-link"></i>
1589
</a>
<a class="diff-line-num" data-line-number="1590" href="#L1590" id="L1590">
<i class="fa fa-link"></i>
1590
</a>
<a class="diff-line-num" data-line-number="1591" href="#L1591" id="L1591">
<i class="fa fa-link"></i>
1591
</a>
<a class="diff-line-num" data-line-number="1592" href="#L1592" id="L1592">
<i class="fa fa-link"></i>
1592
</a>
<a class="diff-line-num" data-line-number="1593" href="#L1593" id="L1593">
<i class="fa fa-link"></i>
1593
</a>
<a class="diff-line-num" data-line-number="1594" href="#L1594" id="L1594">
<i class="fa fa-link"></i>
1594
</a>
<a class="diff-line-num" data-line-number="1595" href="#L1595" id="L1595">
<i class="fa fa-link"></i>
1595
</a>
<a class="diff-line-num" data-line-number="1596" href="#L1596" id="L1596">
<i class="fa fa-link"></i>
1596
</a>
<a class="diff-line-num" data-line-number="1597" href="#L1597" id="L1597">
<i class="fa fa-link"></i>
1597
</a>
<a class="diff-line-num" data-line-number="1598" href="#L1598" id="L1598">
<i class="fa fa-link"></i>
1598
</a>
<a class="diff-line-num" data-line-number="1599" href="#L1599" id="L1599">
<i class="fa fa-link"></i>
1599
</a>
<a class="diff-line-num" data-line-number="1600" href="#L1600" id="L1600">
<i class="fa fa-link"></i>
1600
</a>
<a class="diff-line-num" data-line-number="1601" href="#L1601" id="L1601">
<i class="fa fa-link"></i>
1601
</a>
<a class="diff-line-num" data-line-number="1602" href="#L1602" id="L1602">
<i class="fa fa-link"></i>
1602
</a>
<a class="diff-line-num" data-line-number="1603" href="#L1603" id="L1603">
<i class="fa fa-link"></i>
1603
</a>
<a class="diff-line-num" data-line-number="1604" href="#L1604" id="L1604">
<i class="fa fa-link"></i>
1604
</a>
<a class="diff-line-num" data-line-number="1605" href="#L1605" id="L1605">
<i class="fa fa-link"></i>
1605
</a>
<a class="diff-line-num" data-line-number="1606" href="#L1606" id="L1606">
<i class="fa fa-link"></i>
1606
</a>
<a class="diff-line-num" data-line-number="1607" href="#L1607" id="L1607">
<i class="fa fa-link"></i>
1607
</a>
<a class="diff-line-num" data-line-number="1608" href="#L1608" id="L1608">
<i class="fa fa-link"></i>
1608
</a>
<a class="diff-line-num" data-line-number="1609" href="#L1609" id="L1609">
<i class="fa fa-link"></i>
1609
</a>
<a class="diff-line-num" data-line-number="1610" href="#L1610" id="L1610">
<i class="fa fa-link"></i>
1610
</a>
<a class="diff-line-num" data-line-number="1611" href="#L1611" id="L1611">
<i class="fa fa-link"></i>
1611
</a>
<a class="diff-line-num" data-line-number="1612" href="#L1612" id="L1612">
<i class="fa fa-link"></i>
1612
</a>
<a class="diff-line-num" data-line-number="1613" href="#L1613" id="L1613">
<i class="fa fa-link"></i>
1613
</a>
<a class="diff-line-num" data-line-number="1614" href="#L1614" id="L1614">
<i class="fa fa-link"></i>
1614
</a>
<a class="diff-line-num" data-line-number="1615" href="#L1615" id="L1615">
<i class="fa fa-link"></i>
1615
</a>
<a class="diff-line-num" data-line-number="1616" href="#L1616" id="L1616">
<i class="fa fa-link"></i>
1616
</a>
<a class="diff-line-num" data-line-number="1617" href="#L1617" id="L1617">
<i class="fa fa-link"></i>
1617
</a>
<a class="diff-line-num" data-line-number="1618" href="#L1618" id="L1618">
<i class="fa fa-link"></i>
1618
</a>
<a class="diff-line-num" data-line-number="1619" href="#L1619" id="L1619">
<i class="fa fa-link"></i>
1619
</a>
<a class="diff-line-num" data-line-number="1620" href="#L1620" id="L1620">
<i class="fa fa-link"></i>
1620
</a>
<a class="diff-line-num" data-line-number="1621" href="#L1621" id="L1621">
<i class="fa fa-link"></i>
1621
</a>
<a class="diff-line-num" data-line-number="1622" href="#L1622" id="L1622">
<i class="fa fa-link"></i>
1622
</a>
<a class="diff-line-num" data-line-number="1623" href="#L1623" id="L1623">
<i class="fa fa-link"></i>
1623
</a>
<a class="diff-line-num" data-line-number="1624" href="#L1624" id="L1624">
<i class="fa fa-link"></i>
1624
</a>
<a class="diff-line-num" data-line-number="1625" href="#L1625" id="L1625">
<i class="fa fa-link"></i>
1625
</a>
<a class="diff-line-num" data-line-number="1626" href="#L1626" id="L1626">
<i class="fa fa-link"></i>
1626
</a>
<a class="diff-line-num" data-line-number="1627" href="#L1627" id="L1627">
<i class="fa fa-link"></i>
1627
</a>
<a class="diff-line-num" data-line-number="1628" href="#L1628" id="L1628">
<i class="fa fa-link"></i>
1628
</a>
<a class="diff-line-num" data-line-number="1629" href="#L1629" id="L1629">
<i class="fa fa-link"></i>
1629
</a>
<a class="diff-line-num" data-line-number="1630" href="#L1630" id="L1630">
<i class="fa fa-link"></i>
1630
</a>
<a class="diff-line-num" data-line-number="1631" href="#L1631" id="L1631">
<i class="fa fa-link"></i>
1631
</a>
<a class="diff-line-num" data-line-number="1632" href="#L1632" id="L1632">
<i class="fa fa-link"></i>
1632
</a>
<a class="diff-line-num" data-line-number="1633" href="#L1633" id="L1633">
<i class="fa fa-link"></i>
1633
</a>
<a class="diff-line-num" data-line-number="1634" href="#L1634" id="L1634">
<i class="fa fa-link"></i>
1634
</a>
<a class="diff-line-num" data-line-number="1635" href="#L1635" id="L1635">
<i class="fa fa-link"></i>
1635
</a>
<a class="diff-line-num" data-line-number="1636" href="#L1636" id="L1636">
<i class="fa fa-link"></i>
1636
</a>
<a class="diff-line-num" data-line-number="1637" href="#L1637" id="L1637">
<i class="fa fa-link"></i>
1637
</a>
<a class="diff-line-num" data-line-number="1638" href="#L1638" id="L1638">
<i class="fa fa-link"></i>
1638
</a>
<a class="diff-line-num" data-line-number="1639" href="#L1639" id="L1639">
<i class="fa fa-link"></i>
1639
</a>
<a class="diff-line-num" data-line-number="1640" href="#L1640" id="L1640">
<i class="fa fa-link"></i>
1640
</a>
<a class="diff-line-num" data-line-number="1641" href="#L1641" id="L1641">
<i class="fa fa-link"></i>
1641
</a>
<a class="diff-line-num" data-line-number="1642" href="#L1642" id="L1642">
<i class="fa fa-link"></i>
1642
</a>
<a class="diff-line-num" data-line-number="1643" href="#L1643" id="L1643">
<i class="fa fa-link"></i>
1643
</a>
<a class="diff-line-num" data-line-number="1644" href="#L1644" id="L1644">
<i class="fa fa-link"></i>
1644
</a>
<a class="diff-line-num" data-line-number="1645" href="#L1645" id="L1645">
<i class="fa fa-link"></i>
1645
</a>
<a class="diff-line-num" data-line-number="1646" href="#L1646" id="L1646">
<i class="fa fa-link"></i>
1646
</a>
<a class="diff-line-num" data-line-number="1647" href="#L1647" id="L1647">
<i class="fa fa-link"></i>
1647
</a>
<a class="diff-line-num" data-line-number="1648" href="#L1648" id="L1648">
<i class="fa fa-link"></i>
1648
</a>
<a class="diff-line-num" data-line-number="1649" href="#L1649" id="L1649">
<i class="fa fa-link"></i>
1649
</a>
<a class="diff-line-num" data-line-number="1650" href="#L1650" id="L1650">
<i class="fa fa-link"></i>
1650
</a>
<a class="diff-line-num" data-line-number="1651" href="#L1651" id="L1651">
<i class="fa fa-link"></i>
1651
</a>
<a class="diff-line-num" data-line-number="1652" href="#L1652" id="L1652">
<i class="fa fa-link"></i>
1652
</a>
<a class="diff-line-num" data-line-number="1653" href="#L1653" id="L1653">
<i class="fa fa-link"></i>
1653
</a>
<a class="diff-line-num" data-line-number="1654" href="#L1654" id="L1654">
<i class="fa fa-link"></i>
1654
</a>
<a class="diff-line-num" data-line-number="1655" href="#L1655" id="L1655">
<i class="fa fa-link"></i>
1655
</a>
<a class="diff-line-num" data-line-number="1656" href="#L1656" id="L1656">
<i class="fa fa-link"></i>
1656
</a>
<a class="diff-line-num" data-line-number="1657" href="#L1657" id="L1657">
<i class="fa fa-link"></i>
1657
</a>
<a class="diff-line-num" data-line-number="1658" href="#L1658" id="L1658">
<i class="fa fa-link"></i>
1658
</a>
<a class="diff-line-num" data-line-number="1659" href="#L1659" id="L1659">
<i class="fa fa-link"></i>
1659
</a>
<a class="diff-line-num" data-line-number="1660" href="#L1660" id="L1660">
<i class="fa fa-link"></i>
1660
</a>
<a class="diff-line-num" data-line-number="1661" href="#L1661" id="L1661">
<i class="fa fa-link"></i>
1661
</a>
<a class="diff-line-num" data-line-number="1662" href="#L1662" id="L1662">
<i class="fa fa-link"></i>
1662
</a>
<a class="diff-line-num" data-line-number="1663" href="#L1663" id="L1663">
<i class="fa fa-link"></i>
1663
</a>
<a class="diff-line-num" data-line-number="1664" href="#L1664" id="L1664">
<i class="fa fa-link"></i>
1664
</a>
<a class="diff-line-num" data-line-number="1665" href="#L1665" id="L1665">
<i class="fa fa-link"></i>
1665
</a>
<a class="diff-line-num" data-line-number="1666" href="#L1666" id="L1666">
<i class="fa fa-link"></i>
1666
</a>
<a class="diff-line-num" data-line-number="1667" href="#L1667" id="L1667">
<i class="fa fa-link"></i>
1667
</a>
<a class="diff-line-num" data-line-number="1668" href="#L1668" id="L1668">
<i class="fa fa-link"></i>
1668
</a>
<a class="diff-line-num" data-line-number="1669" href="#L1669" id="L1669">
<i class="fa fa-link"></i>
1669
</a>
<a class="diff-line-num" data-line-number="1670" href="#L1670" id="L1670">
<i class="fa fa-link"></i>
1670
</a>
<a class="diff-line-num" data-line-number="1671" href="#L1671" id="L1671">
<i class="fa fa-link"></i>
1671
</a>
<a class="diff-line-num" data-line-number="1672" href="#L1672" id="L1672">
<i class="fa fa-link"></i>
1672
</a>
<a class="diff-line-num" data-line-number="1673" href="#L1673" id="L1673">
<i class="fa fa-link"></i>
1673
</a>
<a class="diff-line-num" data-line-number="1674" href="#L1674" id="L1674">
<i class="fa fa-link"></i>
1674
</a>
<a class="diff-line-num" data-line-number="1675" href="#L1675" id="L1675">
<i class="fa fa-link"></i>
1675
</a>
<a class="diff-line-num" data-line-number="1676" href="#L1676" id="L1676">
<i class="fa fa-link"></i>
1676
</a>
<a class="diff-line-num" data-line-number="1677" href="#L1677" id="L1677">
<i class="fa fa-link"></i>
1677
</a>
<a class="diff-line-num" data-line-number="1678" href="#L1678" id="L1678">
<i class="fa fa-link"></i>
1678
</a>
<a class="diff-line-num" data-line-number="1679" href="#L1679" id="L1679">
<i class="fa fa-link"></i>
1679
</a>
<a class="diff-line-num" data-line-number="1680" href="#L1680" id="L1680">
<i class="fa fa-link"></i>
1680
</a>
<a class="diff-line-num" data-line-number="1681" href="#L1681" id="L1681">
<i class="fa fa-link"></i>
1681
</a>
<a class="diff-line-num" data-line-number="1682" href="#L1682" id="L1682">
<i class="fa fa-link"></i>
1682
</a>
<a class="diff-line-num" data-line-number="1683" href="#L1683" id="L1683">
<i class="fa fa-link"></i>
1683
</a>
<a class="diff-line-num" data-line-number="1684" href="#L1684" id="L1684">
<i class="fa fa-link"></i>
1684
</a>
<a class="diff-line-num" data-line-number="1685" href="#L1685" id="L1685">
<i class="fa fa-link"></i>
1685
</a>
<a class="diff-line-num" data-line-number="1686" href="#L1686" id="L1686">
<i class="fa fa-link"></i>
1686
</a>
<a class="diff-line-num" data-line-number="1687" href="#L1687" id="L1687">
<i class="fa fa-link"></i>
1687
</a>
<a class="diff-line-num" data-line-number="1688" href="#L1688" id="L1688">
<i class="fa fa-link"></i>
1688
</a>
<a class="diff-line-num" data-line-number="1689" href="#L1689" id="L1689">
<i class="fa fa-link"></i>
1689
</a>
<a class="diff-line-num" data-line-number="1690" href="#L1690" id="L1690">
<i class="fa fa-link"></i>
1690
</a>
<a class="diff-line-num" data-line-number="1691" href="#L1691" id="L1691">
<i class="fa fa-link"></i>
1691
</a>
<a class="diff-line-num" data-line-number="1692" href="#L1692" id="L1692">
<i class="fa fa-link"></i>
1692
</a>
<a class="diff-line-num" data-line-number="1693" href="#L1693" id="L1693">
<i class="fa fa-link"></i>
1693
</a>
<a class="diff-line-num" data-line-number="1694" href="#L1694" id="L1694">
<i class="fa fa-link"></i>
1694
</a>
<a class="diff-line-num" data-line-number="1695" href="#L1695" id="L1695">
<i class="fa fa-link"></i>
1695
</a>
<a class="diff-line-num" data-line-number="1696" href="#L1696" id="L1696">
<i class="fa fa-link"></i>
1696
</a>
<a class="diff-line-num" data-line-number="1697" href="#L1697" id="L1697">
<i class="fa fa-link"></i>
1697
</a>
<a class="diff-line-num" data-line-number="1698" href="#L1698" id="L1698">
<i class="fa fa-link"></i>
1698
</a>
<a class="diff-line-num" data-line-number="1699" href="#L1699" id="L1699">
<i class="fa fa-link"></i>
1699
</a>
<a class="diff-line-num" data-line-number="1700" href="#L1700" id="L1700">
<i class="fa fa-link"></i>
1700
</a>
<a class="diff-line-num" data-line-number="1701" href="#L1701" id="L1701">
<i class="fa fa-link"></i>
1701
</a>
<a class="diff-line-num" data-line-number="1702" href="#L1702" id="L1702">
<i class="fa fa-link"></i>
1702
</a>
<a class="diff-line-num" data-line-number="1703" href="#L1703" id="L1703">
<i class="fa fa-link"></i>
1703
</a>
<a class="diff-line-num" data-line-number="1704" href="#L1704" id="L1704">
<i class="fa fa-link"></i>
1704
</a>
<a class="diff-line-num" data-line-number="1705" href="#L1705" id="L1705">
<i class="fa fa-link"></i>
1705
</a>
<a class="diff-line-num" data-line-number="1706" href="#L1706" id="L1706">
<i class="fa fa-link"></i>
1706
</a>
<a class="diff-line-num" data-line-number="1707" href="#L1707" id="L1707">
<i class="fa fa-link"></i>
1707
</a>
<a class="diff-line-num" data-line-number="1708" href="#L1708" id="L1708">
<i class="fa fa-link"></i>
1708
</a>
<a class="diff-line-num" data-line-number="1709" href="#L1709" id="L1709">
<i class="fa fa-link"></i>
1709
</a>
<a class="diff-line-num" data-line-number="1710" href="#L1710" id="L1710">
<i class="fa fa-link"></i>
1710
</a>
<a class="diff-line-num" data-line-number="1711" href="#L1711" id="L1711">
<i class="fa fa-link"></i>
1711
</a>
<a class="diff-line-num" data-line-number="1712" href="#L1712" id="L1712">
<i class="fa fa-link"></i>
1712
</a>
<a class="diff-line-num" data-line-number="1713" href="#L1713" id="L1713">
<i class="fa fa-link"></i>
1713
</a>
<a class="diff-line-num" data-line-number="1714" href="#L1714" id="L1714">
<i class="fa fa-link"></i>
1714
</a>
<a class="diff-line-num" data-line-number="1715" href="#L1715" id="L1715">
<i class="fa fa-link"></i>
1715
</a>
<a class="diff-line-num" data-line-number="1716" href="#L1716" id="L1716">
<i class="fa fa-link"></i>
1716
</a>
<a class="diff-line-num" data-line-number="1717" href="#L1717" id="L1717">
<i class="fa fa-link"></i>
1717
</a>
<a class="diff-line-num" data-line-number="1718" href="#L1718" id="L1718">
<i class="fa fa-link"></i>
1718
</a>
<a class="diff-line-num" data-line-number="1719" href="#L1719" id="L1719">
<i class="fa fa-link"></i>
1719
</a>
<a class="diff-line-num" data-line-number="1720" href="#L1720" id="L1720">
<i class="fa fa-link"></i>
1720
</a>
<a class="diff-line-num" data-line-number="1721" href="#L1721" id="L1721">
<i class="fa fa-link"></i>
1721
</a>
<a class="diff-line-num" data-line-number="1722" href="#L1722" id="L1722">
<i class="fa fa-link"></i>
1722
</a>
<a class="diff-line-num" data-line-number="1723" href="#L1723" id="L1723">
<i class="fa fa-link"></i>
1723
</a>
<a class="diff-line-num" data-line-number="1724" href="#L1724" id="L1724">
<i class="fa fa-link"></i>
1724
</a>
<a class="diff-line-num" data-line-number="1725" href="#L1725" id="L1725">
<i class="fa fa-link"></i>
1725
</a>
<a class="diff-line-num" data-line-number="1726" href="#L1726" id="L1726">
<i class="fa fa-link"></i>
1726
</a>
<a class="diff-line-num" data-line-number="1727" href="#L1727" id="L1727">
<i class="fa fa-link"></i>
1727
</a>
<a class="diff-line-num" data-line-number="1728" href="#L1728" id="L1728">
<i class="fa fa-link"></i>
1728
</a>
<a class="diff-line-num" data-line-number="1729" href="#L1729" id="L1729">
<i class="fa fa-link"></i>
1729
</a>
<a class="diff-line-num" data-line-number="1730" href="#L1730" id="L1730">
<i class="fa fa-link"></i>
1730
</a>
<a class="diff-line-num" data-line-number="1731" href="#L1731" id="L1731">
<i class="fa fa-link"></i>
1731
</a>
<a class="diff-line-num" data-line-number="1732" href="#L1732" id="L1732">
<i class="fa fa-link"></i>
1732
</a>
<a class="diff-line-num" data-line-number="1733" href="#L1733" id="L1733">
<i class="fa fa-link"></i>
1733
</a>
<a class="diff-line-num" data-line-number="1734" href="#L1734" id="L1734">
<i class="fa fa-link"></i>
1734
</a>
<a class="diff-line-num" data-line-number="1735" href="#L1735" id="L1735">
<i class="fa fa-link"></i>
1735
</a>
<a class="diff-line-num" data-line-number="1736" href="#L1736" id="L1736">
<i class="fa fa-link"></i>
1736
</a>
<a class="diff-line-num" data-line-number="1737" href="#L1737" id="L1737">
<i class="fa fa-link"></i>
1737
</a>
<a class="diff-line-num" data-line-number="1738" href="#L1738" id="L1738">
<i class="fa fa-link"></i>
1738
</a>
<a class="diff-line-num" data-line-number="1739" href="#L1739" id="L1739">
<i class="fa fa-link"></i>
1739
</a>
<a class="diff-line-num" data-line-number="1740" href="#L1740" id="L1740">
<i class="fa fa-link"></i>
1740
</a>
<a class="diff-line-num" data-line-number="1741" href="#L1741" id="L1741">
<i class="fa fa-link"></i>
1741
</a>
<a class="diff-line-num" data-line-number="1742" href="#L1742" id="L1742">
<i class="fa fa-link"></i>
1742
</a>
<a class="diff-line-num" data-line-number="1743" href="#L1743" id="L1743">
<i class="fa fa-link"></i>
1743
</a>
<a class="diff-line-num" data-line-number="1744" href="#L1744" id="L1744">
<i class="fa fa-link"></i>
1744
</a>
<a class="diff-line-num" data-line-number="1745" href="#L1745" id="L1745">
<i class="fa fa-link"></i>
1745
</a>
<a class="diff-line-num" data-line-number="1746" href="#L1746" id="L1746">
<i class="fa fa-link"></i>
1746
</a>
<a class="diff-line-num" data-line-number="1747" href="#L1747" id="L1747">
<i class="fa fa-link"></i>
1747
</a>
<a class="diff-line-num" data-line-number="1748" href="#L1748" id="L1748">
<i class="fa fa-link"></i>
1748
</a>
<a class="diff-line-num" data-line-number="1749" href="#L1749" id="L1749">
<i class="fa fa-link"></i>
1749
</a>
<a class="diff-line-num" data-line-number="1750" href="#L1750" id="L1750">
<i class="fa fa-link"></i>
1750
</a>
<a class="diff-line-num" data-line-number="1751" href="#L1751" id="L1751">
<i class="fa fa-link"></i>
1751
</a>
<a class="diff-line-num" data-line-number="1752" href="#L1752" id="L1752">
<i class="fa fa-link"></i>
1752
</a>
<a class="diff-line-num" data-line-number="1753" href="#L1753" id="L1753">
<i class="fa fa-link"></i>
1753
</a>
<a class="diff-line-num" data-line-number="1754" href="#L1754" id="L1754">
<i class="fa fa-link"></i>
1754
</a>
<a class="diff-line-num" data-line-number="1755" href="#L1755" id="L1755">
<i class="fa fa-link"></i>
1755
</a>
<a class="diff-line-num" data-line-number="1756" href="#L1756" id="L1756">
<i class="fa fa-link"></i>
1756
</a>
<a class="diff-line-num" data-line-number="1757" href="#L1757" id="L1757">
<i class="fa fa-link"></i>
1757
</a>
<a class="diff-line-num" data-line-number="1758" href="#L1758" id="L1758">
<i class="fa fa-link"></i>
1758
</a>
<a class="diff-line-num" data-line-number="1759" href="#L1759" id="L1759">
<i class="fa fa-link"></i>
1759
</a>
<a class="diff-line-num" data-line-number="1760" href="#L1760" id="L1760">
<i class="fa fa-link"></i>
1760
</a>
<a class="diff-line-num" data-line-number="1761" href="#L1761" id="L1761">
<i class="fa fa-link"></i>
1761
</a>
<a class="diff-line-num" data-line-number="1762" href="#L1762" id="L1762">
<i class="fa fa-link"></i>
1762
</a>
<a class="diff-line-num" data-line-number="1763" href="#L1763" id="L1763">
<i class="fa fa-link"></i>
1763
</a>
<a class="diff-line-num" data-line-number="1764" href="#L1764" id="L1764">
<i class="fa fa-link"></i>
1764
</a>
<a class="diff-line-num" data-line-number="1765" href="#L1765" id="L1765">
<i class="fa fa-link"></i>
1765
</a>
<a class="diff-line-num" data-line-number="1766" href="#L1766" id="L1766">
<i class="fa fa-link"></i>
1766
</a>
<a class="diff-line-num" data-line-number="1767" href="#L1767" id="L1767">
<i class="fa fa-link"></i>
1767
</a>
<a class="diff-line-num" data-line-number="1768" href="#L1768" id="L1768">
<i class="fa fa-link"></i>
1768
</a>
<a class="diff-line-num" data-line-number="1769" href="#L1769" id="L1769">
<i class="fa fa-link"></i>
1769
</a>
<a class="diff-line-num" data-line-number="1770" href="#L1770" id="L1770">
<i class="fa fa-link"></i>
1770
</a>
<a class="diff-line-num" data-line-number="1771" href="#L1771" id="L1771">
<i class="fa fa-link"></i>
1771
</a>
<a class="diff-line-num" data-line-number="1772" href="#L1772" id="L1772">
<i class="fa fa-link"></i>
1772
</a>
<a class="diff-line-num" data-line-number="1773" href="#L1773" id="L1773">
<i class="fa fa-link"></i>
1773
</a>
<a class="diff-line-num" data-line-number="1774" href="#L1774" id="L1774">
<i class="fa fa-link"></i>
1774
</a>
<a class="diff-line-num" data-line-number="1775" href="#L1775" id="L1775">
<i class="fa fa-link"></i>
1775
</a>
<a class="diff-line-num" data-line-number="1776" href="#L1776" id="L1776">
<i class="fa fa-link"></i>
1776
</a>
<a class="diff-line-num" data-line-number="1777" href="#L1777" id="L1777">
<i class="fa fa-link"></i>
1777
</a>
<a class="diff-line-num" data-line-number="1778" href="#L1778" id="L1778">
<i class="fa fa-link"></i>
1778
</a>
<a class="diff-line-num" data-line-number="1779" href="#L1779" id="L1779">
<i class="fa fa-link"></i>
1779
</a>
<a class="diff-line-num" data-line-number="1780" href="#L1780" id="L1780">
<i class="fa fa-link"></i>
1780
</a>
<a class="diff-line-num" data-line-number="1781" href="#L1781" id="L1781">
<i class="fa fa-link"></i>
1781
</a>
<a class="diff-line-num" data-line-number="1782" href="#L1782" id="L1782">
<i class="fa fa-link"></i>
1782
</a>
<a class="diff-line-num" data-line-number="1783" href="#L1783" id="L1783">
<i class="fa fa-link"></i>
1783
</a>
<a class="diff-line-num" data-line-number="1784" href="#L1784" id="L1784">
<i class="fa fa-link"></i>
1784
</a>
<a class="diff-line-num" data-line-number="1785" href="#L1785" id="L1785">
<i class="fa fa-link"></i>
1785
</a>
<a class="diff-line-num" data-line-number="1786" href="#L1786" id="L1786">
<i class="fa fa-link"></i>
1786
</a>
<a class="diff-line-num" data-line-number="1787" href="#L1787" id="L1787">
<i class="fa fa-link"></i>
1787
</a>
<a class="diff-line-num" data-line-number="1788" href="#L1788" id="L1788">
<i class="fa fa-link"></i>
1788
</a>
<a class="diff-line-num" data-line-number="1789" href="#L1789" id="L1789">
<i class="fa fa-link"></i>
1789
</a>
<a class="diff-line-num" data-line-number="1790" href="#L1790" id="L1790">
<i class="fa fa-link"></i>
1790
</a>
<a class="diff-line-num" data-line-number="1791" href="#L1791" id="L1791">
<i class="fa fa-link"></i>
1791
</a>
<a class="diff-line-num" data-line-number="1792" href="#L1792" id="L1792">
<i class="fa fa-link"></i>
1792
</a>
<a class="diff-line-num" data-line-number="1793" href="#L1793" id="L1793">
<i class="fa fa-link"></i>
1793
</a>
<a class="diff-line-num" data-line-number="1794" href="#L1794" id="L1794">
<i class="fa fa-link"></i>
1794
</a>
<a class="diff-line-num" data-line-number="1795" href="#L1795" id="L1795">
<i class="fa fa-link"></i>
1795
</a>
<a class="diff-line-num" data-line-number="1796" href="#L1796" id="L1796">
<i class="fa fa-link"></i>
1796
</a>
<a class="diff-line-num" data-line-number="1797" href="#L1797" id="L1797">
<i class="fa fa-link"></i>
1797
</a>
<a class="diff-line-num" data-line-number="1798" href="#L1798" id="L1798">
<i class="fa fa-link"></i>
1798
</a>
<a class="diff-line-num" data-line-number="1799" href="#L1799" id="L1799">
<i class="fa fa-link"></i>
1799
</a>
<a class="diff-line-num" data-line-number="1800" href="#L1800" id="L1800">
<i class="fa fa-link"></i>
1800
</a>
<a class="diff-line-num" data-line-number="1801" href="#L1801" id="L1801">
<i class="fa fa-link"></i>
1801
</a>
<a class="diff-line-num" data-line-number="1802" href="#L1802" id="L1802">
<i class="fa fa-link"></i>
1802
</a>
<a class="diff-line-num" data-line-number="1803" href="#L1803" id="L1803">
<i class="fa fa-link"></i>
1803
</a>
<a class="diff-line-num" data-line-number="1804" href="#L1804" id="L1804">
<i class="fa fa-link"></i>
1804
</a>
<a class="diff-line-num" data-line-number="1805" href="#L1805" id="L1805">
<i class="fa fa-link"></i>
1805
</a>
<a class="diff-line-num" data-line-number="1806" href="#L1806" id="L1806">
<i class="fa fa-link"></i>
1806
</a>
<a class="diff-line-num" data-line-number="1807" href="#L1807" id="L1807">
<i class="fa fa-link"></i>
1807
</a>
<a class="diff-line-num" data-line-number="1808" href="#L1808" id="L1808">
<i class="fa fa-link"></i>
1808
</a>
<a class="diff-line-num" data-line-number="1809" href="#L1809" id="L1809">
<i class="fa fa-link"></i>
1809
</a>
<a class="diff-line-num" data-line-number="1810" href="#L1810" id="L1810">
<i class="fa fa-link"></i>
1810
</a>
<a class="diff-line-num" data-line-number="1811" href="#L1811" id="L1811">
<i class="fa fa-link"></i>
1811
</a>
<a class="diff-line-num" data-line-number="1812" href="#L1812" id="L1812">
<i class="fa fa-link"></i>
1812
</a>
<a class="diff-line-num" data-line-number="1813" href="#L1813" id="L1813">
<i class="fa fa-link"></i>
1813
</a>
<a class="diff-line-num" data-line-number="1814" href="#L1814" id="L1814">
<i class="fa fa-link"></i>
1814
</a>
<a class="diff-line-num" data-line-number="1815" href="#L1815" id="L1815">
<i class="fa fa-link"></i>
1815
</a>
<a class="diff-line-num" data-line-number="1816" href="#L1816" id="L1816">
<i class="fa fa-link"></i>
1816
</a>
<a class="diff-line-num" data-line-number="1817" href="#L1817" id="L1817">
<i class="fa fa-link"></i>
1817
</a>
<a class="diff-line-num" data-line-number="1818" href="#L1818" id="L1818">
<i class="fa fa-link"></i>
1818
</a>
<a class="diff-line-num" data-line-number="1819" href="#L1819" id="L1819">
<i class="fa fa-link"></i>
1819
</a>
<a class="diff-line-num" data-line-number="1820" href="#L1820" id="L1820">
<i class="fa fa-link"></i>
1820
</a>
<a class="diff-line-num" data-line-number="1821" href="#L1821" id="L1821">
<i class="fa fa-link"></i>
1821
</a>
<a class="diff-line-num" data-line-number="1822" href="#L1822" id="L1822">
<i class="fa fa-link"></i>
1822
</a>
<a class="diff-line-num" data-line-number="1823" href="#L1823" id="L1823">
<i class="fa fa-link"></i>
1823
</a>
<a class="diff-line-num" data-line-number="1824" href="#L1824" id="L1824">
<i class="fa fa-link"></i>
1824
</a>
<a class="diff-line-num" data-line-number="1825" href="#L1825" id="L1825">
<i class="fa fa-link"></i>
1825
</a>
<a class="diff-line-num" data-line-number="1826" href="#L1826" id="L1826">
<i class="fa fa-link"></i>
1826
</a>
<a class="diff-line-num" data-line-number="1827" href="#L1827" id="L1827">
<i class="fa fa-link"></i>
1827
</a>
<a class="diff-line-num" data-line-number="1828" href="#L1828" id="L1828">
<i class="fa fa-link"></i>
1828
</a>
<a class="diff-line-num" data-line-number="1829" href="#L1829" id="L1829">
<i class="fa fa-link"></i>
1829
</a>
<a class="diff-line-num" data-line-number="1830" href="#L1830" id="L1830">
<i class="fa fa-link"></i>
1830
</a>
<a class="diff-line-num" data-line-number="1831" href="#L1831" id="L1831">
<i class="fa fa-link"></i>
1831
</a>
<a class="diff-line-num" data-line-number="1832" href="#L1832" id="L1832">
<i class="fa fa-link"></i>
1832
</a>
<a class="diff-line-num" data-line-number="1833" href="#L1833" id="L1833">
<i class="fa fa-link"></i>
1833
</a>
<a class="diff-line-num" data-line-number="1834" href="#L1834" id="L1834">
<i class="fa fa-link"></i>
1834
</a>
<a class="diff-line-num" data-line-number="1835" href="#L1835" id="L1835">
<i class="fa fa-link"></i>
1835
</a>
<a class="diff-line-num" data-line-number="1836" href="#L1836" id="L1836">
<i class="fa fa-link"></i>
1836
</a>
<a class="diff-line-num" data-line-number="1837" href="#L1837" id="L1837">
<i class="fa fa-link"></i>
1837
</a>
<a class="diff-line-num" data-line-number="1838" href="#L1838" id="L1838">
<i class="fa fa-link"></i>
1838
</a>
<a class="diff-line-num" data-line-number="1839" href="#L1839" id="L1839">
<i class="fa fa-link"></i>
1839
</a>
<a class="diff-line-num" data-line-number="1840" href="#L1840" id="L1840">
<i class="fa fa-link"></i>
1840
</a>
<a class="diff-line-num" data-line-number="1841" href="#L1841" id="L1841">
<i class="fa fa-link"></i>
1841
</a>
<a class="diff-line-num" data-line-number="1842" href="#L1842" id="L1842">
<i class="fa fa-link"></i>
1842
</a>
<a class="diff-line-num" data-line-number="1843" href="#L1843" id="L1843">
<i class="fa fa-link"></i>
1843
</a>
<a class="diff-line-num" data-line-number="1844" href="#L1844" id="L1844">
<i class="fa fa-link"></i>
1844
</a>
<a class="diff-line-num" data-line-number="1845" href="#L1845" id="L1845">
<i class="fa fa-link"></i>
1845
</a>
<a class="diff-line-num" data-line-number="1846" href="#L1846" id="L1846">
<i class="fa fa-link"></i>
1846
</a>
<a class="diff-line-num" data-line-number="1847" href="#L1847" id="L1847">
<i class="fa fa-link"></i>
1847
</a>
<a class="diff-line-num" data-line-number="1848" href="#L1848" id="L1848">
<i class="fa fa-link"></i>
1848
</a>
</div>
<div class="blob-content" data-blob-id="c3dbb52151626aab09a8d5fb0d3afe086a3317c2">
<pre class="code highlight"><code><span id="LC1" class="line"><span class="p">{</span></span>
<span id="LC2" class="line"><span class="w"> </span><span class="s2">"cells"</span><span class="p">:</span><span class="w"> </span><span class="p">[</span></span>
<span id="LC3" class="line"><span class="w">  </span><span class="p">{</span></span>
<span id="LC4" class="line"><span class="w">   </span><span class="s2">"cell_type"</span><span class="p">:</span><span class="w"> </span><span class="s2">"markdown"</span><span class="p">,</span></span>
<span id="LC5" class="line"><span class="w">   </span><span class="s2">"metadata"</span><span class="p">:</span><span class="w"> </span><span class="p">{},</span></span>
<span id="LC6" class="line"><span class="w">   </span><span class="s2">"source"</span><span class="p">:</span><span class="w"> </span><span class="p">[</span></span>
<span id="LC7" class="line"><span class="w">    </span><span class="s2">"# Pipeline - Data Preparation Function - Features exploring"</span></span>
<span id="LC8" class="line"><span class="w">   </span><span class="p">]</span></span>
<span id="LC9" class="line"><span class="w">  </span><span class="p">},</span></span>
<span id="LC10" class="line"><span class="w">  </span><span class="p">{</span></span>
<span id="LC11" class="line"><span class="w">   </span><span class="s2">"cell_type"</span><span class="p">:</span><span class="w"> </span><span class="s2">"code"</span><span class="p">,</span></span>
<span id="LC12" class="line"><span class="w">   </span><span class="s2">"execution_count"</span><span class="p">:</span><span class="w"> </span><span class="mi">19</span><span class="p">,</span></span>
<span id="LC13" class="line"><span class="w">   </span><span class="s2">"metadata"</span><span class="p">:</span><span class="w"> </span><span class="p">{</span></span>
<span id="LC14" class="line"><span class="w">    </span><span class="s2">"ExecuteTime"</span><span class="p">:</span><span class="w"> </span><span class="p">{</span></span>
<span id="LC15" class="line"><span class="w">     </span><span class="s2">"end_time"</span><span class="p">:</span><span class="w"> </span><span class="s2">"2017-05-12T13:59:57.480837Z"</span><span class="p">,</span></span>
<span id="LC16" class="line"><span class="w">     </span><span class="s2">"start_time"</span><span class="p">:</span><span class="w"> </span><span class="s2">"2017-05-12T13:59:56.868093"</span></span>
<span id="LC17" class="line"><span class="w">    </span><span class="p">},</span></span>
<span id="LC18" class="line"><span class="w">    </span><span class="s2">"collapsed"</span><span class="p">:</span><span class="w"> </span><span class="kc">true</span></span>
<span id="LC19" class="line"><span class="w">   </span><span class="p">},</span></span>
<span id="LC20" class="line"><span class="w">   </span><span class="s2">"outputs"</span><span class="p">:</span><span class="w"> </span><span class="p">[],</span></span>
<span id="LC21" class="line"><span class="w">   </span><span class="s2">"source"</span><span class="p">:</span><span class="w"> </span><span class="p">[</span></span>
<span id="LC22" class="line"><span class="w">    </span><span class="s2">"import json</span><span class="se">\n</span><span class="s2">"</span><span class="p">,</span></span>
<span id="LC23" class="line"><span class="w">    </span><span class="s2">"import numpy as np</span><span class="se">\n</span><span class="s2">"</span><span class="p">,</span></span>
<span id="LC24" class="line"><span class="w">    </span><span class="s2">"import pandas as pd</span><span class="se">\n</span><span class="s2">"</span><span class="p">,</span></span>
<span id="LC25" class="line"><span class="w">    </span><span class="s2">"from time import time</span><span class="se">\n</span><span class="s2">"</span><span class="p">,</span></span>
<span id="LC26" class="line"><span class="w">    </span><span class="s2">"</span><span class="se">\n</span><span class="s2">"</span><span class="p">,</span></span>
<span id="LC27" class="line"><span class="w">    </span><span class="s2">"from pyspark import SQLContext</span><span class="se">\n</span><span class="s2">"</span><span class="p">,</span></span>
<span id="LC28" class="line"><span class="w">    </span><span class="s2">"from pyspark.sql.functions import *</span><span class="se">\n</span><span class="s2">"</span><span class="p">,</span></span>
<span id="LC29" class="line"><span class="w">    </span><span class="s2">"</span><span class="se">\n</span><span class="s2">"</span><span class="p">,</span></span>
<span id="LC30" class="line"><span class="w">    </span><span class="s2">"import re</span><span class="se">\n</span><span class="s2">"</span><span class="p">,</span></span>
<span id="LC31" class="line"><span class="w">    </span><span class="s2">"pd.set_option('display.max_rows', 500)</span><span class="se">\n</span><span class="s2">"</span><span class="p">,</span></span>
<span id="LC32" class="line"><span class="w">    </span><span class="s2">"pd.set_option('display.max_columns', 500)</span><span class="se">\n</span><span class="s2">"</span><span class="p">,</span></span>
<span id="LC33" class="line"><span class="w">    </span><span class="s2">"from __future__ import division"</span></span>
<span id="LC34" class="line"><span class="w">   </span><span class="p">]</span></span>
<span id="LC35" class="line"><span class="w">  </span><span class="p">},</span></span>
<span id="LC36" class="line"><span class="w">  </span><span class="p">{</span></span>
<span id="LC37" class="line"><span class="w">   </span><span class="s2">"cell_type"</span><span class="p">:</span><span class="w"> </span><span class="s2">"code"</span><span class="p">,</span></span>
<span id="LC38" class="line"><span class="w">   </span><span class="s2">"execution_count"</span><span class="p">:</span><span class="w"> </span><span class="mi">20</span><span class="p">,</span></span>
<span id="LC39" class="line"><span class="w">   </span><span class="s2">"metadata"</span><span class="p">:</span><span class="w"> </span><span class="p">{</span></span>
<span id="LC40" class="line"><span class="w">    </span><span class="s2">"ExecuteTime"</span><span class="p">:</span><span class="w"> </span><span class="p">{</span></span>
<span id="LC41" class="line"><span class="w">     </span><span class="s2">"end_time"</span><span class="p">:</span><span class="w"> </span><span class="s2">"2017-05-12T14:00:09.684140Z"</span><span class="p">,</span></span>
<span id="LC42" class="line"><span class="w">     </span><span class="s2">"start_time"</span><span class="p">:</span><span class="w"> </span><span class="s2">"2017-05-12T14:00:09.678711"</span></span>
<span id="LC43" class="line"><span class="w">    </span><span class="p">}</span></span>
<span id="LC44" class="line"><span class="w">   </span><span class="p">},</span></span>
<span id="LC45" class="line"><span class="w">   </span><span class="s2">"outputs"</span><span class="p">:</span><span class="w"> </span><span class="p">[</span></span>
<span id="LC46" class="line"><span class="w">    </span><span class="p">{</span></span>
<span id="LC47" class="line"><span class="w">     </span><span class="s2">"data"</span><span class="p">:</span><span class="w"> </span><span class="p">{</span></span>
<span id="LC48" class="line"><span class="w">      </span><span class="s2">"text/plain"</span><span class="p">:</span><span class="w"> </span><span class="p">[</span></span>
<span id="LC49" class="line"><span class="w">       </span><span class="s2">"'2.1.0+hadoop2.7'"</span></span>
<span id="LC50" class="line"><span class="w">      </span><span class="p">]</span></span>
<span id="LC51" class="line"><span class="w">     </span><span class="p">},</span></span>
<span id="LC52" class="line"><span class="w">     </span><span class="s2">"execution_count"</span><span class="p">:</span><span class="w"> </span><span class="mi">20</span><span class="p">,</span></span>
<span id="LC53" class="line"><span class="w">     </span><span class="s2">"metadata"</span><span class="p">:</span><span class="w"> </span><span class="p">{},</span></span>
<span id="LC54" class="line"><span class="w">     </span><span class="s2">"output_type"</span><span class="p">:</span><span class="w"> </span><span class="s2">"execute_result"</span></span>
<span id="LC55" class="line"><span class="w">    </span><span class="p">}</span></span>
<span id="LC56" class="line"><span class="w">   </span><span class="p">],</span></span>
<span id="LC57" class="line"><span class="w">   </span><span class="s2">"source"</span><span class="p">:</span><span class="w"> </span><span class="p">[</span></span>
<span id="LC58" class="line"><span class="w">    </span><span class="s2">"import pyspark</span><span class="se">\n</span><span class="s2">"</span><span class="p">,</span></span>
<span id="LC59" class="line"><span class="w">    </span><span class="s2">"pyspark.__version__"</span></span>
<span id="LC60" class="line"><span class="w">   </span><span class="p">]</span></span>
<span id="LC61" class="line"><span class="w">  </span><span class="p">},</span></span>
<span id="LC62" class="line"><span class="w">  </span><span class="p">{</span></span>
<span id="LC63" class="line"><span class="w">   </span><span class="s2">"cell_type"</span><span class="p">:</span><span class="w"> </span><span class="s2">"code"</span><span class="p">,</span></span>
<span id="LC64" class="line"><span class="w">   </span><span class="s2">"execution_count"</span><span class="p">:</span><span class="w"> </span><span class="mi">21</span><span class="p">,</span></span>
<span id="LC65" class="line"><span class="w">   </span><span class="s2">"metadata"</span><span class="p">:</span><span class="w"> </span><span class="p">{</span></span>
<span id="LC66" class="line"><span class="w">    </span><span class="s2">"ExecuteTime"</span><span class="p">:</span><span class="w"> </span><span class="p">{</span></span>
<span id="LC67" class="line"><span class="w">     </span><span class="s2">"end_time"</span><span class="p">:</span><span class="w"> </span><span class="s2">"2017-05-12T14:00:09.955870Z"</span><span class="p">,</span></span>
<span id="LC68" class="line"><span class="w">     </span><span class="s2">"start_time"</span><span class="p">:</span><span class="w"> </span><span class="s2">"2017-05-12T14:00:09.933311"</span></span>
<span id="LC69" class="line"><span class="w">    </span><span class="p">}</span></span>
<span id="LC70" class="line"><span class="w">   </span><span class="p">},</span></span>
<span id="LC71" class="line"><span class="w">   </span><span class="s2">"outputs"</span><span class="p">:</span><span class="w"> </span><span class="p">[</span></span>
<span id="LC72" class="line"><span class="w">    </span><span class="p">{</span></span>
<span id="LC73" class="line"><span class="w">     </span><span class="s2">"data"</span><span class="p">:</span><span class="w"> </span><span class="p">{</span></span>
<span id="LC74" class="line"><span class="w">      </span><span class="s2">"text/plain"</span><span class="p">:</span><span class="w"> </span><span class="p">[</span></span>
<span id="LC75" class="line"><span class="w">       </span><span class="s2">"&lt;pyspark.context.SparkContext at 0x7fa1d9bb5e50&gt;"</span></span>
<span id="LC76" class="line"><span class="w">      </span><span class="p">]</span></span>
<span id="LC77" class="line"><span class="w">     </span><span class="p">},</span></span>
<span id="LC78" class="line"><span class="w">     </span><span class="s2">"execution_count"</span><span class="p">:</span><span class="w"> </span><span class="mi">21</span><span class="p">,</span></span>
<span id="LC79" class="line"><span class="w">     </span><span class="s2">"metadata"</span><span class="p">:</span><span class="w"> </span><span class="p">{},</span></span>
<span id="LC80" class="line"><span class="w">     </span><span class="s2">"output_type"</span><span class="p">:</span><span class="w"> </span><span class="s2">"execute_result"</span></span>
<span id="LC81" class="line"><span class="w">    </span><span class="p">}</span></span>
<span id="LC82" class="line"><span class="w">   </span><span class="p">],</span></span>
<span id="LC83" class="line"><span class="w">   </span><span class="s2">"source"</span><span class="p">:</span><span class="w"> </span><span class="p">[</span></span>
<span id="LC84" class="line"><span class="w">    </span><span class="s2">"sc"</span></span>
<span id="LC85" class="line"><span class="w">   </span><span class="p">]</span></span>
<span id="LC86" class="line"><span class="w">  </span><span class="p">},</span></span>
<span id="LC87" class="line"><span class="w">  </span><span class="p">{</span></span>
<span id="LC88" class="line"><span class="w">   </span><span class="s2">"cell_type"</span><span class="p">:</span><span class="w"> </span><span class="s2">"markdown"</span><span class="p">,</span></span>
<span id="LC89" class="line"><span class="w">   </span><span class="s2">"metadata"</span><span class="p">:</span><span class="w"> </span><span class="p">{},</span></span>
<span id="LC90" class="line"><span class="w">   </span><span class="s2">"source"</span><span class="p">:</span><span class="w"> </span><span class="p">[</span></span>
<span id="LC91" class="line"><span class="w">    </span><span class="s2">"## 1. Define variables"</span></span>
<span id="LC92" class="line"><span class="w">   </span><span class="p">]</span></span>
<span id="LC93" class="line"><span class="w">  </span><span class="p">},</span></span>
<span id="LC94" class="line"><span class="w">  </span><span class="p">{</span></span>
<span id="LC95" class="line"><span class="w">   </span><span class="s2">"cell_type"</span><span class="p">:</span><span class="w"> </span><span class="s2">"code"</span><span class="p">,</span></span>
<span id="LC96" class="line"><span class="w">   </span><span class="s2">"execution_count"</span><span class="p">:</span><span class="w"> </span><span class="mi">22</span><span class="p">,</span></span>
<span id="LC97" class="line"><span class="w">   </span><span class="s2">"metadata"</span><span class="p">:</span><span class="w"> </span><span class="p">{</span></span>
<span id="LC98" class="line"><span class="w">    </span><span class="s2">"collapsed"</span><span class="p">:</span><span class="w"> </span><span class="kc">true</span></span>
<span id="LC99" class="line"><span class="w">   </span><span class="p">},</span></span>
<span id="LC100" class="line"><span class="w">   </span><span class="s2">"outputs"</span><span class="p">:</span><span class="w"> </span><span class="p">[],</span></span>
<span id="LC101" class="line"><span class="w">   </span><span class="s2">"source"</span><span class="p">:</span><span class="w"> </span><span class="p">[</span></span>
<span id="LC102" class="line"><span class="w">    </span><span class="s2">"month_list = ['201608','201611','201702','201705']</span><span class="se">\n</span><span class="s2">"</span><span class="p">,</span></span>
<span id="LC103" class="line"><span class="w">    </span><span class="s2">"flist = ['cnt_voice_in_fix_avg_6m', 'cnt_voice_out_fix_avg_6m', 'arpu_int_roaming_avg_hy', 'arpu_onnet_roaming_avg_hy', 'call_charge_avg_6m', 'call_charge_ind_6m', 'cnt_voice_out_avg_6m', 'arpu_voice_avg_hy', 'arpu_gprs_avg_hy', 'arpu_vas_avg_hy', 'ingoing_avg_6m', 'intercity_in_avg_6m', 'int_roam_in_avg_6m', 'sms_out_comp_num_avg_6m', 'arpu_wo_roam_avg_hy', 'onn_roam_out_time_6m', 'cnt_onn_r_in_call_avg_6m', 'cnt_onn_r_out_call_avg_6m', 'data_volume_roam_avg_6m', 'cnt_pp_change_6m', 'cnt_fin_block_6m', 'cnt_block_6m', 'cpa_ind', 'cnt_package_m', 'cpa_ind_avg_6m', 'minus_bal_day_avg_1m', 'minus_bal_day_avg_hy', 'conf_call_charge_ind_1m', 'bl_charge_ind_1m', 'bal_charge_ind_1m', 'pay_charge_ind_1m', 'package_ind_1m', 'charge_package_1m', 'conf_call_charge_avg_6m', 'bl_charge_avg_6m', 'bal_charge_avg_6m', 'pay_charge_avg_6m', 'pay_charge_ind_6m', 'charge_package_avg_6m', 'conf_call_charge_ind_6m', 'bl_charge_ind_6m', 'bal_charge_ind_6m', 'int_state_6m', 'cnt_roam_state_6m', 'roam_state_6m', 'payment_method_1m', 'equipment_type_1m', 'payment_method_6m', 'equipment_type_6m', 'direct_number', 'cnt_pp_change_1m', 'cnt_block_1m', 'cnt_mou_bel_out', 'cnt_mou_eur_out', 'cnt_mou_cis_out', 'cnt_mou_ukr_out']</span><span class="se">\n</span><span class="s2">"</span><span class="p">,</span></span>
<span id="LC104" class="line"><span class="w">    </span><span class="s2">"ttable = 'bank_score_bee.agg_bank_scoring_monthly'</span><span class="se">\n</span><span class="s2">"</span><span class="p">,</span></span>
<span id="LC105" class="line"><span class="w">    </span><span class="s2">"XlsFileName = 'ATS'"</span></span>
<span id="LC106" class="line"><span class="w">   </span><span class="p">]</span></span>
<span id="LC107" class="line"><span class="w">  </span><span class="p">},</span></span>
<span id="LC108" class="line"><span class="w">  </span><span class="p">{</span></span>
<span id="LC109" class="line"><span class="w">   </span><span class="s2">"cell_type"</span><span class="p">:</span><span class="w"> </span><span class="s2">"code"</span><span class="p">,</span></span>
<span id="LC110" class="line"><span class="w">   </span><span class="s2">"execution_count"</span><span class="p">:</span><span class="w"> </span><span class="mi">23</span><span class="p">,</span></span>
<span id="LC111" class="line"><span class="w">   </span><span class="s2">"metadata"</span><span class="p">:</span><span class="w"> </span><span class="p">{},</span></span>
<span id="LC112" class="line"><span class="w">   </span><span class="s2">"outputs"</span><span class="p">:</span><span class="w"> </span><span class="p">[</span></span>
<span id="LC113" class="line"><span class="w">    </span><span class="p">{</span></span>
<span id="LC114" class="line"><span class="w">     </span><span class="s2">"name"</span><span class="p">:</span><span class="w"> </span><span class="s2">"stdout"</span><span class="p">,</span></span>
<span id="LC115" class="line"><span class="w">     </span><span class="s2">"output_type"</span><span class="p">:</span><span class="w"> </span><span class="s2">"stream"</span><span class="p">,</span></span>
<span id="LC116" class="line"><span class="w">     </span><span class="s2">"text"</span><span class="p">:</span><span class="w"> </span><span class="p">[</span></span>
<span id="LC117" class="line"><span class="w">      </span><span class="s2">"Current month:  201608</span><span class="se">\n</span><span class="s2">"</span><span class="p">,</span></span>
<span id="LC118" class="line"><span class="w">      </span><span class="s2">"Features count:  56</span><span class="se">\n</span><span class="s2">"</span><span class="p">,</span></span>
<span id="LC119" class="line"><span class="w">      </span><span class="s2">"Source table:  bank_score_bee.agg_bank_scoring_monthly</span><span class="se">\n</span><span class="s2">"</span></span>
<span id="LC120" class="line"><span class="w">     </span><span class="p">]</span></span>
<span id="LC121" class="line"><span class="w">    </span><span class="p">}</span></span>
<span id="LC122" class="line"><span class="w">   </span><span class="p">],</span></span>
<span id="LC123" class="line"><span class="w">   </span><span class="s2">"source"</span><span class="p">:</span><span class="w"> </span><span class="p">[</span></span>
<span id="LC124" class="line"><span class="w">    </span><span class="s2">"mmonth=0</span><span class="se">\n</span><span class="s2">"</span><span class="p">,</span></span>
<span id="LC125" class="line"><span class="w">    </span><span class="s2">"print 'Current month: ', month_list[mmonth]</span><span class="se">\n</span><span class="s2">"</span><span class="p">,</span></span>
<span id="LC126" class="line"><span class="w">    </span><span class="s2">"print 'Features count: ', len(flist)</span><span class="se">\n</span><span class="s2">"</span><span class="p">,</span></span>
<span id="LC127" class="line"><span class="w">    </span><span class="s2">"print 'Source table: ', ttable</span><span class="se">\n</span><span class="s2">"</span><span class="p">,</span></span>
<span id="LC128" class="line"><span class="w">    </span><span class="s2">"SCR = sqlContext.sql('select *</span><span class="se">\\\n</span><span class="s2">"</span><span class="p">,</span></span>
<span id="LC129" class="line"><span class="w">    </span><span class="s2">"                      from %s where month in (%s)' %(ttable, month_list[mmonth]))</span><span class="se">\\\n</span><span class="s2">"</span><span class="p">,</span></span>
<span id="LC130" class="line"><span class="w">    </span><span class="s2">"                .select(*flist)"</span></span>
<span id="LC131" class="line"><span class="w">   </span><span class="p">]</span></span>
<span id="LC132" class="line"><span class="w">  </span><span class="p">},</span></span>
<span id="LC133" class="line"><span class="w">  </span><span class="p">{</span></span>
<span id="LC134" class="line"><span class="w">   </span><span class="s2">"cell_type"</span><span class="p">:</span><span class="w"> </span><span class="s2">"code"</span><span class="p">,</span></span>
<span id="LC135" class="line"><span class="w">   </span><span class="s2">"execution_count"</span><span class="p">:</span><span class="w"> </span><span class="mi">24</span><span class="p">,</span></span>
<span id="LC136" class="line"><span class="w">   </span><span class="s2">"metadata"</span><span class="p">:</span><span class="w"> </span><span class="p">{},</span></span>
<span id="LC137" class="line"><span class="w">   </span><span class="s2">"outputs"</span><span class="p">:</span><span class="w"> </span><span class="p">[</span></span>
<span id="LC138" class="line"><span class="w">    </span><span class="p">{</span></span>
<span id="LC139" class="line"><span class="w">     </span><span class="s2">"name"</span><span class="p">:</span><span class="w"> </span><span class="s2">"stdout"</span><span class="p">,</span></span>
<span id="LC140" class="line"><span class="w">     </span><span class="s2">"output_type"</span><span class="p">:</span><span class="w"> </span><span class="s2">"stream"</span><span class="p">,</span></span>
<span id="LC141" class="line"><span class="w">     </span><span class="s2">"text"</span><span class="p">:</span><span class="w"> </span><span class="p">[</span></span>
<span id="LC142" class="line"><span class="w">      </span><span class="s2">"CPU times: user 3.7 ms, sys: 863 µs, total: 4.56 ms</span><span class="se">\n</span><span class="s2">"</span><span class="p">,</span></span>
<span id="LC143" class="line"><span class="w">      </span><span class="s2">"Wall time: 550 ms</span><span class="se">\n</span><span class="s2">"</span></span>
<span id="LC144" class="line"><span class="w">     </span><span class="p">]</span></span>
<span id="LC145" class="line"><span class="w">    </span><span class="p">},</span></span>
<span id="LC146" class="line"><span class="w">    </span><span class="p">{</span></span>
<span id="LC147" class="line"><span class="w">     </span><span class="s2">"data"</span><span class="p">:</span><span class="w"> </span><span class="p">{</span></span>
<span id="LC148" class="line"><span class="w">      </span><span class="s2">"text/plain"</span><span class="p">:</span><span class="w"> </span><span class="p">[</span></span>
<span id="LC149" class="line"><span class="w">       </span><span class="s2">"DataFrame[cnt_voice_in_fix_avg_6m: double, cnt_voice_out_fix_avg_6m: double, arpu_int_roaming_avg_hy: double, arpu_onnet_roaming_avg_hy: double, call_charge_avg_6m: double, call_charge_ind_6m: int, cnt_voice_out_avg_6m: double, arpu_voice_avg_hy: double, arpu_gprs_avg_hy: double, arpu_vas_avg_hy: double, ingoing_avg_6m: double, intercity_in_avg_6m: double, int_roam_in_avg_6m: double, sms_out_comp_num_avg_6m: double, arpu_wo_roam_avg_hy: double, onn_roam_out_time_6m: double, cnt_onn_r_in_call_avg_6m: double, cnt_onn_r_out_call_avg_6m: double, data_volume_roam_avg_6m: double, cnt_pp_change_6m: int, cnt_fin_block_6m: double, cnt_block_6m: double, cpa_ind: int, cnt_package_m: int, cpa_ind_avg_6m: double, minus_bal_day_avg_1m: int, minus_bal_day_avg_hy: double, conf_call_charge_ind_1m: int, bl_charge_ind_1m: int, bal_charge_ind_1m: int, pay_charge_ind_1m: int, package_ind_1m: int, charge_package_1m: double, conf_call_charge_avg_6m: double, bl_charge_avg_6m: double, bal_charge_avg_6m: double, pay_charge_avg_6m: double, pay_charge_ind_6m: int, charge_package_avg_6m: double, conf_call_charge_ind_6m: int, bl_charge_ind_6m: int, bal_charge_ind_6m: int, int_state_6m: string, cnt_roam_state_6m: int, roam_state_6m: string, payment_method_1m: string, equipment_type_1m: string, payment_method_6m: string, equipment_type_6m: string, direct_number: string, cnt_pp_change_1m: int, cnt_block_1m: int, cnt_mou_bel_out: int, cnt_mou_eur_out: int, cnt_mou_cis_out: int, cnt_mou_ukr_out: int]"</span></span>
<span id="LC150" class="line"><span class="w">      </span><span class="p">]</span></span>
<span id="LC151" class="line"><span class="w">     </span><span class="p">},</span></span>
<span id="LC152" class="line"><span class="w">     </span><span class="s2">"execution_count"</span><span class="p">:</span><span class="w"> </span><span class="mi">24</span><span class="p">,</span></span>
<span id="LC153" class="line"><span class="w">     </span><span class="s2">"metadata"</span><span class="p">:</span><span class="w"> </span><span class="p">{},</span></span>
<span id="LC154" class="line"><span class="w">     </span><span class="s2">"output_type"</span><span class="p">:</span><span class="w"> </span><span class="s2">"execute_result"</span></span>
<span id="LC155" class="line"><span class="w">    </span><span class="p">}</span></span>
<span id="LC156" class="line"><span class="w">   </span><span class="p">],</span></span>
<span id="LC157" class="line"><span class="w">   </span><span class="s2">"source"</span><span class="p">:</span><span class="w"> </span><span class="p">[</span></span>
<span id="LC158" class="line"><span class="w">    </span><span class="s2">"%%time</span><span class="se">\n</span><span class="s2">"</span><span class="p">,</span></span>
<span id="LC159" class="line"><span class="w">    </span><span class="s2">"SCR.persist(storageLevel=StorageLevel.MEMORY_AND_DISK)"</span></span>
<span id="LC160" class="line"><span class="w">   </span><span class="p">]</span></span>
<span id="LC161" class="line"><span class="w">  </span><span class="p">},</span></span>
<span id="LC162" class="line"><span class="w">  </span><span class="p">{</span></span>
<span id="LC163" class="line"><span class="w">   </span><span class="s2">"cell_type"</span><span class="p">:</span><span class="w"> </span><span class="s2">"code"</span><span class="p">,</span></span>
<span id="LC164" class="line"><span class="w">   </span><span class="s2">"execution_count"</span><span class="p">:</span><span class="w"> </span><span class="mi">25</span><span class="p">,</span></span>
<span id="LC165" class="line"><span class="w">   </span><span class="s2">"metadata"</span><span class="p">:</span><span class="w"> </span><span class="p">{},</span></span>
<span id="LC166" class="line"><span class="w">   </span><span class="s2">"outputs"</span><span class="p">:</span><span class="w"> </span><span class="p">[</span></span>
<span id="LC167" class="line"><span class="w">    </span><span class="p">{</span></span>
<span id="LC168" class="line"><span class="w">     </span><span class="s2">"data"</span><span class="p">:</span><span class="w"> </span><span class="p">{</span></span>
<span id="LC169" class="line"><span class="w">      </span><span class="s2">"text/plain"</span><span class="p">:</span><span class="w"> </span><span class="p">[</span></span>
<span id="LC170" class="line"><span class="w">       </span><span class="s2">"True"</span></span>
<span id="LC171" class="line"><span class="w">      </span><span class="p">]</span></span>
<span id="LC172" class="line"><span class="w">     </span><span class="p">},</span></span>
<span id="LC173" class="line"><span class="w">     </span><span class="s2">"execution_count"</span><span class="p">:</span><span class="w"> </span><span class="mi">25</span><span class="p">,</span></span>
<span id="LC174" class="line"><span class="w">     </span><span class="s2">"metadata"</span><span class="p">:</span><span class="w"> </span><span class="p">{},</span></span>
<span id="LC175" class="line"><span class="w">     </span><span class="s2">"output_type"</span><span class="p">:</span><span class="w"> </span><span class="s2">"execute_result"</span></span>
<span id="LC176" class="line"><span class="w">    </span><span class="p">}</span></span>
<span id="LC177" class="line"><span class="w">   </span><span class="p">],</span></span>
<span id="LC178" class="line"><span class="w">   </span><span class="s2">"source"</span><span class="p">:</span><span class="w"> </span><span class="p">[</span></span>
<span id="LC179" class="line"><span class="w">    </span><span class="s2">"SCR.is_cached"</span></span>
<span id="LC180" class="line"><span class="w">   </span><span class="p">]</span></span>
<span id="LC181" class="line"><span class="w">  </span><span class="p">},</span></span>
<span id="LC182" class="line"><span class="w">  </span><span class="p">{</span></span>
<span id="LC183" class="line"><span class="w">   </span><span class="s2">"cell_type"</span><span class="p">:</span><span class="w"> </span><span class="s2">"markdown"</span><span class="p">,</span></span>
<span id="LC184" class="line"><span class="w">   </span><span class="s2">"metadata"</span><span class="p">:</span><span class="w"> </span><span class="p">{},</span></span>
<span id="LC185" class="line"><span class="w">   </span><span class="s2">"source"</span><span class="p">:</span><span class="w"> </span><span class="p">[</span></span>
<span id="LC186" class="line"><span class="w">    </span><span class="s2">"## 2. get dummy list</span><span class="se">\n</span><span class="s2">"</span><span class="p">,</span></span>
<span id="LC187" class="line"><span class="w">    </span><span class="s2">"Try to get dummy list using value_counts"</span></span>
<span id="LC188" class="line"><span class="w">   </span><span class="p">]</span></span>
<span id="LC189" class="line"><span class="w">  </span><span class="p">},</span></span>
<span id="LC190" class="line"><span class="w">  </span><span class="p">{</span></span>
<span id="LC191" class="line"><span class="w">   </span><span class="s2">"cell_type"</span><span class="p">:</span><span class="w"> </span><span class="s2">"code"</span><span class="p">,</span></span>
<span id="LC192" class="line"><span class="w">   </span><span class="s2">"execution_count"</span><span class="p">:</span><span class="w"> </span><span class="mi">12</span><span class="p">,</span></span>
<span id="LC193" class="line"><span class="w">   </span><span class="s2">"metadata"</span><span class="p">:</span><span class="w"> </span><span class="p">{},</span></span>
<span id="LC194" class="line"><span class="w">   </span><span class="s2">"outputs"</span><span class="p">:</span><span class="w"> </span><span class="p">[</span></span>
<span id="LC195" class="line"><span class="w">    </span><span class="p">{</span></span>
<span id="LC196" class="line"><span class="w">     </span><span class="s2">"name"</span><span class="p">:</span><span class="w"> </span><span class="s2">"stdout"</span><span class="p">,</span></span>
<span id="LC197" class="line"><span class="w">     </span><span class="s2">"output_type"</span><span class="p">:</span><span class="w"> </span><span class="s2">"stream"</span><span class="p">,</span></span>
<span id="LC198" class="line"><span class="w">     </span><span class="s2">"text"</span><span class="p">:</span><span class="w"> </span><span class="p">[</span></span>
<span id="LC199" class="line"><span class="w">      </span><span class="s2">"Get top 10 by count:</span><span class="se">\n</span><span class="s2">"</span><span class="p">,</span></span>
<span id="LC200" class="line"><span class="w">      </span><span class="s2">"Value, %pers</span><span class="se">\n</span><span class="s2">"</span><span class="p">,</span></span>
<span id="LC201" class="line"><span class="w">      </span><span class="s2">"CPU times: user 804 ms, sys: 134 ms, total: 938 ms</span><span class="se">\n</span><span class="s2">"</span><span class="p">,</span></span>
<span id="LC202" class="line"><span class="w">      </span><span class="s2">"Wall time: 4min 44s</span><span class="se">\n</span><span class="s2">"</span></span>
<span id="LC203" class="line"><span class="w">     </span><span class="p">]</span></span>
<span id="LC204" class="line"><span class="w">    </span><span class="p">}</span></span>
<span id="LC205" class="line"><span class="w">   </span><span class="p">],</span></span>
<span id="LC206" class="line"><span class="w">   </span><span class="s2">"source"</span><span class="p">:</span><span class="w"> </span><span class="p">[</span></span>
<span id="LC207" class="line"><span class="w">    </span><span class="s2">"%%time</span><span class="se">\n</span><span class="s2">"</span><span class="p">,</span></span>
<span id="LC208" class="line"><span class="w">    </span><span class="s2">"rcount = 10 # top N</span><span class="se">\n</span><span class="s2">"</span><span class="p">,</span></span>
<span id="LC209" class="line"><span class="w">    </span><span class="s2">"rec_count = SCR.count();</span><span class="se">\n</span><span class="s2">"</span><span class="p">,</span></span>
<span id="LC210" class="line"><span class="w">    </span><span class="s2">"print ('Get top %s by count:' %rcount)</span><span class="se">\n</span><span class="s2">"</span><span class="p">,</span></span>
<span id="LC211" class="line"><span class="w">    </span><span class="s2">"print ('Value, %pers')</span><span class="se">\n</span><span class="s2">"</span><span class="p">,</span></span>
<span id="LC212" class="line"><span class="w">    </span><span class="s2">"dummyDF = []</span><span class="se">\n</span><span class="s2">"</span><span class="p">,</span></span>
<span id="LC213" class="line"><span class="w">    </span><span class="s2">"for ncol in SCR.columns:</span><span class="se">\n</span><span class="s2">"</span><span class="p">,</span></span>
<span id="LC214" class="line"><span class="w">    </span><span class="s2">"    colDummy = SCR.groupBy(ncol)</span><span class="se">\\\n</span><span class="s2">"</span><span class="p">,</span></span>
<span id="LC215" class="line"><span class="w">    </span><span class="s2">"                .count()</span><span class="se">\\\n</span><span class="s2">"</span><span class="p">,</span></span>
<span id="LC216" class="line"><span class="w">    </span><span class="s2">"                .sort('count',ascending=False)</span><span class="se">\\\n</span><span class="s2">"</span><span class="p">,</span></span>
<span id="LC217" class="line"><span class="w">    </span><span class="s2">"                .limit(rcount)</span><span class="se">\\\n</span><span class="s2">"</span><span class="p">,</span></span>
<span id="LC218" class="line"><span class="w">    </span><span class="s2">"                .toPandas()</span><span class="se">\\\n</span><span class="s2">"</span><span class="p">,</span></span>
<span id="LC219" class="line"><span class="w">    </span><span class="s2">"                </span><span class="se">\n</span><span class="s2">"</span><span class="p">,</span></span>
<span id="LC220" class="line"><span class="w">    </span><span class="s2">"    dummyDF.append(</span><span class="se">\n</span><span class="s2">"</span><span class="p">,</span></span>
<span id="LC221" class="line"><span class="w">    </span><span class="s2">"        pd.Series(</span><span class="se">\n</span><span class="s2">"</span><span class="p">,</span></span>
<span id="LC222" class="line"><span class="w">    </span><span class="s2">"            zip(colDummy[ncol], np.round(100*colDummy['count']/rec_count,5)),</span><span class="se">\n</span><span class="s2">"</span><span class="p">,</span></span>
<span id="LC223" class="line"><span class="w">    </span><span class="s2">"            name=ncol))"</span></span>
<span id="LC224" class="line"><span class="w">   </span><span class="p">]</span></span>
<span id="LC225" class="line"><span class="w">  </span><span class="p">},</span></span>
<span id="LC226" class="line"><span class="w">  </span><span class="p">{</span></span>
<span id="LC227" class="line"><span class="w">   </span><span class="s2">"cell_type"</span><span class="p">:</span><span class="w"> </span><span class="s2">"code"</span><span class="p">,</span></span>
<span id="LC228" class="line"><span class="w">   </span><span class="s2">"execution_count"</span><span class="p">:</span><span class="w"> </span><span class="mi">15</span><span class="p">,</span></span>
<span id="LC229" class="line"><span class="w">   </span><span class="s2">"metadata"</span><span class="p">:</span><span class="w"> </span><span class="p">{</span></span>
<span id="LC230" class="line"><span class="w">    </span><span class="s2">"scrolled"</span><span class="p">:</span><span class="w"> </span><span class="kc">true</span></span>
<span id="LC231" class="line"><span class="w">   </span><span class="p">},</span></span>
<span id="LC232" class="line"><span class="w">   </span><span class="s2">"outputs"</span><span class="p">:</span><span class="w"> </span><span class="p">[</span></span>
<span id="LC233" class="line"><span class="w">    </span><span class="p">{</span></span>
<span id="LC234" class="line"><span class="w">     </span><span class="s2">"data"</span><span class="p">:</span><span class="w"> </span><span class="p">{</span></span>
<span id="LC235" class="line"><span class="w">      </span><span class="s2">"text/html"</span><span class="p">:</span><span class="w"> </span><span class="p">[</span></span>
<span id="LC236" class="line"><span class="w">       </span><span class="s2">"&lt;div&gt;</span><span class="se">\n</span><span class="s2">"</span><span class="p">,</span></span>
<span id="LC237" class="line"><span class="w">       </span><span class="s2">"&lt;style&gt;</span><span class="se">\n</span><span class="s2">"</span><span class="p">,</span></span>
<span id="LC238" class="line"><span class="w">       </span><span class="s2">"    .dataframe thead tr:only-child th {</span><span class="se">\n</span><span class="s2">"</span><span class="p">,</span></span>
<span id="LC239" class="line"><span class="w">       </span><span class="s2">"        text-align: right;</span><span class="se">\n</span><span class="s2">"</span><span class="p">,</span></span>
<span id="LC240" class="line"><span class="w">       </span><span class="s2">"    }</span><span class="se">\n</span><span class="s2">"</span><span class="p">,</span></span>
<span id="LC241" class="line"><span class="w">       </span><span class="s2">"</span><span class="se">\n</span><span class="s2">"</span><span class="p">,</span></span>
<span id="LC242" class="line"><span class="w">       </span><span class="s2">"    .dataframe thead th {</span><span class="se">\n</span><span class="s2">"</span><span class="p">,</span></span>
<span id="LC243" class="line"><span class="w">       </span><span class="s2">"        text-align: left;</span><span class="se">\n</span><span class="s2">"</span><span class="p">,</span></span>
<span id="LC244" class="line"><span class="w">       </span><span class="s2">"    }</span><span class="se">\n</span><span class="s2">"</span><span class="p">,</span></span>
<span id="LC245" class="line"><span class="w">       </span><span class="s2">"</span><span class="se">\n</span><span class="s2">"</span><span class="p">,</span></span>
<span id="LC246" class="line"><span class="w">       </span><span class="s2">"    .dataframe tbody tr th {</span><span class="se">\n</span><span class="s2">"</span><span class="p">,</span></span>
<span id="LC247" class="line"><span class="w">       </span><span class="s2">"        vertical-align: top;</span><span class="se">\n</span><span class="s2">"</span><span class="p">,</span></span>
<span id="LC248" class="line"><span class="w">       </span><span class="s2">"    }</span><span class="se">\n</span><span class="s2">"</span><span class="p">,</span></span>
<span id="LC249" class="line"><span class="w">       </span><span class="s2">"&lt;/style&gt;</span><span class="se">\n</span><span class="s2">"</span><span class="p">,</span></span>
<span id="LC250" class="line"><span class="w">       </span><span class="s2">"&lt;table border=</span><span class="se">\"</span><span class="s2">1</span><span class="se">\"</span><span class="s2"> class=</span><span class="se">\"</span><span class="s2">dataframe</span><span class="se">\"</span><span class="s2">&gt;</span><span class="se">\n</span><span class="s2">"</span><span class="p">,</span></span>
<span id="LC251" class="line"><span class="w">       </span><span class="s2">"  &lt;thead&gt;</span><span class="se">\n</span><span class="s2">"</span><span class="p">,</span></span>
<span id="LC252" class="line"><span class="w">       </span><span class="s2">"    &lt;tr style=</span><span class="se">\"</span><span class="s2">text-align: right;</span><span class="se">\"</span><span class="s2">&gt;</span><span class="se">\n</span><span class="s2">"</span><span class="p">,</span></span>
<span id="LC253" class="line"><span class="w">       </span><span class="s2">"      &lt;th&gt;&lt;/th&gt;</span><span class="se">\n</span><span class="s2">"</span><span class="p">,</span></span>
<span id="LC254" class="line"><span class="w">       </span><span class="s2">"      &lt;th&gt;cnt_voice_in_fix_avg_6m&lt;/th&gt;</span><span class="se">\n</span><span class="s2">"</span><span class="p">,</span></span>
<span id="LC255" class="line"><span class="w">       </span><span class="s2">"      &lt;th&gt;cnt_voice_out_fix_avg_6m&lt;/th&gt;</span><span class="se">\n</span><span class="s2">"</span><span class="p">,</span></span>
<span id="LC256" class="line"><span class="w">       </span><span class="s2">"      &lt;th&gt;arpu_int_roaming_avg_hy&lt;/th&gt;</span><span class="se">\n</span><span class="s2">"</span><span class="p">,</span></span>
<span id="LC257" class="line"><span class="w">       </span><span class="s2">"      &lt;th&gt;arpu_onnet_roaming_avg_hy&lt;/th&gt;</span><span class="se">\n</span><span class="s2">"</span><span class="p">,</span></span>
<span id="LC258" class="line"><span class="w">       </span><span class="s2">"      &lt;th&gt;call_charge_avg_6m&lt;/th&gt;</span><span class="se">\n</span><span class="s2">"</span><span class="p">,</span></span>
<span id="LC259" class="line"><span class="w">       </span><span class="s2">"      &lt;th&gt;call_charge_ind_6m&lt;/th&gt;</span><span class="se">\n</span><span class="s2">"</span><span class="p">,</span></span>
<span id="LC260" class="line"><span class="w">       </span><span class="s2">"      &lt;th&gt;cnt_voice_out_avg_6m&lt;/th&gt;</span><span class="se">\n</span><span class="s2">"</span><span class="p">,</span></span>
<span id="LC261" class="line"><span class="w">       </span><span class="s2">"      &lt;th&gt;arpu_voice_avg_hy&lt;/th&gt;</span><span class="se">\n</span><span class="s2">"</span><span class="p">,</span></span>
<span id="LC262" class="line"><span class="w">       </span><span class="s2">"      &lt;th&gt;arpu_gprs_avg_hy&lt;/th&gt;</span><span class="se">\n</span><span class="s2">"</span><span class="p">,</span></span>
<span id="LC263" class="line"><span class="w">       </span><span class="s2">"      &lt;th&gt;arpu_vas_avg_hy&lt;/th&gt;</span><span class="se">\n</span><span class="s2">"</span><span class="p">,</span></span>
<span id="LC264" class="line"><span class="w">       </span><span class="s2">"      &lt;th&gt;ingoing_avg_6m&lt;/th&gt;</span><span class="se">\n</span><span class="s2">"</span><span class="p">,</span></span>
<span id="LC265" class="line"><span class="w">       </span><span class="s2">"      &lt;th&gt;intercity_in_avg_6m&lt;/th&gt;</span><span class="se">\n</span><span class="s2">"</span><span class="p">,</span></span>
<span id="LC266" class="line"><span class="w">       </span><span class="s2">"      &lt;th&gt;int_roam_in_avg_6m&lt;/th&gt;</span><span class="se">\n</span><span class="s2">"</span><span class="p">,</span></span>
<span id="LC267" class="line"><span class="w">       </span><span class="s2">"      &lt;th&gt;sms_out_comp_num_avg_6m&lt;/th&gt;</span><span class="se">\n</span><span class="s2">"</span><span class="p">,</span></span>
<span id="LC268" class="line"><span class="w">       </span><span class="s2">"      &lt;th&gt;arpu_wo_roam_avg_hy&lt;/th&gt;</span><span class="se">\n</span><span class="s2">"</span><span class="p">,</span></span>
<span id="LC269" class="line"><span class="w">       </span><span class="s2">"      &lt;th&gt;onn_roam_out_time_6m&lt;/th&gt;</span><span class="se">\n</span><span class="s2">"</span><span class="p">,</span></span>
<span id="LC270" class="line"><span class="w">       </span><span class="s2">"      &lt;th&gt;cnt_onn_r_in_call_avg_6m&lt;/th&gt;</span><span class="se">\n</span><span class="s2">"</span><span class="p">,</span></span>
<span id="LC271" class="line"><span class="w">       </span><span class="s2">"      &lt;th&gt;cnt_onn_r_out_call_avg_6m&lt;/th&gt;</span><span class="se">\n</span><span class="s2">"</span><span class="p">,</span></span>
<span id="LC272" class="line"><span class="w">       </span><span class="s2">"      &lt;th&gt;data_volume_roam_avg_6m&lt;/th&gt;</span><span class="se">\n</span><span class="s2">"</span><span class="p">,</span></span>
<span id="LC273" class="line"><span class="w">       </span><span class="s2">"      &lt;th&gt;cnt_pp_change_6m&lt;/th&gt;</span><span class="se">\n</span><span class="s2">"</span><span class="p">,</span></span>
<span id="LC274" class="line"><span class="w">       </span><span class="s2">"      &lt;th&gt;cnt_fin_block_6m&lt;/th&gt;</span><span class="se">\n</span><span class="s2">"</span><span class="p">,</span></span>
<span id="LC275" class="line"><span class="w">       </span><span class="s2">"      &lt;th&gt;cnt_block_6m&lt;/th&gt;</span><span class="se">\n</span><span class="s2">"</span><span class="p">,</span></span>
<span id="LC276" class="line"><span class="w">       </span><span class="s2">"      &lt;th&gt;cpa_ind&lt;/th&gt;</span><span class="se">\n</span><span class="s2">"</span><span class="p">,</span></span>
<span id="LC277" class="line"><span class="w">       </span><span class="s2">"      &lt;th&gt;cnt_package_m&lt;/th&gt;</span><span class="se">\n</span><span class="s2">"</span><span class="p">,</span></span>
<span id="LC278" class="line"><span class="w">       </span><span class="s2">"      &lt;th&gt;cpa_ind_avg_6m&lt;/th&gt;</span><span class="se">\n</span><span class="s2">"</span><span class="p">,</span></span>
<span id="LC279" class="line"><span class="w">       </span><span class="s2">"      &lt;th&gt;minus_bal_day_avg_1m&lt;/th&gt;</span><span class="se">\n</span><span class="s2">"</span><span class="p">,</span></span>
<span id="LC280" class="line"><span class="w">       </span><span class="s2">"      &lt;th&gt;minus_bal_day_avg_hy&lt;/th&gt;</span><span class="se">\n</span><span class="s2">"</span><span class="p">,</span></span>
<span id="LC281" class="line"><span class="w">       </span><span class="s2">"      &lt;th&gt;conf_call_charge_ind_1m&lt;/th&gt;</span><span class="se">\n</span><span class="s2">"</span><span class="p">,</span></span>
<span id="LC282" class="line"><span class="w">       </span><span class="s2">"      &lt;th&gt;bl_charge_ind_1m&lt;/th&gt;</span><span class="se">\n</span><span class="s2">"</span><span class="p">,</span></span>
<span id="LC283" class="line"><span class="w">       </span><span class="s2">"      &lt;th&gt;bal_charge_ind_1m&lt;/th&gt;</span><span class="se">\n</span><span class="s2">"</span><span class="p">,</span></span>
<span id="LC284" class="line"><span class="w">       </span><span class="s2">"      &lt;th&gt;pay_charge_ind_1m&lt;/th&gt;</span><span class="se">\n</span><span class="s2">"</span><span class="p">,</span></span>
<span id="LC285" class="line"><span class="w">       </span><span class="s2">"      &lt;th&gt;package_ind_1m&lt;/th&gt;</span><span class="se">\n</span><span class="s2">"</span><span class="p">,</span></span>
<span id="LC286" class="line"><span class="w">       </span><span class="s2">"      &lt;th&gt;charge_package_1m&lt;/th&gt;</span><span class="se">\n</span><span class="s2">"</span><span class="p">,</span></span>
<span id="LC287" class="line"><span class="w">       </span><span class="s2">"      &lt;th&gt;conf_call_charge_avg_6m&lt;/th&gt;</span><span class="se">\n</span><span class="s2">"</span><span class="p">,</span></span>
<span id="LC288" class="line"><span class="w">       </span><span class="s2">"      &lt;th&gt;bl_charge_avg_6m&lt;/th&gt;</span><span class="se">\n</span><span class="s2">"</span><span class="p">,</span></span>
<span id="LC289" class="line"><span class="w">       </span><span class="s2">"      &lt;th&gt;bal_charge_avg_6m&lt;/th&gt;</span><span class="se">\n</span><span class="s2">"</span><span class="p">,</span></span>
<span id="LC290" class="line"><span class="w">       </span><span class="s2">"      &lt;th&gt;pay_charge_avg_6m&lt;/th&gt;</span><span class="se">\n</span><span class="s2">"</span><span class="p">,</span></span>
<span id="LC291" class="line"><span class="w">       </span><span class="s2">"      &lt;th&gt;pay_charge_ind_6m&lt;/th&gt;</span><span class="se">\n</span><span class="s2">"</span><span class="p">,</span></span>
<span id="LC292" class="line"><span class="w">       </span><span class="s2">"      &lt;th&gt;charge_package_avg_6m&lt;/th&gt;</span><span class="se">\n</span><span class="s2">"</span><span class="p">,</span></span>
<span id="LC293" class="line"><span class="w">       </span><span class="s2">"      &lt;th&gt;conf_call_charge_ind_6m&lt;/th&gt;</span><span class="se">\n</span><span class="s2">"</span><span class="p">,</span></span>
<span id="LC294" class="line"><span class="w">       </span><span class="s2">"      &lt;th&gt;bl_charge_ind_6m&lt;/th&gt;</span><span class="se">\n</span><span class="s2">"</span><span class="p">,</span></span>
<span id="LC295" class="line"><span class="w">       </span><span class="s2">"      &lt;th&gt;bal_charge_ind_6m&lt;/th&gt;</span><span class="se">\n</span><span class="s2">"</span><span class="p">,</span></span>
<span id="LC296" class="line"><span class="w">       </span><span class="s2">"      &lt;th&gt;int_state_6m&lt;/th&gt;</span><span class="se">\n</span><span class="s2">"</span><span class="p">,</span></span>
<span id="LC297" class="line"><span class="w">       </span><span class="s2">"      &lt;th&gt;cnt_roam_state_6m&lt;/th&gt;</span><span class="se">\n</span><span class="s2">"</span><span class="p">,</span></span>
<span id="LC298" class="line"><span class="w">       </span><span class="s2">"      &lt;th&gt;roam_state_6m&lt;/th&gt;</span><span class="se">\n</span><span class="s2">"</span><span class="p">,</span></span>
<span id="LC299" class="line"><span class="w">       </span><span class="s2">"      &lt;th&gt;payment_method_1m&lt;/th&gt;</span><span class="se">\n</span><span class="s2">"</span><span class="p">,</span></span>
<span id="LC300" class="line"><span class="w">       </span><span class="s2">"      &lt;th&gt;equipment_type_1m&lt;/th&gt;</span><span class="se">\n</span><span class="s2">"</span><span class="p">,</span></span>
<span id="LC301" class="line"><span class="w">       </span><span class="s2">"      &lt;th&gt;payment_method_6m&lt;/th&gt;</span><span class="se">\n</span><span class="s2">"</span><span class="p">,</span></span>
<span id="LC302" class="line"><span class="w">       </span><span class="s2">"      &lt;th&gt;equipment_type_6m&lt;/th&gt;</span><span class="se">\n</span><span class="s2">"</span><span class="p">,</span></span>
<span id="LC303" class="line"><span class="w">       </span><span class="s2">"      &lt;th&gt;direct_number&lt;/th&gt;</span><span class="se">\n</span><span class="s2">"</span><span class="p">,</span></span>
<span id="LC304" class="line"><span class="w">       </span><span class="s2">"      &lt;th&gt;cnt_pp_change_1m&lt;/th&gt;</span><span class="se">\n</span><span class="s2">"</span><span class="p">,</span></span>
<span id="LC305" class="line"><span class="w">       </span><span class="s2">"      &lt;th&gt;cnt_block_1m&lt;/th&gt;</span><span class="se">\n</span><span class="s2">"</span><span class="p">,</span></span>
<span id="LC306" class="line"><span class="w">       </span><span class="s2">"      &lt;th&gt;cnt_mou_bel_out&lt;/th&gt;</span><span class="se">\n</span><span class="s2">"</span><span class="p">,</span></span>
<span id="LC307" class="line"><span class="w">       </span><span class="s2">"      &lt;th&gt;cnt_mou_eur_out&lt;/th&gt;</span><span class="se">\n</span><span class="s2">"</span><span class="p">,</span></span>
<span id="LC308" class="line"><span class="w">       </span><span class="s2">"      &lt;th&gt;cnt_mou_cis_out&lt;/th&gt;</span><span class="se">\n</span><span class="s2">"</span><span class="p">,</span></span>
<span id="LC309" class="line"><span class="w">       </span><span class="s2">"      &lt;th&gt;cnt_mou_ukr_out&lt;/th&gt;</span><span class="se">\n</span><span class="s2">"</span><span class="p">,</span></span>
<span id="LC310" class="line"><span class="w">       </span><span class="s2">"    &lt;/tr&gt;</span><span class="se">\n</span><span class="s2">"</span><span class="p">,</span></span>
<span id="LC311" class="line"><span class="w">       </span><span class="s2">"  &lt;/thead&gt;</span><span class="se">\n</span><span class="s2">"</span><span class="p">,</span></span>
<span id="LC312" class="line"><span class="w">       </span><span class="s2">"  &lt;tbody&gt;</span><span class="se">\n</span><span class="s2">"</span><span class="p">,</span></span>
<span id="LC313" class="line"><span class="w">       </span><span class="s2">"    &lt;tr&gt;</span><span class="se">\n</span><span class="s2">"</span><span class="p">,</span></span>
<span id="LC314" class="line"><span class="w">       </span><span class="s2">"      &lt;th&gt;0&lt;/th&gt;</span><span class="se">\n</span><span class="s2">"</span><span class="p">,</span></span>
<span id="LC315" class="line"><span class="w">       </span><span class="s2">"      &lt;td&gt;(0.0, 36.44472)&lt;/td&gt;</span><span class="se">\n</span><span class="s2">"</span><span class="p">,</span></span>
<span id="LC316" class="line"><span class="w">       </span><span class="s2">"      &lt;td&gt;(0.0, 33.13964)&lt;/td&gt;</span><span class="se">\n</span><span class="s2">"</span><span class="p">,</span></span>
<span id="LC317" class="line"><span class="w">       </span><span class="s2">"      &lt;td&gt;(0.0, 96.14453)&lt;/td&gt;</span><span class="se">\n</span><span class="s2">"</span><span class="p">,</span></span>
<span id="LC318" class="line"><span class="w">       </span><span class="s2">"      &lt;td&gt;(0.0, 75.02563)&lt;/td&gt;</span><span class="se">\n</span><span class="s2">"</span><span class="p">,</span></span>
<span id="LC319" class="line"><span class="w">       </span><span class="s2">"      &lt;td&gt;(0.0, 87.99501)&lt;/td&gt;</span><span class="se">\n</span><span class="s2">"</span><span class="p">,</span></span>
<span id="LC320" class="line"><span class="w">       </span><span class="s2">"      &lt;td&gt;(0, 87.99501)&lt;/td&gt;</span><span class="se">\n</span><span class="s2">"</span><span class="p">,</span></span>
<span id="LC321" class="line"><span class="w">       </span><span class="s2">"      &lt;td&gt;(0.0, 13.58016)&lt;/td&gt;</span><span class="se">\n</span><span class="s2">"</span><span class="p">,</span></span>
<span id="LC322" class="line"><span class="w">       </span><span class="s2">"      &lt;td&gt;(0.0, 26.53751)&lt;/td&gt;</span><span class="se">\n</span><span class="s2">"</span><span class="p">,</span></span>
<span id="LC323" class="line"><span class="w">       </span><span class="s2">"      &lt;td&gt;(0.0, 39.26247)&lt;/td&gt;</span><span class="se">\n</span><span class="s2">"</span><span class="p">,</span></span>
<span id="LC324" class="line"><span class="w">       </span><span class="s2">"      &lt;td&gt;(0.0, 13.3228)&lt;/td&gt;</span><span class="se">\n</span><span class="s2">"</span><span class="p">,</span></span>
<span id="LC325" class="line"><span class="w">       </span><span class="s2">"      &lt;td&gt;(0.0, 15.54721)&lt;/td&gt;</span><span class="se">\n</span><span class="s2">"</span><span class="p">,</span></span>
<span id="LC326" class="line"><span class="w">       </span><span class="s2">"      &lt;td&gt;(0.0, 29.72496)&lt;/td&gt;</span><span class="se">\n</span><span class="s2">"</span><span class="p">,</span></span>
<span id="LC327" class="line"><span class="w">       </span><span class="s2">"      &lt;td&gt;(0.0, 97.61997)&lt;/td&gt;</span><span class="se">\n</span><span class="s2">"</span><span class="p">,</span></span>
<span id="LC328" class="line"><span class="w">       </span><span class="s2">"      &lt;td&gt;(0.0, 44.47844)&lt;/td&gt;</span><span class="se">\n</span><span class="s2">"</span><span class="p">,</span></span>
<span id="LC329" class="line"><span class="w">       </span><span class="s2">"      &lt;td&gt;(0.0, 4.57167)&lt;/td&gt;</span><span class="se">\n</span><span class="s2">"</span><span class="p">,</span></span>
<span id="LC330" class="line"><span class="w">       </span><span class="s2">"      &lt;td&gt;(0.0, 70.80923)&lt;/td&gt;</span><span class="se">\n</span><span class="s2">"</span><span class="p">,</span></span>
<span id="LC331" class="line"><span class="w">       </span><span class="s2">"      &lt;td&gt;(0.0, 68.69287)&lt;/td&gt;</span><span class="se">\n</span><span class="s2">"</span><span class="p">,</span></span>
<span id="LC332" class="line"><span class="w">       </span><span class="s2">"      &lt;td&gt;(0.0, 68.69339)&lt;/td&gt;</span><span class="se">\n</span><span class="s2">"</span><span class="p">,</span></span>
<span id="LC333" class="line"><span class="w">       </span><span class="s2">"      &lt;td&gt;(0.0, 100.0)&lt;/td&gt;</span><span class="se">\n</span><span class="s2">"</span><span class="p">,</span></span>
<span id="LC334" class="line"><span class="w">       </span><span class="s2">"      &lt;td&gt;(0, 72.8396)&lt;/td&gt;</span><span class="se">\n</span><span class="s2">"</span><span class="p">,</span></span>
<span id="LC335" class="line"><span class="w">       </span><span class="s2">"      &lt;td&gt;(0.0, 99.68577)&lt;/td&gt;</span><span class="se">\n</span><span class="s2">"</span><span class="p">,</span></span>
<span id="LC336" class="line"><span class="w">       </span><span class="s2">"      &lt;td&gt;(0.0, 57.09592)&lt;/td&gt;</span><span class="se">\n</span><span class="s2">"</span><span class="p">,</span></span>
<span id="LC337" class="line"><span class="w">       </span><span class="s2">"      &lt;td&gt;(0, 94.72456)&lt;/td&gt;</span><span class="se">\n</span><span class="s2">"</span><span class="p">,</span></span>
<span id="LC338" class="line"><span class="w">       </span><span class="s2">"      &lt;td&gt;(2, 26.28707)&lt;/td&gt;</span><span class="se">\n</span><span class="s2">"</span><span class="p">,</span></span>
<span id="LC339" class="line"><span class="w">       </span><span class="s2">"      &lt;td&gt;(0.0, 94.54651)&lt;/td&gt;</span><span class="se">\n</span><span class="s2">"</span><span class="p">,</span></span>
<span id="LC340" class="line"><span class="w">       </span><span class="s2">"      &lt;td&gt;(0, 64.32046)&lt;/td&gt;</span><span class="se">\n</span><span class="s2">"</span><span class="p">,</span></span>
<span id="LC341" class="line"><span class="w">       </span><span class="s2">"      &lt;td&gt;(0.0, 48.16081)&lt;/td&gt;</span><span class="se">\n</span><span class="s2">"</span><span class="p">,</span></span>
<span id="LC342" class="line"><span class="w">       </span><span class="s2">"      &lt;td&gt;(0, 99.92561)&lt;/td&gt;</span><span class="se">\n</span><span class="s2">"</span><span class="p">,</span></span>
<span id="LC343" class="line"><span class="w">       </span><span class="s2">"      &lt;td&gt;(0, 99.76421)&lt;/td&gt;</span><span class="se">\n</span><span class="s2">"</span><span class="p">,</span></span>
<span id="LC344" class="line"><span class="w">       </span><span class="s2">"      &lt;td&gt;(0, 99.99358)&lt;/td&gt;</span><span class="se">\n</span><span class="s2">"</span><span class="p">,</span></span>
<span id="LC345" class="line"><span class="w">       </span><span class="s2">"      &lt;td&gt;(0, 89.33857)&lt;/td&gt;</span><span class="se">\n</span><span class="s2">"</span><span class="p">,</span></span>
<span id="LC346" class="line"><span class="w">       </span><span class="s2">"      &lt;td&gt;(0, 53.53104)&lt;/td&gt;</span><span class="se">\n</span><span class="s2">"</span><span class="p">,</span></span>
<span id="LC347" class="line"><span class="w">       </span><span class="s2">"      &lt;td&gt;(0.0, 45.42054)&lt;/td&gt;</span><span class="se">\n</span><span class="s2">"</span><span class="p">,</span></span>
<span id="LC348" class="line"><span class="w">       </span><span class="s2">"      &lt;td&gt;(0.0, 99.88196)&lt;/td&gt;</span><span class="se">\n</span><span class="s2">"</span><span class="p">,</span></span>
<span id="LC349" class="line"><span class="w">       </span><span class="s2">"      &lt;td&gt;(0.0, 99.67201)&lt;/td&gt;</span><span class="se">\n</span><span class="s2">"</span><span class="p">,</span></span>
<span id="LC350" class="line"><span class="w">       </span><span class="s2">"      &lt;td&gt;(0.0, 99.97441)&lt;/td&gt;</span><span class="se">\n</span><span class="s2">"</span><span class="p">,</span></span>
<span id="LC351" class="line"><span class="w">       </span><span class="s2">"      &lt;td&gt;(0.0, 82.66101)&lt;/td&gt;</span><span class="se">\n</span><span class="s2">"</span><span class="p">,</span></span>
<span id="LC352" class="line"><span class="w">       </span><span class="s2">"      &lt;td&gt;(0, 82.66101)&lt;/td&gt;</span><span class="se">\n</span><span class="s2">"</span><span class="p">,</span></span>
<span id="LC353" class="line"><span class="w">       </span><span class="s2">"      &lt;td&gt;(0.0, 37.29981)&lt;/td&gt;</span><span class="se">\n</span><span class="s2">"</span><span class="p">,</span></span>
<span id="LC354" class="line"><span class="w">       </span><span class="s2">"      &lt;td&gt;(0, 99.88196)&lt;/td&gt;</span><span class="se">\n</span><span class="s2">"</span><span class="p">,</span></span>
<span id="LC355" class="line"><span class="w">       </span><span class="s2">"      &lt;td&gt;(0, 99.67201)&lt;/td&gt;</span><span class="se">\n</span><span class="s2">"</span><span class="p">,</span></span>
<span id="LC356" class="line"><span class="w">       </span><span class="s2">"      &lt;td&gt;(0, 99.97441)&lt;/td&gt;</span><span class="se">\n</span><span class="s2">"</span><span class="p">,</span></span>
<span id="LC357" class="line"><span class="w">       </span><span class="s2">"      &lt;td&gt;(, 81.17129)&lt;/td&gt;</span><span class="se">\n</span><span class="s2">"</span><span class="p">,</span></span>
<span id="LC358" class="line"><span class="w">       </span><span class="s2">"      &lt;td&gt;(0, 94.10098)&lt;/td&gt;</span><span class="se">\n</span><span class="s2">"</span><span class="p">,</span></span>
<span id="LC359" class="line"><span class="w">       </span><span class="s2">"      &lt;td&gt;(, 94.10098)&lt;/td&gt;</span><span class="se">\n</span><span class="s2">"</span><span class="p">,</span></span>
<span id="LC360" class="line"><span class="w">       </span><span class="s2">"      &lt;td&gt;(Не задано, 54.09539)&lt;/td&gt;</span><span class="se">\n</span><span class="s2">"</span><span class="p">,</span></span>
<span id="LC361" class="line"><span class="w">       </span><span class="s2">"      &lt;td&gt;(, 35.816)&lt;/td&gt;</span><span class="se">\n</span><span class="s2">"</span><span class="p">,</span></span>
<span id="LC362" class="line"><span class="w">       </span><span class="s2">"      &lt;td&gt;(Не задано, 73.30765)&lt;/td&gt;</span><span class="se">\n</span><span class="s2">"</span><span class="p">,</span></span>
<span id="LC363" class="line"><span class="w">       </span><span class="s2">"      &lt;td&gt;(Не задано, 41.9869)&lt;/td&gt;</span><span class="se">\n</span><span class="s2">"</span><span class="p">,</span></span>
<span id="LC364" class="line"><span class="w">       </span><span class="s2">"      &lt;td&gt;(, 98.33322)&lt;/td&gt;</span><span class="se">\n</span><span class="s2">"</span><span class="p">,</span></span>
<span id="LC365" class="line"><span class="w">       </span><span class="s2">"      &lt;td&gt;(0, 90.28054)&lt;/td&gt;</span><span class="se">\n</span><span class="s2">"</span><span class="p">,</span></span>
<span id="LC366" class="line"><span class="w">       </span><span class="s2">"      &lt;td&gt;(0, 70.29509)&lt;/td&gt;</span><span class="se">\n</span><span class="s2">"</span><span class="p">,</span></span>
<span id="LC367" class="line"><span class="w">       </span><span class="s2">"      &lt;td&gt;(0, 99.64113)&lt;/td&gt;</span><span class="se">\n</span><span class="s2">"</span><span class="p">,</span></span>
<span id="LC368" class="line"><span class="w">       </span><span class="s2">"      &lt;td&gt;(0, 99.50256)&lt;/td&gt;</span><span class="se">\n</span><span class="s2">"</span><span class="p">,</span></span>
<span id="LC369" class="line"><span class="w">       </span><span class="s2">"      &lt;td&gt;(0, 94.22946)&lt;/td&gt;</span><span class="se">\n</span><span class="s2">"</span><span class="p">,</span></span>
<span id="LC370" class="line"><span class="w">       </span><span class="s2">"      &lt;td&gt;(0, 98.44872)&lt;/td&gt;</span><span class="se">\n</span><span class="s2">"</span><span class="p">,</span></span>
<span id="LC371" class="line"><span class="w">       </span><span class="s2">"    &lt;/tr&gt;</span><span class="se">\n</span><span class="s2">"</span><span class="p">,</span></span>
<span id="LC372" class="line"><span class="w">       </span><span class="s2">"    &lt;tr&gt;</span><span class="se">\n</span><span class="s2">"</span><span class="p">,</span></span>
<span id="LC373" class="line"><span class="w">       </span><span class="s2">"      &lt;th&gt;1&lt;/th&gt;</span><span class="se">\n</span><span class="s2">"</span><span class="p">,</span></span>
<span id="LC374" class="line"><span class="w">       </span><span class="s2">"      &lt;td&gt;(0.1667, 7.92739)&lt;/td&gt;</span><span class="se">\n</span><span class="s2">"</span><span class="p">,</span></span>
<span id="LC375" class="line"><span class="w">       </span><span class="s2">"      &lt;td&gt;(0.1667, 6.19354)&lt;/td&gt;</span><span class="se">\n</span><span class="s2">"</span><span class="p">,</span></span>
<span id="LC376" class="line"><span class="w">       </span><span class="s2">"      &lt;td&gt;(14.125, 0.2669)&lt;/td&gt;</span><span class="se">\n</span><span class="s2">"</span><span class="p">,</span></span>
<span id="LC377" class="line"><span class="w">       </span><span class="s2">"      &lt;td&gt;(1.405, 0.83449)&lt;/td&gt;</span><span class="se">\n</span><span class="s2">"</span><span class="p">,</span></span>
<span id="LC378" class="line"><span class="w">       </span><span class="s2">"      &lt;td&gt;(0.1667, 3.91076)&lt;/td&gt;</span><span class="se">\n</span><span class="s2">"</span><span class="p">,</span></span>
<span id="LC379" class="line"><span class="w">       </span><span class="s2">"      &lt;td&gt;(1, 12.00499)&lt;/td&gt;</span><span class="se">\n</span><span class="s2">"</span><span class="p">,</span></span>
<span id="LC380" class="line"><span class="w">       </span><span class="s2">"      &lt;td&gt;(1.0, 0.90747)&lt;/td&gt;</span><span class="se">\n</span><span class="s2">"</span><span class="p">,</span></span>
<span id="LC381" class="line"><span class="w">       </span><span class="s2">"      &lt;td&gt;(0.4233, 0.40765)&lt;/td&gt;</span><span class="se">\n</span><span class="s2">"</span><span class="p">,</span></span>
<span id="LC382" class="line"><span class="w">       </span><span class="s2">"      &lt;td&gt;(127.1209, 1.16724)&lt;/td&gt;</span><span class="se">\n</span><span class="s2">"</span><span class="p">,</span></span>
<span id="LC383" class="line"><span class="w">       </span><span class="s2">"      &lt;td&gt;(12.8499, 0.53787)&lt;/td&gt;</span><span class="se">\n</span><span class="s2">"</span><span class="p">,</span></span>
<span id="LC384" class="line"><span class="w">       </span><span class="s2">"      &lt;td&gt;(0.0028, 0.05414)&lt;/td&gt;</span><span class="se">\n</span><span class="s2">"</span><span class="p">,</span></span>
<span id="LC385" class="line"><span class="w">       </span><span class="s2">"      &lt;td&gt;(0.0333, 0.16718)&lt;/td&gt;</span><span class="se">\n</span><span class="s2">"</span><span class="p">,</span></span>
<span id="LC386" class="line"><span class="w">       </span><span class="s2">"      &lt;td&gt;(0.0056, 0.01579)&lt;/td&gt;</span><span class="se">\n</span><span class="s2">"</span><span class="p">,</span></span>
<span id="LC387" class="line"><span class="w">       </span><span class="s2">"      &lt;td&gt;(0.1667, 5.63027)&lt;/td&gt;</span><span class="se">\n</span><span class="s2">"</span><span class="p">,</span></span>
<span id="LC388" class="line"><span class="w">       </span><span class="s2">"      &lt;td&gt;(254.24, 0.41787)&lt;/td&gt;</span><span class="se">\n</span><span class="s2">"</span><span class="p">,</span></span>
<span id="LC389" class="line"><span class="w">       </span><span class="s2">"      &lt;td&gt;(1.0, 0.10079)&lt;/td&gt;</span><span class="se">\n</span><span class="s2">"</span><span class="p">,</span></span>
<span id="LC390" class="line"><span class="w">       </span><span class="s2">"      &lt;td&gt;(0.1667, 3.51933)&lt;/td&gt;</span><span class="se">\n</span><span class="s2">"</span><span class="p">,</span></span>
<span id="LC391" class="line"><span class="w">       </span><span class="s2">"      &lt;td&gt;(0.1667, 3.75152)&lt;/td&gt;</span><span class="se">\n</span><span class="s2">"</span><span class="p">,</span></span>
<span id="LC392" class="line"><span class="w">       </span><span class="s2">"      &lt;td&gt;NaN&lt;/td&gt;</span><span class="se">\n</span><span class="s2">"</span><span class="p">,</span></span>
<span id="LC393" class="line"><span class="w">       </span><span class="s2">"      &lt;td&gt;(1, 23.84015)&lt;/td&gt;</span><span class="se">\n</span><span class="s2">"</span><span class="p">,</span></span>
<span id="LC394" class="line"><span class="w">       </span><span class="s2">"      &lt;td&gt;(0.3333, 0.10331)&lt;/td&gt;</span><span class="se">\n</span><span class="s2">"</span><span class="p">,</span></span>
<span id="LC395" class="line"><span class="w">       </span><span class="s2">"      &lt;td&gt;(1.0, 7.19978)&lt;/td&gt;</span><span class="se">\n</span><span class="s2">"</span><span class="p">,</span></span>
<span id="LC396" class="line"><span class="w">       </span><span class="s2">"      &lt;td&gt;(1, 5.27544)&lt;/td&gt;</span><span class="se">\n</span><span class="s2">"</span><span class="p">,</span></span>
<span id="LC397" class="line"><span class="w">       </span><span class="s2">"      &lt;td&gt;(1, 23.61381)&lt;/td&gt;</span><span class="se">\n</span><span class="s2">"</span><span class="p">,</span></span>
<span id="LC398" class="line"><span class="w">       </span><span class="s2">"      &lt;td&gt;(1.0, 4.83096)&lt;/td&gt;</span><span class="se">\n</span><span class="s2">"</span><span class="p">,</span></span>
<span id="LC399" class="line"><span class="w">       </span><span class="s2">"      &lt;td&gt;(31, 6.64394)&lt;/td&gt;</span><span class="se">\n</span><span class="s2">"</span><span class="p">,</span></span>
<span id="LC400" class="line"><span class="w">       </span><span class="s2">"      &lt;td&gt;(0.1667, 2.74517)&lt;/td&gt;</span><span class="se">\n</span><span class="s2">"</span><span class="p">,</span></span>
<span id="LC401" class="line"><span class="w">       </span><span class="s2">"      &lt;td&gt;(1, 0.07439)&lt;/td&gt;</span><span class="se">\n</span><span class="s2">"</span><span class="p">,</span></span>
<span id="LC402" class="line"><span class="w">       </span><span class="s2">"      &lt;td&gt;(1, 0.23579)&lt;/td&gt;</span><span class="se">\n</span><span class="s2">"</span><span class="p">,</span></span>
<span id="LC403" class="line"><span class="w">       </span><span class="s2">"      &lt;td&gt;(1, 0.00642)&lt;/td&gt;</span><span class="se">\n</span><span class="s2">"</span><span class="p">,</span></span>
<span id="LC404" class="line"><span class="w">       </span><span class="s2">"      &lt;td&gt;(1, 10.66143)&lt;/td&gt;</span><span class="se">\n</span><span class="s2">"</span><span class="p">,</span></span>
<span id="LC405" class="line"><span class="w">       </span><span class="s2">"      &lt;td&gt;(1, 46.46896)&lt;/td&gt;</span><span class="se">\n</span><span class="s2">"</span><span class="p">,</span></span>
<span id="LC406" class="line"><span class="w">       </span><span class="s2">"      &lt;td&gt;(147.4606, 1.91014)&lt;/td&gt;</span><span class="se">\n</span><span class="s2">"</span><span class="p">,</span></span>
<span id="LC407" class="line"><span class="w">       </span><span class="s2">"      &lt;td&gt;(1.0, 0.04861)&lt;/td&gt;</span><span class="se">\n</span><span class="s2">"</span><span class="p">,</span></span>
<span id="LC408" class="line"><span class="w">       </span><span class="s2">"      &lt;td&gt;(1.0, 0.15268)&lt;/td&gt;</span><span class="se">\n</span><span class="s2">"</span><span class="p">,</span></span>
<span id="LC409" class="line"><span class="w">       </span><span class="s2">"      &lt;td&gt;(0.1667, 0.01565)&lt;/td&gt;</span><span class="se">\n</span><span class="s2">"</span><span class="p">,</span></span>
<span id="LC410" class="line"><span class="w">       </span><span class="s2">"      &lt;td&gt;(1.0, 3.90565)&lt;/td&gt;</span><span class="se">\n</span><span class="s2">"</span><span class="p">,</span></span>
<span id="LC411" class="line"><span class="w">       </span><span class="s2">"      &lt;td&gt;(1, 17.33899)&lt;/td&gt;</span><span class="se">\n</span><span class="s2">"</span><span class="p">,</span></span>
<span id="LC412" class="line"><span class="w">       </span><span class="s2">"      &lt;td&gt;(84.7511, 0.824)&lt;/td&gt;</span><span class="se">\n</span><span class="s2">"</span><span class="p">,</span></span>
<span id="LC413" class="line"><span class="w">       </span><span class="s2">"      &lt;td&gt;(1, 0.11804)&lt;/td&gt;</span><span class="se">\n</span><span class="s2">"</span><span class="p">,</span></span>
<span id="LC414" class="line"><span class="w">       </span><span class="s2">"      &lt;td&gt;(1, 0.32799)&lt;/td&gt;</span><span class="se">\n</span><span class="s2">"</span><span class="p">,</span></span>
<span id="LC415" class="line"><span class="w">       </span><span class="s2">"      &lt;td&gt;(1, 0.02559)&lt;/td&gt;</span><span class="se">\n</span><span class="s2">"</span><span class="p">,</span></span>
<span id="LC416" class="line"><span class="w">       </span><span class="s2">"      &lt;td&gt;(Узбекистан, 2.72539)&lt;/td&gt;</span><span class="se">\n</span><span class="s2">"</span><span class="p">,</span></span>
<span id="LC417" class="line"><span class="w">       </span><span class="s2">"      &lt;td&gt;(1, 4.47098)&lt;/td&gt;</span><span class="se">\n</span><span class="s2">"</span><span class="p">,</span></span>
<span id="LC418" class="line"><span class="w">       </span><span class="s2">"      &lt;td&gt;(Беларусь, 0.8011)&lt;/td&gt;</span><span class="se">\n</span><span class="s2">"</span><span class="p">,</span></span>
<span id="LC419" class="line"><span class="w">       </span><span class="s2">"      &lt;td&gt;(, 35.816)&lt;/td&gt;</span><span class="se">\n</span><span class="s2">"</span><span class="p">,</span></span>
<span id="LC420" class="line"><span class="w">       </span><span class="s2">"      &lt;td&gt;(Не задано, 30.61555)&lt;/td&gt;</span><span class="se">\n</span><span class="s2">"</span><span class="p">,</span></span>
<span id="LC421" class="line"><span class="w">       </span><span class="s2">"      &lt;td&gt;(, 16.90326)&lt;/td&gt;</span><span class="se">\n</span><span class="s2">"</span><span class="p">,</span></span>
<span id="LC422" class="line"><span class="w">       </span><span class="s2">"      &lt;td&gt;(, 16.90326)&lt;/td&gt;</span><span class="se">\n</span><span class="s2">"</span><span class="p">,</span></span>
<span id="LC423" class="line"><span class="w">       </span><span class="s2">"      &lt;td&gt;(3512163516, 0.0)&lt;/td&gt;</span><span class="se">\n</span><span class="s2">"</span><span class="p">,</span></span>
<span id="LC424" class="line"><span class="w">       </span><span class="s2">"      &lt;td&gt;(1, 9.46134)&lt;/td&gt;</span><span class="se">\n</span><span class="s2">"</span><span class="p">,</span></span>
<span id="LC425" class="line"><span class="w">       </span><span class="s2">"      &lt;td&gt;(1, 20.05228)&lt;/td&gt;</span><span class="se">\n</span><span class="s2">"</span><span class="p">,</span></span>
<span id="LC426" class="line"><span class="w">       </span><span class="s2">"      &lt;td&gt;(1, 0.14994)&lt;/td&gt;</span><span class="se">\n</span><span class="s2">"</span><span class="p">,</span></span>
<span id="LC427" class="line"><span class="w">       </span><span class="s2">"      &lt;td&gt;(1, 0.24891)&lt;/td&gt;</span><span class="se">\n</span><span class="s2">"</span><span class="p">,</span></span>
<span id="LC428" class="line"><span class="w">       </span><span class="s2">"      &lt;td&gt;(1, 0.85155)&lt;/td&gt;</span><span class="se">\n</span><span class="s2">"</span><span class="p">,</span></span>
<span id="LC429" class="line"><span class="w">       </span><span class="s2">"      &lt;td&gt;(1, 0.41276)&lt;/td&gt;</span><span class="se">\n</span><span class="s2">"</span><span class="p">,</span></span>
<span id="LC430" class="line"><span class="w">       </span><span class="s2">"    &lt;/tr&gt;</span><span class="se">\n</span><span class="s2">"</span><span class="p">,</span></span>
<span id="LC431" class="line"><span class="w">       </span><span class="s2">"    &lt;tr&gt;</span><span class="se">\n</span><span class="s2">"</span><span class="p">,</span></span>
<span id="LC432" class="line"><span class="w">       </span><span class="s2">"      &lt;th&gt;2&lt;/th&gt;</span><span class="se">\n</span><span class="s2">"</span><span class="p">,</span></span>
<span id="LC433" class="line"><span class="w">       </span><span class="s2">"      &lt;td&gt;(0.3333, 5.73272)&lt;/td&gt;</span><span class="se">\n</span><span class="s2">"</span><span class="p">,</span></span>
<span id="LC434" class="line"><span class="w">       </span><span class="s2">"      &lt;td&gt;(0.3333, 4.59722)&lt;/td&gt;</span><span class="se">\n</span><span class="s2">"</span><span class="p">,</span></span>
<span id="LC435" class="line"><span class="w">       </span><span class="s2">"      &lt;td&gt;(1.4117, 0.17053)&lt;/td&gt;</span><span class="se">\n</span><span class="s2">"</span><span class="p">,</span></span>
<span id="LC436" class="line"><span class="w">       </span><span class="s2">"      &lt;td&gt;(2.81, 0.62025)&lt;/td&gt;</span><span class="se">\n</span><span class="s2">"</span><span class="p">,</span></span>
<span id="LC437" class="line"><span class="w">       </span><span class="s2">"      &lt;td&gt;(0.3333, 2.05969)&lt;/td&gt;</span><span class="se">\n</span><span class="s2">"</span><span class="p">,</span></span>
<span id="LC438" class="line"><span class="w">       </span><span class="s2">"      &lt;td&gt;NaN&lt;/td&gt;</span><span class="se">\n</span><span class="s2">"</span><span class="p">,</span></span>
<span id="LC439" class="line"><span class="w">       </span><span class="s2">"      &lt;td&gt;(0.1667, 0.76149)&lt;/td&gt;</span><span class="se">\n</span><span class="s2">"</span><span class="p">,</span></span>
<span id="LC440" class="line"><span class="w">       </span><span class="s2">"      &lt;td&gt;(0.8467, 0.28577)&lt;/td&gt;</span><span class="se">\n</span><span class="s2">"</span><span class="p">,</span></span>
<span id="LC441" class="line"><span class="w">       </span><span class="s2">"      &lt;td&gt;(0.2067, 0.7255)&lt;/td&gt;</span><span class="se">\n</span><span class="s2">"</span><span class="p">,</span></span>
<span id="LC442" class="line"><span class="w">       </span><span class="s2">"      &lt;td&gt;(19.627, 0.48832)&lt;/td&gt;</span><span class="se">\n</span><span class="s2">"</span><span class="p">,</span></span>
<span id="LC443" class="line"><span class="w">       </span><span class="s2">"      &lt;td&gt;(0.0333, 0.04089)&lt;/td&gt;</span><span class="se">\n</span><span class="s2">"</span><span class="p">,</span></span>
<span id="LC444" class="line"><span class="w">       </span><span class="s2">"      &lt;td&gt;(0.05, 0.1631)&lt;/td&gt;</span><span class="se">\n</span><span class="s2">"</span><span class="p">,</span></span>
<span id="LC445" class="line"><span class="w">       </span><span class="s2">"      &lt;td&gt;(0.1667, 0.01547)&lt;/td&gt;</span><span class="se">\n</span><span class="s2">"</span><span class="p">,</span></span>
<span id="LC446" class="line"><span class="w">       </span><span class="s2">"      &lt;td&gt;(0.3333, 3.71231)&lt;/td&gt;</span><span class="se">\n</span><span class="s2">"</span><span class="p">,</span></span>
<span id="LC447" class="line"><span class="w">       </span><span class="s2">"      &lt;td&gt;(8.47, 0.39849)&lt;/td&gt;</span><span class="se">\n</span><span class="s2">"</span><span class="p">,</span></span>
<span id="LC448" class="line"><span class="w">       </span><span class="s2">"      &lt;td&gt;(0.3333, 0.06346)&lt;/td&gt;</span><span class="se">\n</span><span class="s2">"</span><span class="p">,</span></span>
<span id="LC449" class="line"><span class="w">       </span><span class="s2">"      &lt;td&gt;(0.3333, 2.41152)&lt;/td&gt;</span><span class="se">\n</span><span class="s2">"</span><span class="p">,</span></span>
<span id="LC450" class="line"><span class="w">       </span><span class="s2">"      &lt;td&gt;(0.3333, 2.46667)&lt;/td&gt;</span><span class="se">\n</span><span class="s2">"</span><span class="p">,</span></span>
<span id="LC451" class="line"><span class="w">       </span><span class="s2">"      &lt;td&gt;NaN&lt;/td&gt;</span><span class="se">\n</span><span class="s2">"</span><span class="p">,</span></span>
<span id="LC452" class="line"><span class="w">       </span><span class="s2">"      &lt;td&gt;(2, 2.85313)&lt;/td&gt;</span><span class="se">\n</span><span class="s2">"</span><span class="p">,</span></span>
<span id="LC453" class="line"><span class="w">       </span><span class="s2">"      &lt;td&gt;(0.1667, 0.09402)&lt;/td&gt;</span><span class="se">\n</span><span class="s2">"</span><span class="p">,</span></span>
<span id="LC454" class="line"><span class="w">       </span><span class="s2">"      &lt;td&gt;(0.1667, 6.99988)&lt;/td&gt;</span><span class="se">\n</span><span class="s2">"</span><span class="p">,</span></span>
<span id="LC455" class="line"><span class="w">       </span><span class="s2">"      &lt;td&gt;NaN&lt;/td&gt;</span><span class="se">\n</span><span class="s2">"</span><span class="p">,</span></span>
<span id="LC456" class="line"><span class="w">       </span><span class="s2">"      &lt;td&gt;(3, 20.30479)&lt;/td&gt;</span><span class="se">\n</span><span class="s2">"</span><span class="p">,</span></span>
<span id="LC457" class="line"><span class="w">       </span><span class="s2">"      &lt;td&gt;(0.8333, 0.16994)&lt;/td&gt;</span><span class="se">\n</span><span class="s2">"</span><span class="p">,</span></span>
<span id="LC458" class="line"><span class="w">       </span><span class="s2">"      &lt;td&gt;(1, 3.09475)&lt;/td&gt;</span><span class="se">\n</span><span class="s2">"</span><span class="p">,</span></span>
<span id="LC459" class="line"><span class="w">       </span><span class="s2">"      &lt;td&gt;(0.3333, 1.78879)&lt;/td&gt;</span><span class="se">\n</span><span class="s2">"</span><span class="p">,</span></span>
<span id="LC460" class="line"><span class="w">       </span><span class="s2">"      &lt;td&gt;NaN&lt;/td&gt;</span><span class="se">\n</span><span class="s2">"</span><span class="p">,</span></span>
<span id="LC461" class="line"><span class="w">       </span><span class="s2">"      &lt;td&gt;NaN&lt;/td&gt;</span><span class="se">\n</span><span class="s2">"</span><span class="p">,</span></span>
<span id="LC462" class="line"><span class="w">       </span><span class="s2">"      &lt;td&gt;NaN&lt;/td&gt;</span><span class="se">\n</span><span class="s2">"</span><span class="p">,</span></span>
<span id="LC463" class="line"><span class="w">       </span><span class="s2">"      &lt;td&gt;NaN&lt;/td&gt;</span><span class="se">\n</span><span class="s2">"</span><span class="p">,</span></span>
<span id="LC464" class="line"><span class="w">       </span><span class="s2">"      &lt;td&gt;NaN&lt;/td&gt;</span><span class="se">\n</span><span class="s2">"</span><span class="p">,</span></span>
<span id="LC465" class="line"><span class="w">       </span><span class="s2">"      &lt;td&gt;(152.4946, 1.4386)&lt;/td&gt;</span><span class="se">\n</span><span class="s2">"</span><span class="p">,</span></span>
<span id="LC466" class="line"><span class="w">       </span><span class="s2">"      &lt;td&gt;(0.1667, 0.02232)&lt;/td&gt;</span><span class="se">\n</span><span class="s2">"</span><span class="p">,</span></span>
<span id="LC467" class="line"><span class="w">       </span><span class="s2">"      &lt;td&gt;(0.1667, 0.0515)&lt;/td&gt;</span><span class="se">\n</span><span class="s2">"</span><span class="p">,</span></span>
<span id="LC468" class="line"><span class="w">       </span><span class="s2">"      &lt;td&gt;(0.5, 0.00372)&lt;/td&gt;</span><span class="se">\n</span><span class="s2">"</span><span class="p">,</span></span>
<span id="LC469" class="line"><span class="w">       </span><span class="s2">"      &lt;td&gt;(0.1667, 3.85973)&lt;/td&gt;</span><span class="se">\n</span><span class="s2">"</span><span class="p">,</span></span>
<span id="LC470" class="line"><span class="w">       </span><span class="s2">"      &lt;td&gt;NaN&lt;/td&gt;</span><span class="se">\n</span><span class="s2">"</span><span class="p">,</span></span>
<span id="LC471" class="line"><span class="w">       </span><span class="s2">"      &lt;td&gt;(147.4606, 0.77466)&lt;/td&gt;</span><span class="se">\n</span><span class="s2">"</span><span class="p">,</span></span>
<span id="LC472" class="line"><span class="w">       </span><span class="s2">"      &lt;td&gt;NaN&lt;/td&gt;</span><span class="se">\n</span><span class="s2">"</span><span class="p">,</span></span>
<span id="LC473" class="line"><span class="w">       </span><span class="s2">"      &lt;td&gt;NaN&lt;/td&gt;</span><span class="se">\n</span><span class="s2">"</span><span class="p">,</span></span>
<span id="LC474" class="line"><span class="w">       </span><span class="s2">"      &lt;td&gt;NaN&lt;/td&gt;</span><span class="se">\n</span><span class="s2">"</span><span class="p">,</span></span>
<span id="LC475" class="line"><span class="w">       </span><span class="s2">"      &lt;td&gt;(Великобритания, 2.60227)&lt;/td&gt;</span><span class="se">\n</span><span class="s2">"</span><span class="p">,</span></span>
<span id="LC476" class="line"><span class="w">       </span><span class="s2">"      &lt;td&gt;(2, 0.85806)&lt;/td&gt;</span><span class="se">\n</span><span class="s2">"</span><span class="p">,</span></span>
<span id="LC477" class="line"><span class="w">       </span><span class="s2">"      &lt;td&gt;(Украина, 0.53122)&lt;/td&gt;</span><span class="se">\n</span><span class="s2">"</span><span class="p">,</span></span>
<span id="LC478" class="line"><span class="w">       </span><span class="s2">"      &lt;td&gt;(Наличные, 7.11875)&lt;/td&gt;</span><span class="se">\n</span><span class="s2">"</span><span class="p">,</span></span>
<span id="LC479" class="line"><span class="w">       </span><span class="s2">"      &lt;td&gt;(Терминал самообслуживания, 9.7429)&lt;/td&gt;</span><span class="se">\n</span><span class="s2">"</span><span class="p">,</span></span>
<span id="LC480" class="line"><span class="w">       </span><span class="s2">"      &lt;td&gt;(Наличные, 6.44382)&lt;/td&gt;</span><span class="se">\n</span><span class="s2">"</span><span class="p">,</span></span>
<span id="LC481" class="line"><span class="w">       </span><span class="s2">"      &lt;td&gt;(Терминал самообслуживания, 14.77418)&lt;/td&gt;</span><span class="se">\n</span><span class="s2">"</span><span class="p">,</span></span>
<span id="LC482" class="line"><span class="w">       </span><span class="s2">"      &lt;td&gt;(3512164099, 0.0)&lt;/td&gt;</span><span class="se">\n</span><span class="s2">"</span><span class="p">,</span></span>
<span id="LC483" class="line"><span class="w">       </span><span class="s2">"      &lt;td&gt;(2, 0.23939)&lt;/td&gt;</span><span class="se">\n</span><span class="s2">"</span><span class="p">,</span></span>
<span id="LC484" class="line"><span class="w">       </span><span class="s2">"      &lt;td&gt;(2, 5.82238)&lt;/td&gt;</span><span class="se">\n</span><span class="s2">"</span><span class="p">,</span></span>
<span id="LC485" class="line"><span class="w">       </span><span class="s2">"      &lt;td&gt;(2, 0.06465)&lt;/td&gt;</span><span class="se">\n</span><span class="s2">"</span><span class="p">,</span></span>
<span id="LC486" class="line"><span class="w">       </span><span class="s2">"      &lt;td&gt;(2, 0.08891)&lt;/td&gt;</span><span class="se">\n</span><span class="s2">"</span><span class="p">,</span></span>
<span id="LC487" class="line"><span class="w">       </span><span class="s2">"      &lt;td&gt;(2, 0.49576)&lt;/td&gt;</span><span class="se">\n</span><span class="s2">"</span><span class="p">,</span></span>
<span id="LC488" class="line"><span class="w">       </span><span class="s2">"      &lt;td&gt;(2, 0.20628)&lt;/td&gt;</span><span class="se">\n</span><span class="s2">"</span><span class="p">,</span></span>
<span id="LC489" class="line"><span class="w">       </span><span class="s2">"    &lt;/tr&gt;</span><span class="se">\n</span><span class="s2">"</span><span class="p">,</span></span>
<span id="LC490" class="line"><span class="w">       </span><span class="s2">"    &lt;tr&gt;</span><span class="se">\n</span><span class="s2">"</span><span class="p">,</span></span>
<span id="LC491" class="line"><span class="w">       </span><span class="s2">"      &lt;th&gt;3&lt;/th&gt;</span><span class="se">\n</span><span class="s2">"</span><span class="p">,</span></span>
<span id="LC492" class="line"><span class="w">       </span><span class="s2">"      &lt;td&gt;(0.5, 4.6271)&lt;/td&gt;</span><span class="se">\n</span><span class="s2">"</span><span class="p">,</span></span>
<span id="LC493" class="line"><span class="w">       </span><span class="s2">"      &lt;td&gt;(0.5, 3.90738)&lt;/td&gt;</span><span class="se">\n</span><span class="s2">"</span><span class="p">,</span></span>
<span id="LC494" class="line"><span class="w">       </span><span class="s2">"      &lt;td&gt;(28.2483, 0.16015)&lt;/td&gt;</span><span class="se">\n</span><span class="s2">"</span><span class="p">,</span></span>
<span id="LC495" class="line"><span class="w">       </span><span class="s2">"      &lt;td&gt;(4.215, 0.38597)&lt;/td&gt;</span><span class="se">\n</span><span class="s2">"</span><span class="p">,</span></span>
<span id="LC496" class="line"><span class="w">       </span><span class="s2">"      &lt;td&gt;(1.0, 1.80532)&lt;/td&gt;</span><span class="se">\n</span><span class="s2">"</span><span class="p">,</span></span>
<span id="LC497" class="line"><span class="w">       </span><span class="s2">"      &lt;td&gt;NaN&lt;/td&gt;</span><span class="se">\n</span><span class="s2">"</span><span class="p">,</span></span>
<span id="LC498" class="line"><span class="w">       </span><span class="s2">"      &lt;td&gt;(0.5, 0.68268)&lt;/td&gt;</span><span class="se">\n</span><span class="s2">"</span><span class="p">,</span></span>
<span id="LC499" class="line"><span class="w">       </span><span class="s2">"      &lt;td&gt;(1.27, 0.20425)&lt;/td&gt;</span><span class="se">\n</span><span class="s2">"</span><span class="p">,</span></span>
<span id="LC500" class="line"><span class="w">       </span><span class="s2">"      &lt;td&gt;(84.7511, 0.4579)&lt;/td&gt;</span><span class="se">\n</span><span class="s2">"</span><span class="p">,</span></span>
<span id="LC501" class="line"><span class="w">       </span><span class="s2">"      &lt;td&gt;(147.4606, 0.42155)&lt;/td&gt;</span><span class="se">\n</span><span class="s2">"</span><span class="p">,</span></span>
<span id="LC502" class="line"><span class="w">       </span><span class="s2">"      &lt;td&gt;(0.0056, 0.03808)&lt;/td&gt;</span><span class="se">\n</span><span class="s2">"</span><span class="p">,</span></span>
<span id="LC503" class="line"><span class="w">       </span><span class="s2">"      &lt;td&gt;(0.0361, 0.15701)&lt;/td&gt;</span><span class="se">\n</span><span class="s2">"</span><span class="p">,</span></span>
<span id="LC504" class="line"><span class="w">       </span><span class="s2">"      &lt;td&gt;(0.0028, 0.01501)&lt;/td&gt;</span><span class="se">\n</span><span class="s2">"</span><span class="p">,</span></span>
<span id="LC505" class="line"><span class="w">       </span><span class="s2">"      &lt;td&gt;(0.5, 2.90966)&lt;/td&gt;</span><span class="se">\n</span><span class="s2">"</span><span class="p">,</span></span>
<span id="LC506" class="line"><span class="w">       </span><span class="s2">"      &lt;td&gt;(12.88, 0.23871)&lt;/td&gt;</span><span class="se">\n</span><span class="s2">"</span><span class="p">,</span></span>
<span id="LC507" class="line"><span class="w">       </span><span class="s2">"      &lt;td&gt;(0.0167, 0.06316)&lt;/td&gt;</span><span class="se">\n</span><span class="s2">"</span><span class="p">,</span></span>
<span id="LC508" class="line"><span class="w">       </span><span class="s2">"      &lt;td&gt;(0.5, 1.89267)&lt;/td&gt;</span><span class="se">\n</span><span class="s2">"</span><span class="p">,</span></span>
<span id="LC509" class="line"><span class="w">       </span><span class="s2">"      &lt;td&gt;(0.5, 1.88372)&lt;/td&gt;</span><span class="se">\n</span><span class="s2">"</span><span class="p">,</span></span>
<span id="LC510" class="line"><span class="w">       </span><span class="s2">"      &lt;td&gt;NaN&lt;/td&gt;</span><span class="se">\n</span><span class="s2">"</span><span class="p">,</span></span>
<span id="LC511" class="line"><span class="w">       </span><span class="s2">"      &lt;td&gt;(3, 0.35335)&lt;/td&gt;</span><span class="se">\n</span><span class="s2">"</span><span class="p">,</span></span>
<span id="LC512" class="line"><span class="w">       </span><span class="s2">"      &lt;td&gt;(0.25, 0.0437)&lt;/td&gt;</span><span class="se">\n</span><span class="s2">"</span><span class="p">,</span></span>
<span id="LC513" class="line"><span class="w">       </span><span class="s2">"      &lt;td&gt;(0.3333, 4.80233)&lt;/td&gt;</span><span class="se">\n</span><span class="s2">"</span><span class="p">,</span></span>
<span id="LC514" class="line"><span class="w">       </span><span class="s2">"      &lt;td&gt;NaN&lt;/td&gt;</span><span class="se">\n</span><span class="s2">"</span><span class="p">,</span></span>
<span id="LC515" class="line"><span class="w">       </span><span class="s2">"      &lt;td&gt;(4, 11.76905)&lt;/td&gt;</span><span class="se">\n</span><span class="s2">"</span><span class="p">,</span></span>
<span id="LC516" class="line"><span class="w">       </span><span class="s2">"      &lt;td&gt;(0.5, 0.12222)&lt;/td&gt;</span><span class="se">\n</span><span class="s2">"</span><span class="p">,</span></span>
<span id="LC517" class="line"><span class="w">       </span><span class="s2">"      &lt;td&gt;(2, 2.0282)&lt;/td&gt;</span><span class="se">\n</span><span class="s2">"</span><span class="p">,</span></span>
<span id="LC518" class="line"><span class="w">       </span><span class="s2">"      &lt;td&gt;(0.5, 1.40498)&lt;/td&gt;</span><span class="se">\n</span><span class="s2">"</span><span class="p">,</span></span>
<span id="LC519" class="line"><span class="w">       </span><span class="s2">"      &lt;td&gt;NaN&lt;/td&gt;</span><span class="se">\n</span><span class="s2">"</span><span class="p">,</span></span>
<span id="LC520" class="line"><span class="w">       </span><span class="s2">"      &lt;td&gt;NaN&lt;/td&gt;</span><span class="se">\n</span><span class="s2">"</span><span class="p">,</span></span>
<span id="LC521" class="line"><span class="w">       </span><span class="s2">"      &lt;td&gt;NaN&lt;/td&gt;</span><span class="se">\n</span><span class="s2">"</span><span class="p">,</span></span>
<span id="LC522" class="line"><span class="w">       </span><span class="s2">"      &lt;td&gt;NaN&lt;/td&gt;</span><span class="se">\n</span><span class="s2">"</span><span class="p">,</span></span>
<span id="LC523" class="line"><span class="w">       </span><span class="s2">"      &lt;td&gt;NaN&lt;/td&gt;</span><span class="se">\n</span><span class="s2">"</span><span class="p">,</span></span>
<span id="LC524" class="line"><span class="w">       </span><span class="s2">"      &lt;td&gt;(84.7511, 1.34381)&lt;/td&gt;</span><span class="se">\n</span><span class="s2">"</span><span class="p">,</span></span>
<span id="LC525" class="line"><span class="w">       </span><span class="s2">"      &lt;td&gt;(0.5, 0.01293)&lt;/td&gt;</span><span class="se">\n</span><span class="s2">"</span><span class="p">,</span></span>
<span id="LC526" class="line"><span class="w">       </span><span class="s2">"      &lt;td&gt;(0.3333, 0.03643)&lt;/td&gt;</span><span class="se">\n</span><span class="s2">"</span><span class="p">,</span></span>
<span id="LC527" class="line"><span class="w">       </span><span class="s2">"      &lt;td&gt;(1.0, 0.00369)&lt;/td&gt;</span><span class="se">\n</span><span class="s2">"</span><span class="p">,</span></span>
<span id="LC528" class="line"><span class="w">       </span><span class="s2">"      &lt;td&gt;(0.3333, 2.56845)&lt;/td&gt;</span><span class="se">\n</span><span class="s2">"</span><span class="p">,</span></span>
<span id="LC529" class="line"><span class="w">       </span><span class="s2">"      &lt;td&gt;NaN&lt;/td&gt;</span><span class="se">\n</span><span class="s2">"</span><span class="p">,</span></span>
<span id="LC530" class="line"><span class="w">       </span><span class="s2">"      &lt;td&gt;(169.4907, 0.40793)&lt;/td&gt;</span><span class="se">\n</span><span class="s2">"</span><span class="p">,</span></span>
<span id="LC531" class="line"><span class="w">       </span><span class="s2">"      &lt;td&gt;NaN&lt;/td&gt;</span><span class="se">\n</span><span class="s2">"</span><span class="p">,</span></span>
<span id="LC532" class="line"><span class="w">       </span><span class="s2">"      &lt;td&gt;NaN&lt;/td&gt;</span><span class="se">\n</span><span class="s2">"</span><span class="p">,</span></span>
<span id="LC533" class="line"><span class="w">       </span><span class="s2">"      &lt;td&gt;NaN&lt;/td&gt;</span><span class="se">\n</span><span class="s2">"</span><span class="p">,</span></span>
<span id="LC534" class="line"><span class="w">       </span><span class="s2">"      &lt;td&gt;(Украина, 2.4645)&lt;/td&gt;</span><span class="se">\n</span><span class="s2">"</span><span class="p">,</span></span>
<span id="LC535" class="line"><span class="w">       </span><span class="s2">"      &lt;td&gt;(3, 0.27758)&lt;/td&gt;</span><span class="se">\n</span><span class="s2">"</span><span class="p">,</span></span>
<span id="LC536" class="line"><span class="w">       </span><span class="s2">"      &lt;td&gt;(Казахстан, 0.51911)&lt;/td&gt;</span><span class="se">\n</span><span class="s2">"</span><span class="p">,</span></span>
<span id="LC537" class="line"><span class="w">       </span><span class="s2">"      &lt;td&gt;(Карта, 2.93394)&lt;/td&gt;</span><span class="se">\n</span><span class="s2">"</span><span class="p">,</span></span>
<span id="LC538" class="line"><span class="w">       </span><span class="s2">"      &lt;td&gt;(Компьютер, 9.34872)&lt;/td&gt;</span><span class="se">\n</span><span class="s2">"</span><span class="p">,</span></span>
<span id="LC539" class="line"><span class="w">       </span><span class="s2">"      &lt;td&gt;(Карта, 3.32802)&lt;/td&gt;</span><span class="se">\n</span><span class="s2">"</span><span class="p">,</span></span>
<span id="LC540" class="line"><span class="w">       </span><span class="s2">"      &lt;td&gt;(Компьютер, 9.58087)&lt;/td&gt;</span><span class="se">\n</span><span class="s2">"</span><span class="p">,</span></span>
<span id="LC541" class="line"><span class="w">       </span><span class="s2">"      &lt;td&gt;(3512163192, 0.0)&lt;/td&gt;</span><span class="se">\n</span><span class="s2">"</span><span class="p">,</span></span>
<span id="LC542" class="line"><span class="w">       </span><span class="s2">"      &lt;td&gt;(3, 0.01348)&lt;/td&gt;</span><span class="se">\n</span><span class="s2">"</span><span class="p">,</span></span>
<span id="LC543" class="line"><span class="w">       </span><span class="s2">"      &lt;td&gt;(3, 2.27658)&lt;/td&gt;</span><span class="se">\n</span><span class="s2">"</span><span class="p">,</span></span>
<span id="LC544" class="line"><span class="w">       </span><span class="s2">"      &lt;td&gt;(3, 0.03597)&lt;/td&gt;</span><span class="se">\n</span><span class="s2">"</span><span class="p">,</span></span>
<span id="LC545" class="line"><span class="w">       </span><span class="s2">"      &lt;td&gt;(3, 0.04435)&lt;/td&gt;</span><span class="se">\n</span><span class="s2">"</span><span class="p">,</span></span>
<span id="LC546" class="line"><span class="w">       </span><span class="s2">"      &lt;td&gt;(3, 0.3595)&lt;/td&gt;</span><span class="se">\n</span><span class="s2">"</span><span class="p">,</span></span>
<span id="LC547" class="line"><span class="w">       </span><span class="s2">"      &lt;td&gt;(3, 0.13312)&lt;/td&gt;</span><span class="se">\n</span><span class="s2">"</span><span class="p">,</span></span>
<span id="LC548" class="line"><span class="w">       </span><span class="s2">"    &lt;/tr&gt;</span><span class="se">\n</span><span class="s2">"</span><span class="p">,</span></span>
<span id="LC549" class="line"><span class="w">       </span><span class="s2">"    &lt;tr&gt;</span><span class="se">\n</span><span class="s2">"</span><span class="p">,</span></span>
<span id="LC550" class="line"><span class="w">       </span><span class="s2">"      &lt;th&gt;4&lt;/th&gt;</span><span class="se">\n</span><span class="s2">"</span><span class="p">,</span></span>
<span id="LC551" class="line"><span class="w">       </span><span class="s2">"      &lt;td&gt;(0.6667, 3.52399)&lt;/td&gt;</span><span class="se">\n</span><span class="s2">"</span><span class="p">,</span></span>
<span id="LC552" class="line"><span class="w">       </span><span class="s2">"      &lt;td&gt;(1.0, 2.97746)&lt;/td&gt;</span><span class="se">\n</span><span class="s2">"</span><span class="p">,</span></span>
<span id="LC553" class="line"><span class="w">       </span><span class="s2">"      &lt;td&gt;(2.8233, 0.09433)&lt;/td&gt;</span><span class="se">\n</span><span class="s2">"</span><span class="p">,</span></span>
<span id="LC554" class="line"><span class="w">       </span><span class="s2">"      &lt;td&gt;(5.62, 0.2696)&lt;/td&gt;</span><span class="se">\n</span><span class="s2">"</span><span class="p">,</span></span>
<span id="LC555" class="line"><span class="w">       </span><span class="s2">"      &lt;td&gt;(0.5, 1.58159)&lt;/td&gt;</span><span class="se">\n</span><span class="s2">"</span><span class="p">,</span></span>
<span id="LC556" class="line"><span class="w">       </span><span class="s2">"      &lt;td&gt;NaN&lt;/td&gt;</span><span class="se">\n</span><span class="s2">"</span><span class="p">,</span></span>
<span id="LC557" class="line"><span class="w">       </span><span class="s2">"      &lt;td&gt;(0.3333, 0.62874)&lt;/td&gt;</span><span class="se">\n</span><span class="s2">"</span><span class="p">,</span></span>
<span id="LC558" class="line"><span class="w">       </span><span class="s2">"      &lt;td&gt;(1.4117, 0.16786)&lt;/td&gt;</span><span class="se">\n</span><span class="s2">"</span><span class="p">,</span></span>
<span id="LC559" class="line"><span class="w">       </span><span class="s2">"      &lt;td&gt;(0.4133, 0.34818)&lt;/td&gt;</span><span class="se">\n</span><span class="s2">"</span><span class="p">,</span></span>
<span id="LC560" class="line"><span class="w">       </span><span class="s2">"      &lt;td&gt;(26.0519, 0.28399)&lt;/td&gt;</span><span class="se">\n</span><span class="s2">"</span><span class="p">,</span></span>
<span id="LC561" class="line"><span class="w">       </span><span class="s2">"      &lt;td&gt;(0.05, 0.03692)&lt;/td&gt;</span><span class="se">\n</span><span class="s2">"</span><span class="p">,</span></span>
<span id="LC562" class="line"><span class="w">       </span><span class="s2">"      &lt;td&gt;(0.0389, 0.15624)&lt;/td&gt;</span><span class="se">\n</span><span class="s2">"</span><span class="p">,</span></span>
<span id="LC563" class="line"><span class="w">       </span><span class="s2">"      &lt;td&gt;(0.05, 0.01369)&lt;/td&gt;</span><span class="se">\n</span><span class="s2">"</span><span class="p">,</span></span>
<span id="LC564" class="line"><span class="w">       </span><span class="s2">"      &lt;td&gt;(1.0, 2.11684)&lt;/td&gt;</span><span class="se">\n</span><span class="s2">"</span><span class="p">,</span></span>
<span id="LC565" class="line"><span class="w">       </span><span class="s2">"      &lt;td&gt;(169.49, 0.20937)&lt;/td&gt;</span><span class="se">\n</span><span class="s2">"</span><span class="p">,</span></span>
<span id="LC566" class="line"><span class="w">       </span><span class="s2">"      &lt;td&gt;(0.2167, 0.06125)&lt;/td&gt;</span><span class="se">\n</span><span class="s2">"</span><span class="p">,</span></span>
<span id="LC567" class="line"><span class="w">       </span><span class="s2">"      &lt;td&gt;(0.6667, 1.44449)&lt;/td&gt;</span><span class="se">\n</span><span class="s2">"</span><span class="p">,</span></span>
<span id="LC568" class="line"><span class="w">       </span><span class="s2">"      &lt;td&gt;(0.6667, 1.41548)&lt;/td&gt;</span><span class="se">\n</span><span class="s2">"</span><span class="p">,</span></span>
<span id="LC569" class="line"><span class="w">       </span><span class="s2">"      &lt;td&gt;NaN&lt;/td&gt;</span><span class="se">\n</span><span class="s2">"</span><span class="p">,</span></span>
<span id="LC570" class="line"><span class="w">       </span><span class="s2">"      &lt;td&gt;(4, 0.06527)&lt;/td&gt;</span><span class="se">\n</span><span class="s2">"</span><span class="p">,</span></span>
<span id="LC571" class="line"><span class="w">       </span><span class="s2">"      &lt;td&gt;(0.5, 0.0328)&lt;/td&gt;</span><span class="se">\n</span><span class="s2">"</span><span class="p">,</span></span>
<span id="LC572" class="line"><span class="w">       </span><span class="s2">"      &lt;td&gt;(0.5, 4.73218)&lt;/td&gt;</span><span class="se">\n</span><span class="s2">"</span><span class="p">,</span></span>
<span id="LC573" class="line"><span class="w">       </span><span class="s2">"      &lt;td&gt;NaN&lt;/td&gt;</span><span class="se">\n</span><span class="s2">"</span><span class="p">,</span></span>
<span id="LC574" class="line"><span class="w">       </span><span class="s2">"      &lt;td&gt;(0, 7.59888)&lt;/td&gt;</span><span class="se">\n</span><span class="s2">"</span><span class="p">,</span></span>
<span id="LC575" class="line"><span class="w">       </span><span class="s2">"      &lt;td&gt;(0.1667, 0.11026)&lt;/td&gt;</span><span class="se">\n</span><span class="s2">"</span><span class="p">,</span></span>
<span id="LC576" class="line"><span class="w">       </span><span class="s2">"      &lt;td&gt;(3, 1.583)&lt;/td&gt;</span><span class="se">\n</span><span class="s2">"</span><span class="p">,</span></span>
<span id="LC577" class="line"><span class="w">       </span><span class="s2">"      &lt;td&gt;(30.1667, 1.34919)&lt;/td&gt;</span><span class="se">\n</span><span class="s2">"</span><span class="p">,</span></span>
<span id="LC578" class="line"><span class="w">       </span><span class="s2">"      &lt;td&gt;NaN&lt;/td&gt;</span><span class="se">\n</span><span class="s2">"</span><span class="p">,</span></span>
<span id="LC579" class="line"><span class="w">       </span><span class="s2">"      &lt;td&gt;NaN&lt;/td&gt;</span><span class="se">\n</span><span class="s2">"</span><span class="p">,</span></span>
<span id="LC580" class="line"><span class="w">       </span><span class="s2">"      &lt;td&gt;NaN&lt;/td&gt;</span><span class="se">\n</span><span class="s2">"</span><span class="p">,</span></span>
<span id="LC581" class="line"><span class="w">       </span><span class="s2">"      &lt;td&gt;NaN&lt;/td&gt;</span><span class="se">\n</span><span class="s2">"</span><span class="p">,</span></span>
<span id="LC582" class="line"><span class="w">       </span><span class="s2">"      &lt;td&gt;NaN&lt;/td&gt;</span><span class="se">\n</span><span class="s2">"</span><span class="p">,</span></span>
<span id="LC583" class="line"><span class="w">       </span><span class="s2">"      &lt;td&gt;(152.2277, 0.8053)&lt;/td&gt;</span><span class="se">\n</span><span class="s2">"</span><span class="p">,</span></span>
<span id="LC584" class="line"><span class="w">       </span><span class="s2">"      &lt;td&gt;(0.3333, 0.0129)&lt;/td&gt;</span><span class="se">\n</span><span class="s2">"</span><span class="p">,</span></span>
<span id="LC585" class="line"><span class="w">       </span><span class="s2">"      &lt;td&gt;(0.5, 0.03032)&lt;/td&gt;</span><span class="se">\n</span><span class="s2">"</span><span class="p">,</span></span>
<span id="LC586" class="line"><span class="w">       </span><span class="s2">"      &lt;td&gt;(0.3333, 0.00152)&lt;/td&gt;</span><span class="se">\n</span><span class="s2">"</span><span class="p">,</span></span>
<span id="LC587" class="line"><span class="w">       </span><span class="s2">"      &lt;td&gt;(0.8333, 2.24615)&lt;/td&gt;</span><span class="se">\n</span><span class="s2">"</span><span class="p">,</span></span>
<span id="LC588" class="line"><span class="w">       </span><span class="s2">"      &lt;td&gt;NaN&lt;/td&gt;</span><span class="se">\n</span><span class="s2">"</span><span class="p">,</span></span>
<span id="LC589" class="line"><span class="w">       </span><span class="s2">"      &lt;td&gt;(254.2418, 0.32196)&lt;/td&gt;</span><span class="se">\n</span><span class="s2">"</span><span class="p">,</span></span>
<span id="LC590" class="line"><span class="w">       </span><span class="s2">"      &lt;td&gt;NaN&lt;/td&gt;</span><span class="se">\n</span><span class="s2">"</span><span class="p">,</span></span>
<span id="LC591" class="line"><span class="w">       </span><span class="s2">"      &lt;td&gt;NaN&lt;/td&gt;</span><span class="se">\n</span><span class="s2">"</span><span class="p">,</span></span>
<span id="LC592" class="line"><span class="w">       </span><span class="s2">"      &lt;td&gt;NaN&lt;/td&gt;</span><span class="se">\n</span><span class="s2">"</span><span class="p">,</span></span>
<span id="LC593" class="line"><span class="w">       </span><span class="s2">"      &lt;td&gt;(Казахстан, 1.35102)&lt;/td&gt;</span><span class="se">\n</span><span class="s2">"</span><span class="p">,</span></span>
<span id="LC594" class="line"><span class="w">       </span><span class="s2">"      &lt;td&gt;(4, 0.12114)&lt;/td&gt;</span><span class="se">\n</span><span class="s2">"</span><span class="p">,</span></span>
<span id="LC595" class="line"><span class="w">       </span><span class="s2">"      &lt;td&gt;(Грузия, 0.45895)&lt;/td&gt;</span><span class="se">\n</span><span class="s2">"</span><span class="p">,</span></span>
<span id="LC596" class="line"><span class="w">       </span><span class="s2">"      &lt;td&gt;(Другое, 0.03591)&lt;/td&gt;</span><span class="se">\n</span><span class="s2">"</span><span class="p">,</span></span>
<span id="LC597" class="line"><span class="w">       </span><span class="s2">"      &lt;td&gt;(Банкомат, 5.66684)&lt;/td&gt;</span><span class="se">\n</span><span class="s2">"</span><span class="p">,</span></span>
<span id="LC598" class="line"><span class="w">       </span><span class="s2">"      &lt;td&gt;(Другое, 0.01724)&lt;/td&gt;</span><span class="se">\n</span><span class="s2">"</span><span class="p">,</span></span>
<span id="LC599" class="line"><span class="w">       </span><span class="s2">"      &lt;td&gt;(Касса (кассовые терминалы в магазинах самообс...&lt;/td&gt;</span><span class="se">\n</span><span class="s2">"</span><span class="p">,</span></span>
<span id="LC600" class="line"><span class="w">       </span><span class="s2">"      &lt;td&gt;(3512163010, 0.0)&lt;/td&gt;</span><span class="se">\n</span><span class="s2">"</span><span class="p">,</span></span>
<span id="LC601" class="line"><span class="w">       </span><span class="s2">"      &lt;td&gt;(4, 0.00272)&lt;/td&gt;</span><span class="se">\n</span><span class="s2">"</span><span class="p">,</span></span>
<span id="LC602" class="line"><span class="w">       </span><span class="s2">"      &lt;td&gt;(4, 0.95491)&lt;/td&gt;</span><span class="se">\n</span><span class="s2">"</span><span class="p">,</span></span>
<span id="LC603" class="line"><span class="w">       </span><span class="s2">"      &lt;td&gt;(4, 0.02325)&lt;/td&gt;</span><span class="se">\n</span><span class="s2">"</span><span class="p">,</span></span>
<span id="LC604" class="line"><span class="w">       </span><span class="s2">"      &lt;td&gt;(4, 0.02582)&lt;/td&gt;</span><span class="se">\n</span><span class="s2">"</span><span class="p">,</span></span>
<span id="LC605" class="line"><span class="w">       </span><span class="s2">"      &lt;td&gt;(4, 0.28816)&lt;/td&gt;</span><span class="se">\n</span><span class="s2">"</span><span class="p">,</span></span>
<span id="LC606" class="line"><span class="w">       </span><span class="s2">"      &lt;td&gt;(4, 0.0991)&lt;/td&gt;</span><span class="se">\n</span><span class="s2">"</span><span class="p">,</span></span>
<span id="LC607" class="line"><span class="w">       </span><span class="s2">"    &lt;/tr&gt;</span><span class="se">\n</span><span class="s2">"</span><span class="p">,</span></span>
<span id="LC608" class="line"><span class="w">       </span><span class="s2">"    &lt;tr&gt;</span><span class="se">\n</span><span class="s2">"</span><span class="p">,</span></span>
<span id="LC609" class="line"><span class="w">       </span><span class="s2">"      &lt;th&gt;5&lt;/th&gt;</span><span class="se">\n</span><span class="s2">"</span><span class="p">,</span></span>
<span id="LC610" class="line"><span class="w">       </span><span class="s2">"      &lt;td&gt;(1.0, 3.04263)&lt;/td&gt;</span><span class="se">\n</span><span class="s2">"</span><span class="p">,</span></span>
<span id="LC611" class="line"><span class="w">       </span><span class="s2">"      &lt;td&gt;(0.6667, 2.92339)&lt;/td&gt;</span><span class="se">\n</span><span class="s2">"</span><span class="p">,</span></span>
<span id="LC612" class="line"><span class="w">       </span><span class="s2">"      &lt;td&gt;(28.25, 0.06678)&lt;/td&gt;</span><span class="se">\n</span><span class="s2">"</span><span class="p">,</span></span>
<span id="LC613" class="line"><span class="w">       </span><span class="s2">"      &lt;td&gt;(0.6983, 0.26735)&lt;/td&gt;</span><span class="se">\n</span><span class="s2">"</span><span class="p">,</span></span>
<span id="LC614" class="line"><span class="w">       </span><span class="s2">"      &lt;td&gt;(0.6667, 1.19872)&lt;/td&gt;</span><span class="se">\n</span><span class="s2">"</span><span class="p">,</span></span>
<span id="LC615" class="line"><span class="w">       </span><span class="s2">"      &lt;td&gt;NaN&lt;/td&gt;</span><span class="se">\n</span><span class="s2">"</span><span class="p">,</span></span>
<span id="LC616" class="line"><span class="w">       </span><span class="s2">"      &lt;td&gt;(2.0, 0.56428)&lt;/td&gt;</span><span class="se">\n</span><span class="s2">"</span><span class="p">,</span></span>
<span id="LC617" class="line"><span class="w">       </span><span class="s2">"      &lt;td&gt;(2.54, 0.14551)&lt;/td&gt;</span><span class="se">\n</span><span class="s2">"</span><span class="p">,</span></span>
<span id="LC618" class="line"><span class="w">       </span><span class="s2">"      &lt;td&gt;(4.239, 0.30367)&lt;/td&gt;</span><span class="se">\n</span><span class="s2">"</span><span class="p">,</span></span>
<span id="LC619" class="line"><span class="w">       </span><span class="s2">"      &lt;td&gt;(0.84, 0.20586)&lt;/td&gt;</span><span class="se">\n</span><span class="s2">"</span><span class="p">,</span></span>
<span id="LC620" class="line"><span class="w">       </span><span class="s2">"      &lt;td&gt;(0.0167, 0.03554)&lt;/td&gt;</span><span class="se">\n</span><span class="s2">"</span><span class="p">,</span></span>
<span id="LC621" class="line"><span class="w">       </span><span class="s2">"      &lt;td&gt;(0.0417, 0.15604)&lt;/td&gt;</span><span class="se">\n</span><span class="s2">"</span><span class="p">,</span></span>
<span id="LC622" class="line"><span class="w">       </span><span class="s2">"      &lt;td&gt;(0.0444, 0.01347)&lt;/td&gt;</span><span class="se">\n</span><span class="s2">"</span><span class="p">,</span></span>
<span id="LC623" class="line"><span class="w">       </span><span class="s2">"      &lt;td&gt;(0.6667, 2.08576)&lt;/td&gt;</span><span class="se">\n</span><span class="s2">"</span><span class="p">,</span></span>
<span id="LC624" class="line"><span class="w">       </span><span class="s2">"      &lt;td&gt;(0.3067, 0.13593)&lt;/td&gt;</span><span class="se">\n</span><span class="s2">"</span><span class="p">,</span></span>
<span id="LC625" class="line"><span class="w">       </span><span class="s2">"      &lt;td&gt;(0.2333, 0.06117)&lt;/td&gt;</span><span class="se">\n</span><span class="s2">"</span><span class="p">,</span></span>
<span id="LC626" class="line"><span class="w">       </span><span class="s2">"      &lt;td&gt;(1.0, 1.20207)&lt;/td&gt;</span><span class="se">\n</span><span class="s2">"</span><span class="p">,</span></span>
<span id="LC627" class="line"><span class="w">       </span><span class="s2">"      &lt;td&gt;(1.0, 1.15736)&lt;/td&gt;</span><span class="se">\n</span><span class="s2">"</span><span class="p">,</span></span>
<span id="LC628" class="line"><span class="w">       </span><span class="s2">"      &lt;td&gt;NaN&lt;/td&gt;</span><span class="se">\n</span><span class="s2">"</span><span class="p">,</span></span>
<span id="LC629" class="line"><span class="w">       </span><span class="s2">"      &lt;td&gt;(5, 0.02025)&lt;/td&gt;</span><span class="se">\n</span><span class="s2">"</span><span class="p">,</span></span>
<span id="LC630" class="line"><span class="w">       </span><span class="s2">"      &lt;td&gt;(0.2, 0.01833)&lt;/td&gt;</span><span class="se">\n</span><span class="s2">"</span><span class="p">,</span></span>
<span id="LC631" class="line"><span class="w">       </span><span class="s2">"      &lt;td&gt;(0.6667, 3.07872)&lt;/td&gt;</span><span class="se">\n</span><span class="s2">"</span><span class="p">,</span></span>
<span id="LC632" class="line"><span class="w">       </span><span class="s2">"      &lt;td&gt;NaN&lt;/td&gt;</span><span class="se">\n</span><span class="s2">"</span><span class="p">,</span></span>
<span id="LC633" class="line"><span class="w">       </span><span class="s2">"      &lt;td&gt;(5, 5.27196)&lt;/td&gt;</span><span class="se">\n</span><span class="s2">"</span><span class="p">,</span></span>
<span id="LC634" class="line"><span class="w">       </span><span class="s2">"      &lt;td&gt;(0.6667, 0.10167)&lt;/td&gt;</span><span class="se">\n</span><span class="s2">"</span><span class="p">,</span></span>
<span id="LC635" class="line"><span class="w">       </span><span class="s2">"      &lt;td&gt;(30, 1.35985)&lt;/td&gt;</span><span class="se">\n</span><span class="s2">"</span><span class="p">,</span></span>
<span id="LC636" class="line"><span class="w">       </span><span class="s2">"      &lt;td&gt;(0.6667, 1.14097)&lt;/td&gt;</span><span class="se">\n</span><span class="s2">"</span><span class="p">,</span></span>
<span id="LC637" class="line"><span class="w">       </span><span class="s2">"      &lt;td&gt;NaN&lt;/td&gt;</span><span class="se">\n</span><span class="s2">"</span><span class="p">,</span></span>
<span id="LC638" class="line"><span class="w">       </span><span class="s2">"      &lt;td&gt;NaN&lt;/td&gt;</span><span class="se">\n</span><span class="s2">"</span><span class="p">,</span></span>
<span id="LC639" class="line"><span class="w">       </span><span class="s2">"      &lt;td&gt;NaN&lt;/td&gt;</span><span class="se">\n</span><span class="s2">"</span><span class="p">,</span></span>
<span id="LC640" class="line"><span class="w">       </span><span class="s2">"      &lt;td&gt;NaN&lt;/td&gt;</span><span class="se">\n</span><span class="s2">"</span><span class="p">,</span></span>
<span id="LC641" class="line"><span class="w">       </span><span class="s2">"      &lt;td&gt;NaN&lt;/td&gt;</span><span class="se">\n</span><span class="s2">"</span><span class="p">,</span></span>
<span id="LC642" class="line"><span class="w">       </span><span class="s2">"      &lt;td&gt;(253.9204, 0.79084)&lt;/td&gt;</span><span class="se">\n</span><span class="s2">"</span><span class="p">,</span></span>
<span id="LC643" class="line"><span class="w">       </span><span class="s2">"      &lt;td&gt;(0.6667, 0.00981)&lt;/td&gt;</span><span class="se">\n</span><span class="s2">"</span><span class="p">,</span></span>
<span id="LC644" class="line"><span class="w">       </span><span class="s2">"      &lt;td&gt;(0.6667, 0.02574)&lt;/td&gt;</span><span class="se">\n</span><span class="s2">"</span><span class="p">,</span></span>
<span id="LC645" class="line"><span class="w">       </span><span class="s2">"      &lt;td&gt;(0.25, 0.00061)&lt;/td&gt;</span><span class="se">\n</span><span class="s2">"</span><span class="p">,</span></span>
<span id="LC646" class="line"><span class="w">       </span><span class="s2">"      &lt;td&gt;(0.5, 2.11977)&lt;/td&gt;</span><span class="se">\n</span><span class="s2">"</span><span class="p">,</span></span>
<span id="LC647" class="line"><span class="w">       </span><span class="s2">"      &lt;td&gt;NaN&lt;/td&gt;</span><span class="se">\n</span><span class="s2">"</span><span class="p">,</span></span>
<span id="LC648" class="line"><span class="w">       </span><span class="s2">"      &lt;td&gt;(26.0519, 0.236)&lt;/td&gt;</span><span class="se">\n</span><span class="s2">"</span><span class="p">,</span></span>
<span id="LC649" class="line"><span class="w">       </span><span class="s2">"      &lt;td&gt;NaN&lt;/td&gt;</span><span class="se">\n</span><span class="s2">"</span><span class="p">,</span></span>
<span id="LC650" class="line"><span class="w">       </span><span class="s2">"      &lt;td&gt;NaN&lt;/td&gt;</span><span class="se">\n</span><span class="s2">"</span><span class="p">,</span></span>
<span id="LC651" class="line"><span class="w">       </span><span class="s2">"      &lt;td&gt;NaN&lt;/td&gt;</span><span class="se">\n</span><span class="s2">"</span><span class="p">,</span></span>
<span id="LC652" class="line"><span class="w">       </span><span class="s2">"      &lt;td&gt;(Таджикистан, 0.90829)&lt;/td&gt;</span><span class="se">\n</span><span class="s2">"</span><span class="p">,</span></span>
<span id="LC653" class="line"><span class="w">       </span><span class="s2">"      &lt;td&gt;(5, 0.06516)&lt;/td&gt;</span><span class="se">\n</span><span class="s2">"</span><span class="p">,</span></span>
<span id="LC654" class="line"><span class="w">       </span><span class="s2">"      &lt;td&gt;(Тунис, 0.15252)&lt;/td&gt;</span><span class="se">\n</span><span class="s2">"</span><span class="p">,</span></span>
<span id="LC655" class="line"><span class="w">       </span><span class="s2">"      &lt;td&gt;NaN&lt;/td&gt;</span><span class="se">\n</span><span class="s2">"</span><span class="p">,</span></span>
<span id="LC656" class="line"><span class="w">       </span><span class="s2">"      &lt;td&gt;(Касса (кассовые терминалы в магазинах самообс...&lt;/td&gt;</span><span class="se">\n</span><span class="s2">"</span><span class="p">,</span></span>
<span id="LC657" class="line"><span class="w">       </span><span class="s2">"      &lt;td&gt;NaN&lt;/td&gt;</span><span class="se">\n</span><span class="s2">"</span><span class="p">,</span></span>
<span id="LC658" class="line"><span class="w">       </span><span class="s2">"      &lt;td&gt;(Банкомат, 5.87957)&lt;/td&gt;</span><span class="se">\n</span><span class="s2">"</span><span class="p">,</span></span>
<span id="LC659" class="line"><span class="w">       </span><span class="s2">"      &lt;td&gt;(3512160886, 0.0)&lt;/td&gt;</span><span class="se">\n</span><span class="s2">"</span><span class="p">,</span></span>
<span id="LC660" class="line"><span class="w">       </span><span class="s2">"      &lt;td&gt;(5, 0.00125)&lt;/td&gt;</span><span class="se">\n</span><span class="s2">"</span><span class="p">,</span></span>
<span id="LC661" class="line"><span class="w">       </span><span class="s2">"      &lt;td&gt;(5, 0.37507)&lt;/td&gt;</span><span class="se">\n</span><span class="s2">"</span><span class="p">,</span></span>
<span id="LC662" class="line"><span class="w">       </span><span class="s2">"      &lt;td&gt;(5, 0.01652)&lt;/td&gt;</span><span class="se">\n</span><span class="s2">"</span><span class="p">,</span></span>
<span id="LC663" class="line"><span class="w">       </span><span class="s2">"      &lt;td&gt;(5, 0.01706)&lt;/td&gt;</span><span class="se">\n</span><span class="s2">"</span><span class="p">,</span></span>
<span id="LC664" class="line"><span class="w">       </span><span class="s2">"      &lt;td&gt;(5, 0.24092)&lt;/td&gt;</span><span class="se">\n</span><span class="s2">"</span><span class="p">,</span></span>
<span id="LC665" class="line"><span class="w">       </span><span class="s2">"      &lt;td&gt;(5, 0.07822)&lt;/td&gt;</span><span class="se">\n</span><span class="s2">"</span><span class="p">,</span></span>
<span id="LC666" class="line"><span class="w">       </span><span class="s2">"    &lt;/tr&gt;</span><span class="se">\n</span><span class="s2">"</span><span class="p">,</span></span>
<span id="LC667" class="line"><span class="w">       </span><span class="s2">"    &lt;tr&gt;</span><span class="se">\n</span><span class="s2">"</span><span class="p">,</span></span>
<span id="LC668" class="line"><span class="w">       </span><span class="s2">"      &lt;th&gt;6&lt;/th&gt;</span><span class="se">\n</span><span class="s2">"</span><span class="p">,</span></span>
<span id="LC669" class="line"><span class="w">       </span><span class="s2">"      &lt;td&gt;(0.8333, 2.80254)&lt;/td&gt;</span><span class="se">\n</span><span class="s2">"</span><span class="p">,</span></span>
<span id="LC670" class="line"><span class="w">       </span><span class="s2">"      &lt;td&gt;(0.8333, 2.34727)&lt;/td&gt;</span><span class="se">\n</span><span class="s2">"</span><span class="p">,</span></span>
<span id="LC671" class="line"><span class="w">       </span><span class="s2">"      &lt;td&gt;(4.235, 0.05914)&lt;/td&gt;</span><span class="se">\n</span><span class="s2">"</span><span class="p">,</span></span>
<span id="LC672" class="line"><span class="w">       </span><span class="s2">"      &lt;td&gt;(0.4233, 0.23631)&lt;/td&gt;</span><span class="se">\n</span><span class="s2">"</span><span class="p">,</span></span>
<span id="LC673" class="line"><span class="w">       </span><span class="s2">"      &lt;td&gt;(0.8333, 1.06827)&lt;/td&gt;</span><span class="se">\n</span><span class="s2">"</span><span class="p">,</span></span>
<span id="LC674" class="line"><span class="w">       </span><span class="s2">"      &lt;td&gt;NaN&lt;/td&gt;</span><span class="se">\n</span><span class="s2">"</span><span class="p">,</span></span>
<span id="LC675" class="line"><span class="w">       </span><span class="s2">"      &lt;td&gt;(3.0, 0.4568)&lt;/td&gt;</span><span class="se">\n</span><span class="s2">"</span><span class="p">,</span></span>
<span id="LC676" class="line"><span class="w">       </span><span class="s2">"      &lt;td&gt;(1.405, 0.13096)&lt;/td&gt;</span><span class="se">\n</span><span class="s2">"</span><span class="p">,</span></span>
<span id="LC677" class="line"><span class="w">       </span><span class="s2">"      &lt;td&gt;(211.8691, 0.30296)&lt;/td&gt;</span><span class="se">\n</span><span class="s2">"</span><span class="p">,</span></span>
<span id="LC678" class="line"><span class="w">       </span><span class="s2">"      &lt;td&gt;(0.2117, 0.20006)&lt;/td&gt;</span><span class="se">\n</span><span class="s2">"</span><span class="p">,</span></span>
<span id="LC679" class="line"><span class="w">       </span><span class="s2">"      &lt;td&gt;(0.0667, 0.03417)&lt;/td&gt;</span><span class="se">\n</span><span class="s2">"</span><span class="p">,</span></span>
<span id="LC680" class="line"><span class="w">       </span><span class="s2">"      &lt;td&gt;(0.0028, 0.15113)&lt;/td&gt;</span><span class="se">\n</span><span class="s2">"</span><span class="p">,</span></span>
<span id="LC681" class="line"><span class="w">       </span><span class="s2">"      &lt;td&gt;(0.0389, 0.01343)&lt;/td&gt;</span><span class="se">\n</span><span class="s2">"</span><span class="p">,</span></span>
<span id="LC682" class="line"><span class="w">       </span><span class="s2">"      &lt;td&gt;(0.8333, 1.58031)&lt;/td&gt;</span><span class="se">\n</span><span class="s2">"</span><span class="p">,</span></span>
<span id="LC683" class="line"><span class="w">       </span><span class="s2">"      &lt;td&gt;(423.73, 0.1106)&lt;/td&gt;</span><span class="se">\n</span><span class="s2">"</span><span class="p">,</span></span>
<span id="LC684" class="line"><span class="w">       </span><span class="s2">"      &lt;td&gt;(0.2, 0.06016)&lt;/td&gt;</span><span class="se">\n</span><span class="s2">"</span><span class="p">,</span></span>
<span id="LC685" class="line"><span class="w">       </span><span class="s2">"      &lt;td&gt;(0.8333, 1.15135)&lt;/td&gt;</span><span class="se">\n</span><span class="s2">"</span><span class="p">,</span></span>
<span id="LC686" class="line"><span class="w">       </span><span class="s2">"      &lt;td&gt;(0.8333, 1.11731)&lt;/td&gt;</span><span class="se">\n</span><span class="s2">"</span><span class="p">,</span></span>
<span id="LC687" class="line"><span class="w">       </span><span class="s2">"      &lt;td&gt;NaN&lt;/td&gt;</span><span class="se">\n</span><span class="s2">"</span><span class="p">,</span></span>
<span id="LC688" class="line"><span class="w">       </span><span class="s2">"      &lt;td&gt;(6, 0.00938)&lt;/td&gt;</span><span class="se">\n</span><span class="s2">"</span><span class="p">,</span></span>
<span id="LC689" class="line"><span class="w">       </span><span class="s2">"      &lt;td&gt;(0.6667, 0.01073)&lt;/td&gt;</span><span class="se">\n</span><span class="s2">"</span><span class="p">,</span></span>
<span id="LC690" class="line"><span class="w">       </span><span class="s2">"      &lt;td&gt;(0.8333, 2.47666)&lt;/td&gt;</span><span class="se">\n</span><span class="s2">"</span><span class="p">,</span></span>
<span id="LC691" class="line"><span class="w">       </span><span class="s2">"      &lt;td&gt;NaN&lt;/td&gt;</span><span class="se">\n</span><span class="s2">"</span><span class="p">,</span></span>
<span id="LC692" class="line"><span class="w">       </span><span class="s2">"      &lt;td&gt;(6, 2.56925)&lt;/td&gt;</span><span class="se">\n</span><span class="s2">"</span><span class="p">,</span></span>
<span id="LC693" class="line"><span class="w">       </span><span class="s2">"      &lt;td&gt;(0.3333, 0.09869)&lt;/td&gt;</span><span class="se">\n</span><span class="s2">"</span><span class="p">,</span></span>
<span id="LC694" class="line"><span class="w">       </span><span class="s2">"      &lt;td&gt;(4, 1.31342)&lt;/td&gt;</span><span class="se">\n</span><span class="s2">"</span><span class="p">,</span></span>
<span id="LC695" class="line"><span class="w">       </span><span class="s2">"      &lt;td&gt;(1.0, 0.98333)&lt;/td&gt;</span><span class="se">\n</span><span class="s2">"</span><span class="p">,</span></span>
<span id="LC696" class="line"><span class="w">       </span><span class="s2">"      &lt;td&gt;NaN&lt;/td&gt;</span><span class="se">\n</span><span class="s2">"</span><span class="p">,</span></span>
<span id="LC697" class="line"><span class="w">       </span><span class="s2">"      &lt;td&gt;NaN&lt;/td&gt;</span><span class="se">\n</span><span class="s2">"</span><span class="p">,</span></span>
<span id="LC698" class="line"><span class="w">       </span><span class="s2">"      &lt;td&gt;NaN&lt;/td&gt;</span><span class="se">\n</span><span class="s2">"</span><span class="p">,</span></span>
<span id="LC699" class="line"><span class="w">       </span><span class="s2">"      &lt;td&gt;NaN&lt;/td&gt;</span><span class="se">\n</span><span class="s2">"</span><span class="p">,</span></span>
<span id="LC700" class="line"><span class="w">       </span><span class="s2">"      &lt;td&gt;NaN&lt;/td&gt;</span><span class="se">\n</span><span class="s2">"</span><span class="p">,</span></span>
<span id="LC701" class="line"><span class="w">       </span><span class="s2">"      &lt;td&gt;(169.4907, 0.77043)&lt;/td&gt;</span><span class="se">\n</span><span class="s2">"</span><span class="p">,</span></span>
<span id="LC702" class="line"><span class="w">       </span><span class="s2">"      &lt;td&gt;(0.8333, 0.00912)&lt;/td&gt;</span><span class="se">\n</span><span class="s2">"</span><span class="p">,</span></span>
<span id="LC703" class="line"><span class="w">       </span><span class="s2">"      &lt;td&gt;(0.8333, 0.02501)&lt;/td&gt;</span><span class="se">\n</span><span class="s2">"</span><span class="p">,</span></span>
<span id="LC704" class="line"><span class="w">       </span><span class="s2">"      &lt;td&gt;(0.2, 0.00037)&lt;/td&gt;</span><span class="se">\n</span><span class="s2">"</span><span class="p">,</span></span>
<span id="LC705" class="line"><span class="w">       </span><span class="s2">"      &lt;td&gt;(0.6667, 1.99608)&lt;/td&gt;</span><span class="se">\n</span><span class="s2">"</span><span class="p">,</span></span>
<span id="LC706" class="line"><span class="w">       </span><span class="s2">"      &lt;td&gt;NaN&lt;/td&gt;</span><span class="se">\n</span><span class="s2">"</span><span class="p">,</span></span>
<span id="LC707" class="line"><span class="w">       </span><span class="s2">"      &lt;td&gt;(145.7587, 0.21099)&lt;/td&gt;</span><span class="se">\n</span><span class="s2">"</span><span class="p">,</span></span>
<span id="LC708" class="line"><span class="w">       </span><span class="s2">"      &lt;td&gt;NaN&lt;/td&gt;</span><span class="se">\n</span><span class="s2">"</span><span class="p">,</span></span>
<span id="LC709" class="line"><span class="w">       </span><span class="s2">"      &lt;td&gt;NaN&lt;/td&gt;</span><span class="se">\n</span><span class="s2">"</span><span class="p">,</span></span>
<span id="LC710" class="line"><span class="w">       </span><span class="s2">"      &lt;td&gt;NaN&lt;/td&gt;</span><span class="se">\n</span><span class="s2">"</span><span class="p">,</span></span>
<span id="LC711" class="line"><span class="w">       </span><span class="s2">"      &lt;td&gt;(Кыргызстан, 0.81449)&lt;/td&gt;</span><span class="se">\n</span><span class="s2">"</span><span class="p">,</span></span>
<span id="LC712" class="line"><span class="w">       </span><span class="s2">"      &lt;td&gt;(6, 0.03892)&lt;/td&gt;</span><span class="se">\n</span><span class="s2">"</span><span class="p">,</span></span>
<span id="LC713" class="line"><span class="w">       </span><span class="s2">"      &lt;td&gt;(Греция, 0.13943)&lt;/td&gt;</span><span class="se">\n</span><span class="s2">"</span><span class="p">,</span></span>
<span id="LC714" class="line"><span class="w">       </span><span class="s2">"      &lt;td&gt;NaN&lt;/td&gt;</span><span class="se">\n</span><span class="s2">"</span><span class="p">,</span></span>
<span id="LC715" class="line"><span class="w">       </span><span class="s2">"      &lt;td&gt;(GSM-терминал, 2.58183)&lt;/td&gt;</span><span class="se">\n</span><span class="s2">"</span><span class="p">,</span></span>
<span id="LC716" class="line"><span class="w">       </span><span class="s2">"      &lt;td&gt;NaN&lt;/td&gt;</span><span class="se">\n</span><span class="s2">"</span><span class="p">,</span></span>
<span id="LC717" class="line"><span class="w">       </span><span class="s2">"      &lt;td&gt;(GSM-терминал, 2.96029)&lt;/td&gt;</span><span class="se">\n</span><span class="s2">"</span><span class="p">,</span></span>
<span id="LC718" class="line"><span class="w">       </span><span class="s2">"      &lt;td&gt;(3512163107, 0.0)&lt;/td&gt;</span><span class="se">\n</span><span class="s2">"</span><span class="p">,</span></span>
<span id="LC719" class="line"><span class="w">       </span><span class="s2">"      &lt;td&gt;(6, 0.00056)&lt;/td&gt;</span><span class="se">\n</span><span class="s2">"</span><span class="p">,</span></span>
<span id="LC720" class="line"><span class="w">       </span><span class="s2">"      &lt;td&gt;(6, 0.13992)&lt;/td&gt;</span><span class="se">\n</span><span class="s2">"</span><span class="p">,</span></span>
<span id="LC721" class="line"><span class="w">       </span><span class="s2">"      &lt;td&gt;(6, 0.01172)&lt;/td&gt;</span><span class="se">\n</span><span class="s2">"</span><span class="p">,</span></span>
<span id="LC722" class="line"><span class="w">       </span><span class="s2">"      &lt;td&gt;(6, 0.01175)&lt;/td&gt;</span><span class="se">\n</span><span class="s2">"</span><span class="p">,</span></span>
<span id="LC723" class="line"><span class="w">       </span><span class="s2">"      &lt;td&gt;(6, 0.20955)&lt;/td&gt;</span><span class="se">\n</span><span class="s2">"</span><span class="p">,</span></span>
<span id="LC724" class="line"><span class="w">       </span><span class="s2">"      &lt;td&gt;(6, 0.06328)&lt;/td&gt;</span><span class="se">\n</span><span class="s2">"</span><span class="p">,</span></span>
<span id="LC725" class="line"><span class="w">       </span><span class="s2">"    &lt;/tr&gt;</span><span class="se">\n</span><span class="s2">"</span><span class="p">,</span></span>
<span id="LC726" class="line"><span class="w">       </span><span class="s2">"    &lt;tr&gt;</span><span class="se">\n</span><span class="s2">"</span><span class="p">,</span></span>
<span id="LC727" class="line"><span class="w">       </span><span class="s2">"      &lt;th&gt;7&lt;/th&gt;</span><span class="se">\n</span><span class="s2">"</span><span class="p">,</span></span>
<span id="LC728" class="line"><span class="w">       </span><span class="s2">"      &lt;td&gt;(1.1667, 2.08252)&lt;/td&gt;</span><span class="se">\n</span><span class="s2">"</span><span class="p">,</span></span>
<span id="LC729" class="line"><span class="w">       </span><span class="s2">"      &lt;td&gt;(1.1667, 1.8115)&lt;/td&gt;</span><span class="se">\n</span><span class="s2">"</span><span class="p">,</span></span>
<span id="LC730" class="line"><span class="w">       </span><span class="s2">"      &lt;td&gt;(56.4967, 0.05121)&lt;/td&gt;</span><span class="se">\n</span><span class="s2">"</span><span class="p">,</span></span>
<span id="LC731" class="line"><span class="w">       </span><span class="s2">"      &lt;td&gt;(7.025, 0.18306)&lt;/td&gt;</span><span class="se">\n</span><span class="s2">"</span><span class="p">,</span></span>
<span id="LC732" class="line"><span class="w">       </span><span class="s2">"      &lt;td&gt;(0.25, 0.12183)&lt;/td&gt;</span><span class="se">\n</span><span class="s2">"</span><span class="p">,</span></span>
<span id="LC733" class="line"><span class="w">       </span><span class="s2">"      &lt;td&gt;NaN&lt;/td&gt;</span><span class="se">\n</span><span class="s2">"</span><span class="p">,</span></span>
<span id="LC734" class="line"><span class="w">       </span><span class="s2">"      &lt;td&gt;(0.6667, 0.45478)&lt;/td&gt;</span><span class="se">\n</span><span class="s2">"</span><span class="p">,</span></span>
<span id="LC735" class="line"><span class="w">       </span><span class="s2">"      &lt;td&gt;(1.6933, 0.1139)&lt;/td&gt;</span><span class="se">\n</span><span class="s2">"</span><span class="p">,</span></span>
<span id="LC736" class="line"><span class="w">       </span><span class="s2">"      &lt;td&gt;(169.4907, 0.27174)&lt;/td&gt;</span><span class="se">\n</span><span class="s2">"</span><span class="p">,</span></span>
<span id="LC737" class="line"><span class="w">       </span><span class="s2">"      &lt;td&gt;(15.6664, 0.18413)&lt;/td&gt;</span><span class="se">\n</span><span class="s2">"</span><span class="p">,</span></span>
<span id="LC738" class="line"><span class="w">       </span><span class="s2">"      &lt;td&gt;(0.0833, 0.03293)&lt;/td&gt;</span><span class="se">\n</span><span class="s2">"</span><span class="p">,</span></span>
<span id="LC739" class="line"><span class="w">       </span><span class="s2">"      &lt;td&gt;(0.0444, 0.14966)&lt;/td&gt;</span><span class="se">\n</span><span class="s2">"</span><span class="p">,</span></span>
<span id="LC740" class="line"><span class="w">       </span><span class="s2">"      &lt;td&gt;(0.0472, 0.01338)&lt;/td&gt;</span><span class="se">\n</span><span class="s2">"</span><span class="p">,</span></span>
<span id="LC741" class="line"><span class="w">       </span><span class="s2">"      &lt;td&gt;(1.1667, 1.16713)&lt;/td&gt;</span><span class="se">\n</span><span class="s2">"</span><span class="p">,</span></span>
<span id="LC742" class="line"><span class="w">       </span><span class="s2">"      &lt;td&gt;(296.61, 0.10159)&lt;/td&gt;</span><span class="se">\n</span><span class="s2">"</span><span class="p">,</span></span>
<span id="LC743" class="line"><span class="w">       </span><span class="s2">"      &lt;td&gt;(0.25, 0.05989)&lt;/td&gt;</span><span class="se">\n</span><span class="s2">"</span><span class="p">,</span></span>
<span id="LC744" class="line"><span class="w">       </span><span class="s2">"      &lt;td&gt;(1.1667, 0.84381)&lt;/td&gt;</span><span class="se">\n</span><span class="s2">"</span><span class="p">,</span></span>
<span id="LC745" class="line"><span class="w">       </span><span class="s2">"      &lt;td&gt;(1.1667, 0.8055)&lt;/td&gt;</span><span class="se">\n</span><span class="s2">"</span><span class="p">,</span></span>
<span id="LC746" class="line"><span class="w">       </span><span class="s2">"      &lt;td&gt;NaN&lt;/td&gt;</span><span class="se">\n</span><span class="s2">"</span><span class="p">,</span></span>
<span id="LC747" class="line"><span class="w">       </span><span class="s2">"      &lt;td&gt;(7, 0.00515)&lt;/td&gt;</span><span class="se">\n</span><span class="s2">"</span><span class="p">,</span></span>
<span id="LC748" class="line"><span class="w">       </span><span class="s2">"      &lt;td&gt;(0.4, 0.00406)&lt;/td&gt;</span><span class="se">\n</span><span class="s2">"</span><span class="p">,</span></span>
<span id="LC749" class="line"><span class="w">       </span><span class="s2">"      &lt;td&gt;(1.1667, 2.20106)&lt;/td&gt;</span><span class="se">\n</span><span class="s2">"</span><span class="p">,</span></span>
<span id="LC750" class="line"><span class="w">       </span><span class="s2">"      &lt;td&gt;NaN&lt;/td&gt;</span><span class="se">\n</span><span class="s2">"</span><span class="p">,</span></span>
<span id="LC751" class="line"><span class="w">       </span><span class="s2">"      &lt;td&gt;(7, 1.33958)&lt;/td&gt;</span><span class="se">\n</span><span class="s2">"</span><span class="p">,</span></span>
<span id="LC752" class="line"><span class="w">       </span><span class="s2">"      &lt;td&gt;(0.75, 0.00314)&lt;/td&gt;</span><span class="se">\n</span><span class="s2">"</span><span class="p">,</span></span>
<span id="LC753" class="line"><span class="w">       </span><span class="s2">"      &lt;td&gt;(5, 1.18891)&lt;/td&gt;</span><span class="se">\n</span><span class="s2">"</span><span class="p">,</span></span>
<span id="LC754" class="line"><span class="w">       </span><span class="s2">"      &lt;td&gt;(0.8333, 0.97694)&lt;/td&gt;</span><span class="se">\n</span><span class="s2">"</span><span class="p">,</span></span>
<span id="LC755" class="line"><span class="w">       </span><span class="s2">"      &lt;td&gt;NaN&lt;/td&gt;</span><span class="se">\n</span><span class="s2">"</span><span class="p">,</span></span>
<span id="LC756" class="line"><span class="w">       </span><span class="s2">"      &lt;td&gt;NaN&lt;/td&gt;</span><span class="se">\n</span><span class="s2">"</span><span class="p">,</span></span>
<span id="LC757" class="line"><span class="w">       </span><span class="s2">"      &lt;td&gt;NaN&lt;/td&gt;</span><span class="se">\n</span><span class="s2">"</span><span class="p">,</span></span>
<span id="LC758" class="line"><span class="w">       </span><span class="s2">"      &lt;td&gt;NaN&lt;/td&gt;</span><span class="se">\n</span><span class="s2">"</span><span class="p">,</span></span>
<span id="LC759" class="line"><span class="w">       </span><span class="s2">"      &lt;td&gt;NaN&lt;/td&gt;</span><span class="se">\n</span><span class="s2">"</span><span class="p">,</span></span>
<span id="LC760" class="line"><span class="w">       </span><span class="s2">"      &lt;td&gt;(254.2418, 0.57001)&lt;/td&gt;</span><span class="se">\n</span><span class="s2">"</span><span class="p">,</span></span>
<span id="LC761" class="line"><span class="w">       </span><span class="s2">"      &lt;td&gt;(0.25, 0.00062)&lt;/td&gt;</span><span class="se">\n</span><span class="s2">"</span><span class="p">,</span></span>
<span id="LC762" class="line"><span class="w">       </span><span class="s2">"      &lt;td&gt;(0.25, 0.00164)&lt;/td&gt;</span><span class="se">\n</span><span class="s2">"</span><span class="p">,</span></span>
<span id="LC763" class="line"><span class="w">       </span><span class="s2">"      &lt;td&gt;(0.4, 1e-05)&lt;/td&gt;</span><span class="se">\n</span><span class="s2">"</span><span class="p">,</span></span>
<span id="LC764" class="line"><span class="w">       </span><span class="s2">"      &lt;td&gt;(0.25, 0.25471)&lt;/td&gt;</span><span class="se">\n</span><span class="s2">"</span><span class="p">,</span></span>
<span id="LC765" class="line"><span class="w">       </span><span class="s2">"      &lt;td&gt;NaN&lt;/td&gt;</span><span class="se">\n</span><span class="s2">"</span><span class="p">,</span></span>
<span id="LC766" class="line"><span class="w">       </span><span class="s2">"      &lt;td&gt;(0.0698, 0.18886)&lt;/td&gt;</span><span class="se">\n</span><span class="s2">"</span><span class="p">,</span></span>
<span id="LC767" class="line"><span class="w">       </span><span class="s2">"      &lt;td&gt;NaN&lt;/td&gt;</span><span class="se">\n</span><span class="s2">"</span><span class="p">,</span></span>
<span id="LC768" class="line"><span class="w">       </span><span class="s2">"      &lt;td&gt;NaN&lt;/td&gt;</span><span class="se">\n</span><span class="s2">"</span><span class="p">,</span></span>
<span id="LC769" class="line"><span class="w">       </span><span class="s2">"      &lt;td&gt;NaN&lt;/td&gt;</span><span class="se">\n</span><span class="s2">"</span><span class="p">,</span></span>
<span id="LC770" class="line"><span class="w">       </span><span class="s2">"      &lt;td&gt;(Беларусь, 0.71245)&lt;/td&gt;</span><span class="se">\n</span><span class="s2">"</span><span class="p">,</span></span>
<span id="LC771" class="line"><span class="w">       </span><span class="s2">"      &lt;td&gt;(7, 0.02404)&lt;/td&gt;</span><span class="se">\n</span><span class="s2">"</span><span class="p">,</span></span>
<span id="LC772" class="line"><span class="w">       </span><span class="s2">"      &lt;td&gt;(Испания, 0.11894)&lt;/td&gt;</span><span class="se">\n</span><span class="s2">"</span><span class="p">,</span></span>
<span id="LC773" class="line"><span class="w">       </span><span class="s2">"      &lt;td&gt;NaN&lt;/td&gt;</span><span class="se">\n</span><span class="s2">"</span><span class="p">,</span></span>
<span id="LC774" class="line"><span class="w">       </span><span class="s2">"      &lt;td&gt;(POS-терминал, 0.85125)&lt;/td&gt;</span><span class="se">\n</span><span class="s2">"</span><span class="p">,</span></span>
<span id="LC775" class="line"><span class="w">       </span><span class="s2">"      &lt;td&gt;NaN&lt;/td&gt;</span><span class="se">\n</span><span class="s2">"</span><span class="p">,</span></span>
<span id="LC776" class="line"><span class="w">       </span><span class="s2">"      &lt;td&gt;(POS-терминал, 1.05375)&lt;/td&gt;</span><span class="se">\n</span><span class="s2">"</span><span class="p">,</span></span>
<span id="LC777" class="line"><span class="w">       </span><span class="s2">"      &lt;td&gt;(3512164454, 0.0)&lt;/td&gt;</span><span class="se">\n</span><span class="s2">"</span><span class="p">,</span></span>
<span id="LC778" class="line"><span class="w">       </span><span class="s2">"      &lt;td&gt;(7, 0.00027)&lt;/td&gt;</span><span class="se">\n</span><span class="s2">"</span><span class="p">,</span></span>
<span id="LC779" class="line"><span class="w">       </span><span class="s2">"      &lt;td&gt;(7, 0.05228)&lt;/td&gt;</span><span class="se">\n</span><span class="s2">"</span><span class="p">,</span></span>
<span id="LC780" class="line"><span class="w">       </span><span class="s2">"      &lt;td&gt;(7, 0.00887)&lt;/td&gt;</span><span class="se">\n</span><span class="s2">"</span><span class="p">,</span></span>
<span id="LC781" class="line"><span class="w">       </span><span class="s2">"      &lt;td&gt;(7, 0.0089)&lt;/td&gt;</span><span class="se">\n</span><span class="s2">"</span><span class="p">,</span></span>
<span id="LC782" class="line"><span class="w">       </span><span class="s2">"      &lt;td&gt;(7, 0.18464)&lt;/td&gt;</span><span class="se">\n</span><span class="s2">"</span><span class="p">,</span></span>
<span id="LC783" class="line"><span class="w">       </span><span class="s2">"      &lt;td&gt;(7, 0.05261)&lt;/td&gt;</span><span class="se">\n</span><span class="s2">"</span><span class="p">,</span></span>
<span id="LC784" class="line"><span class="w">       </span><span class="s2">"    &lt;/tr&gt;</span><span class="se">\n</span><span class="s2">"</span><span class="p">,</span></span>
<span id="LC785" class="line"><span class="w">       </span><span class="s2">"    &lt;tr&gt;</span><span class="se">\n</span><span class="s2">"</span><span class="p">,</span></span>
<span id="LC786" class="line"><span class="w">       </span><span class="s2">"      &lt;th&gt;8&lt;/th&gt;</span><span class="se">\n</span><span class="s2">"</span><span class="p">,</span></span>
<span id="LC787" class="line"><span class="w">       </span><span class="s2">"      &lt;td&gt;(1.3333, 1.90119)&lt;/td&gt;</span><span class="se">\n</span><span class="s2">"</span><span class="p">,</span></span>
<span id="LC788" class="line"><span class="w">       </span><span class="s2">"      &lt;td&gt;(1.3333, 1.71272)&lt;/td&gt;</span><span class="se">\n</span><span class="s2">"</span><span class="p">,</span></span>
<span id="LC789" class="line"><span class="w">       </span><span class="s2">"      &lt;td&gt;(15.5367, 0.04079)&lt;/td&gt;</span><span class="se">\n</span><span class="s2">"</span><span class="p">,</span></span>
<span id="LC790" class="line"><span class="w">       </span><span class="s2">"      &lt;td&gt;(0.8467, 0.17134)&lt;/td&gt;</span><span class="se">\n</span><span class="s2">"</span><span class="p">,</span></span>
<span id="LC791" class="line"><span class="w">       </span><span class="s2">"      &lt;td&gt;(0.2, 0.10425)&lt;/td&gt;</span><span class="se">\n</span><span class="s2">"</span><span class="p">,</span></span>
<span id="LC792" class="line"><span class="w">       </span><span class="s2">"      &lt;td&gt;NaN&lt;/td&gt;</span><span class="se">\n</span><span class="s2">"</span><span class="p">,</span></span>
<span id="LC793" class="line"><span class="w">       </span><span class="s2">"      &lt;td&gt;(4.0, 0.39599)&lt;/td&gt;</span><span class="se">\n</span><span class="s2">"</span><span class="p">,</span></span>
<span id="LC794" class="line"><span class="w">       </span><span class="s2">"      &lt;td&gt;(0.2117, 0.09776)&lt;/td&gt;</span><span class="se">\n</span><span class="s2">"</span><span class="p">,</span></span>
<span id="LC795" class="line"><span class="w">       </span><span class="s2">"      &lt;td&gt;(0.62, 0.2239)&lt;/td&gt;</span><span class="se">\n</span><span class="s2">"</span><span class="p">,</span></span>
<span id="LC796" class="line"><span class="w">       </span><span class="s2">"      &lt;td&gt;(4.9077, 0.18094)&lt;/td&gt;</span><span class="se">\n</span><span class="s2">"</span><span class="p">,</span></span>
<span id="LC797" class="line"><span class="w">       </span><span class="s2">"      &lt;td&gt;(0.1, 0.03158)&lt;/td&gt;</span><span class="se">\n</span><span class="s2">"</span><span class="p">,</span></span>
<span id="LC798" class="line"><span class="w">       </span><span class="s2">"      &lt;td&gt;(0.0833, 0.14765)&lt;/td&gt;</span><span class="se">\n</span><span class="s2">"</span><span class="p">,</span></span>
<span id="LC799" class="line"><span class="w">       </span><span class="s2">"      &lt;td&gt;(0.0528, 0.01328)&lt;/td&gt;</span><span class="se">\n</span><span class="s2">"</span><span class="p">,</span></span>
<span id="LC800" class="line"><span class="w">       </span><span class="s2">"      &lt;td&gt;(1.3333, 1.11121)&lt;/td&gt;</span><span class="se">\n</span><span class="s2">"</span><span class="p">,</span></span>
<span id="LC801" class="line"><span class="w">       </span><span class="s2">"      &lt;td&gt;(330.51, 0.09643)&lt;/td&gt;</span><span class="se">\n</span><span class="s2">"</span><span class="p">,</span></span>
<span id="LC802" class="line"><span class="w">       </span><span class="s2">"      &lt;td&gt;(0.2667, 0.05907)&lt;/td&gt;</span><span class="se">\n</span><span class="s2">"</span><span class="p">,</span></span>
<span id="LC803" class="line"><span class="w">       </span><span class="s2">"      &lt;td&gt;(1.3333, 0.76904)&lt;/td&gt;</span><span class="se">\n</span><span class="s2">"</span><span class="p">,</span></span>
<span id="LC804" class="line"><span class="w">       </span><span class="s2">"      &lt;td&gt;(1.3333, 0.73074)&lt;/td&gt;</span><span class="se">\n</span><span class="s2">"</span><span class="p">,</span></span>
<span id="LC805" class="line"><span class="w">       </span><span class="s2">"      &lt;td&gt;NaN&lt;/td&gt;</span><span class="se">\n</span><span class="s2">"</span><span class="p">,</span></span>
<span id="LC806" class="line"><span class="w">       </span><span class="s2">"      &lt;td&gt;(8, 0.00345)&lt;/td&gt;</span><span class="se">\n</span><span class="s2">"</span><span class="p">,</span></span>
<span id="LC807" class="line"><span class="w">       </span><span class="s2">"      &lt;td&gt;(0.8333, 0.00265)&lt;/td&gt;</span><span class="se">\n</span><span class="s2">"</span><span class="p">,</span></span>
<span id="LC808" class="line"><span class="w">       </span><span class="s2">"      &lt;td&gt;(1.3333, 1.79901)&lt;/td&gt;</span><span class="se">\n</span><span class="s2">"</span><span class="p">,</span></span>
<span id="LC809" class="line"><span class="w">       </span><span class="s2">"      &lt;td&gt;NaN&lt;/td&gt;</span><span class="se">\n</span><span class="s2">"</span><span class="p">,</span></span>
<span id="LC810" class="line"><span class="w">       </span><span class="s2">"      &lt;td&gt;(8, 0.68483)&lt;/td&gt;</span><span class="se">\n</span><span class="s2">"</span><span class="p">,</span></span>
<span id="LC811" class="line"><span class="w">       </span><span class="s2">"      &lt;td&gt;(0.8, 0.00294)&lt;/td&gt;</span><span class="se">\n</span><span class="s2">"</span><span class="p">,</span></span>
<span id="LC812" class="line"><span class="w">       </span><span class="s2">"      &lt;td&gt;(7, 1.04761)&lt;/td&gt;</span><span class="se">\n</span><span class="s2">"</span><span class="p">,</span></span>
<span id="LC813" class="line"><span class="w">       </span><span class="s2">"      &lt;td&gt;(31.0, 0.84324)&lt;/td&gt;</span><span class="se">\n</span><span class="s2">"</span><span class="p">,</span></span>
<span id="LC814" class="line"><span class="w">       </span><span class="s2">"      &lt;td&gt;NaN&lt;/td&gt;</span><span class="se">\n</span><span class="s2">"</span><span class="p">,</span></span>
<span id="LC815" class="line"><span class="w">       </span><span class="s2">"      &lt;td&gt;NaN&lt;/td&gt;</span><span class="se">\n</span><span class="s2">"</span><span class="p">,</span></span>
<span id="LC816" class="line"><span class="w">       </span><span class="s2">"      &lt;td&gt;NaN&lt;/td&gt;</span><span class="se">\n</span><span class="s2">"</span><span class="p">,</span></span>
<span id="LC817" class="line"><span class="w">       </span><span class="s2">"      &lt;td&gt;NaN&lt;/td&gt;</span><span class="se">\n</span><span class="s2">"</span><span class="p">,</span></span>
<span id="LC818" class="line"><span class="w">       </span><span class="s2">"      &lt;td&gt;NaN&lt;/td&gt;</span><span class="se">\n</span><span class="s2">"</span><span class="p">,</span></span>
<span id="LC819" class="line"><span class="w">       </span><span class="s2">"      &lt;td&gt;(254.239, 0.54908)&lt;/td&gt;</span><span class="se">\n</span><span class="s2">"</span><span class="p">,</span></span>
<span id="LC820" class="line"><span class="w">       </span><span class="s2">"      &lt;td&gt;(0.2, 0.0006)&lt;/td&gt;</span><span class="se">\n</span><span class="s2">"</span><span class="p">,</span></span>
<span id="LC821" class="line"><span class="w">       </span><span class="s2">"      &lt;td&gt;(0.2, 0.00142)&lt;/td&gt;</span><span class="se">\n</span><span class="s2">"</span><span class="p">,</span></span>
<span id="LC822" class="line"><span class="w">       </span><span class="s2">"      &lt;td&gt;(0.6667, 0.0)&lt;/td&gt;</span><span class="se">\n</span><span class="s2">"</span><span class="p">,</span></span>
<span id="LC823" class="line"><span class="w">       </span><span class="s2">"      &lt;td&gt;(0.2, 0.16632)&lt;/td&gt;</span><span class="se">\n</span><span class="s2">"</span><span class="p">,</span></span>
<span id="LC824" class="line"><span class="w">       </span><span class="s2">"      &lt;td&gt;NaN&lt;/td&gt;</span><span class="se">\n</span><span class="s2">"</span><span class="p">,</span></span>
<span id="LC825" class="line"><span class="w">       </span><span class="s2">"      &lt;td&gt;(4.9077, 0.18331)&lt;/td&gt;</span><span class="se">\n</span><span class="s2">"</span><span class="p">,</span></span>
<span id="LC826" class="line"><span class="w">       </span><span class="s2">"      &lt;td&gt;NaN&lt;/td&gt;</span><span class="se">\n</span><span class="s2">"</span><span class="p">,</span></span>
<span id="LC827" class="line"><span class="w">       </span><span class="s2">"      &lt;td&gt;NaN&lt;/td&gt;</span><span class="se">\n</span><span class="s2">"</span><span class="p">,</span></span>
<span id="LC828" class="line"><span class="w">       </span><span class="s2">"      &lt;td&gt;NaN&lt;/td&gt;</span><span class="se">\n</span><span class="s2">"</span><span class="p">,</span></span>
<span id="LC829" class="line"><span class="w">       </span><span class="s2">"      &lt;td&gt;(Азербайджан, 0.40445)&lt;/td&gt;</span><span class="se">\n</span><span class="s2">"</span><span class="p">,</span></span>
<span id="LC830" class="line"><span class="w">       </span><span class="s2">"      &lt;td&gt;(8, 0.01521)&lt;/td&gt;</span><span class="se">\n</span><span class="s2">"</span><span class="p">,</span></span>
<span id="LC831" class="line"><span class="w">       </span><span class="s2">"      &lt;td&gt;(Азербайджан, 0.11846)&lt;/td&gt;</span><span class="se">\n</span><span class="s2">"</span><span class="p">,</span></span>
<span id="LC832" class="line"><span class="w">       </span><span class="s2">"      &lt;td&gt;NaN&lt;/td&gt;</span><span class="se">\n</span><span class="s2">"</span><span class="p">,</span></span>
<span id="LC833" class="line"><span class="w">       </span><span class="s2">"      &lt;td&gt;(Другое, 0.03686)&lt;/td&gt;</span><span class="se">\n</span><span class="s2">"</span><span class="p">,</span></span>
<span id="LC834" class="line"><span class="w">       </span><span class="s2">"      &lt;td&gt;NaN&lt;/td&gt;</span><span class="se">\n</span><span class="s2">"</span><span class="p">,</span></span>
<span id="LC835" class="line"><span class="w">       </span><span class="s2">"      &lt;td&gt;(Другое, 0.02389)&lt;/td&gt;</span><span class="se">\n</span><span class="s2">"</span><span class="p">,</span></span>
<span id="LC836" class="line"><span class="w">       </span><span class="s2">"      &lt;td&gt;(3512163841, 0.0)&lt;/td&gt;</span><span class="se">\n</span><span class="s2">"</span><span class="p">,</span></span>
<span id="LC837" class="line"><span class="w">       </span><span class="s2">"      &lt;td&gt;(8, 0.00016)&lt;/td&gt;</span><span class="se">\n</span><span class="s2">"</span><span class="p">,</span></span>
<span id="LC838" class="line"><span class="w">       </span><span class="s2">"      &lt;td&gt;(8, 0.02031)&lt;/td&gt;</span><span class="se">\n</span><span class="s2">"</span><span class="p">,</span></span>
<span id="LC839" class="line"><span class="w">       </span><span class="s2">"      &lt;td&gt;(8, 0.00696)&lt;/td&gt;</span><span class="se">\n</span><span class="s2">"</span><span class="p">,</span></span>
<span id="LC840" class="line"><span class="w">       </span><span class="s2">"      &lt;td&gt;(8, 0.00682)&lt;/td&gt;</span><span class="se">\n</span><span class="s2">"</span><span class="p">,</span></span>
<span id="LC841" class="line"><span class="w">       </span><span class="s2">"      &lt;td&gt;(8, 0.16498)&lt;/td&gt;</span><span class="se">\n</span><span class="s2">"</span><span class="p">,</span></span>
<span id="LC842" class="line"><span class="w">       </span><span class="s2">"      &lt;td&gt;(8, 0.04544)&lt;/td&gt;</span><span class="se">\n</span><span class="s2">"</span><span class="p">,</span></span>
<span id="LC843" class="line"><span class="w">       </span><span class="s2">"    &lt;/tr&gt;</span><span class="se">\n</span><span class="s2">"</span><span class="p">,</span></span>
<span id="LC844" class="line"><span class="w">       </span><span class="s2">"    &lt;tr&gt;</span><span class="se">\n</span><span class="s2">"</span><span class="p">,</span></span>
<span id="LC845" class="line"><span class="w">       </span><span class="s2">"      &lt;th&gt;9&lt;/th&gt;</span><span class="se">\n</span><span class="s2">"</span><span class="p">,</span></span>
<span id="LC846" class="line"><span class="w">       </span><span class="s2">"      &lt;td&gt;(1.5, 1.76183)&lt;/td&gt;</span><span class="se">\n</span><span class="s2">"</span><span class="p">,</span></span>
<span id="LC847" class="line"><span class="w">       </span><span class="s2">"      &lt;td&gt;(1.5, 1.67048)&lt;/td&gt;</span><span class="se">\n</span><span class="s2">"</span><span class="p">,</span></span>
<span id="LC848" class="line"><span class="w">       </span><span class="s2">"      &lt;td&gt;(5.6467, 0.03757)&lt;/td&gt;</span><span class="se">\n</span><span class="s2">"</span><span class="p">,</span></span>
<span id="LC849" class="line"><span class="w">       </span><span class="s2">"      &lt;td&gt;(8.43, 0.16058)&lt;/td&gt;</span><span class="se">\n</span><span class="s2">"</span><span class="p">,</span></span>
<span id="LC850" class="line"><span class="w">       </span><span class="s2">"      &lt;td&gt;(0.4, 0.0508)&lt;/td&gt;</span><span class="se">\n</span><span class="s2">"</span><span class="p">,</span></span>
<span id="LC851" class="line"><span class="w">       </span><span class="s2">"      &lt;td&gt;NaN&lt;/td&gt;</span><span class="se">\n</span><span class="s2">"</span><span class="p">,</span></span>
<span id="LC852" class="line"><span class="w">       </span><span class="s2">"      &lt;td&gt;(0.8333, 0.37829)&lt;/td&gt;</span><span class="se">\n</span><span class="s2">"</span><span class="p">,</span></span>
<span id="LC853" class="line"><span class="w">       </span><span class="s2">"      &lt;td&gt;(2.81, 0.09357)&lt;/td&gt;</span><span class="se">\n</span><span class="s2">"</span><span class="p">,</span></span>
<span id="LC854" class="line"><span class="w">       </span><span class="s2">"      &lt;td&gt;(118.6401, 0.19306)&lt;/td&gt;</span><span class="se">\n</span><span class="s2">"</span><span class="p">,</span></span>
<span id="LC855" class="line"><span class="w">       </span><span class="s2">"      &lt;td&gt;(0.4233, 0.15611)&lt;/td&gt;</span><span class="se">\n</span><span class="s2">"</span><span class="p">,</span></span>
<span id="LC856" class="line"><span class="w">       </span><span class="s2">"      &lt;td&gt;(0.0083, 0.0302)&lt;/td&gt;</span><span class="se">\n</span><span class="s2">"</span><span class="p">,</span></span>
<span id="LC857" class="line"><span class="w">       </span><span class="s2">"      &lt;td&gt;(0.0472, 0.14665)&lt;/td&gt;</span><span class="se">\n</span><span class="s2">"</span><span class="p">,</span></span>
<span id="LC858" class="line"><span class="w">       </span><span class="s2">"      &lt;td&gt;(0.0583, 0.01317)&lt;/td&gt;</span><span class="se">\n</span><span class="s2">"</span><span class="p">,</span></span>
<span id="LC859" class="line"><span class="w">       </span><span class="s2">"      &lt;td&gt;(1.5, 1.07804)&lt;/td&gt;</span><span class="se">\n</span><span class="s2">"</span><span class="p">,</span></span>
<span id="LC860" class="line"><span class="w">       </span><span class="s2">"      &lt;td&gt;(84.75, 0.0957)&lt;/td&gt;</span><span class="se">\n</span><span class="s2">"</span><span class="p">,</span></span>
<span id="LC861" class="line"><span class="w">       </span><span class="s2">"      &lt;td&gt;(0.2833, 0.05893)&lt;/td&gt;</span><span class="se">\n</span><span class="s2">"</span><span class="p">,</span></span>
<span id="LC862" class="line"><span class="w">       </span><span class="s2">"      &lt;td&gt;(1.5, 0.71982)&lt;/td&gt;</span><span class="se">\n</span><span class="s2">"</span><span class="p">,</span></span>
<span id="LC863" class="line"><span class="w">       </span><span class="s2">"      &lt;td&gt;(1.5, 0.68086)&lt;/td&gt;</span><span class="se">\n</span><span class="s2">"</span><span class="p">,</span></span>
<span id="LC864" class="line"><span class="w">       </span><span class="s2">"      &lt;td&gt;NaN&lt;/td&gt;</span><span class="se">\n</span><span class="s2">"</span><span class="p">,</span></span>
<span id="LC865" class="line"><span class="w">       </span><span class="s2">"      &lt;td&gt;(9, 0.00233)&lt;/td&gt;</span><span class="se">\n</span><span class="s2">"</span><span class="p">,</span></span>
<span id="LC866" class="line"><span class="w">       </span><span class="s2">"      &lt;td&gt;(1.0, 0.00237)&lt;/td&gt;</span><span class="se">\n</span><span class="s2">"</span><span class="p">,</span></span>
<span id="LC867" class="line"><span class="w">       </span><span class="s2">"      &lt;td&gt;(1.5, 1.61053)&lt;/td&gt;</span><span class="se">\n</span><span class="s2">"</span><span class="p">,</span></span>
<span id="LC868" class="line"><span class="w">       </span><span class="s2">"      &lt;td&gt;NaN&lt;/td&gt;</span><span class="se">\n</span><span class="s2">"</span><span class="p">,</span></span>
<span id="LC869" class="line"><span class="w">       </span><span class="s2">"      &lt;td&gt;(9, 0.31939)&lt;/td&gt;</span><span class="se">\n</span><span class="s2">"</span><span class="p">,</span></span>
<span id="LC870" class="line"><span class="w">       </span><span class="s2">"      &lt;td&gt;(0.6, 0.00249)&lt;/td&gt;</span><span class="se">\n</span><span class="s2">"</span><span class="p">,</span></span>
<span id="LC871" class="line"><span class="w">       </span><span class="s2">"      &lt;td&gt;(6, 1.04704)&lt;/td&gt;</span><span class="se">\n</span><span class="s2">"</span><span class="p">,</span></span>
<span id="LC872" class="line"><span class="w">       </span><span class="s2">"      &lt;td&gt;(1.1667, 0.79336)&lt;/td&gt;</span><span class="se">\n</span><span class="s2">"</span><span class="p">,</span></span>
<span id="LC873" class="line"><span class="w">       </span><span class="s2">"      &lt;td&gt;NaN&lt;/td&gt;</span><span class="se">\n</span><span class="s2">"</span><span class="p">,</span></span>
<span id="LC874" class="line"><span class="w">       </span><span class="s2">"      &lt;td&gt;NaN&lt;/td&gt;</span><span class="se">\n</span><span class="s2">"</span><span class="p">,</span></span>
<span id="LC875" class="line"><span class="w">       </span><span class="s2">"      &lt;td&gt;NaN&lt;/td&gt;</span><span class="se">\n</span><span class="s2">"</span><span class="p">,</span></span>
<span id="LC876" class="line"><span class="w">       </span><span class="s2">"      &lt;td&gt;NaN&lt;/td&gt;</span><span class="se">\n</span><span class="s2">"</span><span class="p">,</span></span>
<span id="LC877" class="line"><span class="w">       </span><span class="s2">"      &lt;td&gt;NaN&lt;/td&gt;</span><span class="se">\n</span><span class="s2">"</span><span class="p">,</span></span>
<span id="LC878" class="line"><span class="w">       </span><span class="s2">"      &lt;td&gt;(141.6402, 0.52929)&lt;/td&gt;</span><span class="se">\n</span><span class="s2">"</span><span class="p">,</span></span>
<span id="LC879" class="line"><span class="w">       </span><span class="s2">"      &lt;td&gt;(0.75, 0.00031)&lt;/td&gt;</span><span class="se">\n</span><span class="s2">"</span><span class="p">,</span></span>
<span id="LC880" class="line"><span class="w">       </span><span class="s2">"      &lt;td&gt;(0.4, 0.00111)&lt;/td&gt;</span><span class="se">\n</span><span class="s2">"</span><span class="p">,</span></span>
<span id="LC881" class="line"><span class="w">       </span><span class="s2">"      &lt;td&gt;(0.8333, 0.0)&lt;/td&gt;</span><span class="se">\n</span><span class="s2">"</span><span class="p">,</span></span>
<span id="LC882" class="line"><span class="w">       </span><span class="s2">"      &lt;td&gt;(0.4, 0.12344)&lt;/td&gt;</span><span class="se">\n</span><span class="s2">"</span><span class="p">,</span></span>
<span id="LC883" class="line"><span class="w">       </span><span class="s2">"      &lt;td&gt;NaN&lt;/td&gt;</span><span class="se">\n</span><span class="s2">"</span><span class="p">,</span></span>
<span id="LC884" class="line"><span class="w">       </span><span class="s2">"      &lt;td&gt;(93.2205, 0.18012)&lt;/td&gt;</span><span class="se">\n</span><span class="s2">"</span><span class="p">,</span></span>
<span id="LC885" class="line"><span class="w">       </span><span class="s2">"      &lt;td&gt;NaN&lt;/td&gt;</span><span class="se">\n</span><span class="s2">"</span><span class="p">,</span></span>
<span id="LC886" class="line"><span class="w">       </span><span class="s2">"      &lt;td&gt;NaN&lt;/td&gt;</span><span class="se">\n</span><span class="s2">"</span><span class="p">,</span></span>
<span id="LC887" class="line"><span class="w">       </span><span class="s2">"      &lt;td&gt;NaN&lt;/td&gt;</span><span class="se">\n</span><span class="s2">"</span><span class="p">,</span></span>
<span id="LC888" class="line"><span class="w">       </span><span class="s2">"      &lt;td&gt;(Армения, 0.39786)&lt;/td&gt;</span><span class="se">\n</span><span class="s2">"</span><span class="p">,</span></span>
<span id="LC889" class="line"><span class="w">       </span><span class="s2">"      &lt;td&gt;(9, 0.00963)&lt;/td&gt;</span><span class="se">\n</span><span class="s2">"</span><span class="p">,</span></span>
<span id="LC890" class="line"><span class="w">       </span><span class="s2">"      &lt;td&gt;(Кипр, 0.11445)&lt;/td&gt;</span><span class="se">\n</span><span class="s2">"</span><span class="p">,</span></span>
<span id="LC891" class="line"><span class="w">       </span><span class="s2">"      &lt;td&gt;NaN&lt;/td&gt;</span><span class="se">\n</span><span class="s2">"</span><span class="p">,</span></span>
<span id="LC892" class="line"><span class="w">       </span><span class="s2">"      &lt;td&gt;(Автоплатеж, 1e-05)&lt;/td&gt;</span><span class="se">\n</span><span class="s2">"</span><span class="p">,</span></span>
<span id="LC893" class="line"><span class="w">       </span><span class="s2">"      &lt;td&gt;NaN&lt;/td&gt;</span><span class="se">\n</span><span class="s2">"</span><span class="p">,</span></span>
<span id="LC894" class="line"><span class="w">       </span><span class="s2">"      &lt;td&gt;(Автоплатеж, 1e-05)&lt;/td&gt;</span><span class="se">\n</span><span class="s2">"</span><span class="p">,</span></span>
<span id="LC895" class="line"><span class="w">       </span><span class="s2">"      &lt;td&gt;(3512164471, 0.0)&lt;/td&gt;</span><span class="se">\n</span><span class="s2">"</span><span class="p">,</span></span>
<span id="LC896" class="line"><span class="w">       </span><span class="s2">"      &lt;td&gt;(9, 9e-05)&lt;/td&gt;</span><span class="se">\n</span><span class="s2">"</span><span class="p">,</span></span>
<span id="LC897" class="line"><span class="w">       </span><span class="s2">"      &lt;td&gt;(9, 0.00733)&lt;/td&gt;</span><span class="se">\n</span><span class="s2">"</span><span class="p">,</span></span>
<span id="LC898" class="line"><span class="w">       </span><span class="s2">"      &lt;td&gt;(9, 0.00547)&lt;/td&gt;</span><span class="se">\n</span><span class="s2">"</span><span class="p">,</span></span>
<span id="LC899" class="line"><span class="w">       </span><span class="s2">"      &lt;td&gt;(9, 0.00539)&lt;/td&gt;</span><span class="se">\n</span><span class="s2">"</span><span class="p">,</span></span>
<span id="LC900" class="line"><span class="w">       </span><span class="s2">"      &lt;td&gt;(9, 0.1489)&lt;/td&gt;</span><span class="se">\n</span><span class="s2">"</span><span class="p">,</span></span>
<span id="LC901" class="line"><span class="w">       </span><span class="s2">"      &lt;td&gt;(9, 0.03751)&lt;/td&gt;</span><span class="se">\n</span><span class="s2">"</span><span class="p">,</span></span>
<span id="LC902" class="line"><span class="w">       </span><span class="s2">"    &lt;/tr&gt;</span><span class="se">\n</span><span class="s2">"</span><span class="p">,</span></span>
<span id="LC903" class="line"><span class="w">       </span><span class="s2">"  &lt;/tbody&gt;</span><span class="se">\n</span><span class="s2">"</span><span class="p">,</span></span>
<span id="LC904" class="line"><span class="w">       </span><span class="s2">"&lt;/table&gt;</span><span class="se">\n</span><span class="s2">"</span><span class="p">,</span></span>
<span id="LC905" class="line"><span class="w">       </span><span class="s2">"&lt;/div&gt;"</span></span>
<span id="LC906" class="line"><span class="w">      </span><span class="p">],</span></span>
<span id="LC907" class="line"><span class="w">      </span><span class="s2">"text/plain"</span><span class="p">:</span><span class="w"> </span><span class="p">[</span></span>
<span id="LC908" class="line"><span class="w">       </span><span class="s2">"  cnt_voice_in_fix_avg_6m cnt_voice_out_fix_avg_6m arpu_int_roaming_avg_hy  </span><span class="se">\\\n</span><span class="s2">"</span><span class="p">,</span></span>
<span id="LC909" class="line"><span class="w">       </span><span class="s2">"0         (0.0, 36.44472)          (0.0, 33.13964)         (0.0, 96.14453)   </span><span class="se">\n</span><span class="s2">"</span><span class="p">,</span></span>
<span id="LC910" class="line"><span class="w">       </span><span class="s2">"1       (0.1667, 7.92739)        (0.1667, 6.19354)        (14.125, 0.2669)   </span><span class="se">\n</span><span class="s2">"</span><span class="p">,</span></span>
<span id="LC911" class="line"><span class="w">       </span><span class="s2">"2       (0.3333, 5.73272)        (0.3333, 4.59722)       (1.4117, 0.17053)   </span><span class="se">\n</span><span class="s2">"</span><span class="p">,</span></span>
<span id="LC912" class="line"><span class="w">       </span><span class="s2">"3           (0.5, 4.6271)           (0.5, 3.90738)      (28.2483, 0.16015)   </span><span class="se">\n</span><span class="s2">"</span><span class="p">,</span></span>
<span id="LC913" class="line"><span class="w">       </span><span class="s2">"4       (0.6667, 3.52399)           (1.0, 2.97746)       (2.8233, 0.09433)   </span><span class="se">\n</span><span class="s2">"</span><span class="p">,</span></span>
<span id="LC914" class="line"><span class="w">       </span><span class="s2">"5          (1.0, 3.04263)        (0.6667, 2.92339)        (28.25, 0.06678)   </span><span class="se">\n</span><span class="s2">"</span><span class="p">,</span></span>
<span id="LC915" class="line"><span class="w">       </span><span class="s2">"6       (0.8333, 2.80254)        (0.8333, 2.34727)        (4.235, 0.05914)   </span><span class="se">\n</span><span class="s2">"</span><span class="p">,</span></span>
<span id="LC916" class="line"><span class="w">       </span><span class="s2">"7       (1.1667, 2.08252)         (1.1667, 1.8115)      (56.4967, 0.05121)   </span><span class="se">\n</span><span class="s2">"</span><span class="p">,</span></span>
<span id="LC917" class="line"><span class="w">       </span><span class="s2">"8       (1.3333, 1.90119)        (1.3333, 1.71272)      (15.5367, 0.04079)   </span><span class="se">\n</span><span class="s2">"</span><span class="p">,</span></span>
<span id="LC918" class="line"><span class="w">       </span><span class="s2">"9          (1.5, 1.76183)           (1.5, 1.67048)       (5.6467, 0.03757)   </span><span class="se">\n</span><span class="s2">"</span><span class="p">,</span></span>
<span id="LC919" class="line"><span class="w">       </span><span class="s2">"</span><span class="se">\n</span><span class="s2">"</span><span class="p">,</span></span>
<span id="LC920" class="line"><span class="w">       </span><span class="s2">"  arpu_onnet_roaming_avg_hy call_charge_avg_6m call_charge_ind_6m  </span><span class="se">\\\n</span><span class="s2">"</span><span class="p">,</span></span>
<span id="LC921" class="line"><span class="w">       </span><span class="s2">"0           (0.0, 75.02563)    (0.0, 87.99501)      (0, 87.99501)   </span><span class="se">\n</span><span class="s2">"</span><span class="p">,</span></span>
<span id="LC922" class="line"><span class="w">       </span><span class="s2">"1          (1.405, 0.83449)  (0.1667, 3.91076)      (1, 12.00499)   </span><span class="se">\n</span><span class="s2">"</span><span class="p">,</span></span>
<span id="LC923" class="line"><span class="w">       </span><span class="s2">"2           (2.81, 0.62025)  (0.3333, 2.05969)                NaN   </span><span class="se">\n</span><span class="s2">"</span><span class="p">,</span></span>
<span id="LC924" class="line"><span class="w">       </span><span class="s2">"3          (4.215, 0.38597)     (1.0, 1.80532)                NaN   </span><span class="se">\n</span><span class="s2">"</span><span class="p">,</span></span>
<span id="LC925" class="line"><span class="w">       </span><span class="s2">"4            (5.62, 0.2696)     (0.5, 1.58159)                NaN   </span><span class="se">\n</span><span class="s2">"</span><span class="p">,</span></span>
<span id="LC926" class="line"><span class="w">       </span><span class="s2">"5         (0.6983, 0.26735)  (0.6667, 1.19872)                NaN   </span><span class="se">\n</span><span class="s2">"</span><span class="p">,</span></span>
<span id="LC927" class="line"><span class="w">       </span><span class="s2">"6         (0.4233, 0.23631)  (0.8333, 1.06827)                NaN   </span><span class="se">\n</span><span class="s2">"</span><span class="p">,</span></span>
<span id="LC928" class="line"><span class="w">       </span><span class="s2">"7          (7.025, 0.18306)    (0.25, 0.12183)                NaN   </span><span class="se">\n</span><span class="s2">"</span><span class="p">,</span></span>
<span id="LC929" class="line"><span class="w">       </span><span class="s2">"8         (0.8467, 0.17134)     (0.2, 0.10425)                NaN   </span><span class="se">\n</span><span class="s2">"</span><span class="p">,</span></span>
<span id="LC930" class="line"><span class="w">       </span><span class="s2">"9           (8.43, 0.16058)      (0.4, 0.0508)                NaN   </span><span class="se">\n</span><span class="s2">"</span><span class="p">,</span></span>
<span id="LC931" class="line"><span class="w">       </span><span class="s2">"</span><span class="se">\n</span><span class="s2">"</span><span class="p">,</span></span>
<span id="LC932" class="line"><span class="w">       </span><span class="s2">"  cnt_voice_out_avg_6m  arpu_voice_avg_hy     arpu_gprs_avg_hy  </span><span class="se">\\\n</span><span class="s2">"</span><span class="p">,</span></span>
<span id="LC933" class="line"><span class="w">       </span><span class="s2">"0      (0.0, 13.58016)    (0.0, 26.53751)      (0.0, 39.26247)   </span><span class="se">\n</span><span class="s2">"</span><span class="p">,</span></span>
<span id="LC934" class="line"><span class="w">       </span><span class="s2">"1       (1.0, 0.90747)  (0.4233, 0.40765)  (127.1209, 1.16724)   </span><span class="se">\n</span><span class="s2">"</span><span class="p">,</span></span>
<span id="LC935" class="line"><span class="w">       </span><span class="s2">"2    (0.1667, 0.76149)  (0.8467, 0.28577)     (0.2067, 0.7255)   </span><span class="se">\n</span><span class="s2">"</span><span class="p">,</span></span>
<span id="LC936" class="line"><span class="w">       </span><span class="s2">"3       (0.5, 0.68268)    (1.27, 0.20425)    (84.7511, 0.4579)   </span><span class="se">\n</span><span class="s2">"</span><span class="p">,</span></span>
<span id="LC937" class="line"><span class="w">       </span><span class="s2">"4    (0.3333, 0.62874)  (1.4117, 0.16786)    (0.4133, 0.34818)   </span><span class="se">\n</span><span class="s2">"</span><span class="p">,</span></span>
<span id="LC938" class="line"><span class="w">       </span><span class="s2">"5       (2.0, 0.56428)    (2.54, 0.14551)     (4.239, 0.30367)   </span><span class="se">\n</span><span class="s2">"</span><span class="p">,</span></span>
<span id="LC939" class="line"><span class="w">       </span><span class="s2">"6        (3.0, 0.4568)   (1.405, 0.13096)  (211.8691, 0.30296)   </span><span class="se">\n</span><span class="s2">"</span><span class="p">,</span></span>
<span id="LC940" class="line"><span class="w">       </span><span class="s2">"7    (0.6667, 0.45478)   (1.6933, 0.1139)  (169.4907, 0.27174)   </span><span class="se">\n</span><span class="s2">"</span><span class="p">,</span></span>
<span id="LC941" class="line"><span class="w">       </span><span class="s2">"8       (4.0, 0.39599)  (0.2117, 0.09776)       (0.62, 0.2239)   </span><span class="se">\n</span><span class="s2">"</span><span class="p">,</span></span>
<span id="LC942" class="line"><span class="w">       </span><span class="s2">"9    (0.8333, 0.37829)    (2.81, 0.09357)  (118.6401, 0.19306)   </span><span class="se">\n</span><span class="s2">"</span><span class="p">,</span></span>
<span id="LC943" class="line"><span class="w">       </span><span class="s2">"</span><span class="se">\n</span><span class="s2">"</span><span class="p">,</span></span>
<span id="LC944" class="line"><span class="w">       </span><span class="s2">"       arpu_vas_avg_hy     ingoing_avg_6m intercity_in_avg_6m  </span><span class="se">\\\n</span><span class="s2">"</span><span class="p">,</span></span>
<span id="LC945" class="line"><span class="w">       </span><span class="s2">"0       (0.0, 13.3228)    (0.0, 15.54721)     (0.0, 29.72496)   </span><span class="se">\n</span><span class="s2">"</span><span class="p">,</span></span>
<span id="LC946" class="line"><span class="w">       </span><span class="s2">"1   (12.8499, 0.53787)  (0.0028, 0.05414)   (0.0333, 0.16718)   </span><span class="se">\n</span><span class="s2">"</span><span class="p">,</span></span>
<span id="LC947" class="line"><span class="w">       </span><span class="s2">"2    (19.627, 0.48832)  (0.0333, 0.04089)      (0.05, 0.1631)   </span><span class="se">\n</span><span class="s2">"</span><span class="p">,</span></span>
<span id="LC948" class="line"><span class="w">       </span><span class="s2">"3  (147.4606, 0.42155)  (0.0056, 0.03808)   (0.0361, 0.15701)   </span><span class="se">\n</span><span class="s2">"</span><span class="p">,</span></span>
<span id="LC949" class="line"><span class="w">       </span><span class="s2">"4   (26.0519, 0.28399)    (0.05, 0.03692)   (0.0389, 0.15624)   </span><span class="se">\n</span><span class="s2">"</span><span class="p">,</span></span>
<span id="LC950" class="line"><span class="w">       </span><span class="s2">"5      (0.84, 0.20586)  (0.0167, 0.03554)   (0.0417, 0.15604)   </span><span class="se">\n</span><span class="s2">"</span><span class="p">,</span></span>
<span id="LC951" class="line"><span class="w">       </span><span class="s2">"6    (0.2117, 0.20006)  (0.0667, 0.03417)   (0.0028, 0.15113)   </span><span class="se">\n</span><span class="s2">"</span><span class="p">,</span></span>
<span id="LC952" class="line"><span class="w">       </span><span class="s2">"7   (15.6664, 0.18413)  (0.0833, 0.03293)   (0.0444, 0.14966)   </span><span class="se">\n</span><span class="s2">"</span><span class="p">,</span></span>
<span id="LC953" class="line"><span class="w">       </span><span class="s2">"8    (4.9077, 0.18094)     (0.1, 0.03158)   (0.0833, 0.14765)   </span><span class="se">\n</span><span class="s2">"</span><span class="p">,</span></span>
<span id="LC954" class="line"><span class="w">       </span><span class="s2">"9    (0.4233, 0.15611)   (0.0083, 0.0302)   (0.0472, 0.14665)   </span><span class="se">\n</span><span class="s2">"</span><span class="p">,</span></span>
<span id="LC955" class="line"><span class="w">       </span><span class="s2">"</span><span class="se">\n</span><span class="s2">"</span><span class="p">,</span></span>
<span id="LC956" class="line"><span class="w">       </span><span class="s2">"  int_roam_in_avg_6m sms_out_comp_num_avg_6m arpu_wo_roam_avg_hy  </span><span class="se">\\\n</span><span class="s2">"</span><span class="p">,</span></span>
<span id="LC957" class="line"><span class="w">       </span><span class="s2">"0    (0.0, 97.61997)         (0.0, 44.47844)      (0.0, 4.57167)   </span><span class="se">\n</span><span class="s2">"</span><span class="p">,</span></span>
<span id="LC958" class="line"><span class="w">       </span><span class="s2">"1  (0.0056, 0.01579)       (0.1667, 5.63027)   (254.24, 0.41787)   </span><span class="se">\n</span><span class="s2">"</span><span class="p">,</span></span>
<span id="LC959" class="line"><span class="w">       </span><span class="s2">"2  (0.1667, 0.01547)       (0.3333, 3.71231)     (8.47, 0.39849)   </span><span class="se">\n</span><span class="s2">"</span><span class="p">,</span></span>
<span id="LC960" class="line"><span class="w">       </span><span class="s2">"3  (0.0028, 0.01501)          (0.5, 2.90966)    (12.88, 0.23871)   </span><span class="se">\n</span><span class="s2">"</span><span class="p">,</span></span>
<span id="LC961" class="line"><span class="w">       </span><span class="s2">"4    (0.05, 0.01369)          (1.0, 2.11684)   (169.49, 0.20937)   </span><span class="se">\n</span><span class="s2">"</span><span class="p">,</span></span>
<span id="LC962" class="line"><span class="w">       </span><span class="s2">"5  (0.0444, 0.01347)       (0.6667, 2.08576)   (0.3067, 0.13593)   </span><span class="se">\n</span><span class="s2">"</span><span class="p">,</span></span>
<span id="LC963" class="line"><span class="w">       </span><span class="s2">"6  (0.0389, 0.01343)       (0.8333, 1.58031)    (423.73, 0.1106)   </span><span class="se">\n</span><span class="s2">"</span><span class="p">,</span></span>
<span id="LC964" class="line"><span class="w">       </span><span class="s2">"7  (0.0472, 0.01338)       (1.1667, 1.16713)   (296.61, 0.10159)   </span><span class="se">\n</span><span class="s2">"</span><span class="p">,</span></span>
<span id="LC965" class="line"><span class="w">       </span><span class="s2">"8  (0.0528, 0.01328)       (1.3333, 1.11121)   (330.51, 0.09643)   </span><span class="se">\n</span><span class="s2">"</span><span class="p">,</span></span>
<span id="LC966" class="line"><span class="w">       </span><span class="s2">"9  (0.0583, 0.01317)          (1.5, 1.07804)     (84.75, 0.0957)   </span><span class="se">\n</span><span class="s2">"</span><span class="p">,</span></span>
<span id="LC967" class="line"><span class="w">       </span><span class="s2">"</span><span class="se">\n</span><span class="s2">"</span><span class="p">,</span></span>
<span id="LC968" class="line"><span class="w">       </span><span class="s2">"  onn_roam_out_time_6m cnt_onn_r_in_call_avg_6m cnt_onn_r_out_call_avg_6m  </span><span class="se">\\\n</span><span class="s2">"</span><span class="p">,</span></span>
<span id="LC969" class="line"><span class="w">       </span><span class="s2">"0      (0.0, 70.80923)          (0.0, 68.69287)           (0.0, 68.69339)   </span><span class="se">\n</span><span class="s2">"</span><span class="p">,</span></span>
<span id="LC970" class="line"><span class="w">       </span><span class="s2">"1       (1.0, 0.10079)        (0.1667, 3.51933)         (0.1667, 3.75152)   </span><span class="se">\n</span><span class="s2">"</span><span class="p">,</span></span>
<span id="LC971" class="line"><span class="w">       </span><span class="s2">"2    (0.3333, 0.06346)        (0.3333, 2.41152)         (0.3333, 2.46667)   </span><span class="se">\n</span><span class="s2">"</span><span class="p">,</span></span>
<span id="LC972" class="line"><span class="w">       </span><span class="s2">"3    (0.0167, 0.06316)           (0.5, 1.89267)            (0.5, 1.88372)   </span><span class="se">\n</span><span class="s2">"</span><span class="p">,</span></span>
<span id="LC973" class="line"><span class="w">       </span><span class="s2">"4    (0.2167, 0.06125)        (0.6667, 1.44449)         (0.6667, 1.41548)   </span><span class="se">\n</span><span class="s2">"</span><span class="p">,</span></span>
<span id="LC974" class="line"><span class="w">       </span><span class="s2">"5    (0.2333, 0.06117)           (1.0, 1.20207)            (1.0, 1.15736)   </span><span class="se">\n</span><span class="s2">"</span><span class="p">,</span></span>
<span id="LC975" class="line"><span class="w">       </span><span class="s2">"6       (0.2, 0.06016)        (0.8333, 1.15135)         (0.8333, 1.11731)   </span><span class="se">\n</span><span class="s2">"</span><span class="p">,</span></span>
<span id="LC976" class="line"><span class="w">       </span><span class="s2">"7      (0.25, 0.05989)        (1.1667, 0.84381)          (1.1667, 0.8055)   </span><span class="se">\n</span><span class="s2">"</span><span class="p">,</span></span>
<span id="LC977" class="line"><span class="w">       </span><span class="s2">"8    (0.2667, 0.05907)        (1.3333, 0.76904)         (1.3333, 0.73074)   </span><span class="se">\n</span><span class="s2">"</span><span class="p">,</span></span>
<span id="LC978" class="line"><span class="w">       </span><span class="s2">"9    (0.2833, 0.05893)           (1.5, 0.71982)            (1.5, 0.68086)   </span><span class="se">\n</span><span class="s2">"</span><span class="p">,</span></span>
<span id="LC979" class="line"><span class="w">       </span><span class="s2">"</span><span class="se">\n</span><span class="s2">"</span><span class="p">,</span></span>
<span id="LC980" class="line"><span class="w">       </span><span class="s2">"  data_volume_roam_avg_6m cnt_pp_change_6m   cnt_fin_block_6m  </span><span class="se">\\\n</span><span class="s2">"</span><span class="p">,</span></span>
<span id="LC981" class="line"><span class="w">       </span><span class="s2">"0            (0.0, 100.0)     (0, 72.8396)    (0.0, 99.68577)   </span><span class="se">\n</span><span class="s2">"</span><span class="p">,</span></span>
<span id="LC982" class="line"><span class="w">       </span><span class="s2">"1                     NaN    (1, 23.84015)  (0.3333, 0.10331)   </span><span class="se">\n</span><span class="s2">"</span><span class="p">,</span></span>
<span id="LC983" class="line"><span class="w">       </span><span class="s2">"2                     NaN     (2, 2.85313)  (0.1667, 0.09402)   </span><span class="se">\n</span><span class="s2">"</span><span class="p">,</span></span>
<span id="LC984" class="line"><span class="w">       </span><span class="s2">"3                     NaN     (3, 0.35335)     (0.25, 0.0437)   </span><span class="se">\n</span><span class="s2">"</span><span class="p">,</span></span>
<span id="LC985" class="line"><span class="w">       </span><span class="s2">"4                     NaN     (4, 0.06527)      (0.5, 0.0328)   </span><span class="se">\n</span><span class="s2">"</span><span class="p">,</span></span>
<span id="LC986" class="line"><span class="w">       </span><span class="s2">"5                     NaN     (5, 0.02025)     (0.2, 0.01833)   </span><span class="se">\n</span><span class="s2">"</span><span class="p">,</span></span>
<span id="LC987" class="line"><span class="w">       </span><span class="s2">"6                     NaN     (6, 0.00938)  (0.6667, 0.01073)   </span><span class="se">\n</span><span class="s2">"</span><span class="p">,</span></span>
<span id="LC988" class="line"><span class="w">       </span><span class="s2">"7                     NaN     (7, 0.00515)     (0.4, 0.00406)   </span><span class="se">\n</span><span class="s2">"</span><span class="p">,</span></span>
<span id="LC989" class="line"><span class="w">       </span><span class="s2">"8                     NaN     (8, 0.00345)  (0.8333, 0.00265)   </span><span class="se">\n</span><span class="s2">"</span><span class="p">,</span></span>
<span id="LC990" class="line"><span class="w">       </span><span class="s2">"9                     NaN     (9, 0.00233)     (1.0, 0.00237)   </span><span class="se">\n</span><span class="s2">"</span><span class="p">,</span></span>
<span id="LC991" class="line"><span class="w">       </span><span class="s2">"</span><span class="se">\n</span><span class="s2">"</span><span class="p">,</span></span>
<span id="LC992" class="line"><span class="w">       </span><span class="s2">"        cnt_block_6m        cpa_ind  cnt_package_m     cpa_ind_avg_6m  </span><span class="se">\\\n</span><span class="s2">"</span><span class="p">,</span></span>
<span id="LC993" class="line"><span class="w">       </span><span class="s2">"0    (0.0, 57.09592)  (0, 94.72456)  (2, 26.28707)    (0.0, 94.54651)   </span><span class="se">\n</span><span class="s2">"</span><span class="p">,</span></span>
<span id="LC994" class="line"><span class="w">       </span><span class="s2">"1     (1.0, 7.19978)   (1, 5.27544)  (1, 23.61381)     (1.0, 4.83096)   </span><span class="se">\n</span><span class="s2">"</span><span class="p">,</span></span>
<span id="LC995" class="line"><span class="w">       </span><span class="s2">"2  (0.1667, 6.99988)            NaN  (3, 20.30479)  (0.8333, 0.16994)   </span><span class="se">\n</span><span class="s2">"</span><span class="p">,</span></span>
<span id="LC996" class="line"><span class="w">       </span><span class="s2">"3  (0.3333, 4.80233)            NaN  (4, 11.76905)     (0.5, 0.12222)   </span><span class="se">\n</span><span class="s2">"</span><span class="p">,</span></span>
<span id="LC997" class="line"><span class="w">       </span><span class="s2">"4     (0.5, 4.73218)            NaN   (0, 7.59888)  (0.1667, 0.11026)   </span><span class="se">\n</span><span class="s2">"</span><span class="p">,</span></span>
<span id="LC998" class="line"><span class="w">       </span><span class="s2">"5  (0.6667, 3.07872)            NaN   (5, 5.27196)  (0.6667, 0.10167)   </span><span class="se">\n</span><span class="s2">"</span><span class="p">,</span></span>
<span id="LC999" class="line"><span class="w">       </span><span class="s2">"6  (0.8333, 2.47666)            NaN   (6, 2.56925)  (0.3333, 0.09869)   </span><span class="se">\n</span><span class="s2">"</span><span class="p">,</span></span>
<span id="LC1000" class="line"><span class="w">       </span><span class="s2">"7  (1.1667, 2.20106)            NaN   (7, 1.33958)    (0.75, 0.00314)   </span><span class="se">\n</span><span class="s2">"</span><span class="p">,</span></span>
<span id="LC1001" class="line"><span class="w">       </span><span class="s2">"8  (1.3333, 1.79901)            NaN   (8, 0.68483)     (0.8, 0.00294)   </span><span class="se">\n</span><span class="s2">"</span><span class="p">,</span></span>
<span id="LC1002" class="line"><span class="w">       </span><span class="s2">"9     (1.5, 1.61053)            NaN   (9, 0.31939)     (0.6, 0.00249)   </span><span class="se">\n</span><span class="s2">"</span><span class="p">,</span></span>
<span id="LC1003" class="line"><span class="w">       </span><span class="s2">"</span><span class="se">\n</span><span class="s2">"</span><span class="p">,</span></span>
<span id="LC1004" class="line"><span class="w">       </span><span class="s2">"  minus_bal_day_avg_1m minus_bal_day_avg_hy conf_call_charge_ind_1m  </span><span class="se">\\\n</span><span class="s2">"</span><span class="p">,</span></span>
<span id="LC1005" class="line"><span class="w">       </span><span class="s2">"0        (0, 64.32046)      (0.0, 48.16081)           (0, 99.92561)   </span><span class="se">\n</span><span class="s2">"</span><span class="p">,</span></span>
<span id="LC1006" class="line"><span class="w">       </span><span class="s2">"1        (31, 6.64394)    (0.1667, 2.74517)            (1, 0.07439)   </span><span class="se">\n</span><span class="s2">"</span><span class="p">,</span></span>
<span id="LC1007" class="line"><span class="w">       </span><span class="s2">"2         (1, 3.09475)    (0.3333, 1.78879)                     NaN   </span><span class="se">\n</span><span class="s2">"</span><span class="p">,</span></span>
<span id="LC1008" class="line"><span class="w">       </span><span class="s2">"3          (2, 2.0282)       (0.5, 1.40498)                     NaN   </span><span class="se">\n</span><span class="s2">"</span><span class="p">,</span></span>
<span id="LC1009" class="line"><span class="w">       </span><span class="s2">"4           (3, 1.583)   (30.1667, 1.34919)                     NaN   </span><span class="se">\n</span><span class="s2">"</span><span class="p">,</span></span>
<span id="LC1010" class="line"><span class="w">       </span><span class="s2">"5        (30, 1.35985)    (0.6667, 1.14097)                     NaN   </span><span class="se">\n</span><span class="s2">"</span><span class="p">,</span></span>
<span id="LC1011" class="line"><span class="w">       </span><span class="s2">"6         (4, 1.31342)       (1.0, 0.98333)                     NaN   </span><span class="se">\n</span><span class="s2">"</span><span class="p">,</span></span>
<span id="LC1012" class="line"><span class="w">       </span><span class="s2">"7         (5, 1.18891)    (0.8333, 0.97694)                     NaN   </span><span class="se">\n</span><span class="s2">"</span><span class="p">,</span></span>
<span id="LC1013" class="line"><span class="w">       </span><span class="s2">"8         (7, 1.04761)      (31.0, 0.84324)                     NaN   </span><span class="se">\n</span><span class="s2">"</span><span class="p">,</span></span>
<span id="LC1014" class="line"><span class="w">       </span><span class="s2">"9         (6, 1.04704)    (1.1667, 0.79336)                     NaN   </span><span class="se">\n</span><span class="s2">"</span><span class="p">,</span></span>
<span id="LC1015" class="line"><span class="w">       </span><span class="s2">"</span><span class="se">\n</span><span class="s2">"</span><span class="p">,</span></span>
<span id="LC1016" class="line"><span class="w">       </span><span class="s2">"  bl_charge_ind_1m bal_charge_ind_1m pay_charge_ind_1m package_ind_1m  </span><span class="se">\\\n</span><span class="s2">"</span><span class="p">,</span></span>
<span id="LC1017" class="line"><span class="w">       </span><span class="s2">"0    (0, 99.76421)     (0, 99.99358)     (0, 89.33857)  (0, 53.53104)   </span><span class="se">\n</span><span class="s2">"</span><span class="p">,</span></span>
<span id="LC1018" class="line"><span class="w">       </span><span class="s2">"1     (1, 0.23579)      (1, 0.00642)     (1, 10.66143)  (1, 46.46896)   </span><span class="se">\n</span><span class="s2">"</span><span class="p">,</span></span>
<span id="LC1019" class="line"><span class="w">       </span><span class="s2">"2              NaN               NaN               NaN            NaN   </span><span class="se">\n</span><span class="s2">"</span><span class="p">,</span></span>
<span id="LC1020" class="line"><span class="w">       </span><span class="s2">"3              NaN               NaN               NaN            NaN   </span><span class="se">\n</span><span class="s2">"</span><span class="p">,</span></span>
<span id="LC1021" class="line"><span class="w">       </span><span class="s2">"4              NaN               NaN               NaN            NaN   </span><span class="se">\n</span><span class="s2">"</span><span class="p">,</span></span>
<span id="LC1022" class="line"><span class="w">       </span><span class="s2">"5              NaN               NaN               NaN            NaN   </span><span class="se">\n</span><span class="s2">"</span><span class="p">,</span></span>
<span id="LC1023" class="line"><span class="w">       </span><span class="s2">"6              NaN               NaN               NaN            NaN   </span><span class="se">\n</span><span class="s2">"</span><span class="p">,</span></span>
<span id="LC1024" class="line"><span class="w">       </span><span class="s2">"7              NaN               NaN               NaN            NaN   </span><span class="se">\n</span><span class="s2">"</span><span class="p">,</span></span>
<span id="LC1025" class="line"><span class="w">       </span><span class="s2">"8              NaN               NaN               NaN            NaN   </span><span class="se">\n</span><span class="s2">"</span><span class="p">,</span></span>
<span id="LC1026" class="line"><span class="w">       </span><span class="s2">"9              NaN               NaN               NaN            NaN   </span><span class="se">\n</span><span class="s2">"</span><span class="p">,</span></span>
<span id="LC1027" class="line"><span class="w">       </span><span class="s2">"</span><span class="se">\n</span><span class="s2">"</span><span class="p">,</span></span>
<span id="LC1028" class="line"><span class="w">       </span><span class="s2">"     charge_package_1m conf_call_charge_avg_6m   bl_charge_avg_6m  </span><span class="se">\\\n</span><span class="s2">"</span><span class="p">,</span></span>
<span id="LC1029" class="line"><span class="w">       </span><span class="s2">"0      (0.0, 45.42054)         (0.0, 99.88196)    (0.0, 99.67201)   </span><span class="se">\n</span><span class="s2">"</span><span class="p">,</span></span>
<span id="LC1030" class="line"><span class="w">       </span><span class="s2">"1  (147.4606, 1.91014)          (1.0, 0.04861)     (1.0, 0.15268)   </span><span class="se">\n</span><span class="s2">"</span><span class="p">,</span></span>
<span id="LC1031" class="line"><span class="w">       </span><span class="s2">"2   (152.4946, 1.4386)       (0.1667, 0.02232)   (0.1667, 0.0515)   </span><span class="se">\n</span><span class="s2">"</span><span class="p">,</span></span>
<span id="LC1032" class="line"><span class="w">       </span><span class="s2">"3   (84.7511, 1.34381)          (0.5, 0.01293)  (0.3333, 0.03643)   </span><span class="se">\n</span><span class="s2">"</span><span class="p">,</span></span>
<span id="LC1033" class="line"><span class="w">       </span><span class="s2">"4   (152.2277, 0.8053)        (0.3333, 0.0129)     (0.5, 0.03032)   </span><span class="se">\n</span><span class="s2">"</span><span class="p">,</span></span>
<span id="LC1034" class="line"><span class="w">       </span><span class="s2">"5  (253.9204, 0.79084)       (0.6667, 0.00981)  (0.6667, 0.02574)   </span><span class="se">\n</span><span class="s2">"</span><span class="p">,</span></span>
<span id="LC1035" class="line"><span class="w">       </span><span class="s2">"6  (169.4907, 0.77043)       (0.8333, 0.00912)  (0.8333, 0.02501)   </span><span class="se">\n</span><span class="s2">"</span><span class="p">,</span></span>
<span id="LC1036" class="line"><span class="w">       </span><span class="s2">"7  (254.2418, 0.57001)         (0.25, 0.00062)    (0.25, 0.00164)   </span><span class="se">\n</span><span class="s2">"</span><span class="p">,</span></span>
<span id="LC1037" class="line"><span class="w">       </span><span class="s2">"8   (254.239, 0.54908)           (0.2, 0.0006)     (0.2, 0.00142)   </span><span class="se">\n</span><span class="s2">"</span><span class="p">,</span></span>
<span id="LC1038" class="line"><span class="w">       </span><span class="s2">"9  (141.6402, 0.52929)         (0.75, 0.00031)     (0.4, 0.00111)   </span><span class="se">\n</span><span class="s2">"</span><span class="p">,</span></span>
<span id="LC1039" class="line"><span class="w">       </span><span class="s2">"</span><span class="se">\n</span><span class="s2">"</span><span class="p">,</span></span>
<span id="LC1040" class="line"><span class="w">       </span><span class="s2">"   bal_charge_avg_6m  pay_charge_avg_6m pay_charge_ind_6m  </span><span class="se">\\\n</span><span class="s2">"</span><span class="p">,</span></span>
<span id="LC1041" class="line"><span class="w">       </span><span class="s2">"0    (0.0, 99.97441)    (0.0, 82.66101)     (0, 82.66101)   </span><span class="se">\n</span><span class="s2">"</span><span class="p">,</span></span>
<span id="LC1042" class="line"><span class="w">       </span><span class="s2">"1  (0.1667, 0.01565)     (1.0, 3.90565)     (1, 17.33899)   </span><span class="se">\n</span><span class="s2">"</span><span class="p">,</span></span>
<span id="LC1043" class="line"><span class="w">       </span><span class="s2">"2     (0.5, 0.00372)  (0.1667, 3.85973)               NaN   </span><span class="se">\n</span><span class="s2">"</span><span class="p">,</span></span>
<span id="LC1044" class="line"><span class="w">       </span><span class="s2">"3     (1.0, 0.00369)  (0.3333, 2.56845)               NaN   </span><span class="se">\n</span><span class="s2">"</span><span class="p">,</span></span>
<span id="LC1045" class="line"><span class="w">       </span><span class="s2">"4  (0.3333, 0.00152)  (0.8333, 2.24615)               NaN   </span><span class="se">\n</span><span class="s2">"</span><span class="p">,</span></span>
<span id="LC1046" class="line"><span class="w">       </span><span class="s2">"5    (0.25, 0.00061)     (0.5, 2.11977)               NaN   </span><span class="se">\n</span><span class="s2">"</span><span class="p">,</span></span>
<span id="LC1047" class="line"><span class="w">       </span><span class="s2">"6     (0.2, 0.00037)  (0.6667, 1.99608)               NaN   </span><span class="se">\n</span><span class="s2">"</span><span class="p">,</span></span>
<span id="LC1048" class="line"><span class="w">       </span><span class="s2">"7       (0.4, 1e-05)    (0.25, 0.25471)               NaN   </span><span class="se">\n</span><span class="s2">"</span><span class="p">,</span></span>
<span id="LC1049" class="line"><span class="w">       </span><span class="s2">"8      (0.6667, 0.0)     (0.2, 0.16632)               NaN   </span><span class="se">\n</span><span class="s2">"</span><span class="p">,</span></span>
<span id="LC1050" class="line"><span class="w">       </span><span class="s2">"9      (0.8333, 0.0)     (0.4, 0.12344)               NaN   </span><span class="se">\n</span><span class="s2">"</span><span class="p">,</span></span>
<span id="LC1051" class="line"><span class="w">       </span><span class="s2">"</span><span class="se">\n</span><span class="s2">"</span><span class="p">,</span></span>
<span id="LC1052" class="line"><span class="w">       </span><span class="s2">"  charge_package_avg_6m conf_call_charge_ind_6m bl_charge_ind_6m  </span><span class="se">\\\n</span><span class="s2">"</span><span class="p">,</span></span>
<span id="LC1053" class="line"><span class="w">       </span><span class="s2">"0       (0.0, 37.29981)           (0, 99.88196)    (0, 99.67201)   </span><span class="se">\n</span><span class="s2">"</span><span class="p">,</span></span>
<span id="LC1054" class="line"><span class="w">       </span><span class="s2">"1      (84.7511, 0.824)            (1, 0.11804)     (1, 0.32799)   </span><span class="se">\n</span><span class="s2">"</span><span class="p">,</span></span>
<span id="LC1055" class="line"><span class="w">       </span><span class="s2">"2   (147.4606, 0.77466)                     NaN              NaN   </span><span class="se">\n</span><span class="s2">"</span><span class="p">,</span></span>
<span id="LC1056" class="line"><span class="w">       </span><span class="s2">"3   (169.4907, 0.40793)                     NaN              NaN   </span><span class="se">\n</span><span class="s2">"</span><span class="p">,</span></span>
<span id="LC1057" class="line"><span class="w">       </span><span class="s2">"4   (254.2418, 0.32196)                     NaN              NaN   </span><span class="se">\n</span><span class="s2">"</span><span class="p">,</span></span>
<span id="LC1058" class="line"><span class="w">       </span><span class="s2">"5      (26.0519, 0.236)                     NaN              NaN   </span><span class="se">\n</span><span class="s2">"</span><span class="p">,</span></span>
<span id="LC1059" class="line"><span class="w">       </span><span class="s2">"6   (145.7587, 0.21099)                     NaN              NaN   </span><span class="se">\n</span><span class="s2">"</span><span class="p">,</span></span>
<span id="LC1060" class="line"><span class="w">       </span><span class="s2">"7     (0.0698, 0.18886)                     NaN              NaN   </span><span class="se">\n</span><span class="s2">"</span><span class="p">,</span></span>
<span id="LC1061" class="line"><span class="w">       </span><span class="s2">"8     (4.9077, 0.18331)                     NaN              NaN   </span><span class="se">\n</span><span class="s2">"</span><span class="p">,</span></span>
<span id="LC1062" class="line"><span class="w">       </span><span class="s2">"9    (93.2205, 0.18012)                     NaN              NaN   </span><span class="se">\n</span><span class="s2">"</span><span class="p">,</span></span>
<span id="LC1063" class="line"><span class="w">       </span><span class="s2">"</span><span class="se">\n</span><span class="s2">"</span><span class="p">,</span></span>
<span id="LC1064" class="line"><span class="w">       </span><span class="s2">"  bal_charge_ind_6m               int_state_6m cnt_roam_state_6m  </span><span class="se">\\\n</span><span class="s2">"</span><span class="p">,</span></span>
<span id="LC1065" class="line"><span class="w">       </span><span class="s2">"0     (0, 99.97441)               (, 81.17129)     (0, 94.10098)   </span><span class="se">\n</span><span class="s2">"</span><span class="p">,</span></span>
<span id="LC1066" class="line"><span class="w">       </span><span class="s2">"1      (1, 0.02559)      (Узбекистан, 2.72539)      (1, 4.47098)   </span><span class="se">\n</span><span class="s2">"</span><span class="p">,</span></span>
<span id="LC1067" class="line"><span class="w">       </span><span class="s2">"2               NaN  (Великобритания, 2.60227)      (2, 0.85806)   </span><span class="se">\n</span><span class="s2">"</span><span class="p">,</span></span>
<span id="LC1068" class="line"><span class="w">       </span><span class="s2">"3               NaN          (Украина, 2.4645)      (3, 0.27758)   </span><span class="se">\n</span><span class="s2">"</span><span class="p">,</span></span>
<span id="LC1069" class="line"><span class="w">       </span><span class="s2">"4               NaN       (Казахстан, 1.35102)      (4, 0.12114)   </span><span class="se">\n</span><span class="s2">"</span><span class="p">,</span></span>
<span id="LC1070" class="line"><span class="w">       </span><span class="s2">"5               NaN     (Таджикистан, 0.90829)      (5, 0.06516)   </span><span class="se">\n</span><span class="s2">"</span><span class="p">,</span></span>
<span id="LC1071" class="line"><span class="w">       </span><span class="s2">"6               NaN      (Кыргызстан, 0.81449)      (6, 0.03892)   </span><span class="se">\n</span><span class="s2">"</span><span class="p">,</span></span>
<span id="LC1072" class="line"><span class="w">       </span><span class="s2">"7               NaN        (Беларусь, 0.71245)      (7, 0.02404)   </span><span class="se">\n</span><span class="s2">"</span><span class="p">,</span></span>
<span id="LC1073" class="line"><span class="w">       </span><span class="s2">"8               NaN     (Азербайджан, 0.40445)      (8, 0.01521)   </span><span class="se">\n</span><span class="s2">"</span><span class="p">,</span></span>
<span id="LC1074" class="line"><span class="w">       </span><span class="s2">"9               NaN         (Армения, 0.39786)      (9, 0.00963)   </span><span class="se">\n</span><span class="s2">"</span><span class="p">,</span></span>
<span id="LC1075" class="line"><span class="w">       </span><span class="s2">"</span><span class="se">\n</span><span class="s2">"</span><span class="p">,</span></span>
<span id="LC1076" class="line"><span class="w">       </span><span class="s2">"            roam_state_6m      payment_method_1m  </span><span class="se">\\\n</span><span class="s2">"</span><span class="p">,</span></span>
<span id="LC1077" class="line"><span class="w">       </span><span class="s2">"0            (, 94.10098)  (Не задано, 54.09539)   </span><span class="se">\n</span><span class="s2">"</span><span class="p">,</span></span>
<span id="LC1078" class="line"><span class="w">       </span><span class="s2">"1      (Беларусь, 0.8011)             (, 35.816)   </span><span class="se">\n</span><span class="s2">"</span><span class="p">,</span></span>
<span id="LC1079" class="line"><span class="w">       </span><span class="s2">"2      (Украина, 0.53122)    (Наличные, 7.11875)   </span><span class="se">\n</span><span class="s2">"</span><span class="p">,</span></span>
<span id="LC1080" class="line"><span class="w">       </span><span class="s2">"3    (Казахстан, 0.51911)       (Карта, 2.93394)   </span><span class="se">\n</span><span class="s2">"</span><span class="p">,</span></span>
<span id="LC1081" class="line"><span class="w">       </span><span class="s2">"4       (Грузия, 0.45895)      (Другое, 0.03591)   </span><span class="se">\n</span><span class="s2">"</span><span class="p">,</span></span>
<span id="LC1082" class="line"><span class="w">       </span><span class="s2">"5        (Тунис, 0.15252)                    NaN   </span><span class="se">\n</span><span class="s2">"</span><span class="p">,</span></span>
<span id="LC1083" class="line"><span class="w">       </span><span class="s2">"6       (Греция, 0.13943)                    NaN   </span><span class="se">\n</span><span class="s2">"</span><span class="p">,</span></span>
<span id="LC1084" class="line"><span class="w">       </span><span class="s2">"7      (Испания, 0.11894)                    NaN   </span><span class="se">\n</span><span class="s2">"</span><span class="p">,</span></span>
<span id="LC1085" class="line"><span class="w">       </span><span class="s2">"8  (Азербайджан, 0.11846)                    NaN   </span><span class="se">\n</span><span class="s2">"</span><span class="p">,</span></span>
<span id="LC1086" class="line"><span class="w">       </span><span class="s2">"9         (Кипр, 0.11445)                    NaN   </span><span class="se">\n</span><span class="s2">"</span><span class="p">,</span></span>
<span id="LC1087" class="line"><span class="w">       </span><span class="s2">"</span><span class="se">\n</span><span class="s2">"</span><span class="p">,</span></span>
<span id="LC1088" class="line"><span class="w">       </span><span class="s2">"                                   equipment_type_1m      payment_method_6m  </span><span class="se">\\\n</span><span class="s2">"</span><span class="p">,</span></span>
<span id="LC1089" class="line"><span class="w">       </span><span class="s2">"0                                         (, 35.816)  (Не задано, 73.30765)   </span><span class="se">\n</span><span class="s2">"</span><span class="p">,</span></span>
<span id="LC1090" class="line"><span class="w">       </span><span class="s2">"1                              (Не задано, 30.61555)           (, 16.90326)   </span><span class="se">\n</span><span class="s2">"</span><span class="p">,</span></span>
<span id="LC1091" class="line"><span class="w">       </span><span class="s2">"2                (Терминал самообслуживания, 9.7429)    (Наличные, 6.44382)   </span><span class="se">\n</span><span class="s2">"</span><span class="p">,</span></span>
<span id="LC1092" class="line"><span class="w">       </span><span class="s2">"3                               (Компьютер, 9.34872)       (Карта, 3.32802)   </span><span class="se">\n</span><span class="s2">"</span><span class="p">,</span></span>
<span id="LC1093" class="line"><span class="w">       </span><span class="s2">"4                                (Банкомат, 5.66684)      (Другое, 0.01724)   </span><span class="se">\n</span><span class="s2">"</span><span class="p">,</span></span>
<span id="LC1094" class="line"><span class="w">       </span><span class="s2">"5  (Касса (кассовые терминалы в магазинах самообс...                    NaN   </span><span class="se">\n</span><span class="s2">"</span><span class="p">,</span></span>
<span id="LC1095" class="line"><span class="w">       </span><span class="s2">"6                            (GSM-терминал, 2.58183)                    NaN   </span><span class="se">\n</span><span class="s2">"</span><span class="p">,</span></span>
<span id="LC1096" class="line"><span class="w">       </span><span class="s2">"7                            (POS-терминал, 0.85125)                    NaN   </span><span class="se">\n</span><span class="s2">"</span><span class="p">,</span></span>
<span id="LC1097" class="line"><span class="w">       </span><span class="s2">"8                                  (Другое, 0.03686)                    NaN   </span><span class="se">\n</span><span class="s2">"</span><span class="p">,</span></span>
<span id="LC1098" class="line"><span class="w">       </span><span class="s2">"9                                (Автоплатеж, 1e-05)                    NaN   </span><span class="se">\n</span><span class="s2">"</span><span class="p">,</span></span>
<span id="LC1099" class="line"><span class="w">       </span><span class="s2">"</span><span class="se">\n</span><span class="s2">"</span><span class="p">,</span></span>
<span id="LC1100" class="line"><span class="w">       </span><span class="s2">"                                   equipment_type_6m      direct_number  </span><span class="se">\\\n</span><span class="s2">"</span><span class="p">,</span></span>
<span id="LC1101" class="line"><span class="w">       </span><span class="s2">"0                               (Не задано, 41.9869)       (, 98.33322)   </span><span class="se">\n</span><span class="s2">"</span><span class="p">,</span></span>
<span id="LC1102" class="line"><span class="w">       </span><span class="s2">"1                                       (, 16.90326)  (3512163516, 0.0)   </span><span class="se">\n</span><span class="s2">"</span><span class="p">,</span></span>
<span id="LC1103" class="line"><span class="w">       </span><span class="s2">"2              (Терминал самообслуживания, 14.77418)  (3512164099, 0.0)   </span><span class="se">\n</span><span class="s2">"</span><span class="p">,</span></span>
<span id="LC1104" class="line"><span class="w">       </span><span class="s2">"3                               (Компьютер, 9.58087)  (3512163192, 0.0)   </span><span class="se">\n</span><span class="s2">"</span><span class="p">,</span></span>
<span id="LC1105" class="line"><span class="w">       </span><span class="s2">"4  (Касса (кассовые терминалы в магазинах самообс...  (3512163010, 0.0)   </span><span class="se">\n</span><span class="s2">"</span><span class="p">,</span></span>
<span id="LC1106" class="line"><span class="w">       </span><span class="s2">"5                                (Банкомат, 5.87957)  (3512160886, 0.0)   </span><span class="se">\n</span><span class="s2">"</span><span class="p">,</span></span>
<span id="LC1107" class="line"><span class="w">       </span><span class="s2">"6                            (GSM-терминал, 2.96029)  (3512163107, 0.0)   </span><span class="se">\n</span><span class="s2">"</span><span class="p">,</span></span>
<span id="LC1108" class="line"><span class="w">       </span><span class="s2">"7                            (POS-терминал, 1.05375)  (3512164454, 0.0)   </span><span class="se">\n</span><span class="s2">"</span><span class="p">,</span></span>
<span id="LC1109" class="line"><span class="w">       </span><span class="s2">"8                                  (Другое, 0.02389)  (3512163841, 0.0)   </span><span class="se">\n</span><span class="s2">"</span><span class="p">,</span></span>
<span id="LC1110" class="line"><span class="w">       </span><span class="s2">"9                                (Автоплатеж, 1e-05)  (3512164471, 0.0)   </span><span class="se">\n</span><span class="s2">"</span><span class="p">,</span></span>
<span id="LC1111" class="line"><span class="w">       </span><span class="s2">"</span><span class="se">\n</span><span class="s2">"</span><span class="p">,</span></span>
<span id="LC1112" class="line"><span class="w">       </span><span class="s2">"  cnt_pp_change_1m   cnt_block_1m cnt_mou_bel_out cnt_mou_eur_out  </span><span class="se">\\\n</span><span class="s2">"</span><span class="p">,</span></span>
<span id="LC1113" class="line"><span class="w">       </span><span class="s2">"0    (0, 90.28054)  (0, 70.29509)   (0, 99.64113)   (0, 99.50256)   </span><span class="se">\n</span><span class="s2">"</span><span class="p">,</span></span>
<span id="LC1114" class="line"><span class="w">       </span><span class="s2">"1     (1, 9.46134)  (1, 20.05228)    (1, 0.14994)    (1, 0.24891)   </span><span class="se">\n</span><span class="s2">"</span><span class="p">,</span></span>
<span id="LC1115" class="line"><span class="w">       </span><span class="s2">"2     (2, 0.23939)   (2, 5.82238)    (2, 0.06465)    (2, 0.08891)   </span><span class="se">\n</span><span class="s2">"</span><span class="p">,</span></span>
<span id="LC1116" class="line"><span class="w">       </span><span class="s2">"3     (3, 0.01348)   (3, 2.27658)    (3, 0.03597)    (3, 0.04435)   </span><span class="se">\n</span><span class="s2">"</span><span class="p">,</span></span>
<span id="LC1117" class="line"><span class="w">       </span><span class="s2">"4     (4, 0.00272)   (4, 0.95491)    (4, 0.02325)    (4, 0.02582)   </span><span class="se">\n</span><span class="s2">"</span><span class="p">,</span></span>
<span id="LC1118" class="line"><span class="w">       </span><span class="s2">"5     (5, 0.00125)   (5, 0.37507)    (5, 0.01652)    (5, 0.01706)   </span><span class="se">\n</span><span class="s2">"</span><span class="p">,</span></span>
<span id="LC1119" class="line"><span class="w">       </span><span class="s2">"6     (6, 0.00056)   (6, 0.13992)    (6, 0.01172)    (6, 0.01175)   </span><span class="se">\n</span><span class="s2">"</span><span class="p">,</span></span>
<span id="LC1120" class="line"><span class="w">       </span><span class="s2">"7     (7, 0.00027)   (7, 0.05228)    (7, 0.00887)     (7, 0.0089)   </span><span class="se">\n</span><span class="s2">"</span><span class="p">,</span></span>
<span id="LC1121" class="line"><span class="w">       </span><span class="s2">"8     (8, 0.00016)   (8, 0.02031)    (8, 0.00696)    (8, 0.00682)   </span><span class="se">\n</span><span class="s2">"</span><span class="p">,</span></span>
<span id="LC1122" class="line"><span class="w">       </span><span class="s2">"9       (9, 9e-05)   (9, 0.00733)    (9, 0.00547)    (9, 0.00539)   </span><span class="se">\n</span><span class="s2">"</span><span class="p">,</span></span>
<span id="LC1123" class="line"><span class="w">       </span><span class="s2">"</span><span class="se">\n</span><span class="s2">"</span><span class="p">,</span></span>
<span id="LC1124" class="line"><span class="w">       </span><span class="s2">"  cnt_mou_cis_out cnt_mou_ukr_out  </span><span class="se">\n</span><span class="s2">"</span><span class="p">,</span></span>
<span id="LC1125" class="line"><span class="w">       </span><span class="s2">"0   (0, 94.22946)   (0, 98.44872)  </span><span class="se">\n</span><span class="s2">"</span><span class="p">,</span></span>
<span id="LC1126" class="line"><span class="w">       </span><span class="s2">"1    (1, 0.85155)    (1, 0.41276)  </span><span class="se">\n</span><span class="s2">"</span><span class="p">,</span></span>
<span id="LC1127" class="line"><span class="w">       </span><span class="s2">"2    (2, 0.49576)    (2, 0.20628)  </span><span class="se">\n</span><span class="s2">"</span><span class="p">,</span></span>
<span id="LC1128" class="line"><span class="w">       </span><span class="s2">"3     (3, 0.3595)    (3, 0.13312)  </span><span class="se">\n</span><span class="s2">"</span><span class="p">,</span></span>
<span id="LC1129" class="line"><span class="w">       </span><span class="s2">"4    (4, 0.28816)     (4, 0.0991)  </span><span class="se">\n</span><span class="s2">"</span><span class="p">,</span></span>
<span id="LC1130" class="line"><span class="w">       </span><span class="s2">"5    (5, 0.24092)    (5, 0.07822)  </span><span class="se">\n</span><span class="s2">"</span><span class="p">,</span></span>
<span id="LC1131" class="line"><span class="w">       </span><span class="s2">"6    (6, 0.20955)    (6, 0.06328)  </span><span class="se">\n</span><span class="s2">"</span><span class="p">,</span></span>
<span id="LC1132" class="line"><span class="w">       </span><span class="s2">"7    (7, 0.18464)    (7, 0.05261)  </span><span class="se">\n</span><span class="s2">"</span><span class="p">,</span></span>
<span id="LC1133" class="line"><span class="w">       </span><span class="s2">"8    (8, 0.16498)    (8, 0.04544)  </span><span class="se">\n</span><span class="s2">"</span><span class="p">,</span></span>
<span id="LC1134" class="line"><span class="w">       </span><span class="s2">"9     (9, 0.1489)    (9, 0.03751)  "</span></span>
<span id="LC1135" class="line"><span class="w">      </span><span class="p">]</span></span>
<span id="LC1136" class="line"><span class="w">     </span><span class="p">},</span></span>
<span id="LC1137" class="line"><span class="w">     </span><span class="s2">"execution_count"</span><span class="p">:</span><span class="w"> </span><span class="mi">15</span><span class="p">,</span></span>
<span id="LC1138" class="line"><span class="w">     </span><span class="s2">"metadata"</span><span class="p">:</span><span class="w"> </span><span class="p">{},</span></span>
<span id="LC1139" class="line"><span class="w">     </span><span class="s2">"output_type"</span><span class="p">:</span><span class="w"> </span><span class="s2">"execute_result"</span></span>
<span id="LC1140" class="line"><span class="w">    </span><span class="p">}</span></span>
<span id="LC1141" class="line"><span class="w">   </span><span class="p">],</span></span>
<span id="LC1142" class="line"><span class="w">   </span><span class="s2">"source"</span><span class="p">:</span><span class="w"> </span><span class="p">[</span></span>
<span id="LC1143" class="line"><span class="w">    </span><span class="s2">"pd.DataFrame(dummyDF).T"</span></span>
<span id="LC1144" class="line"><span class="w">   </span><span class="p">]</span></span>
<span id="LC1145" class="line"><span class="w">  </span><span class="p">},</span></span>
<span id="LC1146" class="line"><span class="w">  </span><span class="p">{</span></span>
<span id="LC1147" class="line"><span class="w">   </span><span class="s2">"cell_type"</span><span class="p">:</span><span class="w"> </span><span class="s2">"code"</span><span class="p">,</span></span>
<span id="LC1148" class="line"><span class="w">   </span><span class="s2">"execution_count"</span><span class="p">:</span><span class="w"> </span><span class="mi">8</span><span class="p">,</span></span>
<span id="LC1149" class="line"><span class="w">   </span><span class="s2">"metadata"</span><span class="p">:</span><span class="w"> </span><span class="p">{},</span></span>
<span id="LC1150" class="line"><span class="w">   </span><span class="s2">"outputs"</span><span class="p">:</span><span class="w"> </span><span class="p">[</span></span>
<span id="LC1151" class="line"><span class="w">    </span><span class="p">{</span></span>
<span id="LC1152" class="line"><span class="w">     </span><span class="s2">"name"</span><span class="p">:</span><span class="w"> </span><span class="s2">"stdout"</span><span class="p">,</span></span>
<span id="LC1153" class="line"><span class="w">     </span><span class="s2">"output_type"</span><span class="p">:</span><span class="w"> </span><span class="s2">"stream"</span><span class="p">,</span></span>
<span id="LC1154" class="line"><span class="w">     </span><span class="s2">"text"</span><span class="p">:</span><span class="w"> </span><span class="p">[</span></span>
<span id="LC1155" class="line"><span class="w">      </span><span class="s2">"CPU times: user 78.9 ms, sys: 19.3 ms, total: 98.2 ms</span><span class="se">\n</span><span class="s2">"</span><span class="p">,</span></span>
<span id="LC1156" class="line"><span class="w">      </span><span class="s2">"Wall time: 6min 22s</span><span class="se">\n</span><span class="s2">"</span></span>
<span id="LC1157" class="line"><span class="w">     </span><span class="p">]</span></span>
<span id="LC1158" class="line"><span class="w">    </span><span class="p">},</span></span>
<span id="LC1159" class="line"><span class="w">    </span><span class="p">{</span></span>
<span id="LC1160" class="line"><span class="w">     </span><span class="s2">"data"</span><span class="p">:</span><span class="w"> </span><span class="p">{</span></span>
<span id="LC1161" class="line"><span class="w">      </span><span class="s2">"text/html"</span><span class="p">:</span><span class="w"> </span><span class="p">[</span></span>
<span id="LC1162" class="line"><span class="w">       </span><span class="s2">"&lt;div&gt;</span><span class="se">\n</span><span class="s2">"</span><span class="p">,</span></span>
<span id="LC1163" class="line"><span class="w">       </span><span class="s2">"&lt;style&gt;</span><span class="se">\n</span><span class="s2">"</span><span class="p">,</span></span>
<span id="LC1164" class="line"><span class="w">       </span><span class="s2">"    .dataframe thead tr:only-child th {</span><span class="se">\n</span><span class="s2">"</span><span class="p">,</span></span>
<span id="LC1165" class="line"><span class="w">       </span><span class="s2">"        text-align: right;</span><span class="se">\n</span><span class="s2">"</span><span class="p">,</span></span>
<span id="LC1166" class="line"><span class="w">       </span><span class="s2">"    }</span><span class="se">\n</span><span class="s2">"</span><span class="p">,</span></span>
<span id="LC1167" class="line"><span class="w">       </span><span class="s2">"</span><span class="se">\n</span><span class="s2">"</span><span class="p">,</span></span>
<span id="LC1168" class="line"><span class="w">       </span><span class="s2">"    .dataframe thead th {</span><span class="se">\n</span><span class="s2">"</span><span class="p">,</span></span>
<span id="LC1169" class="line"><span class="w">       </span><span class="s2">"        text-align: left;</span><span class="se">\n</span><span class="s2">"</span><span class="p">,</span></span>
<span id="LC1170" class="line"><span class="w">       </span><span class="s2">"    }</span><span class="se">\n</span><span class="s2">"</span><span class="p">,</span></span>
<span id="LC1171" class="line"><span class="w">       </span><span class="s2">"</span><span class="se">\n</span><span class="s2">"</span><span class="p">,</span></span>
<span id="LC1172" class="line"><span class="w">       </span><span class="s2">"    .dataframe tbody tr th {</span><span class="se">\n</span><span class="s2">"</span><span class="p">,</span></span>
<span id="LC1173" class="line"><span class="w">       </span><span class="s2">"        vertical-align: top;</span><span class="se">\n</span><span class="s2">"</span><span class="p">,</span></span>
<span id="LC1174" class="line"><span class="w">       </span><span class="s2">"    }</span><span class="se">\n</span><span class="s2">"</span><span class="p">,</span></span>
<span id="LC1175" class="line"><span class="w">       </span><span class="s2">"&lt;/style&gt;</span><span class="se">\n</span><span class="s2">"</span><span class="p">,</span></span>
<span id="LC1176" class="line"><span class="w">       </span><span class="s2">"&lt;table border=</span><span class="se">\"</span><span class="s2">1</span><span class="se">\"</span><span class="s2"> class=</span><span class="se">\"</span><span class="s2">dataframe</span><span class="se">\"</span><span class="s2">&gt;</span><span class="se">\n</span><span class="s2">"</span><span class="p">,</span></span>
<span id="LC1177" class="line"><span class="w">       </span><span class="s2">"  &lt;thead&gt;</span><span class="se">\n</span><span class="s2">"</span><span class="p">,</span></span>
<span id="LC1178" class="line"><span class="w">       </span><span class="s2">"    &lt;tr style=</span><span class="se">\"</span><span class="s2">text-align: right;</span><span class="se">\"</span><span class="s2">&gt;</span><span class="se">\n</span><span class="s2">"</span><span class="p">,</span></span>
<span id="LC1179" class="line"><span class="w">       </span><span class="s2">"      &lt;th&gt;&lt;/th&gt;</span><span class="se">\n</span><span class="s2">"</span><span class="p">,</span></span>
<span id="LC1180" class="line"><span class="w">       </span><span class="s2">"      &lt;th&gt;summary&lt;/th&gt;</span><span class="se">\n</span><span class="s2">"</span><span class="p">,</span></span>
<span id="LC1181" class="line"><span class="w">       </span><span class="s2">"      &lt;th&gt;cnt_voice_in_fix_avg_6m&lt;/th&gt;</span><span class="se">\n</span><span class="s2">"</span><span class="p">,</span></span>
<span id="LC1182" class="line"><span class="w">       </span><span class="s2">"      &lt;th&gt;cnt_voice_out_fix_avg_6m&lt;/th&gt;</span><span class="se">\n</span><span class="s2">"</span><span class="p">,</span></span>
<span id="LC1183" class="line"><span class="w">       </span><span class="s2">"      &lt;th&gt;arpu_int_roaming_avg_hy&lt;/th&gt;</span><span class="se">\n</span><span class="s2">"</span><span class="p">,</span></span>
<span id="LC1184" class="line"><span class="w">       </span><span class="s2">"      &lt;th&gt;arpu_onnet_roaming_avg_hy&lt;/th&gt;</span><span class="se">\n</span><span class="s2">"</span><span class="p">,</span></span>
<span id="LC1185" class="line"><span class="w">       </span><span class="s2">"      &lt;th&gt;call_charge_avg_6m&lt;/th&gt;</span><span class="se">\n</span><span class="s2">"</span><span class="p">,</span></span>
<span id="LC1186" class="line"><span class="w">       </span><span class="s2">"      &lt;th&gt;call_charge_ind_6m&lt;/th&gt;</span><span class="se">\n</span><span class="s2">"</span><span class="p">,</span></span>
<span id="LC1187" class="line"><span class="w">       </span><span class="s2">"      &lt;th&gt;cnt_voice_out_avg_6m&lt;/th&gt;</span><span class="se">\n</span><span class="s2">"</span><span class="p">,</span></span>
<span id="LC1188" class="line"><span class="w">       </span><span class="s2">"      &lt;th&gt;arpu_voice_avg_hy&lt;/th&gt;</span><span class="se">\n</span><span class="s2">"</span><span class="p">,</span></span>
<span id="LC1189" class="line"><span class="w">       </span><span class="s2">"      &lt;th&gt;arpu_gprs_avg_hy&lt;/th&gt;</span><span class="se">\n</span><span class="s2">"</span><span class="p">,</span></span>
<span id="LC1190" class="line"><span class="w">       </span><span class="s2">"      &lt;th&gt;arpu_vas_avg_hy&lt;/th&gt;</span><span class="se">\n</span><span class="s2">"</span><span class="p">,</span></span>
<span id="LC1191" class="line"><span class="w">       </span><span class="s2">"      &lt;th&gt;ingoing_avg_6m&lt;/th&gt;</span><span class="se">\n</span><span class="s2">"</span><span class="p">,</span></span>
<span id="LC1192" class="line"><span class="w">       </span><span class="s2">"      &lt;th&gt;intercity_in_avg_6m&lt;/th&gt;</span><span class="se">\n</span><span class="s2">"</span><span class="p">,</span></span>
<span id="LC1193" class="line"><span class="w">       </span><span class="s2">"      &lt;th&gt;int_roam_in_avg_6m&lt;/th&gt;</span><span class="se">\n</span><span class="s2">"</span><span class="p">,</span></span>
<span id="LC1194" class="line"><span class="w">       </span><span class="s2">"      &lt;th&gt;sms_out_comp_num_avg_6m&lt;/th&gt;</span><span class="se">\n</span><span class="s2">"</span><span class="p">,</span></span>
<span id="LC1195" class="line"><span class="w">       </span><span class="s2">"      &lt;th&gt;arpu_wo_roam_avg_hy&lt;/th&gt;</span><span class="se">\n</span><span class="s2">"</span><span class="p">,</span></span>
<span id="LC1196" class="line"><span class="w">       </span><span class="s2">"      &lt;th&gt;onn_roam_out_time_6m&lt;/th&gt;</span><span class="se">\n</span><span class="s2">"</span><span class="p">,</span></span>
<span id="LC1197" class="line"><span class="w">       </span><span class="s2">"      &lt;th&gt;cnt_onn_r_in_call_avg_6m&lt;/th&gt;</span><span class="se">\n</span><span class="s2">"</span><span class="p">,</span></span>
<span id="LC1198" class="line"><span class="w">       </span><span class="s2">"      &lt;th&gt;cnt_onn_r_out_call_avg_6m&lt;/th&gt;</span><span class="se">\n</span><span class="s2">"</span><span class="p">,</span></span>
<span id="LC1199" class="line"><span class="w">       </span><span class="s2">"      &lt;th&gt;data_volume_roam_avg_6m&lt;/th&gt;</span><span class="se">\n</span><span class="s2">"</span><span class="p">,</span></span>
<span id="LC1200" class="line"><span class="w">       </span><span class="s2">"      &lt;th&gt;cnt_pp_change_6m&lt;/th&gt;</span><span class="se">\n</span><span class="s2">"</span><span class="p">,</span></span>
<span id="LC1201" class="line"><span class="w">       </span><span class="s2">"      &lt;th&gt;cnt_fin_block_6m&lt;/th&gt;</span><span class="se">\n</span><span class="s2">"</span><span class="p">,</span></span>
<span id="LC1202" class="line"><span class="w">       </span><span class="s2">"      &lt;th&gt;cnt_block_6m&lt;/th&gt;</span><span class="se">\n</span><span class="s2">"</span><span class="p">,</span></span>
<span id="LC1203" class="line"><span class="w">       </span><span class="s2">"      &lt;th&gt;cpa_ind&lt;/th&gt;</span><span class="se">\n</span><span class="s2">"</span><span class="p">,</span></span>
<span id="LC1204" class="line"><span class="w">       </span><span class="s2">"      &lt;th&gt;cnt_package_m&lt;/th&gt;</span><span class="se">\n</span><span class="s2">"</span><span class="p">,</span></span>
<span id="LC1205" class="line"><span class="w">       </span><span class="s2">"      &lt;th&gt;cpa_ind_avg_6m&lt;/th&gt;</span><span class="se">\n</span><span class="s2">"</span><span class="p">,</span></span>
<span id="LC1206" class="line"><span class="w">       </span><span class="s2">"      &lt;th&gt;minus_bal_day_avg_1m&lt;/th&gt;</span><span class="se">\n</span><span class="s2">"</span><span class="p">,</span></span>
<span id="LC1207" class="line"><span class="w">       </span><span class="s2">"      &lt;th&gt;minus_bal_day_avg_hy&lt;/th&gt;</span><span class="se">\n</span><span class="s2">"</span><span class="p">,</span></span>
<span id="LC1208" class="line"><span class="w">       </span><span class="s2">"      &lt;th&gt;conf_call_charge_ind_1m&lt;/th&gt;</span><span class="se">\n</span><span class="s2">"</span><span class="p">,</span></span>
<span id="LC1209" class="line"><span class="w">       </span><span class="s2">"      &lt;th&gt;bl_charge_ind_1m&lt;/th&gt;</span><span class="se">\n</span><span class="s2">"</span><span class="p">,</span></span>
<span id="LC1210" class="line"><span class="w">       </span><span class="s2">"      &lt;th&gt;bal_charge_ind_1m&lt;/th&gt;</span><span class="se">\n</span><span class="s2">"</span><span class="p">,</span></span>
<span id="LC1211" class="line"><span class="w">       </span><span class="s2">"      &lt;th&gt;pay_charge_ind_1m&lt;/th&gt;</span><span class="se">\n</span><span class="s2">"</span><span class="p">,</span></span>
<span id="LC1212" class="line"><span class="w">       </span><span class="s2">"      &lt;th&gt;package_ind_1m&lt;/th&gt;</span><span class="se">\n</span><span class="s2">"</span><span class="p">,</span></span>
<span id="LC1213" class="line"><span class="w">       </span><span class="s2">"      &lt;th&gt;charge_package_1m&lt;/th&gt;</span><span class="se">\n</span><span class="s2">"</span><span class="p">,</span></span>
<span id="LC1214" class="line"><span class="w">       </span><span class="s2">"      &lt;th&gt;conf_call_charge_avg_6m&lt;/th&gt;</span><span class="se">\n</span><span class="s2">"</span><span class="p">,</span></span>
<span id="LC1215" class="line"><span class="w">       </span><span class="s2">"      &lt;th&gt;bl_charge_avg_6m&lt;/th&gt;</span><span class="se">\n</span><span class="s2">"</span><span class="p">,</span></span>
<span id="LC1216" class="line"><span class="w">       </span><span class="s2">"      &lt;th&gt;bal_charge_avg_6m&lt;/th&gt;</span><span class="se">\n</span><span class="s2">"</span><span class="p">,</span></span>
<span id="LC1217" class="line"><span class="w">       </span><span class="s2">"      &lt;th&gt;pay_charge_avg_6m&lt;/th&gt;</span><span class="se">\n</span><span class="s2">"</span><span class="p">,</span></span>
<span id="LC1218" class="line"><span class="w">       </span><span class="s2">"      &lt;th&gt;pay_charge_ind_6m&lt;/th&gt;</span><span class="se">\n</span><span class="s2">"</span><span class="p">,</span></span>
<span id="LC1219" class="line"><span class="w">       </span><span class="s2">"      &lt;th&gt;charge_package_avg_6m&lt;/th&gt;</span><span class="se">\n</span><span class="s2">"</span><span class="p">,</span></span>
<span id="LC1220" class="line"><span class="w">       </span><span class="s2">"      &lt;th&gt;conf_call_charge_ind_6m&lt;/th&gt;</span><span class="se">\n</span><span class="s2">"</span><span class="p">,</span></span>
<span id="LC1221" class="line"><span class="w">       </span><span class="s2">"      &lt;th&gt;bl_charge_ind_6m&lt;/th&gt;</span><span class="se">\n</span><span class="s2">"</span><span class="p">,</span></span>
<span id="LC1222" class="line"><span class="w">       </span><span class="s2">"      &lt;th&gt;bal_charge_ind_6m&lt;/th&gt;</span><span class="se">\n</span><span class="s2">"</span><span class="p">,</span></span>
<span id="LC1223" class="line"><span class="w">       </span><span class="s2">"      &lt;th&gt;int_state_6m&lt;/th&gt;</span><span class="se">\n</span><span class="s2">"</span><span class="p">,</span></span>
<span id="LC1224" class="line"><span class="w">       </span><span class="s2">"      &lt;th&gt;cnt_roam_state_6m&lt;/th&gt;</span><span class="se">\n</span><span class="s2">"</span><span class="p">,</span></span>
<span id="LC1225" class="line"><span class="w">       </span><span class="s2">"      &lt;th&gt;roam_state_6m&lt;/th&gt;</span><span class="se">\n</span><span class="s2">"</span><span class="p">,</span></span>
<span id="LC1226" class="line"><span class="w">       </span><span class="s2">"      &lt;th&gt;payment_method_1m&lt;/th&gt;</span><span class="se">\n</span><span class="s2">"</span><span class="p">,</span></span>
<span id="LC1227" class="line"><span class="w">       </span><span class="s2">"      &lt;th&gt;equipment_type_1m&lt;/th&gt;</span><span class="se">\n</span><span class="s2">"</span><span class="p">,</span></span>
<span id="LC1228" class="line"><span class="w">       </span><span class="s2">"      &lt;th&gt;payment_method_6m&lt;/th&gt;</span><span class="se">\n</span><span class="s2">"</span><span class="p">,</span></span>
<span id="LC1229" class="line"><span class="w">       </span><span class="s2">"      &lt;th&gt;equipment_type_6m&lt;/th&gt;</span><span class="se">\n</span><span class="s2">"</span><span class="p">,</span></span>
<span id="LC1230" class="line"><span class="w">       </span><span class="s2">"      &lt;th&gt;direct_number&lt;/th&gt;</span><span class="se">\n</span><span class="s2">"</span><span class="p">,</span></span>
<span id="LC1231" class="line"><span class="w">       </span><span class="s2">"      &lt;th&gt;cnt_pp_change_1m&lt;/th&gt;</span><span class="se">\n</span><span class="s2">"</span><span class="p">,</span></span>
<span id="LC1232" class="line"><span class="w">       </span><span class="s2">"      &lt;th&gt;cnt_block_1m&lt;/th&gt;</span><span class="se">\n</span><span class="s2">"</span><span class="p">,</span></span>
<span id="LC1233" class="line"><span class="w">       </span><span class="s2">"      &lt;th&gt;cnt_mou_bel_out&lt;/th&gt;</span><span class="se">\n</span><span class="s2">"</span><span class="p">,</span></span>
<span id="LC1234" class="line"><span class="w">       </span><span class="s2">"      &lt;th&gt;cnt_mou_eur_out&lt;/th&gt;</span><span class="se">\n</span><span class="s2">"</span><span class="p">,</span></span>
<span id="LC1235" class="line"><span class="w">       </span><span class="s2">"      &lt;th&gt;cnt_mou_cis_out&lt;/th&gt;</span><span class="se">\n</span><span class="s2">"</span><span class="p">,</span></span>
<span id="LC1236" class="line"><span class="w">       </span><span class="s2">"      &lt;th&gt;cnt_mou_ukr_out&lt;/th&gt;</span><span class="se">\n</span><span class="s2">"</span><span class="p">,</span></span>
<span id="LC1237" class="line"><span class="w">       </span><span class="s2">"    &lt;/tr&gt;</span><span class="se">\n</span><span class="s2">"</span><span class="p">,</span></span>
<span id="LC1238" class="line"><span class="w">       </span><span class="s2">"  &lt;/thead&gt;</span><span class="se">\n</span><span class="s2">"</span><span class="p">,</span></span>
<span id="LC1239" class="line"><span class="w">       </span><span class="s2">"  &lt;tbody&gt;</span><span class="se">\n</span><span class="s2">"</span><span class="p">,</span></span>
<span id="LC1240" class="line"><span class="w">       </span><span class="s2">"    &lt;tr&gt;</span><span class="se">\n</span><span class="s2">"</span><span class="p">,</span></span>
<span id="LC1241" class="line"><span class="w">       </span><span class="s2">"      &lt;th&gt;0&lt;/th&gt;</span><span class="se">\n</span><span class="s2">"</span><span class="p">,</span></span>
<span id="LC1242" class="line"><span class="w">       </span><span class="s2">"      &lt;td&gt;count&lt;/td&gt;</span><span class="se">\n</span><span class="s2">"</span><span class="p">,</span></span>
<span id="LC1243" class="line"><span class="w">       </span><span class="s2">"      &lt;td&gt;50582892&lt;/td&gt;</span><span class="se">\n</span><span class="s2">"</span><span class="p">,</span></span>
<span id="LC1244" class="line"><span class="w">       </span><span class="s2">"      &lt;td&gt;50582892&lt;/td&gt;</span><span class="se">\n</span><span class="s2">"</span><span class="p">,</span></span>
<span id="LC1245" class="line"><span class="w">       </span><span class="s2">"      &lt;td&gt;50582892&lt;/td&gt;</span><span class="se">\n</span><span class="s2">"</span><span class="p">,</span></span>
<span id="LC1246" class="line"><span class="w">       </span><span class="s2">"      &lt;td&gt;50582892&lt;/td&gt;</span><span class="se">\n</span><span class="s2">"</span><span class="p">,</span></span>
<span id="LC1247" class="line"><span class="w">       </span><span class="s2">"      &lt;td&gt;50582892&lt;/td&gt;</span><span class="se">\n</span><span class="s2">"</span><span class="p">,</span></span>
<span id="LC1248" class="line"><span class="w">       </span><span class="s2">"      &lt;td&gt;50582892&lt;/td&gt;</span><span class="se">\n</span><span class="s2">"</span><span class="p">,</span></span>
<span id="LC1249" class="line"><span class="w">       </span><span class="s2">"      &lt;td&gt;50582892&lt;/td&gt;</span><span class="se">\n</span><span class="s2">"</span><span class="p">,</span></span>
<span id="LC1250" class="line"><span class="w">       </span><span class="s2">"      &lt;td&gt;50582892&lt;/td&gt;</span><span class="se">\n</span><span class="s2">"</span><span class="p">,</span></span>
<span id="LC1251" class="line"><span class="w">       </span><span class="s2">"      &lt;td&gt;50582892&lt;/td&gt;</span><span class="se">\n</span><span class="s2">"</span><span class="p">,</span></span>
<span id="LC1252" class="line"><span class="w">       </span><span class="s2">"      &lt;td&gt;50582892&lt;/td&gt;</span><span class="se">\n</span><span class="s2">"</span><span class="p">,</span></span>
<span id="LC1253" class="line"><span class="w">       </span><span class="s2">"      &lt;td&gt;50582892&lt;/td&gt;</span><span class="se">\n</span><span class="s2">"</span><span class="p">,</span></span>
<span id="LC1254" class="line"><span class="w">       </span><span class="s2">"      &lt;td&gt;50582892&lt;/td&gt;</span><span class="se">\n</span><span class="s2">"</span><span class="p">,</span></span>
<span id="LC1255" class="line"><span class="w">       </span><span class="s2">"      &lt;td&gt;50582892&lt;/td&gt;</span><span class="se">\n</span><span class="s2">"</span><span class="p">,</span></span>
<span id="LC1256" class="line"><span class="w">       </span><span class="s2">"      &lt;td&gt;50582892&lt;/td&gt;</span><span class="se">\n</span><span class="s2">"</span><span class="p">,</span></span>
<span id="LC1257" class="line"><span class="w">       </span><span class="s2">"      &lt;td&gt;50582892&lt;/td&gt;</span><span class="se">\n</span><span class="s2">"</span><span class="p">,</span></span>
<span id="LC1258" class="line"><span class="w">       </span><span class="s2">"      &lt;td&gt;50582892&lt;/td&gt;</span><span class="se">\n</span><span class="s2">"</span><span class="p">,</span></span>
<span id="LC1259" class="line"><span class="w">       </span><span class="s2">"      &lt;td&gt;50582892&lt;/td&gt;</span><span class="se">\n</span><span class="s2">"</span><span class="p">,</span></span>
<span id="LC1260" class="line"><span class="w">       </span><span class="s2">"      &lt;td&gt;50582892&lt;/td&gt;</span><span class="se">\n</span><span class="s2">"</span><span class="p">,</span></span>
<span id="LC1261" class="line"><span class="w">       </span><span class="s2">"      &lt;td&gt;50582892&lt;/td&gt;</span><span class="se">\n</span><span class="s2">"</span><span class="p">,</span></span>
<span id="LC1262" class="line"><span class="w">       </span><span class="s2">"      &lt;td&gt;50582892&lt;/td&gt;</span><span class="se">\n</span><span class="s2">"</span><span class="p">,</span></span>
<span id="LC1263" class="line"><span class="w">       </span><span class="s2">"      &lt;td&gt;50582892&lt;/td&gt;</span><span class="se">\n</span><span class="s2">"</span><span class="p">,</span></span>
<span id="LC1264" class="line"><span class="w">       </span><span class="s2">"      &lt;td&gt;50582892&lt;/td&gt;</span><span class="se">\n</span><span class="s2">"</span><span class="p">,</span></span>
<span id="LC1265" class="line"><span class="w">       </span><span class="s2">"      &lt;td&gt;50582892&lt;/td&gt;</span><span class="se">\n</span><span class="s2">"</span><span class="p">,</span></span>
<span id="LC1266" class="line"><span class="w">       </span><span class="s2">"      &lt;td&gt;50582892&lt;/td&gt;</span><span class="se">\n</span><span class="s2">"</span><span class="p">,</span></span>
<span id="LC1267" class="line"><span class="w">       </span><span class="s2">"      &lt;td&gt;50582892&lt;/td&gt;</span><span class="se">\n</span><span class="s2">"</span><span class="p">,</span></span>
<span id="LC1268" class="line"><span class="w">       </span><span class="s2">"      &lt;td&gt;50582892&lt;/td&gt;</span><span class="se">\n</span><span class="s2">"</span><span class="p">,</span></span>
<span id="LC1269" class="line"><span class="w">       </span><span class="s2">"      &lt;td&gt;50582892&lt;/td&gt;</span><span class="se">\n</span><span class="s2">"</span><span class="p">,</span></span>
<span id="LC1270" class="line"><span class="w">       </span><span class="s2">"      &lt;td&gt;50582892&lt;/td&gt;</span><span class="se">\n</span><span class="s2">"</span><span class="p">,</span></span>
<span id="LC1271" class="line"><span class="w">       </span><span class="s2">"      &lt;td&gt;50582892&lt;/td&gt;</span><span class="se">\n</span><span class="s2">"</span><span class="p">,</span></span>
<span id="LC1272" class="line"><span class="w">       </span><span class="s2">"      &lt;td&gt;50582892&lt;/td&gt;</span><span class="se">\n</span><span class="s2">"</span><span class="p">,</span></span>
<span id="LC1273" class="line"><span class="w">       </span><span class="s2">"      &lt;td&gt;50582892&lt;/td&gt;</span><span class="se">\n</span><span class="s2">"</span><span class="p">,</span></span>
<span id="LC1274" class="line"><span class="w">       </span><span class="s2">"      &lt;td&gt;50582892&lt;/td&gt;</span><span class="se">\n</span><span class="s2">"</span><span class="p">,</span></span>
<span id="LC1275" class="line"><span class="w">       </span><span class="s2">"      &lt;td&gt;50582892&lt;/td&gt;</span><span class="se">\n</span><span class="s2">"</span><span class="p">,</span></span>
<span id="LC1276" class="line"><span class="w">       </span><span class="s2">"      &lt;td&gt;50582892&lt;/td&gt;</span><span class="se">\n</span><span class="s2">"</span><span class="p">,</span></span>
<span id="LC1277" class="line"><span class="w">       </span><span class="s2">"      &lt;td&gt;50582892&lt;/td&gt;</span><span class="se">\n</span><span class="s2">"</span><span class="p">,</span></span>
<span id="LC1278" class="line"><span class="w">       </span><span class="s2">"      &lt;td&gt;50582892&lt;/td&gt;</span><span class="se">\n</span><span class="s2">"</span><span class="p">,</span></span>
<span id="LC1279" class="line"><span class="w">       </span><span class="s2">"      &lt;td&gt;50582892&lt;/td&gt;</span><span class="se">\n</span><span class="s2">"</span><span class="p">,</span></span>
<span id="LC1280" class="line"><span class="w">       </span><span class="s2">"      &lt;td&gt;50582892&lt;/td&gt;</span><span class="se">\n</span><span class="s2">"</span><span class="p">,</span></span>
<span id="LC1281" class="line"><span class="w">       </span><span class="s2">"      &lt;td&gt;50582892&lt;/td&gt;</span><span class="se">\n</span><span class="s2">"</span><span class="p">,</span></span>
<span id="LC1282" class="line"><span class="w">       </span><span class="s2">"      &lt;td&gt;50582892&lt;/td&gt;</span><span class="se">\n</span><span class="s2">"</span><span class="p">,</span></span>
<span id="LC1283" class="line"><span class="w">       </span><span class="s2">"      &lt;td&gt;50582892&lt;/td&gt;</span><span class="se">\n</span><span class="s2">"</span><span class="p">,</span></span>
<span id="LC1284" class="line"><span class="w">       </span><span class="s2">"      &lt;td&gt;50582892&lt;/td&gt;</span><span class="se">\n</span><span class="s2">"</span><span class="p">,</span></span>
<span id="LC1285" class="line"><span class="w">       </span><span class="s2">"      &lt;td&gt;50582892&lt;/td&gt;</span><span class="se">\n</span><span class="s2">"</span><span class="p">,</span></span>
<span id="LC1286" class="line"><span class="w">       </span><span class="s2">"      &lt;td&gt;50582892&lt;/td&gt;</span><span class="se">\n</span><span class="s2">"</span><span class="p">,</span></span>
<span id="LC1287" class="line"><span class="w">       </span><span class="s2">"      &lt;td&gt;50582892&lt;/td&gt;</span><span class="se">\n</span><span class="s2">"</span><span class="p">,</span></span>
<span id="LC1288" class="line"><span class="w">       </span><span class="s2">"      &lt;td&gt;50582892&lt;/td&gt;</span><span class="se">\n</span><span class="s2">"</span><span class="p">,</span></span>
<span id="LC1289" class="line"><span class="w">       </span><span class="s2">"      &lt;td&gt;50582892&lt;/td&gt;</span><span class="se">\n</span><span class="s2">"</span><span class="p">,</span></span>
<span id="LC1290" class="line"><span class="w">       </span><span class="s2">"      &lt;td&gt;50582892&lt;/td&gt;</span><span class="se">\n</span><span class="s2">"</span><span class="p">,</span></span>
<span id="LC1291" class="line"><span class="w">       </span><span class="s2">"      &lt;td&gt;50582892&lt;/td&gt;</span><span class="se">\n</span><span class="s2">"</span><span class="p">,</span></span>
<span id="LC1292" class="line"><span class="w">       </span><span class="s2">"      &lt;td&gt;50582892&lt;/td&gt;</span><span class="se">\n</span><span class="s2">"</span><span class="p">,</span></span>
<span id="LC1293" class="line"><span class="w">       </span><span class="s2">"      &lt;td&gt;50582892&lt;/td&gt;</span><span class="se">\n</span><span class="s2">"</span><span class="p">,</span></span>
<span id="LC1294" class="line"><span class="w">       </span><span class="s2">"      &lt;td&gt;50582892&lt;/td&gt;</span><span class="se">\n</span><span class="s2">"</span><span class="p">,</span></span>
<span id="LC1295" class="line"><span class="w">       </span><span class="s2">"      &lt;td&gt;50582892&lt;/td&gt;</span><span class="se">\n</span><span class="s2">"</span><span class="p">,</span></span>
<span id="LC1296" class="line"><span class="w">       </span><span class="s2">"      &lt;td&gt;50582892&lt;/td&gt;</span><span class="se">\n</span><span class="s2">"</span><span class="p">,</span></span>
<span id="LC1297" class="line"><span class="w">       </span><span class="s2">"      &lt;td&gt;50582892&lt;/td&gt;</span><span class="se">\n</span><span class="s2">"</span><span class="p">,</span></span>
<span id="LC1298" class="line"><span class="w">       </span><span class="s2">"      &lt;td&gt;50582892&lt;/td&gt;</span><span class="se">\n</span><span class="s2">"</span><span class="p">,</span></span>
<span id="LC1299" class="line"><span class="w">       </span><span class="s2">"    &lt;/tr&gt;</span><span class="se">\n</span><span class="s2">"</span><span class="p">,</span></span>
<span id="LC1300" class="line"><span class="w">       </span><span class="s2">"    &lt;tr&gt;</span><span class="se">\n</span><span class="s2">"</span><span class="p">,</span></span>
<span id="LC1301" class="line"><span class="w">       </span><span class="s2">"      &lt;th&gt;1&lt;/th&gt;</span><span class="se">\n</span><span class="s2">"</span><span class="p">,</span></span>
<span id="LC1302" class="line"><span class="w">       </span><span class="s2">"      &lt;td&gt;mean&lt;/td&gt;</span><span class="se">\n</span><span class="s2">"</span><span class="p">,</span></span>
<span id="LC1303" class="line"><span class="w">       </span><span class="s2">"      &lt;td&gt;2.839635682244162&lt;/td&gt;</span><span class="se">\n</span><span class="s2">"</span><span class="p">,</span></span>
<span id="LC1304" class="line"><span class="w">       </span><span class="s2">"      &lt;td&gt;4.367013416785318&lt;/td&gt;</span><span class="se">\n</span><span class="s2">"</span><span class="p">,</span></span>
<span id="LC1305" class="line"><span class="w">       </span><span class="s2">"      &lt;td&gt;7.547871794422115&lt;/td&gt;</span><span class="se">\n</span><span class="s2">"</span><span class="p">,</span></span>
<span id="LC1306" class="line"><span class="w">       </span><span class="s2">"      &lt;td&gt;11.920980140003062&lt;/td&gt;</span><span class="se">\n</span><span class="s2">"</span><span class="p">,</span></span>
<span id="LC1307" class="line"><span class="w">       </span><span class="s2">"      &lt;td&gt;0.057701963612520474&lt;/td&gt;</span><span class="se">\n</span><span class="s2">"</span><span class="p">,</span></span>
<span id="LC1308" class="line"><span class="w">       </span><span class="s2">"      &lt;td&gt;0.12004989750289485&lt;/td&gt;</span><span class="se">\n</span><span class="s2">"</span><span class="p">,</span></span>
<span id="LC1309" class="line"><span class="w">       </span><span class="s2">"      &lt;td&gt;84.80526871458028&lt;/td&gt;</span><span class="se">\n</span><span class="s2">"</span><span class="p">,</span></span>
<span id="LC1310" class="line"><span class="w">       </span><span class="s2">"      &lt;td&gt;91.57654609789566&lt;/td&gt;</span><span class="se">\n</span><span class="s2">"</span><span class="p">,</span></span>
<span id="LC1311" class="line"><span class="w">       </span><span class="s2">"      &lt;td&gt;80.52409834649164&lt;/td&gt;</span><span class="se">\n</span><span class="s2">"</span><span class="p">,</span></span>
<span id="LC1312" class="line"><span class="w">       </span><span class="s2">"      &lt;td&gt;129.96035649039968&lt;/td&gt;</span><span class="se">\n</span><span class="s2">"</span><span class="p">,</span></span>
<span id="LC1313" class="line"><span class="w">       </span><span class="s2">"      &lt;td&gt;147.41485966673454&lt;/td&gt;</span><span class="se">\n</span><span class="s2">"</span><span class="p">,</span></span>
<span id="LC1314" class="line"><span class="w">       </span><span class="s2">"      &lt;td&gt;21.864382686569247&lt;/td&gt;</span><span class="se">\n</span><span class="s2">"</span><span class="p">,</span></span>
<span id="LC1315" class="line"><span class="w">       </span><span class="s2">"      &lt;td&gt;0.10447228241714614&lt;/td&gt;</span><span class="se">\n</span><span class="s2">"</span><span class="p">,</span></span>
<span id="LC1316" class="line"><span class="w">       </span><span class="s2">"      &lt;td&gt;9.020038058436576&lt;/td&gt;</span><span class="se">\n</span><span class="s2">"</span><span class="p">,</span></span>
<span id="LC1317" class="line"><span class="w">       </span><span class="s2">"      &lt;td&gt;268.4836482189032&lt;/td&gt;</span><span class="se">\n</span><span class="s2">"</span><span class="p">,</span></span>
<span id="LC1318" class="line"><span class="w">       </span><span class="s2">"      &lt;td&gt;72.91586545570965&lt;/td&gt;</span><span class="se">\n</span><span class="s2">"</span><span class="p">,</span></span>
<span id="LC1319" class="line"><span class="w">       </span><span class="s2">"      &lt;td&gt;3.8465851199473&lt;/td&gt;</span><span class="se">\n</span><span class="s2">"</span><span class="p">,</span></span>
<span id="LC1320" class="line"><span class="w">       </span><span class="s2">"      &lt;td&gt;5.037115736101086&lt;/td&gt;</span><span class="se">\n</span><span class="s2">"</span><span class="p">,</span></span>
<span id="LC1321" class="line"><span class="w">       </span><span class="s2">"      &lt;td&gt;0.0&lt;/td&gt;</span><span class="se">\n</span><span class="s2">"</span><span class="p">,</span></span>
<span id="LC1322" class="line"><span class="w">       </span><span class="s2">"      &lt;td&gt;0.3122747311482309&lt;/td&gt;</span><span class="se">\n</span><span class="s2">"</span><span class="p">,</span></span>
<span id="LC1323" class="line"><span class="w">       </span><span class="s2">"      &lt;td&gt;9.620706186589731E-4&lt;/td&gt;</span><span class="se">\n</span><span class="s2">"</span><span class="p">,</span></span>
<span id="LC1324" class="line"><span class="w">       </span><span class="s2">"      &lt;td&gt;0.40120765404637265&lt;/td&gt;</span><span class="se">\n</span><span class="s2">"</span><span class="p">,</span></span>
<span id="LC1325" class="line"><span class="w">       </span><span class="s2">"      &lt;td&gt;0.05275437790310605&lt;/td&gt;</span><span class="se">\n</span><span class="s2">"</span><span class="p">,</span></span>
<span id="LC1326" class="line"><span class="w">       </span><span class="s2">"      &lt;td&gt;2.4638882055221356&lt;/td&gt;</span><span class="se">\n</span><span class="s2">"</span><span class="p">,</span></span>
<span id="LC1327" class="line"><span class="w">       </span><span class="s2">"      &lt;td&gt;0.05173811122740857&lt;/td&gt;</span><span class="se">\n</span><span class="s2">"</span><span class="p">,</span></span>
<span id="LC1328" class="line"><span class="w">       </span><span class="s2">"      &lt;td&gt;5.822954073088585&lt;/td&gt;</span><span class="se">\n</span><span class="s2">"</span><span class="p">,</span></span>
<span id="LC1329" class="line"><span class="w">       </span><span class="s2">"      &lt;td&gt;5.764094042007356&lt;/td&gt;</span><span class="se">\n</span><span class="s2">"</span><span class="p">,</span></span>
<span id="LC1330" class="line"><span class="w">       </span><span class="s2">"      &lt;td&gt;7.43947182774761E-4&lt;/td&gt;</span><span class="se">\n</span><span class="s2">"</span><span class="p">,</span></span>
<span id="LC1331" class="line"><span class="w">       </span><span class="s2">"      &lt;td&gt;0.002357931610553228&lt;/td&gt;</span><span class="se">\n</span><span class="s2">"</span><span class="p">,</span></span>
<span id="LC1332" class="line"><span class="w">       </span><span class="s2">"      &lt;td&gt;6.417189432347996E-5&lt;/td&gt;</span><span class="se">\n</span><span class="s2">"</span><span class="p">,</span></span>
<span id="LC1333" class="line"><span class="w">       </span><span class="s2">"      &lt;td&gt;0.10661430746189839&lt;/td&gt;</span><span class="se">\n</span><span class="s2">"</span><span class="p">,</span></span>
<span id="LC1334" class="line"><span class="w">       </span><span class="s2">"      &lt;td&gt;0.46468964249809996&lt;/td&gt;</span><span class="se">\n</span><span class="s2">"</span><span class="p">,</span></span>
<span id="LC1335" class="line"><span class="w">       </span><span class="s2">"      &lt;td&gt;112.85292348470024&lt;/td&gt;</span><span class="se">\n</span><span class="s2">"</span><span class="p">,</span></span>
<span id="LC1336" class="line"><span class="w">       </span><span class="s2">"      &lt;td&gt;7.823077237260368E-4&lt;/td&gt;</span><span class="se">\n</span><span class="s2">"</span><span class="p">,</span></span>
<span id="LC1337" class="line"><span class="w">       </span><span class="s2">"      &lt;td&gt;0.002292391004452653&lt;/td&gt;</span><span class="se">\n</span><span class="s2">"</span><span class="p">,</span></span>
<span id="LC1338" class="line"><span class="w">       </span><span class="s2">"      &lt;td&gt;8.907336100909394E-5&lt;/td&gt;</span><span class="se">\n</span><span class="s2">"</span><span class="p">,</span></span>
<span id="LC1339" class="line"><span class="w">       </span><span class="s2">"      &lt;td&gt;0.09874221187669475&lt;/td&gt;</span><span class="se">\n</span><span class="s2">"</span><span class="p">,</span></span>
<span id="LC1340" class="line"><span class="w">       </span><span class="s2">"      &lt;td&gt;0.17338988842314512&lt;/td&gt;</span><span class="se">\n</span><span class="s2">"</span><span class="p">,</span></span>
<span id="LC1341" class="line"><span class="w">       </span><span class="s2">"      &lt;td&gt;106.2697008665225&lt;/td&gt;</span><span class="se">\n</span><span class="s2">"</span><span class="p">,</span></span>
<span id="LC1342" class="line"><span class="w">       </span><span class="s2">"      &lt;td&gt;0.0011803793266703692&lt;/td&gt;</span><span class="se">\n</span><span class="s2">"</span><span class="p">,</span></span>
<span id="LC1343" class="line"><span class="w">       </span><span class="s2">"      &lt;td&gt;0.0032798836412912097&lt;/td&gt;</span><span class="se">\n</span><span class="s2">"</span><span class="p">,</span></span>
<span id="LC1344" class="line"><span class="w">       </span><span class="s2">"      &lt;td&gt;2.558967960946163E-4&lt;/td&gt;</span><span class="se">\n</span><span class="s2">"</span><span class="p">,</span></span>
<span id="LC1345" class="line"><span class="w">       </span><span class="s2">"      &lt;td&gt;None&lt;/td&gt;</span><span class="se">\n</span><span class="s2">"</span><span class="p">,</span></span>
<span id="LC1346" class="line"><span class="w">       </span><span class="s2">"      &lt;td&gt;0.08659868637008734&lt;/td&gt;</span><span class="se">\n</span><span class="s2">"</span><span class="p">,</span></span>
<span id="LC1347" class="line"><span class="w">       </span><span class="s2">"      &lt;td&gt;None&lt;/td&gt;</span><span class="se">\n</span><span class="s2">"</span><span class="p">,</span></span>
<span id="LC1348" class="line"><span class="w">       </span><span class="s2">"      &lt;td&gt;None&lt;/td&gt;</span><span class="se">\n</span><span class="s2">"</span><span class="p">,</span></span>
<span id="LC1349" class="line"><span class="w">       </span><span class="s2">"      &lt;td&gt;None&lt;/td&gt;</span><span class="se">\n</span><span class="s2">"</span><span class="p">,</span></span>
<span id="LC1350" class="line"><span class="w">       </span><span class="s2">"      &lt;td&gt;None&lt;/td&gt;</span><span class="se">\n</span><span class="s2">"</span><span class="p">,</span></span>
<span id="LC1351" class="line"><span class="w">       </span><span class="s2">"      &lt;td&gt;None&lt;/td&gt;</span><span class="se">\n</span><span class="s2">"</span><span class="p">,</span></span>
<span id="LC1352" class="line"><span class="w">       </span><span class="s2">"      &lt;td&gt;5.820486538020696E9&lt;/td&gt;</span><span class="se">\n</span><span class="s2">"</span><span class="p">,</span></span>
<span id="LC1353" class="line"><span class="w">       </span><span class="s2">"      &lt;td&gt;0.10007308399843963&lt;/td&gt;</span><span class="se">\n</span><span class="s2">"</span><span class="p">,</span></span>
<span id="LC1354" class="line"><span class="w">       </span><span class="s2">"      &lt;td&gt;0.4569827086992179&lt;/td&gt;</span><span class="se">\n</span><span class="s2">"</span><span class="p">,</span></span>
<span id="LC1355" class="line"><span class="w">       </span><span class="s2">"      &lt;td&gt;0.016112423939698823&lt;/td&gt;</span><span class="se">\n</span><span class="s2">"</span><span class="p">,</span></span>
<span id="LC1356" class="line"><span class="w">       </span><span class="s2">"      &lt;td&gt;0.02075047429079381&lt;/td&gt;</span><span class="se">\n</span><span class="s2">"</span><span class="p">,</span></span>
<span id="LC1357" class="line"><span class="w">       </span><span class="s2">"      &lt;td&gt;1.2708756351851136&lt;/td&gt;</span><span class="se">\n</span><span class="s2">"</span><span class="p">,</span></span>
<span id="LC1358" class="line"><span class="w">       </span><span class="s2">"      &lt;td&gt;0.16993053698867197&lt;/td&gt;</span><span class="se">\n</span><span class="s2">"</span><span class="p">,</span></span>
<span id="LC1359" class="line"><span class="w">       </span><span class="s2">"    &lt;/tr&gt;</span><span class="se">\n</span><span class="s2">"</span><span class="p">,</span></span>
<span id="LC1360" class="line"><span class="w">       </span><span class="s2">"    &lt;tr&gt;</span><span class="se">\n</span><span class="s2">"</span><span class="p">,</span></span>
<span id="LC1361" class="line"><span class="w">       </span><span class="s2">"      &lt;th&gt;2&lt;/th&gt;</span><span class="se">\n</span><span class="s2">"</span><span class="p">,</span></span>
<span id="LC1362" class="line"><span class="w">       </span><span class="s2">"      &lt;td&gt;stddev&lt;/td&gt;</span><span class="se">\n</span><span class="s2">"</span><span class="p">,</span></span>
<span id="LC1363" class="line"><span class="w">       </span><span class="s2">"      &lt;td&gt;12.502121728521443&lt;/td&gt;</span><span class="se">\n</span><span class="s2">"</span><span class="p">,</span></span>
<span id="LC1364" class="line"><span class="w">       </span><span class="s2">"      &lt;td&gt;66.48273519673052&lt;/td&gt;</span><span class="se">\n</span><span class="s2">"</span><span class="p">,</span></span>
<span id="LC1365" class="line"><span class="w">       </span><span class="s2">"      &lt;td&gt;217.9696861422826&lt;/td&gt;</span><span class="se">\n</span><span class="s2">"</span><span class="p">,</span></span>
<span id="LC1366" class="line"><span class="w">       </span><span class="s2">"      &lt;td&gt;102.09726869282355&lt;/td&gt;</span><span class="se">\n</span><span class="s2">"</span><span class="p">,</span></span>
<span id="LC1367" class="line"><span class="w">       </span><span class="s2">"      &lt;td&gt;0.18855902542076514&lt;/td&gt;</span><span class="se">\n</span><span class="s2">"</span><span class="p">,</span></span>
<span id="LC1368" class="line"><span class="w">       </span><span class="s2">"      &lt;td&gt;0.3250198789318146&lt;/td&gt;</span><span class="se">\n</span><span class="s2">"</span><span class="p">,</span></span>
<span id="LC1369" class="line"><span class="w">       </span><span class="s2">"      &lt;td&gt;399.5196737166439&lt;/td&gt;</span><span class="se">\n</span><span class="s2">"</span><span class="p">,</span></span>
<span id="LC1370" class="line"><span class="w">       </span><span class="s2">"      &lt;td&gt;472.8673665206855&lt;/td&gt;</span><span class="se">\n</span><span class="s2">"</span><span class="p">,</span></span>
<span id="LC1371" class="line"><span class="w">       </span><span class="s2">"      &lt;td&gt;542.4227811755355&lt;/td&gt;</span><span class="se">\n</span><span class="s2">"</span><span class="p">,</span></span>
<span id="LC1372" class="line"><span class="w">       </span><span class="s2">"      &lt;td&gt;7283.016304073316&lt;/td&gt;</span><span class="se">\n</span><span class="s2">"</span><span class="p">,</span></span>
<span id="LC1373" class="line"><span class="w">       </span><span class="s2">"      &lt;td&gt;233.80245027839638&lt;/td&gt;</span><span class="se">\n</span><span class="s2">"</span><span class="p">,</span></span>
<span id="LC1374" class="line"><span class="w">       </span><span class="s2">"      &lt;td&gt;85.63421728697082&lt;/td&gt;</span><span class="se">\n</span><span class="s2">"</span><span class="p">,</span></span>
<span id="LC1375" class="line"><span class="w">       </span><span class="s2">"      &lt;td&gt;3.142068035937087&lt;/td&gt;</span><span class="se">\n</span><span class="s2">"</span><span class="p">,</span></span>
<span id="LC1376" class="line"><span class="w">       </span><span class="s2">"      &lt;td&gt;56.45911084033706&lt;/td&gt;</span><span class="se">\n</span><span class="s2">"</span><span class="p">,</span></span>
<span id="LC1377" class="line"><span class="w">       </span><span class="s2">"      &lt;td&gt;4123.127402529566&lt;/td&gt;</span><span class="se">\n</span><span class="s2">"</span><span class="p">,</span></span>
<span id="LC1378" class="line"><span class="w">       </span><span class="s2">"      &lt;td&gt;545.823532122604&lt;/td&gt;</span><span class="se">\n</span><span class="s2">"</span><span class="p">,</span></span>
<span id="LC1379" class="line"><span class="w">       </span><span class="s2">"      &lt;td&gt;21.233114474772908&lt;/td&gt;</span><span class="se">\n</span><span class="s2">"</span><span class="p">,</span></span>
<span id="LC1380" class="line"><span class="w">       </span><span class="s2">"      &lt;td&gt;42.51771345910807&lt;/td&gt;</span><span class="se">\n</span><span class="s2">"</span><span class="p">,</span></span>
<span id="LC1381" class="line"><span class="w">       </span><span class="s2">"      &lt;td&gt;0.0&lt;/td&gt;</span><span class="se">\n</span><span class="s2">"</span><span class="p">,</span></span>
<span id="LC1382" class="line"><span class="w">       </span><span class="s2">"      &lt;td&gt;0.577024005385326&lt;/td&gt;</span><span class="se">\n</span><span class="s2">"</span><span class="p">,</span></span>
<span id="LC1383" class="line"><span class="w">       </span><span class="s2">"      &lt;td&gt;0.01920968107458769&lt;/td&gt;</span><span class="se">\n</span><span class="s2">"</span><span class="p">,</span></span>
<span id="LC1384" class="line"><span class="w">       </span><span class="s2">"      &lt;td&gt;0.680588940359332&lt;/td&gt;</span><span class="se">\n</span><span class="s2">"</span><span class="p">,</span></span>
<span id="LC1385" class="line"><span class="w">       </span><span class="s2">"      &lt;td&gt;0.22354273529478108&lt;/td&gt;</span><span class="se">\n</span><span class="s2">"</span><span class="p">,</span></span>
<span id="LC1386" class="line"><span class="w">       </span><span class="s2">"      &lt;td&gt;1.6844760264952048&lt;/td&gt;</span><span class="se">\n</span><span class="s2">"</span><span class="p">,</span></span>
<span id="LC1387" class="line"><span class="w">       </span><span class="s2">"      &lt;td&gt;0.219704709444235&lt;/td&gt;</span><span class="se">\n</span><span class="s2">"</span><span class="p">,</span></span>
<span id="LC1388" class="line"><span class="w">       </span><span class="s2">"      &lt;td&gt;10.269065712379499&lt;/td&gt;</span><span class="se">\n</span><span class="s2">"</span><span class="p">,</span></span>
<span id="LC1389" class="line"><span class="w">       </span><span class="s2">"      &lt;td&gt;9.129538433827975&lt;/td&gt;</span><span class="se">\n</span><span class="s2">"</span><span class="p">,</span></span>
<span id="LC1390" class="line"><span class="w">       </span><span class="s2">"      &lt;td&gt;0.027265247845206637&lt;/td&gt;</span><span class="se">\n</span><span class="s2">"</span><span class="p">,</span></span>
<span id="LC1391" class="line"><span class="w">       </span><span class="s2">"      &lt;td&gt;0.048501255814447426&lt;/td&gt;</span><span class="se">\n</span><span class="s2">"</span><span class="p">,</span></span>
<span id="LC1392" class="line"><span class="w">       </span><span class="s2">"      &lt;td&gt;0.008010479234104886&lt;/td&gt;</span><span class="se">\n</span><span class="s2">"</span><span class="p">,</span></span>
<span id="LC1393" class="line"><span class="w">       </span><span class="s2">"      &lt;td&gt;0.30862225906327695&lt;/td&gt;</span><span class="se">\n</span><span class="s2">"</span><span class="p">,</span></span>
<span id="LC1394" class="line"><span class="w">       </span><span class="s2">"      &lt;td&gt;0.4987516251310079&lt;/td&gt;</span><span class="se">\n</span><span class="s2">"</span><span class="p">,</span></span>
<span id="LC1395" class="line"><span class="w">       </span><span class="s2">"      &lt;td&gt;207.6118036571304&lt;/td&gt;</span><span class="se">\n</span><span class="s2">"</span><span class="p">,</span></span>
<span id="LC1396" class="line"><span class="w">       </span><span class="s2">"      &lt;td&gt;0.025510353544374906&lt;/td&gt;</span><span class="se">\n</span><span class="s2">"</span><span class="p">,</span></span>
<span id="LC1397" class="line"><span class="w">       </span><span class="s2">"      &lt;td&gt;0.04421211260053266&lt;/td&gt;</span><span class="se">\n</span><span class="s2">"</span><span class="p">,</span></span>
<span id="LC1398" class="line"><span class="w">       </span><span class="s2">"      &lt;td&gt;0.007270263017669836&lt;/td&gt;</span><span class="se">\n</span><span class="s2">"</span><span class="p">,</span></span>
<span id="LC1399" class="line"><span class="w">       </span><span class="s2">"      &lt;td&gt;0.252578165594959&lt;/td&gt;</span><span class="se">\n</span><span class="s2">"</span><span class="p">,</span></span>
<span id="LC1400" class="line"><span class="w">       </span><span class="s2">"      &lt;td&gt;0.37858399048195185&lt;/td&gt;</span><span class="se">\n</span><span class="s2">"</span><span class="p">,</span></span>
<span id="LC1401" class="line"><span class="w">       </span><span class="s2">"      &lt;td&gt;339.1966735288328&lt;/td&gt;</span><span class="se">\n</span><span class="s2">"</span><span class="p">,</span></span>
<span id="LC1402" class="line"><span class="w">       </span><span class="s2">"      &lt;td&gt;0.03433636635731183&lt;/td&gt;</span><span class="se">\n</span><span class="s2">"</span><span class="p">,</span></span>
<span id="LC1403" class="line"><span class="w">       </span><span class="s2">"      &lt;td&gt;0.05717627190732089&lt;/td&gt;</span><span class="se">\n</span><span class="s2">"</span><span class="p">,</span></span>
<span id="LC1404" class="line"><span class="w">       </span><span class="s2">"      &lt;td&gt;0.01599472781831655&lt;/td&gt;</span><span class="se">\n</span><span class="s2">"</span><span class="p">,</span></span>
<span id="LC1405" class="line"><span class="w">       </span><span class="s2">"      &lt;td&gt;None&lt;/td&gt;</span><span class="se">\n</span><span class="s2">"</span><span class="p">,</span></span>
<span id="LC1406" class="line"><span class="w">       </span><span class="s2">"      &lt;td&gt;0.45062482478677895&lt;/td&gt;</span><span class="se">\n</span><span class="s2">"</span><span class="p">,</span></span>
<span id="LC1407" class="line"><span class="w">       </span><span class="s2">"      &lt;td&gt;None&lt;/td&gt;</span><span class="se">\n</span><span class="s2">"</span><span class="p">,</span></span>
<span id="LC1408" class="line"><span class="w">       </span><span class="s2">"      &lt;td&gt;None&lt;/td&gt;</span><span class="se">\n</span><span class="s2">"</span><span class="p">,</span></span>
<span id="LC1409" class="line"><span class="w">       </span><span class="s2">"      &lt;td&gt;None&lt;/td&gt;</span><span class="se">\n</span><span class="s2">"</span><span class="p">,</span></span>
<span id="LC1410" class="line"><span class="w">       </span><span class="s2">"      &lt;td&gt;None&lt;/td&gt;</span><span class="se">\n</span><span class="s2">"</span><span class="p">,</span></span>
<span id="LC1411" class="line"><span class="w">       </span><span class="s2">"      &lt;td&gt;None&lt;/td&gt;</span><span class="se">\n</span><span class="s2">"</span><span class="p">,</span></span>
<span id="LC1412" class="line"><span class="w">       </span><span class="s2">"      &lt;td&gt;2.2897473541741366E9&lt;/td&gt;</span><span class="se">\n</span><span class="s2">"</span><span class="p">,</span></span>
<span id="LC1413" class="line"><span class="w">       </span><span class="s2">"      &lt;td&gt;0.31133131752336785&lt;/td&gt;</span><span class="se">\n</span><span class="s2">"</span><span class="p">,</span></span>
<span id="LC1414" class="line"><span class="w">       </span><span class="s2">"      &lt;td&gt;0.8807722589730066&lt;/td&gt;</span><span class="se">\n</span><span class="s2">"</span><span class="p">,</span></span>
<span id="LC1415" class="line"><span class="w">       </span><span class="s2">"      &lt;td&gt;0.6540530091834503&lt;/td&gt;</span><span class="se">\n</span><span class="s2">"</span><span class="p">,</span></span>
<span id="LC1416" class="line"><span class="w">       </span><span class="s2">"      &lt;td&gt;1.4618008039308987&lt;/td&gt;</span><span class="se">\n</span><span class="s2">"</span><span class="p">,</span></span>
<span id="LC1417" class="line"><span class="w">       </span><span class="s2">"      &lt;td&gt;10.178258542223247&lt;/td&gt;</span><span class="se">\n</span><span class="s2">"</span><span class="p">,</span></span>
<span id="LC1418" class="line"><span class="w">       </span><span class="s2">"      &lt;td&gt;3.3824918989346044&lt;/td&gt;</span><span class="se">\n</span><span class="s2">"</span><span class="p">,</span></span>
<span id="LC1419" class="line"><span class="w">       </span><span class="s2">"    &lt;/tr&gt;</span><span class="se">\n</span><span class="s2">"</span><span class="p">,</span></span>
<span id="LC1420" class="line"><span class="w">       </span><span class="s2">"    &lt;tr&gt;</span><span class="se">\n</span><span class="s2">"</span><span class="p">,</span></span>
<span id="LC1421" class="line"><span class="w">       </span><span class="s2">"      &lt;th&gt;3&lt;/th&gt;</span><span class="se">\n</span><span class="s2">"</span><span class="p">,</span></span>
<span id="LC1422" class="line"><span class="w">       </span><span class="s2">"      &lt;td&gt;min&lt;/td&gt;</span><span class="se">\n</span><span class="s2">"</span><span class="p">,</span></span>
<span id="LC1423" class="line"><span class="w">       </span><span class="s2">"      &lt;td&gt;0.0&lt;/td&gt;</span><span class="se">\n</span><span class="s2">"</span><span class="p">,</span></span>
<span id="LC1424" class="line"><span class="w">       </span><span class="s2">"      &lt;td&gt;0.0&lt;/td&gt;</span><span class="se">\n</span><span class="s2">"</span><span class="p">,</span></span>
<span id="LC1425" class="line"><span class="w">       </span><span class="s2">"      &lt;td&gt;0.0&lt;/td&gt;</span><span class="se">\n</span><span class="s2">"</span><span class="p">,</span></span>
<span id="LC1426" class="line"><span class="w">       </span><span class="s2">"      &lt;td&gt;-0.036&lt;/td&gt;</span><span class="se">\n</span><span class="s2">"</span><span class="p">,</span></span>
<span id="LC1427" class="line"><span class="w">       </span><span class="s2">"      &lt;td&gt;0.0&lt;/td&gt;</span><span class="se">\n</span><span class="s2">"</span><span class="p">,</span></span>
<span id="LC1428" class="line"><span class="w">       </span><span class="s2">"      &lt;td&gt;0&lt;/td&gt;</span><span class="se">\n</span><span class="s2">"</span><span class="p">,</span></span>
<span id="LC1429" class="line"><span class="w">       </span><span class="s2">"      &lt;td&gt;0.0&lt;/td&gt;</span><span class="se">\n</span><span class="s2">"</span><span class="p">,</span></span>
<span id="LC1430" class="line"><span class="w">       </span><span class="s2">"      &lt;td&gt;0.0&lt;/td&gt;</span><span class="se">\n</span><span class="s2">"</span><span class="p">,</span></span>
<span id="LC1431" class="line"><span class="w">       </span><span class="s2">"      &lt;td&gt;-42.387&lt;/td&gt;</span><span class="se">\n</span><span class="s2">"</span><span class="p">,</span></span>
<span id="LC1432" class="line"><span class="w">       </span><span class="s2">"      &lt;td&gt;-252.1582&lt;/td&gt;</span><span class="se">\n</span><span class="s2">"</span><span class="p">,</span></span>
<span id="LC1433" class="line"><span class="w">       </span><span class="s2">"      &lt;td&gt;-136400.3&lt;/td&gt;</span><span class="se">\n</span><span class="s2">"</span><span class="p">,</span></span>
<span id="LC1434" class="line"><span class="w">       </span><span class="s2">"      &lt;td&gt;-10911.3444&lt;/td&gt;</span><span class="se">\n</span><span class="s2">"</span><span class="p">,</span></span>
<span id="LC1435" class="line"><span class="w">       </span><span class="s2">"      &lt;td&gt;0.0&lt;/td&gt;</span><span class="se">\n</span><span class="s2">"</span><span class="p">,</span></span>
<span id="LC1436" class="line"><span class="w">       </span><span class="s2">"      &lt;td&gt;0.0&lt;/td&gt;</span><span class="se">\n</span><span class="s2">"</span><span class="p">,</span></span>
<span id="LC1437" class="line"><span class="w">       </span><span class="s2">"      &lt;td&gt;-141649.0433&lt;/td&gt;</span><span class="se">\n</span><span class="s2">"</span><span class="p">,</span></span>
<span id="LC1438" class="line"><span class="w">       </span><span class="s2">"      &lt;td&gt;-224292.7&lt;/td&gt;</span><span class="se">\n</span><span class="s2">"</span><span class="p">,</span></span>
<span id="LC1439" class="line"><span class="w">       </span><span class="s2">"      &lt;td&gt;0.0&lt;/td&gt;</span><span class="se">\n</span><span class="s2">"</span><span class="p">,</span></span>
<span id="LC1440" class="line"><span class="w">       </span><span class="s2">"      &lt;td&gt;0.0&lt;/td&gt;</span><span class="se">\n</span><span class="s2">"</span><span class="p">,</span></span>
<span id="LC1441" class="line"><span class="w">       </span><span class="s2">"      &lt;td&gt;0.0&lt;/td&gt;</span><span class="se">\n</span><span class="s2">"</span><span class="p">,</span></span>
<span id="LC1442" class="line"><span class="w">       </span><span class="s2">"      &lt;td&gt;0&lt;/td&gt;</span><span class="se">\n</span><span class="s2">"</span><span class="p">,</span></span>
<span id="LC1443" class="line"><span class="w">       </span><span class="s2">"      &lt;td&gt;0.0&lt;/td&gt;</span><span class="se">\n</span><span class="s2">"</span><span class="p">,</span></span>
<span id="LC1444" class="line"><span class="w">       </span><span class="s2">"      &lt;td&gt;0.0&lt;/td&gt;</span><span class="se">\n</span><span class="s2">"</span><span class="p">,</span></span>
<span id="LC1445" class="line"><span class="w">       </span><span class="s2">"      &lt;td&gt;0&lt;/td&gt;</span><span class="se">\n</span><span class="s2">"</span><span class="p">,</span></span>
<span id="LC1446" class="line"><span class="w">       </span><span class="s2">"      &lt;td&gt;0&lt;/td&gt;</span><span class="se">\n</span><span class="s2">"</span><span class="p">,</span></span>
<span id="LC1447" class="line"><span class="w">       </span><span class="s2">"      &lt;td&gt;0.0&lt;/td&gt;</span><span class="se">\n</span><span class="s2">"</span><span class="p">,</span></span>
<span id="LC1448" class="line"><span class="w">       </span><span class="s2">"      &lt;td&gt;0&lt;/td&gt;</span><span class="se">\n</span><span class="s2">"</span><span class="p">,</span></span>
<span id="LC1449" class="line"><span class="w">       </span><span class="s2">"      &lt;td&gt;0.0&lt;/td&gt;</span><span class="se">\n</span><span class="s2">"</span><span class="p">,</span></span>
<span id="LC1450" class="line"><span class="w">       </span><span class="s2">"      &lt;td&gt;0&lt;/td&gt;</span><span class="se">\n</span><span class="s2">"</span><span class="p">,</span></span>
<span id="LC1451" class="line"><span class="w">       </span><span class="s2">"      &lt;td&gt;0&lt;/td&gt;</span><span class="se">\n</span><span class="s2">"</span><span class="p">,</span></span>
<span id="LC1452" class="line"><span class="w">       </span><span class="s2">"      &lt;td&gt;0&lt;/td&gt;</span><span class="se">\n</span><span class="s2">"</span><span class="p">,</span></span>
<span id="LC1453" class="line"><span class="w">       </span><span class="s2">"      &lt;td&gt;0&lt;/td&gt;</span><span class="se">\n</span><span class="s2">"</span><span class="p">,</span></span>
<span id="LC1454" class="line"><span class="w">       </span><span class="s2">"      &lt;td&gt;0&lt;/td&gt;</span><span class="se">\n</span><span class="s2">"</span><span class="p">,</span></span>
<span id="LC1455" class="line"><span class="w">       </span><span class="s2">"      &lt;td&gt;-1115.3595&lt;/td&gt;</span><span class="se">\n</span><span class="s2">"</span><span class="p">,</span></span>
<span id="LC1456" class="line"><span class="w">       </span><span class="s2">"      &lt;td&gt;0.0&lt;/td&gt;</span><span class="se">\n</span><span class="s2">"</span><span class="p">,</span></span>
<span id="LC1457" class="line"><span class="w">       </span><span class="s2">"      &lt;td&gt;0.0&lt;/td&gt;</span><span class="se">\n</span><span class="s2">"</span><span class="p">,</span></span>
<span id="LC1458" class="line"><span class="w">       </span><span class="s2">"      &lt;td&gt;0.0&lt;/td&gt;</span><span class="se">\n</span><span class="s2">"</span><span class="p">,</span></span>
<span id="LC1459" class="line"><span class="w">       </span><span class="s2">"      &lt;td&gt;0.0&lt;/td&gt;</span><span class="se">\n</span><span class="s2">"</span><span class="p">,</span></span>
<span id="LC1460" class="line"><span class="w">       </span><span class="s2">"      &lt;td&gt;0&lt;/td&gt;</span><span class="se">\n</span><span class="s2">"</span><span class="p">,</span></span>
<span id="LC1461" class="line"><span class="w">       </span><span class="s2">"      &lt;td&gt;-174.5787&lt;/td&gt;</span><span class="se">\n</span><span class="s2">"</span><span class="p">,</span></span>
<span id="LC1462" class="line"><span class="w">       </span><span class="s2">"      &lt;td&gt;0&lt;/td&gt;</span><span class="se">\n</span><span class="s2">"</span><span class="p">,</span></span>
<span id="LC1463" class="line"><span class="w">       </span><span class="s2">"      &lt;td&gt;0&lt;/td&gt;</span><span class="se">\n</span><span class="s2">"</span><span class="p">,</span></span>
<span id="LC1464" class="line"><span class="w">       </span><span class="s2">"      &lt;td&gt;0&lt;/td&gt;</span><span class="se">\n</span><span class="s2">"</span><span class="p">,</span></span>
<span id="LC1465" class="line"><span class="w">       </span><span class="s2">"      &lt;td&gt;&lt;/td&gt;</span><span class="se">\n</span><span class="s2">"</span><span class="p">,</span></span>
<span id="LC1466" class="line"><span class="w">       </span><span class="s2">"      &lt;td&gt;0&lt;/td&gt;</span><span class="se">\n</span><span class="s2">"</span><span class="p">,</span></span>
<span id="LC1467" class="line"><span class="w">       </span><span class="s2">"      &lt;td&gt;&lt;/td&gt;</span><span class="se">\n</span><span class="s2">"</span><span class="p">,</span></span>
<span id="LC1468" class="line"><span class="w">       </span><span class="s2">"      &lt;td&gt;&lt;/td&gt;</span><span class="se">\n</span><span class="s2">"</span><span class="p">,</span></span>
<span id="LC1469" class="line"><span class="w">       </span><span class="s2">"      &lt;td&gt;&lt;/td&gt;</span><span class="se">\n</span><span class="s2">"</span><span class="p">,</span></span>
<span id="LC1470" class="line"><span class="w">       </span><span class="s2">"      &lt;td&gt;&lt;/td&gt;</span><span class="se">\n</span><span class="s2">"</span><span class="p">,</span></span>
<span id="LC1471" class="line"><span class="w">       </span><span class="s2">"      &lt;td&gt;&lt;/td&gt;</span><span class="se">\n</span><span class="s2">"</span><span class="p">,</span></span>
<span id="LC1472" class="line"><span class="w">       </span><span class="s2">"      &lt;td&gt;&lt;/td&gt;</span><span class="se">\n</span><span class="s2">"</span><span class="p">,</span></span>
<span id="LC1473" class="line"><span class="w">       </span><span class="s2">"      &lt;td&gt;0&lt;/td&gt;</span><span class="se">\n</span><span class="s2">"</span><span class="p">,</span></span>
<span id="LC1474" class="line"><span class="w">       </span><span class="s2">"      &lt;td&gt;0&lt;/td&gt;</span><span class="se">\n</span><span class="s2">"</span><span class="p">,</span></span>
<span id="LC1475" class="line"><span class="w">       </span><span class="s2">"      &lt;td&gt;0&lt;/td&gt;</span><span class="se">\n</span><span class="s2">"</span><span class="p">,</span></span>
<span id="LC1476" class="line"><span class="w">       </span><span class="s2">"      &lt;td&gt;0&lt;/td&gt;</span><span class="se">\n</span><span class="s2">"</span><span class="p">,</span></span>
<span id="LC1477" class="line"><span class="w">       </span><span class="s2">"      &lt;td&gt;0&lt;/td&gt;</span><span class="se">\n</span><span class="s2">"</span><span class="p">,</span></span>
<span id="LC1478" class="line"><span class="w">       </span><span class="s2">"      &lt;td&gt;0&lt;/td&gt;</span><span class="se">\n</span><span class="s2">"</span><span class="p">,</span></span>
<span id="LC1479" class="line"><span class="w">       </span><span class="s2">"    &lt;/tr&gt;</span><span class="se">\n</span><span class="s2">"</span><span class="p">,</span></span>
<span id="LC1480" class="line"><span class="w">       </span><span class="s2">"    &lt;tr&gt;</span><span class="se">\n</span><span class="s2">"</span><span class="p">,</span></span>
<span id="LC1481" class="line"><span class="w">       </span><span class="s2">"      &lt;th&gt;4&lt;/th&gt;</span><span class="se">\n</span><span class="s2">"</span><span class="p">,</span></span>
<span id="LC1482" class="line"><span class="w">       </span><span class="s2">"      &lt;td&gt;max&lt;/td&gt;</span><span class="se">\n</span><span class="s2">"</span><span class="p">,</span></span>
<span id="LC1483" class="line"><span class="w">       </span><span class="s2">"      &lt;td&gt;21216.25&lt;/td&gt;</span><span class="se">\n</span><span class="s2">"</span><span class="p">,</span></span>
<span id="LC1484" class="line"><span class="w">       </span><span class="s2">"      &lt;td&gt;232108.0&lt;/td&gt;</span><span class="se">\n</span><span class="s2">"</span><span class="p">,</span></span>
<span id="LC1485" class="line"><span class="w">       </span><span class="s2">"      &lt;td&gt;688133.83&lt;/td&gt;</span><span class="se">\n</span><span class="s2">"</span><span class="p">,</span></span>
<span id="LC1486" class="line"><span class="w">       </span><span class="s2">"      &lt;td&gt;333981.75&lt;/td&gt;</span><span class="se">\n</span><span class="s2">"</span><span class="p">,</span></span>
<span id="LC1487" class="line"><span class="w">       </span><span class="s2">"      &lt;td&gt;6.0&lt;/td&gt;</span><span class="se">\n</span><span class="s2">"</span><span class="p">,</span></span>
<span id="LC1488" class="line"><span class="w">       </span><span class="s2">"      &lt;td&gt;1&lt;/td&gt;</span><span class="se">\n</span><span class="s2">"</span><span class="p">,</span></span>
<span id="LC1489" class="line"><span class="w">       </span><span class="s2">"      &lt;td&gt;1391290.8333&lt;/td&gt;</span><span class="se">\n</span><span class="s2">"</span><span class="p">,</span></span>
<span id="LC1490" class="line"><span class="w">       </span><span class="s2">"      &lt;td&gt;1508779.7233&lt;/td&gt;</span><span class="se">\n</span><span class="s2">"</span><span class="p">,</span></span>
<span id="LC1491" class="line"><span class="w">       </span><span class="s2">"      &lt;td&gt;2918064.11&lt;/td&gt;</span><span class="se">\n</span><span class="s2">"</span><span class="p">,</span></span>
<span id="LC1492" class="line"><span class="w">       </span><span class="s2">"      &lt;td&gt;9989207.5533&lt;/td&gt;</span><span class="se">\n</span><span class="s2">"</span><span class="p">,</span></span>
<span id="LC1493" class="line"><span class="w">       </span><span class="s2">"      &lt;td&gt;159572.7639&lt;/td&gt;</span><span class="se">\n</span><span class="s2">"</span><span class="p">,</span></span>
<span id="LC1494" class="line"><span class="w">       </span><span class="s2">"      &lt;td&gt;19112.0111&lt;/td&gt;</span><span class="se">\n</span><span class="s2">"</span><span class="p">,</span></span>
<span id="LC1495" class="line"><span class="w">       </span><span class="s2">"      &lt;td&gt;2558.8194&lt;/td&gt;</span><span class="se">\n</span><span class="s2">"</span><span class="p">,</span></span>
<span id="LC1496" class="line"><span class="w">       </span><span class="s2">"      &lt;td&gt;154986.3333&lt;/td&gt;</span><span class="se">\n</span><span class="s2">"</span><span class="p">,</span></span>
<span id="LC1497" class="line"><span class="w">       </span><span class="s2">"      &lt;td&gt;7872659.5233&lt;/td&gt;</span><span class="se">\n</span><span class="s2">"</span><span class="p">,</span></span>
<span id="LC1498" class="line"><span class="w">       </span><span class="s2">"      &lt;td&gt;1017636.4333&lt;/td&gt;</span><span class="se">\n</span><span class="s2">"</span><span class="p">,</span></span>
<span id="LC1499" class="line"><span class="w">       </span><span class="s2">"      &lt;td&gt;9159.0&lt;/td&gt;</span><span class="se">\n</span><span class="s2">"</span><span class="p">,</span></span>
<span id="LC1500" class="line"><span class="w">       </span><span class="s2">"      &lt;td&gt;104309.3333&lt;/td&gt;</span><span class="se">\n</span><span class="s2">"</span><span class="p">,</span></span>
<span id="LC1501" class="line"><span class="w">       </span><span class="s2">"      &lt;td&gt;0.0&lt;/td&gt;</span><span class="se">\n</span><span class="s2">"</span><span class="p">,</span></span>
<span id="LC1502" class="line"><span class="w">       </span><span class="s2">"      &lt;td&gt;75&lt;/td&gt;</span><span class="se">\n</span><span class="s2">"</span><span class="p">,</span></span>
<span id="LC1503" class="line"><span class="w">       </span><span class="s2">"      &lt;td&gt;2.0&lt;/td&gt;</span><span class="se">\n</span><span class="s2">"</span><span class="p">,</span></span>
<span id="LC1504" class="line"><span class="w">       </span><span class="s2">"      &lt;td&gt;15.0&lt;/td&gt;</span><span class="se">\n</span><span class="s2">"</span><span class="p">,</span></span>
<span id="LC1505" class="line"><span class="w">       </span><span class="s2">"      &lt;td&gt;1&lt;/td&gt;</span><span class="se">\n</span><span class="s2">"</span><span class="p">,</span></span>
<span id="LC1506" class="line"><span class="w">       </span><span class="s2">"      &lt;td&gt;28&lt;/td&gt;</span><span class="se">\n</span><span class="s2">"</span><span class="p">,</span></span>
<span id="LC1507" class="line"><span class="w">       </span><span class="s2">"      &lt;td&gt;6.0&lt;/td&gt;</span><span class="se">\n</span><span class="s2">"</span><span class="p">,</span></span>
<span id="LC1508" class="line"><span class="w">       </span><span class="s2">"      &lt;td&gt;31&lt;/td&gt;</span><span class="se">\n</span><span class="s2">"</span><span class="p">,</span></span>
<span id="LC1509" class="line"><span class="w">       </span><span class="s2">"      &lt;td&gt;31.0&lt;/td&gt;</span><span class="se">\n</span><span class="s2">"</span><span class="p">,</span></span>
<span id="LC1510" class="line"><span class="w">       </span><span class="s2">"      &lt;td&gt;1&lt;/td&gt;</span><span class="se">\n</span><span class="s2">"</span><span class="p">,</span></span>
<span id="LC1511" class="line"><span class="w">       </span><span class="s2">"      &lt;td&gt;1&lt;/td&gt;</span><span class="se">\n</span><span class="s2">"</span><span class="p">,</span></span>
<span id="LC1512" class="line"><span class="w">       </span><span class="s2">"      &lt;td&gt;1&lt;/td&gt;</span><span class="se">\n</span><span class="s2">"</span><span class="p">,</span></span>
<span id="LC1513" class="line"><span class="w">       </span><span class="s2">"      &lt;td&gt;1&lt;/td&gt;</span><span class="se">\n</span><span class="s2">"</span><span class="p">,</span></span>
<span id="LC1514" class="line"><span class="w">       </span><span class="s2">"      &lt;td&gt;1&lt;/td&gt;</span><span class="se">\n</span><span class="s2">"</span><span class="p">,</span></span>
<span id="LC1515" class="line"><span class="w">       </span><span class="s2">"      &lt;td&gt;69038.4843&lt;/td&gt;</span><span class="se">\n</span><span class="s2">"</span><span class="p">,</span></span>
<span id="LC1516" class="line"><span class="w">       </span><span class="s2">"      &lt;td&gt;1.0&lt;/td&gt;</span><span class="se">\n</span><span class="s2">"</span><span class="p">,</span></span>
<span id="LC1517" class="line"><span class="w">       </span><span class="s2">"      &lt;td&gt;1.0&lt;/td&gt;</span><span class="se">\n</span><span class="s2">"</span><span class="p">,</span></span>
<span id="LC1518" class="line"><span class="w">       </span><span class="s2">"      &lt;td&gt;1.0&lt;/td&gt;</span><span class="se">\n</span><span class="s2">"</span><span class="p">,</span></span>
<span id="LC1519" class="line"><span class="w">       </span><span class="s2">"      &lt;td&gt;1.0&lt;/td&gt;</span><span class="se">\n</span><span class="s2">"</span><span class="p">,</span></span>
<span id="LC1520" class="line"><span class="w">       </span><span class="s2">"      &lt;td&gt;1&lt;/td&gt;</span><span class="se">\n</span><span class="s2">"</span><span class="p">,</span></span>
<span id="LC1521" class="line"><span class="w">       </span><span class="s2">"      &lt;td&gt;1999999.9995&lt;/td&gt;</span><span class="se">\n</span><span class="s2">"</span><span class="p">,</span></span>
<span id="LC1522" class="line"><span class="w">       </span><span class="s2">"      &lt;td&gt;1&lt;/td&gt;</span><span class="se">\n</span><span class="s2">"</span><span class="p">,</span></span>
<span id="LC1523" class="line"><span class="w">       </span><span class="s2">"      &lt;td&gt;1&lt;/td&gt;</span><span class="se">\n</span><span class="s2">"</span><span class="p">,</span></span>
<span id="LC1524" class="line"><span class="w">       </span><span class="s2">"      &lt;td&gt;1&lt;/td&gt;</span><span class="se">\n</span><span class="s2">"</span><span class="p">,</span></span>
<span id="LC1525" class="line"><span class="w">       </span><span class="s2">"      &lt;td&gt;Япония&lt;/td&gt;</span><span class="se">\n</span><span class="s2">"</span><span class="p">,</span></span>
<span id="LC1526" class="line"><span class="w">       </span><span class="s2">"      &lt;td&gt;45&lt;/td&gt;</span><span class="se">\n</span><span class="s2">"</span><span class="p">,</span></span>
<span id="LC1527" class="line"><span class="w">       </span><span class="s2">"      &lt;td&gt;Япония&lt;/td&gt;</span><span class="se">\n</span><span class="s2">"</span><span class="p">,</span></span>
<span id="LC1528" class="line"><span class="w">       </span><span class="s2">"      &lt;td&gt;Не задано&lt;/td&gt;</span><span class="se">\n</span><span class="s2">"</span><span class="p">,</span></span>
<span id="LC1529" class="line"><span class="w">       </span><span class="s2">"      &lt;td&gt;Терминал самообслуживания&lt;/td&gt;</span><span class="se">\n</span><span class="s2">"</span><span class="p">,</span></span>
<span id="LC1530" class="line"><span class="w">       </span><span class="s2">"      &lt;td&gt;Не задано&lt;/td&gt;</span><span class="se">\n</span><span class="s2">"</span><span class="p">,</span></span>
<span id="LC1531" class="line"><span class="w">       </span><span class="s2">"      &lt;td&gt;Терминал самообслуживания&lt;/td&gt;</span><span class="se">\n</span><span class="s2">"</span><span class="p">,</span></span>
<span id="LC1532" class="line"><span class="w">       </span><span class="s2">"      &lt;td&gt;942300999&lt;/td&gt;</span><span class="se">\n</span><span class="s2">"</span><span class="p">,</span></span>
<span id="LC1533" class="line"><span class="w">       </span><span class="s2">"      &lt;td&gt;25&lt;/td&gt;</span><span class="se">\n</span><span class="s2">"</span><span class="p">,</span></span>
<span id="LC1534" class="line"><span class="w">       </span><span class="s2">"      &lt;td&gt;16&lt;/td&gt;</span><span class="se">\n</span><span class="s2">"</span><span class="p">,</span></span>
<span id="LC1535" class="line"><span class="w">       </span><span class="s2">"      &lt;td&gt;768&lt;/td&gt;</span><span class="se">\n</span><span class="s2">"</span><span class="p">,</span></span>
<span id="LC1536" class="line"><span class="w">       </span><span class="s2">"      &lt;td&gt;3329&lt;/td&gt;</span><span class="se">\n</span><span class="s2">"</span><span class="p">,</span></span>
<span id="LC1537" class="line"><span class="w">       </span><span class="s2">"      &lt;td&gt;11737&lt;/td&gt;</span><span class="se">\n</span><span class="s2">"</span><span class="p">,</span></span>
<span id="LC1538" class="line"><span class="w">       </span><span class="s2">"      &lt;td&gt;1414&lt;/td&gt;</span><span class="se">\n</span><span class="s2">"</span><span class="p">,</span></span>
<span id="LC1539" class="line"><span class="w">       </span><span class="s2">"    &lt;/tr&gt;</span><span class="se">\n</span><span class="s2">"</span><span class="p">,</span></span>
<span id="LC1540" class="line"><span class="w">       </span><span class="s2">"  &lt;/tbody&gt;</span><span class="se">\n</span><span class="s2">"</span><span class="p">,</span></span>
<span id="LC1541" class="line"><span class="w">       </span><span class="s2">"&lt;/table&gt;</span><span class="se">\n</span><span class="s2">"</span><span class="p">,</span></span>
<span id="LC1542" class="line"><span class="w">       </span><span class="s2">"&lt;/div&gt;"</span></span>
<span id="LC1543" class="line"><span class="w">      </span><span class="p">],</span></span>
<span id="LC1544" class="line"><span class="w">      </span><span class="s2">"text/plain"</span><span class="p">:</span><span class="w"> </span><span class="p">[</span></span>
<span id="LC1545" class="line"><span class="w">       </span><span class="s2">"  summary cnt_voice_in_fix_avg_6m cnt_voice_out_fix_avg_6m  </span><span class="se">\\\n</span><span class="s2">"</span><span class="p">,</span></span>
<span id="LC1546" class="line"><span class="w">       </span><span class="s2">"0   count                50582892                 50582892   </span><span class="se">\n</span><span class="s2">"</span><span class="p">,</span></span>
<span id="LC1547" class="line"><span class="w">       </span><span class="s2">"1    mean       2.839635682244162        4.367013416785318   </span><span class="se">\n</span><span class="s2">"</span><span class="p">,</span></span>
<span id="LC1548" class="line"><span class="w">       </span><span class="s2">"2  stddev      12.502121728521443        66.48273519673052   </span><span class="se">\n</span><span class="s2">"</span><span class="p">,</span></span>
<span id="LC1549" class="line"><span class="w">       </span><span class="s2">"3     min                     0.0                      0.0   </span><span class="se">\n</span><span class="s2">"</span><span class="p">,</span></span>
<span id="LC1550" class="line"><span class="w">       </span><span class="s2">"4     max                21216.25                 232108.0   </span><span class="se">\n</span><span class="s2">"</span><span class="p">,</span></span>
<span id="LC1551" class="line"><span class="w">       </span><span class="s2">"</span><span class="se">\n</span><span class="s2">"</span><span class="p">,</span></span>
<span id="LC1552" class="line"><span class="w">       </span><span class="s2">"  arpu_int_roaming_avg_hy arpu_onnet_roaming_avg_hy    call_charge_avg_6m  </span><span class="se">\\\n</span><span class="s2">"</span><span class="p">,</span></span>
<span id="LC1553" class="line"><span class="w">       </span><span class="s2">"0                50582892                  50582892              50582892   </span><span class="se">\n</span><span class="s2">"</span><span class="p">,</span></span>
<span id="LC1554" class="line"><span class="w">       </span><span class="s2">"1       7.547871794422115        11.920980140003062  0.057701963612520474   </span><span class="se">\n</span><span class="s2">"</span><span class="p">,</span></span>
<span id="LC1555" class="line"><span class="w">       </span><span class="s2">"2       217.9696861422826        102.09726869282355   0.18855902542076514   </span><span class="se">\n</span><span class="s2">"</span><span class="p">,</span></span>
<span id="LC1556" class="line"><span class="w">       </span><span class="s2">"3                     0.0                    -0.036                   0.0   </span><span class="se">\n</span><span class="s2">"</span><span class="p">,</span></span>
<span id="LC1557" class="line"><span class="w">       </span><span class="s2">"4               688133.83                 333981.75                   6.0   </span><span class="se">\n</span><span class="s2">"</span><span class="p">,</span></span>
<span id="LC1558" class="line"><span class="w">       </span><span class="s2">"</span><span class="se">\n</span><span class="s2">"</span><span class="p">,</span></span>
<span id="LC1559" class="line"><span class="w">       </span><span class="s2">"    call_charge_ind_6m cnt_voice_out_avg_6m  arpu_voice_avg_hy  </span><span class="se">\\\n</span><span class="s2">"</span><span class="p">,</span></span>
<span id="LC1560" class="line"><span class="w">       </span><span class="s2">"0             50582892             50582892           50582892   </span><span class="se">\n</span><span class="s2">"</span><span class="p">,</span></span>
<span id="LC1561" class="line"><span class="w">       </span><span class="s2">"1  0.12004989750289485    84.80526871458028  91.57654609789566   </span><span class="se">\n</span><span class="s2">"</span><span class="p">,</span></span>
<span id="LC1562" class="line"><span class="w">       </span><span class="s2">"2   0.3250198789318146    399.5196737166439  472.8673665206855   </span><span class="se">\n</span><span class="s2">"</span><span class="p">,</span></span>
<span id="LC1563" class="line"><span class="w">       </span><span class="s2">"3                    0                  0.0                0.0   </span><span class="se">\n</span><span class="s2">"</span><span class="p">,</span></span>
<span id="LC1564" class="line"><span class="w">       </span><span class="s2">"4                    1         1391290.8333       1508779.7233   </span><span class="se">\n</span><span class="s2">"</span><span class="p">,</span></span>
<span id="LC1565" class="line"><span class="w">       </span><span class="s2">"</span><span class="se">\n</span><span class="s2">"</span><span class="p">,</span></span>
<span id="LC1566" class="line"><span class="w">       </span><span class="s2">"    arpu_gprs_avg_hy     arpu_vas_avg_hy      ingoing_avg_6m  </span><span class="se">\\\n</span><span class="s2">"</span><span class="p">,</span></span>
<span id="LC1567" class="line"><span class="w">       </span><span class="s2">"0           50582892            50582892            50582892   </span><span class="se">\n</span><span class="s2">"</span><span class="p">,</span></span>
<span id="LC1568" class="line"><span class="w">       </span><span class="s2">"1  80.52409834649164  129.96035649039968  147.41485966673454   </span><span class="se">\n</span><span class="s2">"</span><span class="p">,</span></span>
<span id="LC1569" class="line"><span class="w">       </span><span class="s2">"2  542.4227811755355   7283.016304073316  233.80245027839638   </span><span class="se">\n</span><span class="s2">"</span><span class="p">,</span></span>
<span id="LC1570" class="line"><span class="w">       </span><span class="s2">"3            -42.387           -252.1582           -136400.3   </span><span class="se">\n</span><span class="s2">"</span><span class="p">,</span></span>
<span id="LC1571" class="line"><span class="w">       </span><span class="s2">"4         2918064.11        9989207.5533         159572.7639   </span><span class="se">\n</span><span class="s2">"</span><span class="p">,</span></span>
<span id="LC1572" class="line"><span class="w">       </span><span class="s2">"</span><span class="se">\n</span><span class="s2">"</span><span class="p">,</span></span>
<span id="LC1573" class="line"><span class="w">       </span><span class="s2">"  intercity_in_avg_6m   int_roam_in_avg_6m sms_out_comp_num_avg_6m  </span><span class="se">\\\n</span><span class="s2">"</span><span class="p">,</span></span>
<span id="LC1574" class="line"><span class="w">       </span><span class="s2">"0            50582892             50582892                50582892   </span><span class="se">\n</span><span class="s2">"</span><span class="p">,</span></span>
<span id="LC1575" class="line"><span class="w">       </span><span class="s2">"1  21.864382686569247  0.10447228241714614       9.020038058436576   </span><span class="se">\n</span><span class="s2">"</span><span class="p">,</span></span>
<span id="LC1576" class="line"><span class="w">       </span><span class="s2">"2   85.63421728697082    3.142068035937087       56.45911084033706   </span><span class="se">\n</span><span class="s2">"</span><span class="p">,</span></span>
<span id="LC1577" class="line"><span class="w">       </span><span class="s2">"3         -10911.3444                  0.0                     0.0   </span><span class="se">\n</span><span class="s2">"</span><span class="p">,</span></span>
<span id="LC1578" class="line"><span class="w">       </span><span class="s2">"4          19112.0111            2558.8194             154986.3333   </span><span class="se">\n</span><span class="s2">"</span><span class="p">,</span></span>
<span id="LC1579" class="line"><span class="w">       </span><span class="s2">"</span><span class="se">\n</span><span class="s2">"</span><span class="p">,</span></span>
<span id="LC1580" class="line"><span class="w">       </span><span class="s2">"  arpu_wo_roam_avg_hy onn_roam_out_time_6m cnt_onn_r_in_call_avg_6m  </span><span class="se">\\\n</span><span class="s2">"</span><span class="p">,</span></span>
<span id="LC1581" class="line"><span class="w">       </span><span class="s2">"0            50582892             50582892                 50582892   </span><span class="se">\n</span><span class="s2">"</span><span class="p">,</span></span>
<span id="LC1582" class="line"><span class="w">       </span><span class="s2">"1   268.4836482189032    72.91586545570965          3.8465851199473   </span><span class="se">\n</span><span class="s2">"</span><span class="p">,</span></span>
<span id="LC1583" class="line"><span class="w">       </span><span class="s2">"2   4123.127402529566     545.823532122604       21.233114474772908   </span><span class="se">\n</span><span class="s2">"</span><span class="p">,</span></span>
<span id="LC1584" class="line"><span class="w">       </span><span class="s2">"3        -141649.0433            -224292.7                      0.0   </span><span class="se">\n</span><span class="s2">"</span><span class="p">,</span></span>
<span id="LC1585" class="line"><span class="w">       </span><span class="s2">"4        7872659.5233         1017636.4333                   9159.0   </span><span class="se">\n</span><span class="s2">"</span><span class="p">,</span></span>
<span id="LC1586" class="line"><span class="w">       </span><span class="s2">"</span><span class="se">\n</span><span class="s2">"</span><span class="p">,</span></span>
<span id="LC1587" class="line"><span class="w">       </span><span class="s2">"  cnt_onn_r_out_call_avg_6m data_volume_roam_avg_6m    cnt_pp_change_6m  </span><span class="se">\\\n</span><span class="s2">"</span><span class="p">,</span></span>
<span id="LC1588" class="line"><span class="w">       </span><span class="s2">"0                  50582892                50582892            50582892   </span><span class="se">\n</span><span class="s2">"</span><span class="p">,</span></span>
<span id="LC1589" class="line"><span class="w">       </span><span class="s2">"1         5.037115736101086                     0.0  0.3122747311482309   </span><span class="se">\n</span><span class="s2">"</span><span class="p">,</span></span>
<span id="LC1590" class="line"><span class="w">       </span><span class="s2">"2         42.51771345910807                     0.0   0.577024005385326   </span><span class="se">\n</span><span class="s2">"</span><span class="p">,</span></span>
<span id="LC1591" class="line"><span class="w">       </span><span class="s2">"3                       0.0                     0.0                   0   </span><span class="se">\n</span><span class="s2">"</span><span class="p">,</span></span>
<span id="LC1592" class="line"><span class="w">       </span><span class="s2">"4               104309.3333                     0.0                  75   </span><span class="se">\n</span><span class="s2">"</span><span class="p">,</span></span>
<span id="LC1593" class="line"><span class="w">       </span><span class="s2">"</span><span class="se">\n</span><span class="s2">"</span><span class="p">,</span></span>
<span id="LC1594" class="line"><span class="w">       </span><span class="s2">"       cnt_fin_block_6m         cnt_block_6m              cpa_ind  </span><span class="se">\\\n</span><span class="s2">"</span><span class="p">,</span></span>
<span id="LC1595" class="line"><span class="w">       </span><span class="s2">"0              50582892             50582892             50582892   </span><span class="se">\n</span><span class="s2">"</span><span class="p">,</span></span>
<span id="LC1596" class="line"><span class="w">       </span><span class="s2">"1  9.620706186589731E-4  0.40120765404637265  0.05275437790310605   </span><span class="se">\n</span><span class="s2">"</span><span class="p">,</span></span>
<span id="LC1597" class="line"><span class="w">       </span><span class="s2">"2   0.01920968107458769    0.680588940359332  0.22354273529478108   </span><span class="se">\n</span><span class="s2">"</span><span class="p">,</span></span>
<span id="LC1598" class="line"><span class="w">       </span><span class="s2">"3                   0.0                  0.0                    0   </span><span class="se">\n</span><span class="s2">"</span><span class="p">,</span></span>
<span id="LC1599" class="line"><span class="w">       </span><span class="s2">"4                   2.0                 15.0                    1   </span><span class="se">\n</span><span class="s2">"</span><span class="p">,</span></span>
<span id="LC1600" class="line"><span class="w">       </span><span class="s2">"</span><span class="se">\n</span><span class="s2">"</span><span class="p">,</span></span>
<span id="LC1601" class="line"><span class="w">       </span><span class="s2">"        cnt_package_m       cpa_ind_avg_6m minus_bal_day_avg_1m  </span><span class="se">\\\n</span><span class="s2">"</span><span class="p">,</span></span>
<span id="LC1602" class="line"><span class="w">       </span><span class="s2">"0            50582892             50582892             50582892   </span><span class="se">\n</span><span class="s2">"</span><span class="p">,</span></span>
<span id="LC1603" class="line"><span class="w">       </span><span class="s2">"1  2.4638882055221356  0.05173811122740857    5.822954073088585   </span><span class="se">\n</span><span class="s2">"</span><span class="p">,</span></span>
<span id="LC1604" class="line"><span class="w">       </span><span class="s2">"2  1.6844760264952048    0.219704709444235   10.269065712379499   </span><span class="se">\n</span><span class="s2">"</span><span class="p">,</span></span>
<span id="LC1605" class="line"><span class="w">       </span><span class="s2">"3                   0                  0.0                    0   </span><span class="se">\n</span><span class="s2">"</span><span class="p">,</span></span>
<span id="LC1606" class="line"><span class="w">       </span><span class="s2">"4                  28                  6.0                   31   </span><span class="se">\n</span><span class="s2">"</span><span class="p">,</span></span>
<span id="LC1607" class="line"><span class="w">       </span><span class="s2">"</span><span class="se">\n</span><span class="s2">"</span><span class="p">,</span></span>
<span id="LC1608" class="line"><span class="w">       </span><span class="s2">"  minus_bal_day_avg_hy conf_call_charge_ind_1m      bl_charge_ind_1m  </span><span class="se">\\\n</span><span class="s2">"</span><span class="p">,</span></span>
<span id="LC1609" class="line"><span class="w">       </span><span class="s2">"0             50582892                50582892              50582892   </span><span class="se">\n</span><span class="s2">"</span><span class="p">,</span></span>
<span id="LC1610" class="line"><span class="w">       </span><span class="s2">"1    5.764094042007356     7.43947182774761E-4  0.002357931610553228   </span><span class="se">\n</span><span class="s2">"</span><span class="p">,</span></span>
<span id="LC1611" class="line"><span class="w">       </span><span class="s2">"2    9.129538433827975    0.027265247845206637  0.048501255814447426   </span><span class="se">\n</span><span class="s2">"</span><span class="p">,</span></span>
<span id="LC1612" class="line"><span class="w">       </span><span class="s2">"3                  0.0                       0                     0   </span><span class="se">\n</span><span class="s2">"</span><span class="p">,</span></span>
<span id="LC1613" class="line"><span class="w">       </span><span class="s2">"4                 31.0                       1                     1   </span><span class="se">\n</span><span class="s2">"</span><span class="p">,</span></span>
<span id="LC1614" class="line"><span class="w">       </span><span class="s2">"</span><span class="se">\n</span><span class="s2">"</span><span class="p">,</span></span>
<span id="LC1615" class="line"><span class="w">       </span><span class="s2">"      bal_charge_ind_1m    pay_charge_ind_1m       package_ind_1m  </span><span class="se">\\\n</span><span class="s2">"</span><span class="p">,</span></span>
<span id="LC1616" class="line"><span class="w">       </span><span class="s2">"0              50582892             50582892             50582892   </span><span class="se">\n</span><span class="s2">"</span><span class="p">,</span></span>
<span id="LC1617" class="line"><span class="w">       </span><span class="s2">"1  6.417189432347996E-5  0.10661430746189839  0.46468964249809996   </span><span class="se">\n</span><span class="s2">"</span><span class="p">,</span></span>
<span id="LC1618" class="line"><span class="w">       </span><span class="s2">"2  0.008010479234104886  0.30862225906327695   0.4987516251310079   </span><span class="se">\n</span><span class="s2">"</span><span class="p">,</span></span>
<span id="LC1619" class="line"><span class="w">       </span><span class="s2">"3                     0                    0                    0   </span><span class="se">\n</span><span class="s2">"</span><span class="p">,</span></span>
<span id="LC1620" class="line"><span class="w">       </span><span class="s2">"4                     1                    1                    1   </span><span class="se">\n</span><span class="s2">"</span><span class="p">,</span></span>
<span id="LC1621" class="line"><span class="w">       </span><span class="s2">"</span><span class="se">\n</span><span class="s2">"</span><span class="p">,</span></span>
<span id="LC1622" class="line"><span class="w">       </span><span class="s2">"    charge_package_1m conf_call_charge_avg_6m      bl_charge_avg_6m  </span><span class="se">\\\n</span><span class="s2">"</span><span class="p">,</span></span>
<span id="LC1623" class="line"><span class="w">       </span><span class="s2">"0            50582892                50582892              50582892   </span><span class="se">\n</span><span class="s2">"</span><span class="p">,</span></span>
<span id="LC1624" class="line"><span class="w">       </span><span class="s2">"1  112.85292348470024    7.823077237260368E-4  0.002292391004452653   </span><span class="se">\n</span><span class="s2">"</span><span class="p">,</span></span>
<span id="LC1625" class="line"><span class="w">       </span><span class="s2">"2   207.6118036571304    0.025510353544374906   0.04421211260053266   </span><span class="se">\n</span><span class="s2">"</span><span class="p">,</span></span>
<span id="LC1626" class="line"><span class="w">       </span><span class="s2">"3          -1115.3595                     0.0                   0.0   </span><span class="se">\n</span><span class="s2">"</span><span class="p">,</span></span>
<span id="LC1627" class="line"><span class="w">       </span><span class="s2">"4          69038.4843                     1.0                   1.0   </span><span class="se">\n</span><span class="s2">"</span><span class="p">,</span></span>
<span id="LC1628" class="line"><span class="w">       </span><span class="s2">"</span><span class="se">\n</span><span class="s2">"</span><span class="p">,</span></span>
<span id="LC1629" class="line"><span class="w">       </span><span class="s2">"      bal_charge_avg_6m    pay_charge_avg_6m    pay_charge_ind_6m  </span><span class="se">\\\n</span><span class="s2">"</span><span class="p">,</span></span>
<span id="LC1630" class="line"><span class="w">       </span><span class="s2">"0              50582892             50582892             50582892   </span><span class="se">\n</span><span class="s2">"</span><span class="p">,</span></span>
<span id="LC1631" class="line"><span class="w">       </span><span class="s2">"1  8.907336100909394E-5  0.09874221187669475  0.17338988842314512   </span><span class="se">\n</span><span class="s2">"</span><span class="p">,</span></span>
<span id="LC1632" class="line"><span class="w">       </span><span class="s2">"2  0.007270263017669836    0.252578165594959  0.37858399048195185   </span><span class="se">\n</span><span class="s2">"</span><span class="p">,</span></span>
<span id="LC1633" class="line"><span class="w">       </span><span class="s2">"3                   0.0                  0.0                    0   </span><span class="se">\n</span><span class="s2">"</span><span class="p">,</span></span>
<span id="LC1634" class="line"><span class="w">       </span><span class="s2">"4                   1.0                  1.0                    1   </span><span class="se">\n</span><span class="s2">"</span><span class="p">,</span></span>
<span id="LC1635" class="line"><span class="w">       </span><span class="s2">"</span><span class="se">\n</span><span class="s2">"</span><span class="p">,</span></span>
<span id="LC1636" class="line"><span class="w">       </span><span class="s2">"  charge_package_avg_6m conf_call_charge_ind_6m       bl_charge_ind_6m  </span><span class="se">\\\n</span><span class="s2">"</span><span class="p">,</span></span>
<span id="LC1637" class="line"><span class="w">       </span><span class="s2">"0              50582892                50582892               50582892   </span><span class="se">\n</span><span class="s2">"</span><span class="p">,</span></span>
<span id="LC1638" class="line"><span class="w">       </span><span class="s2">"1     106.2697008665225   0.0011803793266703692  0.0032798836412912097   </span><span class="se">\n</span><span class="s2">"</span><span class="p">,</span></span>
<span id="LC1639" class="line"><span class="w">       </span><span class="s2">"2     339.1966735288328     0.03433636635731183    0.05717627190732089   </span><span class="se">\n</span><span class="s2">"</span><span class="p">,</span></span>
<span id="LC1640" class="line"><span class="w">       </span><span class="s2">"3             -174.5787                       0                      0   </span><span class="se">\n</span><span class="s2">"</span><span class="p">,</span></span>
<span id="LC1641" class="line"><span class="w">       </span><span class="s2">"4          1999999.9995                       1                      1   </span><span class="se">\n</span><span class="s2">"</span><span class="p">,</span></span>
<span id="LC1642" class="line"><span class="w">       </span><span class="s2">"</span><span class="se">\n</span><span class="s2">"</span><span class="p">,</span></span>
<span id="LC1643" class="line"><span class="w">       </span><span class="s2">"      bal_charge_ind_6m int_state_6m    cnt_roam_state_6m roam_state_6m  </span><span class="se">\\\n</span><span class="s2">"</span><span class="p">,</span></span>
<span id="LC1644" class="line"><span class="w">       </span><span class="s2">"0              50582892     50582892             50582892      50582892   </span><span class="se">\n</span><span class="s2">"</span><span class="p">,</span></span>
<span id="LC1645" class="line"><span class="w">       </span><span class="s2">"1  2.558967960946163E-4         None  0.08659868637008734          None   </span><span class="se">\n</span><span class="s2">"</span><span class="p">,</span></span>
<span id="LC1646" class="line"><span class="w">       </span><span class="s2">"2   0.01599472781831655         None  0.45062482478677895          None   </span><span class="se">\n</span><span class="s2">"</span><span class="p">,</span></span>
<span id="LC1647" class="line"><span class="w">       </span><span class="s2">"3                     0                                 0                 </span><span class="se">\n</span><span class="s2">"</span><span class="p">,</span></span>
<span id="LC1648" class="line"><span class="w">       </span><span class="s2">"4                     1       Япония                   45        Япония   </span><span class="se">\n</span><span class="s2">"</span><span class="p">,</span></span>
<span id="LC1649" class="line"><span class="w">       </span><span class="s2">"</span><span class="se">\n</span><span class="s2">"</span><span class="p">,</span></span>
<span id="LC1650" class="line"><span class="w">       </span><span class="s2">"  payment_method_1m          equipment_type_1m payment_method_6m  </span><span class="se">\\\n</span><span class="s2">"</span><span class="p">,</span></span>
<span id="LC1651" class="line"><span class="w">       </span><span class="s2">"0          50582892                   50582892          50582892   </span><span class="se">\n</span><span class="s2">"</span><span class="p">,</span></span>
<span id="LC1652" class="line"><span class="w">       </span><span class="s2">"1              None                       None              None   </span><span class="se">\n</span><span class="s2">"</span><span class="p">,</span></span>
<span id="LC1653" class="line"><span class="w">       </span><span class="s2">"2              None                       None              None   </span><span class="se">\n</span><span class="s2">"</span><span class="p">,</span></span>
<span id="LC1654" class="line"><span class="w">       </span><span class="s2">"3                                                                  </span><span class="se">\n</span><span class="s2">"</span><span class="p">,</span></span>
<span id="LC1655" class="line"><span class="w">       </span><span class="s2">"4         Не задано  Терминал самообслуживания         Не задано   </span><span class="se">\n</span><span class="s2">"</span><span class="p">,</span></span>
<span id="LC1656" class="line"><span class="w">       </span><span class="s2">"</span><span class="se">\n</span><span class="s2">"</span><span class="p">,</span></span>
<span id="LC1657" class="line"><span class="w">       </span><span class="s2">"           equipment_type_6m         direct_number     cnt_pp_change_1m  </span><span class="se">\\\n</span><span class="s2">"</span><span class="p">,</span></span>
<span id="LC1658" class="line"><span class="w">       </span><span class="s2">"0                   50582892              50582892             50582892   </span><span class="se">\n</span><span class="s2">"</span><span class="p">,</span></span>
<span id="LC1659" class="line"><span class="w">       </span><span class="s2">"1                       None   5.820486538020696E9  0.10007308399843963   </span><span class="se">\n</span><span class="s2">"</span><span class="p">,</span></span>
<span id="LC1660" class="line"><span class="w">       </span><span class="s2">"2                       None  2.2897473541741366E9  0.31133131752336785   </span><span class="se">\n</span><span class="s2">"</span><span class="p">,</span></span>
<span id="LC1661" class="line"><span class="w">       </span><span class="s2">"3                                                                     0   </span><span class="se">\n</span><span class="s2">"</span><span class="p">,</span></span>
<span id="LC1662" class="line"><span class="w">       </span><span class="s2">"4  Терминал самообслуживания             942300999                   25   </span><span class="se">\n</span><span class="s2">"</span><span class="p">,</span></span>
<span id="LC1663" class="line"><span class="w">       </span><span class="s2">"</span><span class="se">\n</span><span class="s2">"</span><span class="p">,</span></span>
<span id="LC1664" class="line"><span class="w">       </span><span class="s2">"         cnt_block_1m       cnt_mou_bel_out      cnt_mou_eur_out  </span><span class="se">\\\n</span><span class="s2">"</span><span class="p">,</span></span>
<span id="LC1665" class="line"><span class="w">       </span><span class="s2">"0            50582892              50582892             50582892   </span><span class="se">\n</span><span class="s2">"</span><span class="p">,</span></span>
<span id="LC1666" class="line"><span class="w">       </span><span class="s2">"1  0.4569827086992179  0.016112423939698823  0.02075047429079381   </span><span class="se">\n</span><span class="s2">"</span><span class="p">,</span></span>
<span id="LC1667" class="line"><span class="w">       </span><span class="s2">"2  0.8807722589730066    0.6540530091834503   1.4618008039308987   </span><span class="se">\n</span><span class="s2">"</span><span class="p">,</span></span>
<span id="LC1668" class="line"><span class="w">       </span><span class="s2">"3                   0                     0                    0   </span><span class="se">\n</span><span class="s2">"</span><span class="p">,</span></span>
<span id="LC1669" class="line"><span class="w">       </span><span class="s2">"4                  16                   768                 3329   </span><span class="se">\n</span><span class="s2">"</span><span class="p">,</span></span>
<span id="LC1670" class="line"><span class="w">       </span><span class="s2">"</span><span class="se">\n</span><span class="s2">"</span><span class="p">,</span></span>
<span id="LC1671" class="line"><span class="w">       </span><span class="s2">"      cnt_mou_cis_out      cnt_mou_ukr_out  </span><span class="se">\n</span><span class="s2">"</span><span class="p">,</span></span>
<span id="LC1672" class="line"><span class="w">       </span><span class="s2">"0            50582892             50582892  </span><span class="se">\n</span><span class="s2">"</span><span class="p">,</span></span>
<span id="LC1673" class="line"><span class="w">       </span><span class="s2">"1  1.2708756351851136  0.16993053698867197  </span><span class="se">\n</span><span class="s2">"</span><span class="p">,</span></span>
<span id="LC1674" class="line"><span class="w">       </span><span class="s2">"2  10.178258542223247   3.3824918989346044  </span><span class="se">\n</span><span class="s2">"</span><span class="p">,</span></span>
<span id="LC1675" class="line"><span class="w">       </span><span class="s2">"3                   0                    0  </span><span class="se">\n</span><span class="s2">"</span><span class="p">,</span></span>
<span id="LC1676" class="line"><span class="w">       </span><span class="s2">"4               11737                 1414  "</span></span>
<span id="LC1677" class="line"><span class="w">      </span><span class="p">]</span></span>
<span id="LC1678" class="line"><span class="w">     </span><span class="p">},</span></span>
<span id="LC1679" class="line"><span class="w">     </span><span class="s2">"execution_count"</span><span class="p">:</span><span class="w"> </span><span class="mi">8</span><span class="p">,</span></span>
<span id="LC1680" class="line"><span class="w">     </span><span class="s2">"metadata"</span><span class="p">:</span><span class="w"> </span><span class="p">{},</span></span>
<span id="LC1681" class="line"><span class="w">     </span><span class="s2">"output_type"</span><span class="p">:</span><span class="w"> </span><span class="s2">"execute_result"</span></span>
<span id="LC1682" class="line"><span class="w">    </span><span class="p">}</span></span>
<span id="LC1683" class="line"><span class="w">   </span><span class="p">],</span></span>
<span id="LC1684" class="line"><span class="w">   </span><span class="s2">"source"</span><span class="p">:</span><span class="w"> </span><span class="p">[</span></span>
<span id="LC1685" class="line"><span class="w">    </span><span class="s2">"%%time</span><span class="se">\n</span><span class="s2">"</span><span class="p">,</span></span>
<span id="LC1686" class="line"><span class="w">    </span><span class="s2">"SCR.describe().toPandas()"</span></span>
<span id="LC1687" class="line"><span class="w">   </span><span class="p">]</span></span>
<span id="LC1688" class="line"><span class="w">  </span><span class="p">},</span></span>
<span id="LC1689" class="line"><span class="w">  </span><span class="p">{</span></span>
<span id="LC1690" class="line"><span class="w">   </span><span class="s2">"cell_type"</span><span class="p">:</span><span class="w"> </span><span class="s2">"code"</span><span class="p">,</span></span>
<span id="LC1691" class="line"><span class="w">   </span><span class="s2">"execution_count"</span><span class="p">:</span><span class="w"> </span><span class="mi">16</span><span class="p">,</span></span>
<span id="LC1692" class="line"><span class="w">   </span><span class="s2">"metadata"</span><span class="p">:</span><span class="w"> </span><span class="p">{</span></span>
<span id="LC1693" class="line"><span class="w">    </span><span class="s2">"collapsed"</span><span class="p">:</span><span class="w"> </span><span class="kc">true</span></span>
<span id="LC1694" class="line"><span class="w">   </span><span class="p">},</span></span>
<span id="LC1695" class="line"><span class="w">   </span><span class="s2">"outputs"</span><span class="p">:</span><span class="w"> </span><span class="p">[],</span></span>
<span id="LC1696" class="line"><span class="w">   </span><span class="s2">"source"</span><span class="p">:</span><span class="w"> </span><span class="p">[</span></span>
<span id="LC1697" class="line"><span class="w">    </span><span class="s2">"DummyList = [u'Не задано']"</span></span>
<span id="LC1698" class="line"><span class="w">   </span><span class="p">]</span></span>
<span id="LC1699" class="line"><span class="w">  </span><span class="p">},</span></span>
<span id="LC1700" class="line"><span class="w">  </span><span class="p">{</span></span>
<span id="LC1701" class="line"><span class="w">   </span><span class="s2">"cell_type"</span><span class="p">:</span><span class="w"> </span><span class="s2">"markdown"</span><span class="p">,</span></span>
<span id="LC1702" class="line"><span class="w">   </span><span class="s2">"metadata"</span><span class="p">:</span><span class="w"> </span><span class="p">{},</span></span>
<span id="LC1703" class="line"><span class="w">   </span><span class="s2">"source"</span><span class="p">:</span><span class="w"> </span><span class="p">[</span></span>
<span id="LC1704" class="line"><span class="w">    </span><span class="s2">"## 3. Main cycle"</span></span>
<span id="LC1705" class="line"><span class="w">   </span><span class="p">]</span></span>
<span id="LC1706" class="line"><span class="w">  </span><span class="p">},</span></span>
<span id="LC1707" class="line"><span class="w">  </span><span class="p">{</span></span>
<span id="LC1708" class="line"><span class="w">   </span><span class="s2">"cell_type"</span><span class="p">:</span><span class="w"> </span><span class="s2">"code"</span><span class="p">,</span></span>
<span id="LC1709" class="line"><span class="w">   </span><span class="s2">"execution_count"</span><span class="p">:</span><span class="w"> </span><span class="mi">17</span><span class="p">,</span></span>
<span id="LC1710" class="line"><span class="w">   </span><span class="s2">"metadata"</span><span class="p">:</span><span class="w"> </span><span class="p">{</span></span>
<span id="LC1711" class="line"><span class="w">    </span><span class="s2">"collapsed"</span><span class="p">:</span><span class="w"> </span><span class="kc">true</span></span>
<span id="LC1712" class="line"><span class="w">   </span><span class="p">},</span></span>
<span id="LC1713" class="line"><span class="w">   </span><span class="s2">"outputs"</span><span class="p">:</span><span class="w"> </span><span class="p">[],</span></span>
<span id="LC1714" class="line"><span class="w">   </span><span class="s2">"source"</span><span class="p">:</span><span class="w"> </span><span class="p">[</span></span>
<span id="LC1715" class="line"><span class="w">    </span><span class="s2">"SCR.unpersist();"</span></span>
<span id="LC1716" class="line"><span class="w">   </span><span class="p">]</span></span>
<span id="LC1717" class="line"><span class="w">  </span><span class="p">},</span></span>
<span id="LC1718" class="line"><span class="w">  </span><span class="p">{</span></span>
<span id="LC1719" class="line"><span class="w">   </span><span class="s2">"cell_type"</span><span class="p">:</span><span class="w"> </span><span class="s2">"code"</span><span class="p">,</span></span>
<span id="LC1720" class="line"><span class="w">   </span><span class="s2">"execution_count"</span><span class="p">:</span><span class="w"> </span><span class="mi">18</span><span class="p">,</span></span>
<span id="LC1721" class="line"><span class="w">   </span><span class="s2">"metadata"</span><span class="p">:</span><span class="w"> </span><span class="p">{},</span></span>
<span id="LC1722" class="line"><span class="w">   </span><span class="s2">"outputs"</span><span class="p">:</span><span class="w"> </span><span class="p">[</span></span>
<span id="LC1723" class="line"><span class="w">    </span><span class="p">{</span></span>
<span id="LC1724" class="line"><span class="w">     </span><span class="s2">"name"</span><span class="p">:</span><span class="w"> </span><span class="s2">"stdout"</span><span class="p">,</span></span>
<span id="LC1725" class="line"><span class="w">     </span><span class="s2">"output_type"</span><span class="p">:</span><span class="w"> </span><span class="s2">"stream"</span><span class="p">,</span></span>
<span id="LC1726" class="line"><span class="w">     </span><span class="s2">"text"</span><span class="p">:</span><span class="w"> </span><span class="p">[</span></span>
<span id="LC1727" class="line"><span class="w">      </span><span class="s2">"Month:  201608 | rec_count:  50582892 | time:  3.863 mins</span><span class="se">\n</span><span class="s2">"</span><span class="p">,</span></span>
<span id="LC1728" class="line"><span class="w">      </span><span class="s2">"Month:  201611 | rec_count:  50060147 | time:  55.907 mins</span><span class="se">\n</span><span class="s2">"</span><span class="p">,</span></span>
<span id="LC1729" class="line"><span class="w">      </span><span class="s2">"Month:  201702 | rec_count:  49171007 | time:  107.894 mins</span><span class="se">\n</span><span class="s2">"</span><span class="p">,</span></span>
<span id="LC1730" class="line"><span class="w">      </span><span class="s2">"Month:  201705 | rec_count:  50370283 | time:  181.935 mins</span><span class="se">\n</span><span class="s2">"</span></span>
<span id="LC1731" class="line"><span class="w">     </span><span class="p">]</span></span>
<span id="LC1732" class="line"><span class="w">    </span><span class="p">}</span></span>
<span id="LC1733" class="line"><span class="w">   </span><span class="p">],</span></span>
<span id="LC1734" class="line"><span class="w">   </span><span class="s2">"source"</span><span class="p">:</span><span class="w"> </span><span class="p">[</span></span>
<span id="LC1735" class="line"><span class="w">    </span><span class="s2">"t0 = time()</span><span class="se">\n</span><span class="s2">"</span><span class="p">,</span></span>
<span id="LC1736" class="line"><span class="w">    </span><span class="s2">"writer = pd.ExcelWriter(XlsFileName+'PipelineDpfRes.xlsx')</span><span class="se">\n</span><span class="s2">"</span><span class="p">,</span></span>
<span id="LC1737" class="line"><span class="w">    </span><span class="s2">"</span><span class="se">\n</span><span class="s2">"</span><span class="p">,</span></span>
<span id="LC1738" class="line"><span class="w">    </span><span class="s2">"for mmonth in month_list:</span><span class="se">\n</span><span class="s2">"</span><span class="p">,</span></span>
<span id="LC1739" class="line"><span class="w">    </span><span class="s2">"    SCR = sqlContext.sql('select * from %s where month in (%s)' %(ttable, mmonth))</span><span class="se">\\\n</span><span class="s2">"</span><span class="p">,</span></span>
<span id="LC1740" class="line"><span class="w">    </span><span class="s2">"                    .select(*flist)    </span><span class="se">\n</span><span class="s2">"</span><span class="p">,</span></span>
<span id="LC1741" class="line"><span class="w">    </span><span class="s2">"                    #.limit(10000)</span><span class="se">\n</span><span class="s2">"</span><span class="p">,</span></span>
<span id="LC1742" class="line"><span class="w">    </span><span class="s2">"    rec_count = SCR.count()</span><span class="se">\n</span><span class="s2">"</span><span class="p">,</span></span>
<span id="LC1743" class="line"><span class="w">    </span><span class="s2">"    SCR.persist(storageLevel=StorageLevel.DISK_ONLY) #MEMORY_AND_DISK</span><span class="se">\n</span><span class="s2">"</span><span class="p">,</span></span>
<span id="LC1744" class="line"><span class="w">    </span><span class="s2">"    </span><span class="se">\n</span><span class="s2">"</span><span class="p">,</span></span>
<span id="LC1745" class="line"><span class="w">    </span><span class="s2">"    print 'Month: ', mmonth, '| rec_count: ', rec_count, '| time: ', np.round((time()-t0)/60.,3), 'mins'</span><span class="se">\n</span><span class="s2">"</span><span class="p">,</span></span>
<span id="LC1746" class="line"><span class="w">    </span><span class="s2">"    statDF = [] </span><span class="se">\n</span><span class="s2">"</span><span class="p">,</span></span>
<span id="LC1747" class="line"><span class="w">    </span><span class="s2">"    HTypes = pd.DataFrame(SCR.dtypes, columns=('Column', 'Type'))</span><span class="se">\n</span><span class="s2">"</span><span class="p">,</span></span>
<span id="LC1748" class="line"><span class="w">    </span><span class="s2">"    </span><span class="se">\n</span><span class="s2">"</span><span class="p">,</span></span>
<span id="LC1749" class="line"><span class="w">    </span><span class="s2">"    for ncol in SCR.columns:</span><span class="se">\n</span><span class="s2">"</span><span class="p">,</span></span>
<span id="LC1750" class="line"><span class="w">    </span><span class="s2">"        #print '      ', ncol, np.round((time()-t0)/60.,3)</span><span class="se">\n</span><span class="s2">"</span><span class="p">,</span></span>
<span id="LC1751" class="line"><span class="w">    </span><span class="s2">"        </span><span class="se">\n</span><span class="s2">"</span><span class="p">,</span></span>
<span id="LC1752" class="line"><span class="w">    </span><span class="s2">"        # 1.NullPers</span><span class="se">\n</span><span class="s2">"</span><span class="p">,</span></span>
<span id="LC1753" class="line"><span class="w">    </span><span class="s2">"        NullPers = 100*(SCR.filter(SCR[ncol].isNull()).count() </span><span class="se">\n</span><span class="s2">"</span><span class="p">,</span></span>
<span id="LC1754" class="line"><span class="w">    </span><span class="s2">"                        +  SCR.filter(SCR[ncol]=='')</span><span class="se">\n</span><span class="s2">"</span><span class="p">,</span></span>
<span id="LC1755" class="line"><span class="w">    </span><span class="s2">"                        .count()) / rec_count    </span><span class="se">\n</span><span class="s2">"</span><span class="p">,</span></span>
<span id="LC1756" class="line"><span class="w">    </span><span class="s2">"</span><span class="se">\n</span><span class="s2">"</span><span class="p">,</span></span>
<span id="LC1757" class="line"><span class="w">    </span><span class="s2">"        # 2.NullPers with dummy    </span><span class="se">\n</span><span class="s2">"</span><span class="p">,</span></span>
<span id="LC1758" class="line"><span class="w">    </span><span class="s2">"        NullPersWithDummy = 100*(SCR.filter(SCR[ncol].isNull()).count() + </span><span class="se">\\\n</span><span class="s2">"</span><span class="p">,</span></span>
<span id="LC1759" class="line"><span class="w">    </span><span class="s2">"                               SCR.filter(SCR[ncol]=='').count() + </span><span class="se">\\\n</span><span class="s2">"</span><span class="p">,</span></span>
<span id="LC1760" class="line"><span class="w">    </span><span class="s2">"                               SCR.filter(SCR[ncol].isin(DummyList)).count()</span><span class="se">\\\n</span><span class="s2">"</span><span class="p">,</span></span>
<span id="LC1761" class="line"><span class="w">    </span><span class="s2">"                              ) / rec_count</span><span class="se">\n</span><span class="s2">"</span><span class="p">,</span></span>
<span id="LC1762" class="line"><span class="w">    </span><span class="s2">"            </span><span class="se">\n</span><span class="s2">"</span><span class="p">,</span></span>
<span id="LC1763" class="line"><span class="w">    </span><span class="s2">"        # 3. Current type in hive</span><span class="se">\n</span><span class="s2">"</span><span class="p">,</span></span>
<span id="LC1764" class="line"><span class="w">    </span><span class="s2">"        HiveType = HTypes[HTypes.Column == ncol].Type.values[0]</span><span class="se">\n</span><span class="s2">"</span><span class="p">,</span></span>
<span id="LC1765" class="line"><span class="w">    </span><span class="s2">"        </span><span class="se">\n</span><span class="s2">"</span><span class="p">,</span></span>
<span id="LC1766" class="line"><span class="w">    </span><span class="s2">"        # 4. Values</span><span class="se">\n</span><span class="s2">"</span><span class="p">,</span></span>
<span id="LC1767" class="line"><span class="w">    </span><span class="s2">"        # for numeric - values range</span><span class="se">\n</span><span class="s2">"</span><span class="p">,</span></span>
<span id="LC1768" class="line"><span class="w">    </span><span class="s2">"        # for cat - cats count</span><span class="se">\n</span><span class="s2">"</span><span class="p">,</span></span>
<span id="LC1769" class="line"><span class="w">    </span><span class="s2">"        </span><span class="se">\n</span><span class="s2">"</span><span class="p">,</span></span>
<span id="LC1770" class="line"><span class="w">    </span><span class="s2">"        if HiveType in ['double','int']:</span><span class="se">\n</span><span class="s2">"</span><span class="p">,</span></span>
<span id="LC1771" class="line"><span class="w">    </span><span class="s2">"            ColValues = str(SCR.agg({ncol: </span><span class="se">\"</span><span class="s2">min</span><span class="se">\"</span><span class="s2">}).collect()[0][0]) +' : ' + str(SCR.agg({ncol: </span><span class="se">\"</span><span class="s2">max</span><span class="se">\"</span><span class="s2">}).collect()[0][0])</span><span class="se">\n</span><span class="s2">"</span><span class="p">,</span></span>
<span id="LC1772" class="line"><span class="w">    </span><span class="s2">"        else:</span><span class="se">\n</span><span class="s2">"</span><span class="p">,</span></span>
<span id="LC1773" class="line"><span class="w">    </span><span class="s2">"            ColValues = SCR.select(ncol).distinct().count()</span><span class="se">\n</span><span class="s2">"</span><span class="p">,</span></span>
<span id="LC1774" class="line"><span class="w">    </span><span class="s2">"         </span><span class="se">\n</span><span class="s2">"</span><span class="p">,</span></span>
<span id="LC1775" class="line"><span class="w">    </span><span class="s2">"        # 5. Size</span><span class="se">\n</span><span class="s2">"</span><span class="p">,</span></span>
<span id="LC1776" class="line"><span class="w">    </span><span class="s2">"        if NullPers &gt; 0:</span><span class="se">\n</span><span class="s2">"</span><span class="p">,</span></span>
<span id="LC1777" class="line"><span class="w">    </span><span class="s2">"            ColSize = SCR.where((col(ncol).isNotNull()) &amp; (col(ncol) !='' ))</span><span class="se">\\\n</span><span class="s2">"</span><span class="p">,</span></span>
<span id="LC1778" class="line"><span class="w">    </span><span class="s2">"                        .select(mean(length(col(ncol)))).collect()[0][0]</span><span class="se">\n</span><span class="s2">"</span><span class="p">,</span></span>
<span id="LC1779" class="line"><span class="w">    </span><span class="s2">"        else:</span><span class="se">\n</span><span class="s2">"</span><span class="p">,</span></span>
<span id="LC1780" class="line"><span class="w">    </span><span class="s2">"            ColSize = SCR.select(mean(length(col(ncol)))).collect()[0][0]</span><span class="se">\n</span><span class="s2">"</span><span class="p">,</span></span>
<span id="LC1781" class="line"><span class="w">    </span><span class="s2">"            </span><span class="se">\n</span><span class="s2">"</span><span class="p">,</span></span>
<span id="LC1782" class="line"><span class="w">    </span><span class="s2">"        statDF.append([ncol, </span><span class="se">\n</span><span class="s2">"</span><span class="p">,</span></span>
<span id="LC1783" class="line"><span class="w">    </span><span class="s2">"                       np.round(NullPers,5),</span><span class="se">\n</span><span class="s2">"</span><span class="p">,</span></span>
<span id="LC1784" class="line"><span class="w">    </span><span class="s2">"                       np.round(NullPersWithDummy,5),</span><span class="se">\n</span><span class="s2">"</span><span class="p">,</span></span>
<span id="LC1785" class="line"><span class="w">    </span><span class="s2">"                       HiveType,</span><span class="se">\n</span><span class="s2">"</span><span class="p">,</span></span>
<span id="LC1786" class="line"><span class="w">    </span><span class="s2">"                       ColValues,</span><span class="se">\n</span><span class="s2">"</span><span class="p">,</span></span>
<span id="LC1787" class="line"><span class="w">    </span><span class="s2">"                       #np.round(ColSize,5), </span><span class="se">\n</span><span class="s2">"</span><span class="p">,</span></span>
<span id="LC1788" class="line"><span class="w">    </span><span class="s2">"                       np.round(rec_count*(1-NullPers/100)*(ColSize+1)/1024, 2)])    </span><span class="se">\n</span><span class="s2">"</span><span class="p">,</span></span>
<span id="LC1789" class="line"><span class="w">    </span><span class="s2">"    </span><span class="se">\n</span><span class="s2">"</span><span class="p">,</span></span>
<span id="LC1790" class="line"><span class="w">    </span><span class="s2">"    SCR.unpersist();</span><span class="se">\n</span><span class="s2">"</span><span class="p">,</span></span>
<span id="LC1791" class="line"><span class="w">    </span><span class="s2">"    #print SCR.is_cached</span><span class="se">\n</span><span class="s2">"</span><span class="p">,</span></span>
<span id="LC1792" class="line"><span class="w">    </span><span class="s2">"    res = pd.DataFrame(statDF,columns=('Column', 'PersOfNulls', 'PersOfNullsWithDummy','TypeInHive','ColValues', 'ColSizeInMBytes'))</span><span class="se">\n</span><span class="s2">"</span><span class="p">,</span></span>
<span id="LC1793" class="line"><span class="w">    </span><span class="s2">"    res.to_excel(writer,mmonth)</span><span class="se">\n</span><span class="s2">"</span><span class="p">,</span></span>
<span id="LC1794" class="line"><span class="w">    </span><span class="s2">"writer.save()</span><span class="se">\n</span><span class="s2">"</span><span class="p">,</span></span>
<span id="LC1795" class="line"><span class="w">    </span><span class="s2">"#Month:  201608 | rec_count:  50582892 | time:  2.022 mins</span><span class="se">\n</span><span class="s2">"</span><span class="p">,</span></span>
<span id="LC1796" class="line"><span class="w">    </span><span class="s2">"#Month:  201611 | rec_count:  50060147 | time:  28.881 mins"</span></span>
<span id="LC1797" class="line"><span class="w">   </span><span class="p">]</span></span>
<span id="LC1798" class="line"><span class="w">  </span><span class="p">},</span></span>
<span id="LC1799" class="line"><span class="w">  </span><span class="p">{</span></span>
<span id="LC1800" class="line"><span class="w">   </span><span class="s2">"cell_type"</span><span class="p">:</span><span class="w"> </span><span class="s2">"code"</span><span class="p">,</span></span>
<span id="LC1801" class="line"><span class="w">   </span><span class="s2">"execution_count"</span><span class="p">:</span><span class="w"> </span><span class="mi">28</span><span class="p">,</span></span>
<span id="LC1802" class="line"><span class="w">   </span><span class="s2">"metadata"</span><span class="p">:</span><span class="w"> </span><span class="p">{},</span></span>
<span id="LC1803" class="line"><span class="w">   </span><span class="s2">"outputs"</span><span class="p">:</span><span class="w"> </span><span class="p">[</span></span>
<span id="LC1804" class="line"><span class="w">    </span><span class="p">{</span></span>
<span id="LC1805" class="line"><span class="w">     </span><span class="s2">"name"</span><span class="p">:</span><span class="w"> </span><span class="s2">"stdout"</span><span class="p">,</span></span>
<span id="LC1806" class="line"><span class="w">     </span><span class="s2">"output_type"</span><span class="p">:</span><span class="w"> </span><span class="s2">"stream"</span><span class="p">,</span></span>
<span id="LC1807" class="line"><span class="w">     </span><span class="s2">"text"</span><span class="p">:</span><span class="w"> </span><span class="p">[</span></span>
<span id="LC1808" class="line"><span class="w">      </span><span class="s2">"/opt/users/atselikov/trustedPay</span><span class="se">\r\n</span><span class="s2">"</span></span>
<span id="LC1809" class="line"><span class="w">     </span><span class="p">]</span></span>
<span id="LC1810" class="line"><span class="w">    </span><span class="p">}</span></span>
<span id="LC1811" class="line"><span class="w">   </span><span class="p">],</span></span>
<span id="LC1812" class="line"><span class="w">   </span><span class="s2">"source"</span><span class="p">:</span><span class="w"> </span><span class="p">[</span></span>
<span id="LC1813" class="line"><span class="w">    </span><span class="s2">"!pwd"</span></span>
<span id="LC1814" class="line"><span class="w">   </span><span class="p">]</span></span>
<span id="LC1815" class="line"><span class="w">  </span><span class="p">},</span></span>
<span id="LC1816" class="line"><span class="w">  </span><span class="p">{</span></span>
<span id="LC1817" class="line"><span class="w">   </span><span class="s2">"cell_type"</span><span class="p">:</span><span class="w"> </span><span class="s2">"code"</span><span class="p">,</span></span>
<span id="LC1818" class="line"><span class="w">   </span><span class="s2">"execution_count"</span><span class="p">:</span><span class="w"> </span><span class="kc">null</span><span class="p">,</span></span>
<span id="LC1819" class="line"><span class="w">   </span><span class="s2">"metadata"</span><span class="p">:</span><span class="w"> </span><span class="p">{</span></span>
<span id="LC1820" class="line"><span class="w">    </span><span class="s2">"collapsed"</span><span class="p">:</span><span class="w"> </span><span class="kc">true</span></span>
<span id="LC1821" class="line"><span class="w">   </span><span class="p">},</span></span>
<span id="LC1822" class="line"><span class="w">   </span><span class="s2">"outputs"</span><span class="p">:</span><span class="w"> </span><span class="p">[],</span></span>
<span id="LC1823" class="line"><span class="w">   </span><span class="s2">"source"</span><span class="p">:</span><span class="w"> </span><span class="p">[]</span></span>
<span id="LC1824" class="line"><span class="w">  </span><span class="p">}</span></span>
<span id="LC1825" class="line"><span class="w"> </span><span class="p">],</span></span>
<span id="LC1826" class="line"><span class="w"> </span><span class="s2">"metadata"</span><span class="p">:</span><span class="w"> </span><span class="p">{</span></span>
<span id="LC1827" class="line"><span class="w">  </span><span class="s2">"anaconda-cloud"</span><span class="p">:</span><span class="w"> </span><span class="p">{},</span></span>
<span id="LC1828" class="line"><span class="w">  </span><span class="s2">"kernelspec"</span><span class="p">:</span><span class="w"> </span><span class="p">{</span></span>
<span id="LC1829" class="line"><span class="w">   </span><span class="s2">"display_name"</span><span class="p">:</span><span class="w"> </span><span class="s2">"pySpark (Spark 2.1.0, 50 executors)"</span><span class="p">,</span></span>
<span id="LC1830" class="line"><span class="w">   </span><span class="s2">"language"</span><span class="p">:</span><span class="w"> </span><span class="s2">"python"</span><span class="p">,</span></span>
<span id="LC1831" class="line"><span class="w">   </span><span class="s2">"name"</span><span class="p">:</span><span class="w"> </span><span class="s2">"pyspark27"</span></span>
<span id="LC1832" class="line"><span class="w">  </span><span class="p">},</span></span>
<span id="LC1833" class="line"><span class="w">  </span><span class="s2">"language_info"</span><span class="p">:</span><span class="w"> </span><span class="p">{</span></span>
<span id="LC1834" class="line"><span class="w">   </span><span class="s2">"codemirror_mode"</span><span class="p">:</span><span class="w"> </span><span class="p">{</span></span>
<span id="LC1835" class="line"><span class="w">    </span><span class="s2">"name"</span><span class="p">:</span><span class="w"> </span><span class="s2">"ipython"</span><span class="p">,</span></span>
<span id="LC1836" class="line"><span class="w">    </span><span class="s2">"version"</span><span class="p">:</span><span class="w"> </span><span class="mi">2</span></span>
<span id="LC1837" class="line"><span class="w">   </span><span class="p">},</span></span>
<span id="LC1838" class="line"><span class="w">   </span><span class="s2">"file_extension"</span><span class="p">:</span><span class="w"> </span><span class="s2">".py"</span><span class="p">,</span></span>
<span id="LC1839" class="line"><span class="w">   </span><span class="s2">"mimetype"</span><span class="p">:</span><span class="w"> </span><span class="s2">"text/x-python"</span><span class="p">,</span></span>
<span id="LC1840" class="line"><span class="w">   </span><span class="s2">"name"</span><span class="p">:</span><span class="w"> </span><span class="s2">"python"</span><span class="p">,</span></span>
<span id="LC1841" class="line"><span class="w">   </span><span class="s2">"nbconvert_exporter"</span><span class="p">:</span><span class="w"> </span><span class="s2">"python"</span><span class="p">,</span></span>
<span id="LC1842" class="line"><span class="w">   </span><span class="s2">"pygments_lexer"</span><span class="p">:</span><span class="w"> </span><span class="s2">"ipython2"</span><span class="p">,</span></span>
<span id="LC1843" class="line"><span class="w">   </span><span class="s2">"version"</span><span class="p">:</span><span class="w"> </span><span class="s2">"2.7.13"</span></span>
<span id="LC1844" class="line"><span class="w">  </span><span class="p">}</span></span>
<span id="LC1845" class="line"><span class="w"> </span><span class="p">},</span></span>
<span id="LC1846" class="line"><span class="w"> </span><span class="s2">"nbformat"</span><span class="p">:</span><span class="w"> </span><span class="mi">4</span><span class="p">,</span></span>
<span id="LC1847" class="line"><span class="w"> </span><span class="s2">"nbformat_minor"</span><span class="p">:</span><span class="w"> </span><span class="mi">1</span></span>
<span id="LC1848" class="line"><span class="p">}</span></span></code></pre>
</div>
</div>


</article>
</div>

</div>
<div class="modal" id="modal-remove-blob">
<div class="modal-dialog">
<div class="modal-content">
<div class="modal-header">
<a class="close" data-dismiss="modal" href="#">×</a>
<h3 class="page-title">Delete pipeline_DPF.ipynb</h3>
</div>
<div class="modal-body">
<form class="form-horizontal js-replace-blob-form js-quick-submit js-requires-input" action="/scoring/pipeline/blob/stageDPF2/pipeline_DPF/pipeline_DPF.ipynb" accept-charset="UTF-8" method="post"><input name="utf8" type="hidden" value="&#x2713;" /><input type="hidden" name="_method" value="delete" /><input type="hidden" name="authenticity_token" value="AqC0Olh1iCphB2Jc6cydfMDcjnUuJH0rRd1RXmNVAE4R/Uu/7ciJwjo0bju1tK/7W6THLjipsKe3EqSxuz+dfA==" /><div class="form-group commit_message-group">
<label class="control-label" for="commit_message-d81479bdabb4cbdb271d789b0430c0fa">Commit message
</label><div class="col-sm-10">
<div class="commit-message-container">
<div class="max-width-marker"></div>
<textarea name="commit_message" id="commit_message-d81479bdabb4cbdb271d789b0430c0fa" class="form-control js-commit-message" placeholder="Delete pipeline_DPF.ipynb" required="required" rows="3">
Delete pipeline_DPF.ipynb</textarea>
</div>
</div>
</div>

<div class="form-group branch">
<label class="control-label" for="target_branch">Target branch</label>
<div class="col-sm-10">
<input type="text" name="target_branch" id="target_branch" value="stageDPF2" required="required" class="form-control js-target-branch" />
<div class="js-create-merge-request-container">
<div class="checkbox">
<label for="create_merge_request-2efa1f9117dacfee99308e46f2fb0908"><input type="checkbox" name="create_merge_request" id="create_merge_request-2efa1f9117dacfee99308e46f2fb0908" value="1" class="js-create-merge-request" checked="checked" />
Start a <strong>new merge request</strong> with these changes
</label></div>
</div>
</div>
</div>
<input type="hidden" name="original_branch" id="original_branch" value="stageDPF2" class="js-original-branch" />

<div class="form-group">
<div class="col-sm-offset-2 col-sm-10">
<button name="button" type="submit" class="btn btn-remove btn-remove-file">Delete file</button>
<a class="btn btn-cancel" data-dismiss="modal" href="#">Cancel</a>
</div>
</div>
</form></div>
</div>
</div>
</div>
<script>
  new NewCommitForm($('.js-replace-blob-form'))
</script>

<div class="modal" id="modal-upload-blob">
<div class="modal-dialog">
<div class="modal-content">
<div class="modal-header">
<a class="close" data-dismiss="modal" href="#">×</a>
<h3 class="page-title">Replace pipeline_DPF.ipynb</h3>
</div>
<div class="modal-body">
<form class="js-quick-submit js-upload-blob-form form-horizontal" action="/scoring/pipeline/update/stageDPF2/pipeline_DPF/pipeline_DPF.ipynb" accept-charset="UTF-8" method="post"><input name="utf8" type="hidden" value="&#x2713;" /><input type="hidden" name="_method" value="put" /><input type="hidden" name="authenticity_token" value="WEC6mzchDSw9Mjualh+Y1GlVELOsiV5QCwKDFC1T02lLHUUegpwMxGYBN/3KZ6pT8i1Z6LoEk9z5zXb79TlOWw==" /><div class="dropzone">
<div class="dropzone-previews blob-upload-dropzone-previews">
<p class="dz-message light">
Attach a file by drag &amp; drop or
<a class="markdown-selector" href="#">click to upload</a>
</p>
</div>
</div>
<br>
<div class="alert alert-danger data dropzone-alerts" style="display:none"></div>
<div class="form-group commit_message-group">
<label class="control-label" for="commit_message-dd7592312310d96a75266fe0c7e43aab">Commit message
</label><div class="col-sm-10">
<div class="commit-message-container">
<div class="max-width-marker"></div>
<textarea name="commit_message" id="commit_message-dd7592312310d96a75266fe0c7e43aab" class="form-control js-commit-message" placeholder="Replace pipeline_DPF.ipynb" required="required" rows="3">
Replace pipeline_DPF.ipynb</textarea>
</div>
</div>
</div>

<div class="form-group branch">
<label class="control-label" for="target_branch">Target branch</label>
<div class="col-sm-10">
<input type="text" name="target_branch" id="target_branch" value="stageDPF2" required="required" class="form-control js-target-branch" />
<div class="js-create-merge-request-container">
<div class="checkbox">
<label for="create_merge_request-aaa9ba8ef83e8f2e24d1d01e8c2e9553"><input type="checkbox" name="create_merge_request" id="create_merge_request-aaa9ba8ef83e8f2e24d1d01e8c2e9553" value="1" class="js-create-merge-request" checked="checked" />
Start a <strong>new merge request</strong> with these changes
</label></div>
</div>
</div>
</div>
<input type="hidden" name="original_branch" id="original_branch" value="stageDPF2" class="js-original-branch" />

<div class="form-actions">
<button name="button" type="submit" class="btn btn-small btn-create btn-upload-file" id="submit-all">Replace file</button>
<a class="btn btn-cancel" data-dismiss="modal" href="#">Cancel</a>
</div>
</form></div>
</div>
</div>
</div>
<script>
  disableButtonIfEmptyField($('.js-upload-blob-form').find('.js-commit-message'), '.btn-upload-file');
  new BlobFileDropzone($('.js-upload-blob-form'), 'put');
  new NewCommitForm($('.js-upload-blob-form'))
</script>

</div>

</div>
</div>
</div>
</div>



</body>
</html>

